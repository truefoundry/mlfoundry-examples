{
 "cells": [
  {
   "cell_type": "markdown",
   "metadata": {},
   "source": [
    "# Using MlFoundry APIs"
   ]
  },
  {
   "cell_type": "code",
   "execution_count": 1,
   "metadata": {},
   "outputs": [
    {
     "data": {
      "text/plain": [
       "['Default',\n",
       " 'sklearn-experiment',\n",
       " 'sklearn-experiment1',\n",
       " 'sklearn-experiment2',\n",
       " 'my-project',\n",
       " 'my-project-1',\n",
       " 'new-project-1',\n",
       " 'new-project',\n",
       " 'test-project',\n",
       " 'sklearn-project',\n",
       " 'sklearn-project-101',\n",
       " 'sklearn-experiment101',\n",
       " 'mlflow-experiment']"
      ]
     },
     "execution_count": 1,
     "metadata": {},
     "output_type": "execute_result"
    }
   ],
   "source": [
    "import mlfoundry as mlf\n",
    "\n",
    "mlf_api = mlf.get_client()\n",
    "mlf_api.get_all_projects()"
   ]
  },
  {
   "cell_type": "code",
   "execution_count": 3,
   "metadata": {},
   "outputs": [],
   "source": [
    "mlf_api.rename_project('sklearn-project-101', 'sklearn-project-102')"
   ]
  },
  {
   "cell_type": "code",
   "execution_count": 4,
   "metadata": {},
   "outputs": [
    {
     "data": {
      "text/html": [
       "<div>\n",
       "<style scoped>\n",
       "    .dataframe tbody tr th:only-of-type {\n",
       "        vertical-align: middle;\n",
       "    }\n",
       "\n",
       "    .dataframe tbody tr th {\n",
       "        vertical-align: top;\n",
       "    }\n",
       "\n",
       "    .dataframe thead th {\n",
       "        text-align: right;\n",
       "    }\n",
       "</style>\n",
       "<table border=\"1\" class=\"dataframe\">\n",
       "  <thead>\n",
       "    <tr style=\"text-align: right;\">\n",
       "      <th></th>\n",
       "      <th>run_id</th>\n",
       "      <th>run_name</th>\n",
       "    </tr>\n",
       "  </thead>\n",
       "  <tbody>\n",
       "    <tr>\n",
       "      <th>0</th>\n",
       "      <td>f9fc724616cf4653b9db0fac6d0b6db7</td>\n",
       "      <td></td>\n",
       "    </tr>\n",
       "    <tr>\n",
       "      <th>1</th>\n",
       "      <td>9a04b86e07fd41ee91159181dde97098</td>\n",
       "      <td></td>\n",
       "    </tr>\n",
       "    <tr>\n",
       "      <th>2</th>\n",
       "      <td>9389ecfb7d244aa1833121e87a333423</td>\n",
       "      <td></td>\n",
       "    </tr>\n",
       "    <tr>\n",
       "      <th>3</th>\n",
       "      <td>76ae34d1cb314095884eafefc38a3190</td>\n",
       "      <td></td>\n",
       "    </tr>\n",
       "    <tr>\n",
       "      <th>4</th>\n",
       "      <td>bc23459362ad4d7b9ae43aff40b3f7d6</td>\n",
       "      <td>my-run</td>\n",
       "    </tr>\n",
       "    <tr>\n",
       "      <th>5</th>\n",
       "      <td>62e182de5f864ef08c7c306045c06a5d</td>\n",
       "      <td></td>\n",
       "    </tr>\n",
       "    <tr>\n",
       "      <th>6</th>\n",
       "      <td>1cd253553ca2466991dcdb8d0cb07723</td>\n",
       "      <td></td>\n",
       "    </tr>\n",
       "  </tbody>\n",
       "</table>\n",
       "</div>"
      ],
      "text/plain": [
       "                             run_id run_name\n",
       "0  f9fc724616cf4653b9db0fac6d0b6db7         \n",
       "1  9a04b86e07fd41ee91159181dde97098         \n",
       "2  9389ecfb7d244aa1833121e87a333423         \n",
       "3  76ae34d1cb314095884eafefc38a3190         \n",
       "4  bc23459362ad4d7b9ae43aff40b3f7d6   my-run\n",
       "5  62e182de5f864ef08c7c306045c06a5d         \n",
       "6  1cd253553ca2466991dcdb8d0cb07723         "
      ]
     },
     "execution_count": 4,
     "metadata": {},
     "output_type": "execute_result"
    }
   ],
   "source": [
    "mlf_api.get_all_runs('test-project') # returns all existing runs"
   ]
  },
  {
   "cell_type": "code",
   "execution_count": 5,
   "metadata": {},
   "outputs": [],
   "source": [
    "mlf_run = mlf_api.get_run(run_id='35e3c7d891a64072a194c9b70e44dc83')   # get run by id"
   ]
  }
 ],
 "metadata": {
  "interpreter": {
   "hash": "e8743b0f75b6a55a016638ba229c0d478e77c985bb41c53d6f2fbe781d6f864f"
  },
  "kernelspec": {
   "display_name": "Python 3.8.10 64-bit ('env': venv)",
   "name": "python3"
  },
  "language_info": {
   "codemirror_mode": {
    "name": "ipython",
    "version": 3
   },
   "file_extension": ".py",
   "mimetype": "text/x-python",
   "name": "python",
   "nbconvert_exporter": "python",
   "pygments_lexer": "ipython3",
   "version": "3.8.10"
  },
  "orig_nbformat": 4
 },
 "nbformat": 4,
 "nbformat_minor": 2
}
