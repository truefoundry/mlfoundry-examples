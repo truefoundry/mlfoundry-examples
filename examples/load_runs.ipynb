{
 "cells": [
  {
   "cell_type": "code",
   "execution_count": null,
   "metadata": {
    "tags": []
   },
   "outputs": [],
   "source": [
    "! pip install -U mlfoundry"
   ]
  },
  {
   "cell_type": "code",
   "execution_count": null,
   "metadata": {},
   "outputs": [],
   "source": [
    "# Initialize MLFoundry Client"
   ]
  },
  {
   "cell_type": "code",
   "execution_count": null,
   "metadata": {},
   "outputs": [],
   "source": [
    "import os\n",
    "import getpass\n",
    "import urllib.parse"
   ]
  },
  {
   "cell_type": "code",
   "execution_count": null,
   "metadata": {},
   "outputs": [],
   "source": [
    "TFY_URL = os.environ.get('TFY_URL', 'https://app.truefoundry.com/')\n",
    "TFY_API_KEY = os.environ.get('TFY_API_KEY')\n",
    "if not TFY_API_KEY:\n",
    "    print(f'Paste your TrueFoundry API key\\nYou can find it over at {urllib.parse.urljoin(TFY_URL, \"settings\")}')\n",
    "    TFY_API_KEY = getpass.getpass()"
   ]
  },
  {
   "cell_type": "markdown",
   "metadata": {},
   "source": [
    "# Using MLFoundry APIs"
   ]
  },
  {
   "cell_type": "code",
   "execution_count": null,
   "metadata": {},
   "outputs": [],
   "source": [
    "import mlfoundry as mlf\n",
    "\n",
    "client = mlf.get_client(api_key=TFY_API_KEY)\n",
    "projects = client.get_all_projects()"
   ]
  },
  {
   "cell_type": "code",
   "execution_count": null,
   "metadata": {},
   "outputs": [],
   "source": [
    "print(projects)"
   ]
  },
  {
   "cell_type": "code",
   "execution_count": null,
   "metadata": {},
   "outputs": [],
   "source": [
    "# returns all existing runs\n",
    "client.get_all_runs(projects[0]) "
   ]
  }
 ],
 "metadata": {
  "interpreter": {
   "hash": "e8743b0f75b6a55a016638ba229c0d478e77c985bb41c53d6f2fbe781d6f864f"
  },
  "kernelspec": {
   "display_name": "Python 3 (ipykernel)",
   "language": "python",
   "name": "python3"
  },
  "language_info": {
   "codemirror_mode": {
    "name": "ipython",
    "version": 3
   },
   "file_extension": ".py",
   "mimetype": "text/x-python",
   "name": "python",
   "nbconvert_exporter": "python",
   "pygments_lexer": "ipython3",
   "version": "3.9.2"
  }
 },
 "nbformat": 4,
 "nbformat_minor": 4
}
