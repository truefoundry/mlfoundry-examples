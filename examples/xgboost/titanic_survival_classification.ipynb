{
 "cells": [
  {
   "cell_type": "markdown",
   "id": "tuHxCn36JdeP",
   "metadata": {
    "id": "tuHxCn36JdeP"
   },
   "source": [
    "# Try this Notebook in Google Colab\n",
    "\n",
    "[![Open In Colab](https://colab.research.google.com/assets/colab-badge.svg)](https://colab.research.google.com/github/truefoundry/mlfoundry-examples/blob/main/examples/xgboost/titanic_survival_classification.ipynb)"
   ]
  },
  {
   "cell_type": "markdown",
   "id": "45ebf08e-fa9b-4119-b393-25de923e103f",
   "metadata": {
    "tags": []
   },
   "source": [
    "## Install dependencies"
   ]
  },
  {
   "cell_type": "code",
   "execution_count": null,
   "id": "b01c5fc4",
   "metadata": {
    "id": "b01c5fc4",
    "tags": []
   },
   "outputs": [],
   "source": [
    "! pip install --quiet \"numpy>=1.0.0,<2.0.0\" \"pandas>=1.0.0,<2.0.0\" \"matplotlib>=3.5.2,<3.6.0\" \"seaborn>=0.11.0,<0.12.0\" \"xgboost>=1.6.1,<1.7.0\" scikit-learn shap==0.40.0\n",
    "! pip install -U mlfoundry"
   ]
  },
  {
   "cell_type": "markdown",
   "id": "2478ed0c-51c4-42f9-aa0b-cfdb06fa5477",
   "metadata": {
    "tags": []
   },
   "source": [
    "## Initialize MLFoundry Client"
   ]
  },
  {
   "cell_type": "code",
   "execution_count": null,
   "id": "ce20c62d-8f73-4370-8847-11cba862983f",
   "metadata": {},
   "outputs": [],
   "source": [
    "import os\n",
    "import getpass\n",
    "import urllib.parse\n",
    "import mlfoundry as mlf"
   ]
  },
  {
   "cell_type": "code",
   "execution_count": null,
   "id": "9c77ce64-e483-42e7-b2ef-6ef894f7b227",
   "metadata": {
    "id": "esmZL0-oR0BQ"
   },
   "outputs": [],
   "source": [
    "MLF_API_KEY = os.environ.get('MLF_API_KEY')\n",
    "if not MLF_API_KEY:\n",
    "    print(\"Please get your API key from https://app.truefoundry.com/settings\")\n",
    "    MLF_API_KEY = getpass.getpass(\"Paste your API key and hit enter:\")"
   ]
  },
  {
   "cell_type": "code",
   "execution_count": null,
   "id": "468c6ab6-560c-4a9d-a2f7-6af7017cc52f",
   "metadata": {},
   "outputs": [],
   "source": [
    "client = mlf.get_client(api_key=MLF_API_KEY)"
   ]
  },
  {
   "cell_type": "markdown",
   "id": "34e39c78-2460-490f-a6cf-3353b09d117d",
   "metadata": {},
   "source": [
    "---"
   ]
  },
  {
   "cell_type": "markdown",
   "id": "3212ac43-f954-4d79-ac15-aa2f5bcec540",
   "metadata": {},
   "source": [
    "## Titanic Survival Classification"
   ]
  },
  {
   "cell_type": "code",
   "execution_count": null,
   "id": "a837459d",
   "metadata": {
    "id": "a837459d"
   },
   "outputs": [],
   "source": [
    "import numpy as np\n",
    "import pandas as pd\n",
    "import seaborn as sns\n",
    "import xgboost as xgb\n",
    "import shap\n",
    "\n",
    "from sklearn.preprocessing import LabelEncoder\n",
    "from sklearn.model_selection import train_test_split\n",
    "from sklearn.metrics import classification_report, accuracy_score, precision_score, recall_score, f1_score"
   ]
  },
  {
   "cell_type": "markdown",
   "id": "fea9a7c8-383b-4475-82aa-d7ebb05b4e67",
   "metadata": {},
   "source": [
    "### Load data and process it\n",
    "- Impute null and missing values\n",
    "- Map categorical values to numerical values"
   ]
  },
  {
   "cell_type": "code",
   "execution_count": null,
   "id": "ed1b8801",
   "metadata": {
    "id": "ed1b8801"
   },
   "outputs": [],
   "source": [
    "titanic = sns.load_dataset('titanic')\n",
    "titanic.info()"
   ]
  },
  {
   "cell_type": "code",
   "execution_count": null,
   "id": "6b995475-faf9-4b99-ac65-53bc2f5e1d91",
   "metadata": {},
   "outputs": [],
   "source": [
    "titanic.head()"
   ]
  },
  {
   "cell_type": "code",
   "execution_count": null,
   "id": "bf676e9c-476a-4367-964d-80af1b86276e",
   "metadata": {},
   "outputs": [],
   "source": [
    "titanic.drop(['who', 'embark_town', 'alive'], inplace=True, axis=1)"
   ]
  },
  {
   "cell_type": "code",
   "execution_count": null,
   "id": "c90b7b56-b294-4881-8c0c-1a5ad48b1f18",
   "metadata": {},
   "outputs": [],
   "source": [
    "titanic.isnull().sum()"
   ]
  },
  {
   "cell_type": "code",
   "execution_count": null,
   "id": "dfebaa04-c937-4eef-b539-53315e6eeb29",
   "metadata": {},
   "outputs": [],
   "source": [
    "pd.value_counts(titanic['embarked'])"
   ]
  },
  {
   "cell_type": "code",
   "execution_count": null,
   "id": "32bac467-56bd-4dbf-a1d2-01636f374b2c",
   "metadata": {},
   "outputs": [],
   "source": [
    "pd.value_counts(titanic['deck'])"
   ]
  },
  {
   "cell_type": "code",
   "execution_count": null,
   "id": "f4bedcd4-0c5d-4e84-a986-741300b1dcea",
   "metadata": {},
   "outputs": [],
   "source": [
    "titanic['embarked'].fillna('S', inplace=True)\n",
    "titanic['deck'].fillna('C', inplace=True)\n",
    "titanic['age'].fillna(titanic['age'].median(), inplace=True)"
   ]
  },
  {
   "cell_type": "code",
   "execution_count": null,
   "id": "587393e0-bed8-4654-80b1-cd1b73da0938",
   "metadata": {},
   "outputs": [],
   "source": [
    "titanic.isnull().values.any()"
   ]
  },
  {
   "cell_type": "code",
   "execution_count": null,
   "id": "c0e0f56c-c3d7-4a93-9d29-7396b397a630",
   "metadata": {},
   "outputs": [],
   "source": [
    "titanic.head()"
   ]
  },
  {
   "cell_type": "code",
   "execution_count": null,
   "id": "0f614cc0-f6a5-4289-8f4e-05c007d8a773",
   "metadata": {},
   "outputs": [],
   "source": [
    "label_encoders = {}\n",
    "for column in ['sex', 'embarked', 'class', 'adult_male', 'deck', 'alone']:\n",
    "    label_encoders[column] = LabelEncoder()\n",
    "    titanic[column] = label_encoders[column].fit_transform(titanic[column])"
   ]
  },
  {
   "cell_type": "code",
   "execution_count": null,
   "id": "05bd5d2c",
   "metadata": {
    "id": "05bd5d2c"
   },
   "outputs": [],
   "source": [
    "X = titanic.copy().drop(['survived'], axis=1)\n",
    "y = titanic['survived']"
   ]
  },
  {
   "cell_type": "markdown",
   "id": "e380751a-8ad3-489d-b90f-b8bb800ee9f9",
   "metadata": {},
   "source": [
    "### Split Dataset into Training and Validation"
   ]
  },
  {
   "cell_type": "code",
   "execution_count": null,
   "id": "305796c3",
   "metadata": {
    "id": "305796c3"
   },
   "outputs": [],
   "source": [
    "X_train, X_test, y_train, y_test = train_test_split(X, y, test_size=0.3, random_state=42, stratify=y)"
   ]
  },
  {
   "cell_type": "markdown",
   "id": "4878ca57-a01b-409d-9790-53cde5d17aaa",
   "metadata": {},
   "source": [
    "### Start MLFoundry Run"
   ]
  },
  {
   "cell_type": "code",
   "execution_count": null,
   "id": "744f7edf-2feb-4891-82a1-447f6394d109",
   "metadata": {},
   "outputs": [],
   "source": [
    "run = client.create_run(project_name='titanic-survival-example-project')\n",
    "print('RUN 1 ID:', run.run_id)\n",
    "print(f'You can track your runs live at https://app.truefoundry.com/mlfoundry')"
   ]
  },
  {
   "cell_type": "markdown",
   "id": "02a61953-3fcd-4dcc-b43e-bd3820a05e3d",
   "metadata": {},
   "source": [
    "### Setting tags"
   ]
  },
  {
   "cell_type": "code",
   "execution_count": null,
   "id": "eca0bf0c",
   "metadata": {
    "id": "eca0bf0c"
   },
   "outputs": [],
   "source": [
    "run.set_tags({'framework': 'xgboost', 'task': 'classification'})"
   ]
  },
  {
   "cell_type": "markdown",
   "id": "9d41724b-92d2-459a-be29-f0d2ed46a725",
   "metadata": {},
   "source": [
    "### Training model, logging parameters and logging model"
   ]
  },
  {
   "cell_type": "code",
   "execution_count": null,
   "id": "9e8b01b8-497f-4c8d-a043-72fc45f1718b",
   "metadata": {},
   "outputs": [],
   "source": [
    "gbm = xgb.XGBClassifier(n_estimators=20, max_depth=5)\n",
    "gbm.fit(X_train, y_train)\n",
    "print('Accuracy:', gbm.score(X_test, y_test))"
   ]
  },
  {
   "cell_type": "code",
   "execution_count": null,
   "id": "c7cf7604-650d-4fba-a847-d0fbdb1caf3e",
   "metadata": {
    "tags": []
   },
   "outputs": [],
   "source": [
    "print(gbm.get_params())\n",
    "run.log_params(gbm.get_params())\n",
    "run.log_params({'classes': gbm.classes_, 'features': gbm.n_features_in_})"
   ]
  },
  {
   "cell_type": "code",
   "execution_count": null,
   "id": "18e6cd59-8936-4407-afd4-a17de3f60bdd",
   "metadata": {},
   "outputs": [],
   "source": [
    "run.log_model(gbm, framework=mlf.ModelFramework.XGBOOST)"
   ]
  },
  {
   "cell_type": "code",
   "execution_count": null,
   "id": "01ada2a1-7a6f-477b-9831-5295530ad970",
   "metadata": {},
   "outputs": [],
   "source": [
    "import pickle\n",
    "\n",
    "with open('label_encoders.pkl', 'wb') as f:\n",
    "    pickle.dump(label_encoders, f)"
   ]
  },
  {
   "cell_type": "code",
   "execution_count": null,
   "id": "4916bd9e-962b-4d45-9fa2-a6fc4357502d",
   "metadata": {},
   "outputs": [],
   "source": [
    "run.log_artifact('label_encoders.pkl', artifact_path='extra_files/')"
   ]
  },
  {
   "cell_type": "markdown",
   "id": "19aa9613-3245-455b-ba5c-7ee163403112",
   "metadata": {
    "tags": []
   },
   "source": [
    "### Computing predictions"
   ]
  },
  {
   "cell_type": "code",
   "execution_count": null,
   "id": "7a2c73e8-421c-45b9-881c-dd335e3bf60c",
   "metadata": {},
   "outputs": [],
   "source": [
    "y_pred_train = gbm.predict(X_train)\n",
    "y_pred_test = gbm.predict(X_test)"
   ]
  },
  {
   "cell_type": "markdown",
   "id": "19ba7e2a-1549-4677-b1a6-eb26db198862",
   "metadata": {},
   "source": [
    "### Logging metrics"
   ]
  },
  {
   "cell_type": "code",
   "execution_count": null,
   "id": "a7a83a21",
   "metadata": {
    "id": "a7a83a21"
   },
   "outputs": [],
   "source": [
    "metrics = {\n",
    "    'train/accuracy': accuracy_score(y_train, y_pred_train),\n",
    "    'train/precision': precision_score(y_train, y_pred_train),\n",
    "    'train/recall': recall_score(y_train, y_pred_train),\n",
    "    'train/f1': f1_score(y_train, y_pred_train),\n",
    "    'test/accuracy': accuracy_score(y_test, y_pred_test),\n",
    "    'test/precision': precision_score(y_test, y_pred_test),\n",
    "    'test/recall': recall_score(y_test, y_pred_test),\n",
    "    'test/f1': f1_score(y_test, y_pred_test),\n",
    "}\n",
    "print(metrics)\n",
    "run.log_metrics(metrics)"
   ]
  },
  {
   "cell_type": "markdown",
   "id": "0dbc09cc-fcba-40b2-9f79-331138304de5",
   "metadata": {},
   "source": [
    "### Log the dataset"
   ]
  },
  {
   "cell_type": "code",
   "execution_count": null,
   "id": "25776066-96a3-4c88-a193-05f8debc55a9",
   "metadata": {},
   "outputs": [],
   "source": [
    "run.log_dataset(\n",
    "    dataset_name='train',\n",
    "    features=X_train,\n",
    "    predictions=y_pred_train,\n",
    "    actuals=y_train,\n",
    ")"
   ]
  },
  {
   "cell_type": "code",
   "execution_count": null,
   "id": "426eefcd-21f0-4118-b4ef-a828a9487f9a",
   "metadata": {},
   "outputs": [],
   "source": [
    "run.log_dataset(\n",
    "    dataset_name='test',\n",
    "    features=X_test,\n",
    "    predictions=y_pred_test,\n",
    "    actuals=y_test,\n",
    ")"
   ]
  },
  {
   "cell_type": "code",
   "execution_count": null,
   "id": "4b3b4681-a57e-4740-8ce0-5512e8e107ae",
   "metadata": {},
   "outputs": [],
   "source": [
    "run.end()"
   ]
  }
 ],
 "metadata": {
  "colab": {
   "collapsed_sections": [],
   "name": "titanic-survival-classification.ipynb",
   "provenance": []
  },
  "interpreter": {
   "hash": "0a0e20efb45b0a8e04b12f0d220e2449093f6f1936ab23fc807597df021f0e2b"
  },
  "kernelspec": {
   "display_name": "Python 3 (ipykernel)",
   "language": "python",
   "name": "python3"
  },
  "language_info": {
   "codemirror_mode": {
    "name": "ipython",
    "version": 3
   },
   "file_extension": ".py",
   "mimetype": "text/x-python",
   "name": "python",
   "nbconvert_exporter": "python",
   "pygments_lexer": "ipython3",
   "version": "3.9.2"
  }
 },
 "nbformat": 4,
 "nbformat_minor": 5
}
