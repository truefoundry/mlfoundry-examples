{
  "cells": [
    {
      "cell_type": "markdown",
      "source": [
        "## Try this notebook in Google Colab\n",
        "\n",
        "[![Open in Colab](https://colab.research.google.com/assets/colab-badge.svg)](https://colab.research.google.com/drive/1JwZRGd-NBVdQCC8DHU_hAUcpj4-c2HWj?usp=sharing)"
      ],
      "metadata": {
        "id": "tuHxCn36JdeP"
      },
      "id": "tuHxCn36JdeP"
    },
    {
      "cell_type": "code",
      "execution_count": null,
      "id": "b01c5fc4",
      "metadata": {
        "id": "b01c5fc4"
      },
      "outputs": [],
      "source": [
        "!pip install seaborn\n",
        "!pip install xgboost\n",
        "!pip install -U mlfoundry"
      ]
    },
    {
      "cell_type": "code",
      "execution_count": null,
      "id": "a837459d",
      "metadata": {
        "id": "a837459d"
      },
      "outputs": [],
      "source": [
        "import seaborn as sns \n",
        "\n",
        "import numpy as np\n",
        "import pandas as pd\n",
        "from sklearn.pipeline import Pipeline\n",
        "from sklearn.preprocessing import StandardScaler\n",
        "import matplotlib.pyplot as plt\n",
        "from sklearn.model_selection import train_test_split\n",
        "from sklearn.metrics import accuracy_score, precision_score, recall_score\n",
        "\n",
        "import os\n",
        "import getpass\n",
        "import urllib.parse\n",
        "import mlfoundry as mlf"
      ]
    },
    {
      "cell_type": "code",
      "source": [
        "TFY_URL = os.environ.get('TFY_URL', 'https://app.truefoundry.com/')\n",
        "TFY_API_KEY = os.environ.get('TFY_API_KEY')\n",
        "if not TFY_API_KEY:\n",
        "    print(f'Paste your TrueFoundry API key\\nYou can find it over at {urllib.parse.urljoin(TFY_URL, \"settings\")}')\n",
        "    TFY_API_KEY = getpass.getpass()"
      ],
      "metadata": {
        "id": "mO9yHaeqIU8y"
      },
      "id": "mO9yHaeqIU8y",
      "execution_count": null,
      "outputs": []
    },
    {
      "cell_type": "code",
      "execution_count": null,
      "id": "ed1b8801",
      "metadata": {
        "id": "ed1b8801"
      },
      "outputs": [],
      "source": [
        "titanic = sns.load_dataset('titanic')\n",
        "\n",
        "titanic"
      ]
    },
    {
      "cell_type": "code",
      "execution_count": null,
      "id": "05bd5d2c",
      "metadata": {
        "id": "05bd5d2c"
      },
      "outputs": [],
      "source": [
        "X_full = titanic.copy()"
      ]
    },
    {
      "cell_type": "code",
      "execution_count": null,
      "id": "a6e98e02",
      "metadata": {
        "id": "a6e98e02"
      },
      "outputs": [],
      "source": [
        "X_full['nulls'] = X_full.deck.isnull().astype('int') + X_full.age.isnull().astype('int')\n",
        "\n",
        "X_full['deck_mapped'] = X_full['deck'].astype(str).str[0] # this captures the letter\n",
        "# this transforms the letters into numbers\n",
        "deck_dict = {k:i for i, k in enumerate(X_full.deck.unique())} \n",
        "deck_dict.pop(np.nan)\n",
        "X_full.loc[:, 'deck_mapped'] = X_full.loc[:, 'deck_mapped'].map(deck_dict)\n",
        "\n",
        "X_full.drop(['age', 'deck'], inplace = True, axis = 1)\n",
        "\n",
        "fare_mean = X_full[X_full.pclass == 3].fare.mean()\n",
        "\n",
        "X_full['fare'].fillna(fare_mean, inplace = True)\n",
        "X_full.deck_mapped.fillna(0, inplace = True)\n",
        "\n",
        "X_full[X_full['pclass'] == 1].embark_town.value_counts()\n",
        "\n",
        "X_full['embarked'].fillna('S', inplace = True)\n",
        "\n",
        "X_full.drop(['embark_town'], inplace = True, axis = 1)\n",
        "\n",
        "X_full.drop(['who'], axis = 1, inplace = True)"
      ]
    },
    {
      "cell_type": "code",
      "execution_count": null,
      "id": "1ee6f8c9",
      "metadata": {
        "id": "1ee6f8c9"
      },
      "outputs": [],
      "source": [
        "X_dummies = pd.get_dummies(X_full, columns = ['sex', 'nulls', 'deck_mapped', 'embarked', \"class\", \"adult_male\", \"alive\", \"alone\"], drop_first= True)"
      ]
    },
    {
      "cell_type": "code",
      "execution_count": null,
      "id": "6671cddc",
      "metadata": {
        "id": "6671cddc"
      },
      "outputs": [],
      "source": [
        "X_dummies"
      ]
    },
    {
      "cell_type": "code",
      "execution_count": null,
      "id": "6a6dd38b",
      "metadata": {
        "id": "6a6dd38b"
      },
      "outputs": [],
      "source": [
        "X = X_dummies.drop(['survived'], axis = 1)\n",
        "y = X_dummies[\"survived\"]"
      ]
    },
    {
      "cell_type": "code",
      "execution_count": null,
      "id": "305796c3",
      "metadata": {
        "id": "305796c3"
      },
      "outputs": [],
      "source": [
        "X_train, X_test, y_train, y_test = train_test_split(X, y, \n",
        "                                                    test_size = .3,\n",
        "                                                    random_state = 5,\n",
        "                                                   stratify = y)"
      ]
    },
    {
      "cell_type": "code",
      "execution_count": null,
      "id": "3895ecb0",
      "metadata": {
        "id": "3895ecb0"
      },
      "outputs": [],
      "source": [
        "from xgboost import XGBClassifier\n",
        "\n",
        "xgb = XGBClassifier()\n",
        "\n",
        "xgb.fit(X_train, y_train)"
      ]
    },
    {
      "cell_type": "code",
      "execution_count": null,
      "id": "eca0bf0c",
      "metadata": {
        "id": "eca0bf0c"
      },
      "outputs": [],
      "source": [
        "import xgboost as xgb\n",
        "from sklearn.model_selection import RandomizedSearchCV\n",
        "\n",
        "# Create the parameter grid: gbm_param_grid \n",
        "gbm_param_grid = {\n",
        "    'n_estimators': range(8, 20),\n",
        "    'max_depth': range(6, 10),\n",
        "    'learning_rate': [.4, .45, .5, .55, .6],\n",
        "    'colsample_bytree': [.6, .7, .8, .9, 1]\n",
        "}\n",
        "\n",
        "# Instantiate the regressor: gbm\n",
        "gbm = XGBClassifier(n_estimators=1, max_depth=2)\n",
        "\n",
        "# Fit randomized_mse to the data\n",
        "gbm.fit(X_train, y_train)\n",
        "\n",
        "print(\"accuracy found: \", gbm.score(X_test, y_test))"
      ]
    },
    {
      "cell_type": "code",
      "execution_count": null,
      "id": "08aafce3",
      "metadata": {
        "id": "08aafce3",
        "collapsed": true
      },
      "outputs": [],
      "source": [
        "mlf_api = mlf.get_client(api_key=TFY_API_KEY)\n",
        "\n",
        "mlf_run = mlf_api.create_run(project_name='Titanic-Survival-prediction', run_name=\"XGBoost-Classification\")"
      ]
    },
    {
      "cell_type": "code",
      "execution_count": null,
      "id": "a7a83a21",
      "metadata": {
        "id": "a7a83a21"
      },
      "outputs": [],
      "source": [
        "xgb_preds = gbm.predict(X_test)\n",
        "metrics_dict = {\n",
        "    \"Accuracy\": accuracy_score(y_test, xgb_preds),\n",
        "    \"Precision\": precision_score(y_test, xgb_preds),\n",
        "    \"Recall\": recall_score(y_test, xgb_preds),\n",
        "}\n",
        "\n",
        "mlf_run.log_metrics(metrics_dict)"
      ]
    },
    {
      "cell_type": "code",
      "execution_count": null,
      "id": "9054b9b5",
      "metadata": {
        "id": "9054b9b5"
      },
      "outputs": [],
      "source": [
        "params = gbm.get_params()\n",
        "params_dict = {\n",
        "    \"objective\": params['objective'],\n",
        "    'booster': params[\"booster\"],\n",
        "    'learning_rate': params[\"learning_rate\"],\n",
        "    'max_depth': params[\"max_depth\"]\n",
        "}\n",
        "\n",
        "mlf_run.log_params(params_dict)"
      ]
    },
    {
      "cell_type": "code",
      "execution_count": null,
      "id": "7464f110",
      "metadata": {
        "id": "7464f110"
      },
      "outputs": [],
      "source": [
        "X_test_df = X_test.copy()\n",
        "X_test_df['targets'] = y_test\n",
        "X_test_df['predictions'] = gbm.predict(X_test)\n",
        "\n",
        "mlf_run.log_dataset(\n",
        "    dataset_name = 'test',\n",
        "    features = X_test_df[list(X_test.columns)],\n",
        "    predictions = X_test_df['predictions'],\n",
        "    actuals = X_test_df['targets'],\n",
        "    only_stats = False,   \n",
        ")"
      ]
    },
    {
      "cell_type": "code",
      "execution_count": null,
      "id": "002d4972",
      "metadata": {
        "id": "002d4972"
      },
      "outputs": [],
      "source": [
        "mlf_run.end()"
      ]
    },
    {
      "cell_type": "code",
      "source": [
        ""
      ],
      "metadata": {
        "id": "ga8_-BpzH_wW"
      },
      "id": "ga8_-BpzH_wW",
      "execution_count": null,
      "outputs": []
    }
  ],
  "metadata": {
    "interpreter": {
      "hash": "0a0e20efb45b0a8e04b12f0d220e2449093f6f1936ab23fc807597df021f0e2b"
    },
    "kernelspec": {
      "display_name": "Python 3.8.5 ('mlfoundry-examples-w7CJwyiv-py3.8')",
      "language": "python",
      "name": "python3"
    },
    "language_info": {
      "codemirror_mode": {
        "name": "ipython",
        "version": 3
      },
      "file_extension": ".py",
      "mimetype": "text/x-python",
      "name": "python",
      "nbconvert_exporter": "python",
      "pygments_lexer": "ipython3",
      "version": "3.8.5"
    },
    "colab": {
      "name": "titanic-survival-classification.ipynb",
      "provenance": [],
      "collapsed_sections": []
    }
  },
  "nbformat": 4,
  "nbformat_minor": 5
}