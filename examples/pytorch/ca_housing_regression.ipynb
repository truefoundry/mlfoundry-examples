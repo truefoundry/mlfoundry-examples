{
 "cells": [
  {
   "cell_type": "markdown",
   "id": "9d21accf-3e57-4b52-ae51-4b629b81038c",
   "metadata": {},
   "source": [
    "# Try this Notebook in Google Colab\n",
    "\n",
    "[![Open In Colab](https://colab.research.google.com/assets/colab-badge.svg)](https://colab.research.google.com/github/truefoundry/mlfoundry-examples/blob/main/examples/pytorch/ca_housing_regression.ipynb)"
   ]
  },
  {
   "cell_type": "markdown",
   "id": "e88064d5-84e9-471d-b482-fdfc611d9d1f",
   "metadata": {
    "tags": []
   },
   "source": [
    "## Install dependencies\n",
    "\n",
    "For torch, it is recommended to follow the instructions at https://pytorch.org/get-started/locally/  \n",
    "We will use the one already installed, otherwise we will just install the CPU version for now"
   ]
  },
  {
   "cell_type": "code",
   "execution_count": 1,
   "id": "5b69e263-4b1f-40d1-ae6b-60b79d5bc412",
   "metadata": {},
   "outputs": [
    {
     "name": "stdout",
     "output_type": "stream",
     "text": [
      "\u001b[33mWARNING: You are using pip version 22.0.4; however, version 22.1 is available.\n",
      "You should consider upgrading via the '/Users/chiragjn/Library/Caches/pypoetry/virtualenvs/mlfoundry-jYktQAfc-py3.9/bin/python -m pip install --upgrade pip' command.\u001b[0m\u001b[33m\n",
      "\u001b[0m\u001b[33mWARNING: You are using pip version 22.0.4; however, version 22.1 is available.\n",
      "You should consider upgrading via the '/Users/chiragjn/Library/Caches/pypoetry/virtualenvs/mlfoundry-jYktQAfc-py3.9/bin/python -m pip install --upgrade pip' command.\u001b[0m\u001b[33m\n",
      "\u001b[0mRequirement already satisfied: mlfoundry in /Users/chiragjn/Library/Caches/pypoetry/virtualenvs/mlfoundry-jYktQAfc-py3.9/lib/python3.9/site-packages (0.3.16)\n",
      "Requirement already satisfied: pandas>=1.0.0 in /Users/chiragjn/Library/Caches/pypoetry/virtualenvs/mlfoundry-jYktQAfc-py3.9/lib/python3.9/site-packages (from mlfoundry) (1.1.5)\n",
      "Requirement already satisfied: shap<0.41.0,>=0.40.0 in /Users/chiragjn/Library/Caches/pypoetry/virtualenvs/mlfoundry-jYktQAfc-py3.9/lib/python3.9/site-packages (from mlfoundry) (0.40.0)\n",
      "Requirement already satisfied: GitPython<4.0.0,>=3.1.26 in /Users/chiragjn/Library/Caches/pypoetry/virtualenvs/mlfoundry-jYktQAfc-py3.9/lib/python3.9/site-packages (from mlfoundry) (3.1.27)\n",
      "Requirement already satisfied: psycopg2-binary<3.0.0,>=2.9.1 in /Users/chiragjn/Library/Caches/pypoetry/virtualenvs/mlfoundry-jYktQAfc-py3.9/lib/python3.9/site-packages (from mlfoundry) (2.9.3)\n",
      "Requirement already satisfied: fastparquet<0.8.0,>=0.7.2 in /Users/chiragjn/Library/Caches/pypoetry/virtualenvs/mlfoundry-jYktQAfc-py3.9/lib/python3.9/site-packages (from mlfoundry) (0.7.2)\n",
      "Requirement already satisfied: scikit-learn<0.25.0,>=0.24.2 in /Users/chiragjn/Library/Caches/pypoetry/virtualenvs/mlfoundry-jYktQAfc-py3.9/lib/python3.9/site-packages (from mlfoundry) (0.24.2)\n",
      "Requirement already satisfied: pyarrow>=5.0.0 in /Users/chiragjn/Library/Caches/pypoetry/virtualenvs/mlfoundry-jYktQAfc-py3.9/lib/python3.9/site-packages (from mlfoundry) (7.0.0)\n",
      "Requirement already satisfied: psutil<6.0.0,>=5.9.0 in /Users/chiragjn/Library/Caches/pypoetry/virtualenvs/mlfoundry-jYktQAfc-py3.9/lib/python3.9/site-packages (from mlfoundry) (5.9.0)\n",
      "Requirement already satisfied: tfy-mlflow-client==0.0.8 in /Users/chiragjn/Library/Caches/pypoetry/virtualenvs/mlfoundry-jYktQAfc-py3.9/lib/python3.9/site-packages (from mlfoundry) (0.0.8)\n",
      "Requirement already satisfied: orjson<4.0.0,>=3.6.5 in /Users/chiragjn/Library/Caches/pypoetry/virtualenvs/mlfoundry-jYktQAfc-py3.9/lib/python3.9/site-packages (from mlfoundry) (3.6.8)\n",
      "Requirement already satisfied: packaging<22.0,>=21.3 in /Users/chiragjn/Library/Caches/pypoetry/virtualenvs/mlfoundry-jYktQAfc-py3.9/lib/python3.9/site-packages (from mlfoundry) (21.3)\n",
      "Requirement already satisfied: whylogs>=0.6.15 in /Users/chiragjn/Library/Caches/pypoetry/virtualenvs/mlfoundry-jYktQAfc-py3.9/lib/python3.9/site-packages (from mlfoundry) (0.7.6)\n",
      "Requirement already satisfied: human-id<0.3.0,>=0.2.0 in /Users/chiragjn/Library/Caches/pypoetry/virtualenvs/mlfoundry-jYktQAfc-py3.9/lib/python3.9/site-packages (from mlfoundry) (0.2.0)\n",
      "Requirement already satisfied: PyMySQL<2.0.0,>=1.0.2 in /Users/chiragjn/Library/Caches/pypoetry/virtualenvs/mlfoundry-jYktQAfc-py3.9/lib/python3.9/site-packages (from mlfoundry) (1.0.2)\n",
      "Requirement already satisfied: boto3>=1.14.1 in /Users/chiragjn/Library/Caches/pypoetry/virtualenvs/mlfoundry-jYktQAfc-py3.9/lib/python3.9/site-packages (from mlfoundry) (1.22.1)\n",
      "Requirement already satisfied: pipreqs<0.5.0,>=0.4.11 in /Users/chiragjn/Library/Caches/pypoetry/virtualenvs/mlfoundry-jYktQAfc-py3.9/lib/python3.9/site-packages (from mlfoundry) (0.4.11)\n",
      "Requirement already satisfied: SQLAlchemy<2.0.0,>=1.4.30 in /Users/chiragjn/Library/Caches/pypoetry/virtualenvs/mlfoundry-jYktQAfc-py3.9/lib/python3.9/site-packages (from mlfoundry) (1.4.35)\n",
      "Requirement already satisfied: pydantic<2.0.0,>=1.8.2 in /Users/chiragjn/Library/Caches/pypoetry/virtualenvs/mlfoundry-jYktQAfc-py3.9/lib/python3.9/site-packages (from mlfoundry) (1.9.0)\n",
      "Requirement already satisfied: matplotlib>=3.0.3 in /Users/chiragjn/Library/Caches/pypoetry/virtualenvs/mlfoundry-jYktQAfc-py3.9/lib/python3.9/site-packages (from mlfoundry) (3.5.1)\n",
      "Requirement already satisfied: cryptography<37.0.0,>=36.0.1 in /Users/chiragjn/Library/Caches/pypoetry/virtualenvs/mlfoundry-jYktQAfc-py3.9/lib/python3.9/site-packages (from mlfoundry) (36.0.2)\n",
      "Requirement already satisfied: amplitude-tracker<0.0.8,>=0.0.7 in /Users/chiragjn/Library/Caches/pypoetry/virtualenvs/mlfoundry-jYktQAfc-py3.9/lib/python3.9/site-packages (from mlfoundry) (0.0.7)\n",
      "Requirement already satisfied: numpy>=1.17.0 in /Users/chiragjn/Library/Caches/pypoetry/virtualenvs/mlfoundry-jYktQAfc-py3.9/lib/python3.9/site-packages (from mlfoundry) (1.21.6)\n",
      "Requirement already satisfied: scipy<2.0.0,>=1.5.4 in /Users/chiragjn/Library/Caches/pypoetry/virtualenvs/mlfoundry-jYktQAfc-py3.9/lib/python3.9/site-packages (from mlfoundry) (1.7.3)\n",
      "Requirement already satisfied: entrypoints in /Users/chiragjn/Library/Caches/pypoetry/virtualenvs/mlfoundry-jYktQAfc-py3.9/lib/python3.9/site-packages (from tfy-mlflow-client==0.0.8->mlfoundry) (0.4)\n",
      "Requirement already satisfied: databricks-cli>=0.8.7 in /Users/chiragjn/Library/Caches/pypoetry/virtualenvs/mlfoundry-jYktQAfc-py3.9/lib/python3.9/site-packages (from tfy-mlflow-client==0.0.8->mlfoundry) (0.16.6)\n",
      "Requirement already satisfied: cloudpickle in /Users/chiragjn/Library/Caches/pypoetry/virtualenvs/mlfoundry-jYktQAfc-py3.9/lib/python3.9/site-packages (from tfy-mlflow-client==0.0.8->mlfoundry) (2.0.0)\n",
      "Requirement already satisfied: sqlparse>=0.3.1 in /Users/chiragjn/Library/Caches/pypoetry/virtualenvs/mlfoundry-jYktQAfc-py3.9/lib/python3.9/site-packages (from tfy-mlflow-client==0.0.8->mlfoundry) (0.4.2)\n",
      "Requirement already satisfied: protobuf>=3.7.0 in /Users/chiragjn/Library/Caches/pypoetry/virtualenvs/mlfoundry-jYktQAfc-py3.9/lib/python3.9/site-packages (from tfy-mlflow-client==0.0.8->mlfoundry) (3.20.1)\n",
      "Requirement already satisfied: importlib-metadata!=4.7.0,>=3.7.0 in /Users/chiragjn/Library/Caches/pypoetry/virtualenvs/mlfoundry-jYktQAfc-py3.9/lib/python3.9/site-packages (from tfy-mlflow-client==0.0.8->mlfoundry) (4.11.3)\n",
      "Requirement already satisfied: click>=7.0 in /Users/chiragjn/Library/Caches/pypoetry/virtualenvs/mlfoundry-jYktQAfc-py3.9/lib/python3.9/site-packages (from tfy-mlflow-client==0.0.8->mlfoundry) (8.1.2)\n",
      "Requirement already satisfied: pytz in /Users/chiragjn/Library/Caches/pypoetry/virtualenvs/mlfoundry-jYktQAfc-py3.9/lib/python3.9/site-packages (from tfy-mlflow-client==0.0.8->mlfoundry) (2022.1)\n",
      "Requirement already satisfied: requests>=2.17.3 in /Users/chiragjn/Library/Caches/pypoetry/virtualenvs/mlfoundry-jYktQAfc-py3.9/lib/python3.9/site-packages (from tfy-mlflow-client==0.0.8->mlfoundry) (2.27.1)\n",
      "Requirement already satisfied: pyyaml>=5.1 in /Users/chiragjn/Library/Caches/pypoetry/virtualenvs/mlfoundry-jYktQAfc-py3.9/lib/python3.9/site-packages (from tfy-mlflow-client==0.0.8->mlfoundry) (6.0)\n",
      "Requirement already satisfied: python-dateutil>2.1 in /Users/chiragjn/Library/Caches/pypoetry/virtualenvs/mlfoundry-jYktQAfc-py3.9/lib/python3.9/site-packages (from amplitude-tracker<0.0.8,>=0.0.7->mlfoundry) (2.8.2)\n",
      "Requirement already satisfied: backoff==1.10.0 in /Users/chiragjn/Library/Caches/pypoetry/virtualenvs/mlfoundry-jYktQAfc-py3.9/lib/python3.9/site-packages (from amplitude-tracker<0.0.8,>=0.0.7->mlfoundry) (1.10.0)\n",
      "Requirement already satisfied: six>=1.5 in /Users/chiragjn/Library/Caches/pypoetry/virtualenvs/mlfoundry-jYktQAfc-py3.9/lib/python3.9/site-packages (from amplitude-tracker<0.0.8,>=0.0.7->mlfoundry) (1.16.0)\n",
      "Requirement already satisfied: monotonic>=1.5 in /Users/chiragjn/Library/Caches/pypoetry/virtualenvs/mlfoundry-jYktQAfc-py3.9/lib/python3.9/site-packages (from amplitude-tracker<0.0.8,>=0.0.7->mlfoundry) (1.6)\n",
      "Requirement already satisfied: jmespath<2.0.0,>=0.7.1 in /Users/chiragjn/Library/Caches/pypoetry/virtualenvs/mlfoundry-jYktQAfc-py3.9/lib/python3.9/site-packages (from boto3>=1.14.1->mlfoundry) (1.0.0)\n",
      "Requirement already satisfied: s3transfer<0.6.0,>=0.5.0 in /Users/chiragjn/Library/Caches/pypoetry/virtualenvs/mlfoundry-jYktQAfc-py3.9/lib/python3.9/site-packages (from boto3>=1.14.1->mlfoundry) (0.5.2)\n",
      "Requirement already satisfied: botocore<1.26.0,>=1.25.1 in /Users/chiragjn/Library/Caches/pypoetry/virtualenvs/mlfoundry-jYktQAfc-py3.9/lib/python3.9/site-packages (from boto3>=1.14.1->mlfoundry) (1.25.1)\n",
      "Requirement already satisfied: cffi>=1.12 in /Users/chiragjn/Library/Caches/pypoetry/virtualenvs/mlfoundry-jYktQAfc-py3.9/lib/python3.9/site-packages (from cryptography<37.0.0,>=36.0.1->mlfoundry) (1.15.0)\n",
      "Requirement already satisfied: cramjam>=2.3.0 in /Users/chiragjn/Library/Caches/pypoetry/virtualenvs/mlfoundry-jYktQAfc-py3.9/lib/python3.9/site-packages (from fastparquet<0.8.0,>=0.7.2->mlfoundry) (2.5.0)\n",
      "Requirement already satisfied: thrift>=0.11.0 in /Users/chiragjn/Library/Caches/pypoetry/virtualenvs/mlfoundry-jYktQAfc-py3.9/lib/python3.9/site-packages (from fastparquet<0.8.0,>=0.7.2->mlfoundry) (0.16.0)\n",
      "Requirement already satisfied: fsspec in /Users/chiragjn/Library/Caches/pypoetry/virtualenvs/mlfoundry-jYktQAfc-py3.9/lib/python3.9/site-packages (from fastparquet<0.8.0,>=0.7.2->mlfoundry) (2022.3.0)\n",
      "Requirement already satisfied: gitdb<5,>=4.0.1 in /Users/chiragjn/Library/Caches/pypoetry/virtualenvs/mlfoundry-jYktQAfc-py3.9/lib/python3.9/site-packages (from GitPython<4.0.0,>=3.1.26->mlfoundry) (4.0.9)\n",
      "Requirement already satisfied: kiwisolver>=1.0.1 in /Users/chiragjn/Library/Caches/pypoetry/virtualenvs/mlfoundry-jYktQAfc-py3.9/lib/python3.9/site-packages (from matplotlib>=3.0.3->mlfoundry) (1.4.2)\n",
      "Requirement already satisfied: pillow>=6.2.0 in /Users/chiragjn/Library/Caches/pypoetry/virtualenvs/mlfoundry-jYktQAfc-py3.9/lib/python3.9/site-packages (from matplotlib>=3.0.3->mlfoundry) (9.1.0)\n",
      "Requirement already satisfied: pyparsing>=2.2.1 in /Users/chiragjn/Library/Caches/pypoetry/virtualenvs/mlfoundry-jYktQAfc-py3.9/lib/python3.9/site-packages (from matplotlib>=3.0.3->mlfoundry) (3.0.8)\n",
      "Requirement already satisfied: cycler>=0.10 in /Users/chiragjn/Library/Caches/pypoetry/virtualenvs/mlfoundry-jYktQAfc-py3.9/lib/python3.9/site-packages (from matplotlib>=3.0.3->mlfoundry) (0.11.0)\n",
      "Requirement already satisfied: fonttools>=4.22.0 in /Users/chiragjn/Library/Caches/pypoetry/virtualenvs/mlfoundry-jYktQAfc-py3.9/lib/python3.9/site-packages (from matplotlib>=3.0.3->mlfoundry) (4.33.3)\n",
      "Requirement already satisfied: docopt in /Users/chiragjn/Library/Caches/pypoetry/virtualenvs/mlfoundry-jYktQAfc-py3.9/lib/python3.9/site-packages (from pipreqs<0.5.0,>=0.4.11->mlfoundry) (0.6.2)\n",
      "Requirement already satisfied: yarg in /Users/chiragjn/Library/Caches/pypoetry/virtualenvs/mlfoundry-jYktQAfc-py3.9/lib/python3.9/site-packages (from pipreqs<0.5.0,>=0.4.11->mlfoundry) (0.1.9)\n",
      "Requirement already satisfied: typing-extensions>=3.7.4.3 in /Users/chiragjn/Library/Caches/pypoetry/virtualenvs/mlfoundry-jYktQAfc-py3.9/lib/python3.9/site-packages (from pydantic<2.0.0,>=1.8.2->mlfoundry) (4.2.0)\n",
      "Requirement already satisfied: joblib>=0.11 in /Users/chiragjn/Library/Caches/pypoetry/virtualenvs/mlfoundry-jYktQAfc-py3.9/lib/python3.9/site-packages (from scikit-learn<0.25.0,>=0.24.2->mlfoundry) (1.1.0)\n",
      "Requirement already satisfied: threadpoolctl>=2.0.0 in /Users/chiragjn/Library/Caches/pypoetry/virtualenvs/mlfoundry-jYktQAfc-py3.9/lib/python3.9/site-packages (from scikit-learn<0.25.0,>=0.24.2->mlfoundry) (3.1.0)\n",
      "Requirement already satisfied: tqdm>4.25.0 in /Users/chiragjn/Library/Caches/pypoetry/virtualenvs/mlfoundry-jYktQAfc-py3.9/lib/python3.9/site-packages (from shap<0.41.0,>=0.40.0->mlfoundry) (4.64.0)\n",
      "Requirement already satisfied: slicer==0.0.7 in /Users/chiragjn/Library/Caches/pypoetry/virtualenvs/mlfoundry-jYktQAfc-py3.9/lib/python3.9/site-packages (from shap<0.41.0,>=0.40.0->mlfoundry) (0.0.7)\n",
      "Requirement already satisfied: numba in /Users/chiragjn/Library/Caches/pypoetry/virtualenvs/mlfoundry-jYktQAfc-py3.9/lib/python3.9/site-packages (from shap<0.41.0,>=0.40.0->mlfoundry) (0.55.1)\n",
      "Requirement already satisfied: greenlet!=0.4.17 in /Users/chiragjn/Library/Caches/pypoetry/virtualenvs/mlfoundry-jYktQAfc-py3.9/lib/python3.9/site-packages (from SQLAlchemy<2.0.0,>=1.4.30->mlfoundry) (1.1.2)\n",
      "Requirement already satisfied: jsonschema>=3.2.0 in /Users/chiragjn/Library/Caches/pypoetry/virtualenvs/mlfoundry-jYktQAfc-py3.9/lib/python3.9/site-packages (from whylogs>=0.6.15->mlfoundry) (4.4.0)\n",
      "Requirement already satisfied: whylabs-client<0.4.0,>=0.3.0 in /Users/chiragjn/Library/Caches/pypoetry/virtualenvs/mlfoundry-jYktQAfc-py3.9/lib/python3.9/site-packages (from whylogs>=0.6.15->mlfoundry) (0.3.0)\n",
      "Requirement already satisfied: smart-open>=4.1.2 in /Users/chiragjn/Library/Caches/pypoetry/virtualenvs/mlfoundry-jYktQAfc-py3.9/lib/python3.9/site-packages (from whylogs>=0.6.15->mlfoundry) (6.0.0)\n",
      "Requirement already satisfied: whylabs-datasketches>=2.2.0b1 in /Users/chiragjn/Library/Caches/pypoetry/virtualenvs/mlfoundry-jYktQAfc-py3.9/lib/python3.9/site-packages (from whylogs>=0.6.15->mlfoundry) (2.2.0b1)\n",
      "Requirement already satisfied: marshmallow>=3.7.1 in /Users/chiragjn/Library/Caches/pypoetry/virtualenvs/mlfoundry-jYktQAfc-py3.9/lib/python3.9/site-packages (from whylogs>=0.6.15->mlfoundry) (3.15.0)\n",
      "Requirement already satisfied: puremagic<2.0,>=1.10 in /Users/chiragjn/Library/Caches/pypoetry/virtualenvs/mlfoundry-jYktQAfc-py3.9/lib/python3.9/site-packages (from whylogs>=0.6.15->mlfoundry) (1.12)\n",
      "Requirement already satisfied: urllib3<1.27,>=1.25.4 in /Users/chiragjn/Library/Caches/pypoetry/virtualenvs/mlfoundry-jYktQAfc-py3.9/lib/python3.9/site-packages (from botocore<1.26.0,>=1.25.1->boto3>=1.14.1->mlfoundry) (1.26.9)\n",
      "Requirement already satisfied: pycparser in /Users/chiragjn/Library/Caches/pypoetry/virtualenvs/mlfoundry-jYktQAfc-py3.9/lib/python3.9/site-packages (from cffi>=1.12->cryptography<37.0.0,>=36.0.1->mlfoundry) (2.21)\n",
      "Requirement already satisfied: oauthlib>=3.1.0 in /Users/chiragjn/Library/Caches/pypoetry/virtualenvs/mlfoundry-jYktQAfc-py3.9/lib/python3.9/site-packages (from databricks-cli>=0.8.7->tfy-mlflow-client==0.0.8->mlfoundry) (3.2.0)\n",
      "Requirement already satisfied: pyjwt>=1.7.0 in /Users/chiragjn/Library/Caches/pypoetry/virtualenvs/mlfoundry-jYktQAfc-py3.9/lib/python3.9/site-packages (from databricks-cli>=0.8.7->tfy-mlflow-client==0.0.8->mlfoundry) (2.3.0)\n",
      "Requirement already satisfied: tabulate>=0.7.7 in /Users/chiragjn/Library/Caches/pypoetry/virtualenvs/mlfoundry-jYktQAfc-py3.9/lib/python3.9/site-packages (from databricks-cli>=0.8.7->tfy-mlflow-client==0.0.8->mlfoundry) (0.8.9)\n",
      "Requirement already satisfied: smmap<6,>=3.0.1 in /Users/chiragjn/Library/Caches/pypoetry/virtualenvs/mlfoundry-jYktQAfc-py3.9/lib/python3.9/site-packages (from gitdb<5,>=4.0.1->GitPython<4.0.0,>=3.1.26->mlfoundry) (5.0.0)\n",
      "Requirement already satisfied: zipp>=0.5 in /Users/chiragjn/Library/Caches/pypoetry/virtualenvs/mlfoundry-jYktQAfc-py3.9/lib/python3.9/site-packages (from importlib-metadata!=4.7.0,>=3.7.0->tfy-mlflow-client==0.0.8->mlfoundry) (3.8.0)\n",
      "Requirement already satisfied: attrs>=17.4.0 in /Users/chiragjn/Library/Caches/pypoetry/virtualenvs/mlfoundry-jYktQAfc-py3.9/lib/python3.9/site-packages (from jsonschema>=3.2.0->whylogs>=0.6.15->mlfoundry) (21.4.0)\n",
      "Requirement already satisfied: pyrsistent!=0.17.0,!=0.17.1,!=0.17.2,>=0.14.0 in /Users/chiragjn/Library/Caches/pypoetry/virtualenvs/mlfoundry-jYktQAfc-py3.9/lib/python3.9/site-packages (from jsonschema>=3.2.0->whylogs>=0.6.15->mlfoundry) (0.18.1)\n",
      "Requirement already satisfied: idna<4,>=2.5 in /Users/chiragjn/Library/Caches/pypoetry/virtualenvs/mlfoundry-jYktQAfc-py3.9/lib/python3.9/site-packages (from requests>=2.17.3->tfy-mlflow-client==0.0.8->mlfoundry) (3.3)\n",
      "Requirement already satisfied: certifi>=2017.4.17 in /Users/chiragjn/Library/Caches/pypoetry/virtualenvs/mlfoundry-jYktQAfc-py3.9/lib/python3.9/site-packages (from requests>=2.17.3->tfy-mlflow-client==0.0.8->mlfoundry) (2021.10.8)\n",
      "Requirement already satisfied: charset-normalizer~=2.0.0 in /Users/chiragjn/Library/Caches/pypoetry/virtualenvs/mlfoundry-jYktQAfc-py3.9/lib/python3.9/site-packages (from requests>=2.17.3->tfy-mlflow-client==0.0.8->mlfoundry) (2.0.12)\n",
      "Requirement already satisfied: llvmlite<0.39,>=0.38.0rc1 in /Users/chiragjn/Library/Caches/pypoetry/virtualenvs/mlfoundry-jYktQAfc-py3.9/lib/python3.9/site-packages (from numba->shap<0.41.0,>=0.40.0->mlfoundry) (0.38.0)\n",
      "Requirement already satisfied: setuptools in /Users/chiragjn/Library/Caches/pypoetry/virtualenvs/mlfoundry-jYktQAfc-py3.9/lib/python3.9/site-packages (from numba->shap<0.41.0,>=0.40.0->mlfoundry) (62.1.0)\n",
      "\u001b[33mWARNING: You are using pip version 22.0.4; however, version 22.1 is available.\n",
      "You should consider upgrading via the '/Users/chiragjn/Library/Caches/pypoetry/virtualenvs/mlfoundry-jYktQAfc-py3.9/bin/python -m pip install --upgrade pip' command.\u001b[0m\u001b[33m\n",
      "\u001b[0m"
     ]
    }
   ],
   "source": [
    "! pip install --quiet \"numpy>=1.0.0,<2.0.0\" \"pandas>=1.0.0,<2.0.0\" scikit-learn shap==0.40.0\n",
    "! pip install --quiet \"torch>=1.2.0,<2.0.0\"\n",
    "! pip install -U mlfoundry"
   ]
  },
  {
   "cell_type": "markdown",
   "id": "0ed21443-05fd-4e90-91dd-ee92309acec3",
   "metadata": {
    "tags": []
   },
   "source": [
    "## Initialize MLFoundry Client"
   ]
  },
  {
   "cell_type": "code",
   "execution_count": 2,
   "id": "e005e0b9-593f-4aae-8ff3-747144f7a59b",
   "metadata": {},
   "outputs": [
    {
     "name": "stderr",
     "output_type": "stream",
     "text": [
      "/Users/chiragjn/Library/Caches/pypoetry/virtualenvs/mlfoundry-jYktQAfc-py3.9/lib/python3.9/site-packages/tqdm/auto.py:22: TqdmWarning: IProgress not found. Please update jupyter and ipywidgets. See https://ipywidgets.readthedocs.io/en/stable/user_install.html\n",
      "  from .autonotebook import tqdm as notebook_tqdm\n"
     ]
    }
   ],
   "source": [
    "import os\n",
    "import getpass\n",
    "import urllib.parse\n",
    "import mlfoundry as mlf"
   ]
  },
  {
   "cell_type": "code",
   "execution_count": 3,
   "id": "da1cd4d0-09ac-40db-bf73-a95865f37b05",
   "metadata": {},
   "outputs": [],
   "source": [
    "TFY_URL = os.environ.get('TFY_URL', 'https://app.truefoundry.com/')\n",
    "TFY_API_KEY = os.environ.get('TFY_API_KEY')\n",
    "if not TFY_API_KEY:\n",
    "    print(f'Paste your TrueFoundry API key\\nYou can find it over at {urllib.parse.urljoin(TFY_URL, \"settings\")}')\n",
    "    TFY_API_KEY = getpass.getpass()"
   ]
  },
  {
   "cell_type": "code",
   "execution_count": 4,
   "id": "846c907f-75d5-4d95-89a1-d7d28e9122b4",
   "metadata": {},
   "outputs": [],
   "source": [
    "client = mlf.get_client(api_key=TFY_API_KEY)"
   ]
  },
  {
   "cell_type": "markdown",
   "id": "6384565b-21fa-4ad7-a855-be0832adebde",
   "metadata": {},
   "source": [
    "---"
   ]
  },
  {
   "cell_type": "markdown",
   "id": "d38df2b0-0f81-4cd8-ab6d-b7b725563f11",
   "metadata": {
    "tags": []
   },
   "source": [
    "## California Housing Price Prediction as a Regression problem"
   ]
  },
  {
   "cell_type": "code",
   "execution_count": 5,
   "id": "a836e4c4-66ff-4d49-b2b2-96ffbcc1a818",
   "metadata": {},
   "outputs": [],
   "source": [
    "import random\n",
    "import math\n",
    "from timeit import default_timer as timer\n",
    "import json\n",
    "\n",
    "import numpy as np\n",
    "import pandas as pd\n",
    "from sklearn import datasets\n",
    "from sklearn.model_selection import train_test_split\n",
    "from sklearn.metrics import mean_absolute_error, mean_squared_error, r2_score\n",
    "import torch\n",
    "import torch.nn as nn\n",
    "import torch.nn.functional as F\n",
    "from torch.utils.data import TensorDataset, DataLoader, RandomSampler\n",
    "from torch.optim import AdamW\n",
    "from torch.optim.lr_scheduler import LambdaLR\n",
    "\n",
    "import mlfoundry as mlf"
   ]
  },
  {
   "cell_type": "markdown",
   "id": "2a2f9f68-71df-43a4-aa90-b563d67624ea",
   "metadata": {
    "tags": []
   },
   "source": [
    "### Load the California Housing dataset"
   ]
  },
  {
   "cell_type": "code",
   "execution_count": 6,
   "id": "beb89055-39e5-4a04-8bbb-898acd84c381",
   "metadata": {},
   "outputs": [
    {
     "name": "stdout",
     "output_type": "stream",
     "text": [
      "dict_keys(['data', 'target', 'frame', 'target_names', 'feature_names', 'DESCR'])\n"
     ]
    }
   ],
   "source": [
    "data = datasets.fetch_california_housing(as_frame=True)\n",
    "print(data.keys())"
   ]
  },
  {
   "cell_type": "code",
   "execution_count": 7,
   "id": "7ac2f2b4-728c-43b3-9dc1-aa47283df0da",
   "metadata": {
    "tags": []
   },
   "outputs": [
    {
     "name": "stdout",
     "output_type": "stream",
     "text": [
      ".. _california_housing_dataset:\n",
      "\n",
      "California Housing dataset\n",
      "--------------------------\n",
      "\n",
      "**Data Set Characteristics:**\n",
      "\n",
      "    :Number of Instances: 20640\n",
      "\n",
      "    :Number of Attributes: 8 numeric, predictive attributes and the target\n",
      "\n",
      "    :Attribute Information:\n",
      "        - MedInc        median income in block\n",
      "        - HouseAge      median house age in block\n",
      "        - AveRooms      average number of rooms\n",
      "        - AveBedrms     average number of bedrooms\n",
      "        - Population    block population\n",
      "        - AveOccup      average house occupancy\n",
      "        - Latitude      house block latitude\n",
      "        - Longitude     house block longitude\n",
      "\n",
      "    :Missing Attribute Values: None\n",
      "\n",
      "This dataset was obtained from the StatLib repository.\n",
      "http://lib.stat.cmu.edu/datasets/\n",
      "\n",
      "The target variable is the median house value for California districts.\n",
      "\n",
      "This dataset was derived from the 1990 U.S. census, using one row per census\n",
      "block group. A block group is the smallest geographical unit for which the U.S.\n",
      "Census Bureau publishes sample data (a block group typically has a population\n",
      "of 600 to 3,000 people).\n",
      "\n",
      "It can be downloaded/loaded using the\n",
      ":func:`sklearn.datasets.fetch_california_housing` function.\n",
      "\n",
      ".. topic:: References\n",
      "\n",
      "    - Pace, R. Kelley and Ronald Barry, Sparse Spatial Autoregressions,\n",
      "      Statistics and Probability Letters, 33 (1997) 291-297\n",
      "\n"
     ]
    }
   ],
   "source": [
    "print(data.DESCR)"
   ]
  },
  {
   "cell_type": "code",
   "execution_count": 8,
   "id": "87fb6b53-d5aa-4efb-bf75-22cebc8cc897",
   "metadata": {},
   "outputs": [
    {
     "data": {
      "text/html": [
       "<div>\n",
       "<style scoped>\n",
       "    .dataframe tbody tr th:only-of-type {\n",
       "        vertical-align: middle;\n",
       "    }\n",
       "\n",
       "    .dataframe tbody tr th {\n",
       "        vertical-align: top;\n",
       "    }\n",
       "\n",
       "    .dataframe thead th {\n",
       "        text-align: right;\n",
       "    }\n",
       "</style>\n",
       "<table border=\"1\" class=\"dataframe\">\n",
       "  <thead>\n",
       "    <tr style=\"text-align: right;\">\n",
       "      <th></th>\n",
       "      <th>MedInc</th>\n",
       "      <th>HouseAge</th>\n",
       "      <th>AveRooms</th>\n",
       "      <th>AveBedrms</th>\n",
       "      <th>Population</th>\n",
       "      <th>AveOccup</th>\n",
       "      <th>Latitude</th>\n",
       "      <th>Longitude</th>\n",
       "      <th>MedHouseVal</th>\n",
       "    </tr>\n",
       "  </thead>\n",
       "  <tbody>\n",
       "    <tr>\n",
       "      <th>0</th>\n",
       "      <td>8.3252</td>\n",
       "      <td>41.0</td>\n",
       "      <td>6.984127</td>\n",
       "      <td>1.023810</td>\n",
       "      <td>322.0</td>\n",
       "      <td>2.555556</td>\n",
       "      <td>37.88</td>\n",
       "      <td>-122.23</td>\n",
       "      <td>4.526</td>\n",
       "    </tr>\n",
       "    <tr>\n",
       "      <th>1</th>\n",
       "      <td>8.3014</td>\n",
       "      <td>21.0</td>\n",
       "      <td>6.238137</td>\n",
       "      <td>0.971880</td>\n",
       "      <td>2401.0</td>\n",
       "      <td>2.109842</td>\n",
       "      <td>37.86</td>\n",
       "      <td>-122.22</td>\n",
       "      <td>3.585</td>\n",
       "    </tr>\n",
       "    <tr>\n",
       "      <th>2</th>\n",
       "      <td>7.2574</td>\n",
       "      <td>52.0</td>\n",
       "      <td>8.288136</td>\n",
       "      <td>1.073446</td>\n",
       "      <td>496.0</td>\n",
       "      <td>2.802260</td>\n",
       "      <td>37.85</td>\n",
       "      <td>-122.24</td>\n",
       "      <td>3.521</td>\n",
       "    </tr>\n",
       "    <tr>\n",
       "      <th>3</th>\n",
       "      <td>5.6431</td>\n",
       "      <td>52.0</td>\n",
       "      <td>5.817352</td>\n",
       "      <td>1.073059</td>\n",
       "      <td>558.0</td>\n",
       "      <td>2.547945</td>\n",
       "      <td>37.85</td>\n",
       "      <td>-122.25</td>\n",
       "      <td>3.413</td>\n",
       "    </tr>\n",
       "    <tr>\n",
       "      <th>4</th>\n",
       "      <td>3.8462</td>\n",
       "      <td>52.0</td>\n",
       "      <td>6.281853</td>\n",
       "      <td>1.081081</td>\n",
       "      <td>565.0</td>\n",
       "      <td>2.181467</td>\n",
       "      <td>37.85</td>\n",
       "      <td>-122.25</td>\n",
       "      <td>3.422</td>\n",
       "    </tr>\n",
       "  </tbody>\n",
       "</table>\n",
       "</div>"
      ],
      "text/plain": [
       "   MedInc  HouseAge  AveRooms  AveBedrms  Population  AveOccup  Latitude  \\\n",
       "0  8.3252      41.0  6.984127   1.023810       322.0  2.555556     37.88   \n",
       "1  8.3014      21.0  6.238137   0.971880      2401.0  2.109842     37.86   \n",
       "2  7.2574      52.0  8.288136   1.073446       496.0  2.802260     37.85   \n",
       "3  5.6431      52.0  5.817352   1.073059       558.0  2.547945     37.85   \n",
       "4  3.8462      52.0  6.281853   1.081081       565.0  2.181467     37.85   \n",
       "\n",
       "   Longitude  MedHouseVal  \n",
       "0    -122.23        4.526  \n",
       "1    -122.22        3.585  \n",
       "2    -122.24        3.521  \n",
       "3    -122.25        3.413  \n",
       "4    -122.25        3.422  "
      ]
     },
     "execution_count": 8,
     "metadata": {},
     "output_type": "execute_result"
    }
   ],
   "source": [
    "data.frame.head()"
   ]
  },
  {
   "cell_type": "markdown",
   "id": "1a16b4d5-383e-4a5c-8a1d-860931dd166e",
   "metadata": {
    "tags": []
   },
   "source": [
    "### Define the model and dataset utilities"
   ]
  },
  {
   "cell_type": "code",
   "execution_count": 9,
   "id": "5d02e360-04f9-400d-ae6c-7553ed8cb307",
   "metadata": {},
   "outputs": [],
   "source": [
    "class DNN(nn.Module):\n",
    "    def __init__(self, input_size, hidden_size, output_size):\n",
    "        super().__init__()\n",
    "        self.layers = nn.Sequential(\n",
    "            nn.Linear(input_size, hidden_size),\n",
    "            nn.ReLU(),\n",
    "            nn.Linear(hidden_size, hidden_size),\n",
    "            nn.ReLU(),\n",
    "            nn.Linear(hidden_size, hidden_size),\n",
    "            nn.ReLU(),\n",
    "            nn.Linear(hidden_size, output_size)\n",
    "        )\n",
    "        \n",
    "    def forward(self, x):\n",
    "        x = self.layers(x)\n",
    "        return x.squeeze()"
   ]
  },
  {
   "cell_type": "code",
   "execution_count": 10,
   "id": "e7fcb82d-dac6-4930-8943-cbe08f4b7868",
   "metadata": {},
   "outputs": [],
   "source": [
    "def set_random_seed(seed_value: int, cuda: bool = False):\n",
    "    np.random.seed(seed_value)\n",
    "    torch.manual_seed(seed_value)\n",
    "    random.seed(seed_value)\n",
    "    if cuda:\n",
    "        torch.cuda.manual_seed(seed_value)\n",
    "        torch.cuda.manual_seed_all(seed_value)\n",
    "        torch.backends.cudnn.deterministic = True\n",
    "        torch.backends.cudnn.benchmark = False\n",
    "\n",
    "\n",
    "def make_dataset(X: pd.DataFrame, y: pd.DataFrame):\n",
    "    dataset = TensorDataset(\n",
    "        torch.from_numpy(X.values.astype(np.float32)),\n",
    "        torch.from_numpy(y.values.astype(np.float32))\n",
    "    )\n",
    "    return dataset\n",
    "\n",
    "    \n",
    "def make_dataloader(dataset, batch_size, random_sampler=False):\n",
    "    if random_sampler:\n",
    "        sampler = RandomSampler(dataset)\n",
    "    else:\n",
    "        sampler = None\n",
    "    dataloader = DataLoader(\n",
    "        dataset=dataset,\n",
    "        batch_size=batch_size,\n",
    "        shuffle=False,\n",
    "        sampler=sampler,\n",
    "        num_workers=1,\n",
    "        collate_fn=None,\n",
    "        pin_memory=False,\n",
    "        drop_last=False,\n",
    "        timeout=0,\n",
    "        worker_init_fn=None\n",
    "    )\n",
    "    return dataloader\n",
    "\n",
    "\n",
    "\n",
    "def get_linear_schedule_with_warmup(optimizer, num_warmup_steps, num_training_steps, last_epoch=-1):\n",
    "    \"\"\"\n",
    "    Taken from huggingface/transformers\n",
    "    \"\"\"\n",
    "    def lr_lambda(current_step: int):\n",
    "        if current_step < num_warmup_steps:\n",
    "            return float(current_step) / float(max(1, num_warmup_steps))\n",
    "        return max(\n",
    "            0.0, float(num_training_steps - current_step) / float(max(1, num_training_steps - num_warmup_steps))\n",
    "        )\n",
    "    return LambdaLR(optimizer, lr_lambda, last_epoch)\n",
    "\n",
    "\n",
    "def get_optimizer_and_scheduler(model, learning_rate, total_steps, warmup_ratio, weight_decay):\n",
    "    no_decay = ['bias', 'LayerNorm.weight']\n",
    "    warmup_steps = math.ceil(total_steps * warmup_ratio)\n",
    "    optimizer_grouped_parameters = [\n",
    "        {\n",
    "            'params': [p for n, p in model.named_parameters() if not any(nd in n for nd in no_decay)],\n",
    "            'weight_decay': weight_decay,\n",
    "        },\n",
    "        {\n",
    "            'params': [p for n, p in model.named_parameters() if any(nd in n for nd in no_decay)],\n",
    "            'weight_decay': 0.0,\n",
    "        },\n",
    "    ]\n",
    "    optimizer = AdamW(optimizer_grouped_parameters, lr=learning_rate)\n",
    "    scheduler = get_linear_schedule_with_warmup(optimizer=optimizer, num_warmup_steps=warmup_steps, num_training_steps=total_steps)\n",
    "    return optimizer, scheduler"
   ]
  },
  {
   "cell_type": "markdown",
   "id": "eaddf962-5feb-43b9-9430-443e395d44ab",
   "metadata": {
    "tags": []
   },
   "source": [
    "### Define evaluation utilities"
   ]
  },
  {
   "cell_type": "code",
   "execution_count": 11,
   "id": "0e6714ff-b4cf-44aa-b725-0354ceeaaab3",
   "metadata": {},
   "outputs": [],
   "source": [
    "def get_eval_metrics(model, device, dataloader):\n",
    "    model.eval()\n",
    "    y_true = []\n",
    "    y_pred = []\n",
    "    for (batch_input, batch_target) in dataloader:\n",
    "        batch_input = batch_input.to(device)\n",
    "        _y_true = batch_target.cpu().numpy()\n",
    "        predicted = model(batch_input)\n",
    "        _y_pred = predicted.detach().cpu().numpy()\n",
    "        \n",
    "        y_true.append(_y_true)\n",
    "        y_pred.append(_y_pred)\n",
    "    y_true = np.concatenate(y_true, axis=0)\n",
    "    y_pred = np.concatenate(y_pred, axis=0)\n",
    "    return {\n",
    "        f'mae': mean_absolute_error(y_true=y_true, y_pred=y_pred),\n",
    "        f'mse': mean_squared_error(y_true=y_true, y_pred=y_pred),\n",
    "        f'r2': r2_score(y_true=y_true, y_pred=y_pred),\n",
    "    }\n",
    "\n",
    "       \n",
    "def predict_on_dataframe(model, device, X_df, batch_size=64):\n",
    "    model.eval()\n",
    "    predictions = []\n",
    "    y_pred = []\n",
    "    arr = X_df.values.astype(np.float32)\n",
    "    for i in range(0, len(X_df), batch_size):\n",
    "        batch_input = torch.from_numpy(arr[i:i + batch_size])\n",
    "        batch_input = batch_input.to(device)\n",
    "        predicted = model(batch_input)\n",
    "        _y_pred = predicted.detach().cpu().numpy()\n",
    "        y_pred.append(_y_pred)\n",
    "    y_pred = np.concatenate(y_pred, axis=0)\n",
    "    return y_pred"
   ]
  },
  {
   "cell_type": "markdown",
   "id": "bf1efbfb-24ab-4c73-8cd9-4cb478cb0244",
   "metadata": {
    "tags": []
   },
   "source": [
    "### Finally the training loop"
   ]
  },
  {
   "cell_type": "code",
   "execution_count": 12,
   "id": "f893ff2c-3f01-4c24-8524-2d47e05e369d",
   "metadata": {},
   "outputs": [],
   "source": [
    "def train(\n",
    "    run,\n",
    "    X_train,\n",
    "    y_train,\n",
    "    X_val,\n",
    "    y_val,\n",
    "    device,\n",
    "    hidden_size=100,\n",
    "    learning_rate=0.01,\n",
    "    batch_size=64, \n",
    "    epochs=1,\n",
    "    warmup_ratio=0.1,\n",
    "    weight_decay=0.001,\n",
    "    seed=2022\n",
    "):\n",
    "    train_dataset = make_dataset(X=X_train, y=y_train)\n",
    "    val_dataset = make_dataset(X=X_val, y=y_val)    \n",
    "    # Create train and validation splits\n",
    "    train_dataloader = make_dataloader(train_dataset, batch_size=batch_size, random_sampler=True)\n",
    "    val_dataloader = make_dataloader(val_dataset, batch_size=batch_size, random_sampler=False)\n",
    "    input_size = X_train.shape[1]\n",
    "    output_size = 1\n",
    "    model = DNN(input_size=input_size, hidden_size=hidden_size, output_size=1)\n",
    "    criterion = torch.nn.MSELoss()\n",
    "    total_steps = epochs * len(train_dataloader)\n",
    "    optimizer, scheduler = get_optimizer_and_scheduler(\n",
    "        model=model, \n",
    "        learning_rate=learning_rate, \n",
    "        total_steps=total_steps, \n",
    "        warmup_ratio=warmup_ratio, \n",
    "        weight_decay=weight_decay\n",
    "    )\n",
    "    \n",
    "    run.log_params({\n",
    "        'input_size': input_size,\n",
    "        'hidden_size': hidden_size,\n",
    "        'learning_rate': learning_rate,\n",
    "        'batch_size': batch_size,\n",
    "        'total_steps': total_steps,\n",
    "        'epochs': epochs,\n",
    "        'warmup_ratio': warmup_ratio,\n",
    "        'seed': seed,\n",
    "        'num_train_samples': len(train_dataset),\n",
    "        'num_validation_samples': len(val_dataset),\n",
    "    })\n",
    "    \n",
    "    \n",
    "    model = model.to(device)\n",
    "    global_step = 0\n",
    "\n",
    "    for epoch in range(1, epochs + 1):\n",
    "        model.train()\n",
    "        epoch_start_time = timer()\n",
    "        epoch_loss = torch.tensor(0.0).to(device)\n",
    "        for _step, (batch_input, batch_target) in enumerate(train_dataloader):\n",
    "            batch_input = batch_input.to(device)\n",
    "            batch_target = batch_target.to(device)\n",
    "            batch_predicted = model(batch_input)\n",
    "            loss = criterion(batch_predicted, batch_target)        \n",
    "            loss.backward()\n",
    "            epoch_loss += loss.item()\n",
    "            torch.nn.utils.clip_grad_norm_(model.parameters(), 1.0)\n",
    "            optimizer.step()\n",
    "            scheduler.step()\n",
    "            model.zero_grad()\n",
    "            global_step += 1\n",
    "            step_metrics = {\n",
    "                'step/lr': scheduler.get_last_lr()[0],\n",
    "                'step/train_loss': loss.item(),\n",
    "            }\n",
    "            if global_step % 20 == 0:\n",
    "                print(f'step={global_step}', step_metrics)\n",
    "                run.log_metrics(step_metrics, step=global_step)\n",
    "                \n",
    "        epoch_loss = epoch_loss.item() / len(train_dataloader)\n",
    "        epoch_time = timer() - epoch_start_time\n",
    "\n",
    "        model.eval()\n",
    "        epoch_metrics = {\n",
    "            'epoch/epoch': epoch,\n",
    "            'epoch/lr': scheduler.get_last_lr()[0],\n",
    "            'epoch/train_loss': epoch_loss,\n",
    "            'epoch/time': epoch_time\n",
    "        }\n",
    "        train_metrics = get_eval_metrics(model=model, device=device, dataloader=train_dataloader)\n",
    "        for k, v in train_metrics.items():\n",
    "            epoch_metrics[f'epoch/train_{k}'] = v\n",
    "        val_metrics = get_eval_metrics(model=model, device=device, dataloader=val_dataloader)\n",
    "        for k, v in val_metrics.items():\n",
    "            epoch_metrics[f'epoch/val_{k}'] = v\n",
    "        print(f'epoch={epoch}', epoch_metrics)\n",
    "        run.log_metrics(epoch_metrics, step=global_step)\n",
    "        \n",
    "    return model, optimizer, scheduler"
   ]
  },
  {
   "cell_type": "markdown",
   "id": "48cfd684-6790-41c8-9a46-c2ca1aae7b8a",
   "metadata": {
    "tags": []
   },
   "source": [
    "### Start a MLFoundry Run"
   ]
  },
  {
   "cell_type": "code",
   "execution_count": 13,
   "id": "3196efb8-ff87-4f85-a506-fd40824749fc",
   "metadata": {
    "tags": []
   },
   "outputs": [
    {
     "name": "stdout",
     "output_type": "stream",
     "text": [
      "[mlfoundry] 2022-05-16T16:55:22+0530 INFO project pytorch-ca-housing-example does not exist. Creating pytorch-ca-housing-example.\n",
      "[mlfoundry] 2022-05-16T16:55:32+0530 INFO Run is created with id d9e1b1e572134b088bc7aab94147f06d and name feel-american-case\n",
      "RUN ID: d9e1b1e572134b088bc7aab94147f06d\n",
      "You can track your runs live at https://app.truefoundry.com/mlfoundry\n"
     ]
    }
   ],
   "source": [
    "run = client.create_run(project_name='pytorch-ca-housing-example')\n",
    "print('RUN ID:', run.run_id)\n",
    "print(f'You can track your runs live at {urllib.parse.urljoin(TFY_URL, \"mlfoundry\")}')"
   ]
  },
  {
   "cell_type": "markdown",
   "id": "b828ae0f-3ac1-4c7a-a5f7-ed49a4ea777b",
   "metadata": {
    "tags": []
   },
   "source": [
    "### Set tags for our run"
   ]
  },
  {
   "cell_type": "code",
   "execution_count": 14,
   "id": "5230ef01-3017-4b3b-a1e0-ae2923ab0aff",
   "metadata": {},
   "outputs": [],
   "source": [
    "use_gpu = torch.cuda.is_available()\n",
    "run.set_tags({'framework': 'pytorch', 'use_gpu': use_gpu, 'task': 'regression'})"
   ]
  },
  {
   "cell_type": "markdown",
   "id": "f7731ace-c38f-40dc-99d4-41c482772173",
   "metadata": {
    "tags": []
   },
   "source": [
    "### Split Dataset into Training and Validation"
   ]
  },
  {
   "cell_type": "code",
   "execution_count": 15,
   "id": "0935ab08-9003-4762-81bc-a1a95c4c775a",
   "metadata": {},
   "outputs": [],
   "source": [
    "X = pd.DataFrame(data.data, columns=data.feature_names)\n",
    "y = data.target"
   ]
  },
  {
   "cell_type": "code",
   "execution_count": 16,
   "id": "4ac2f530-3679-4d1e-85ca-cb028ecb1669",
   "metadata": {},
   "outputs": [
    {
     "name": "stdout",
     "output_type": "stream",
     "text": [
      "Feature columns: ['MedInc', 'HouseAge', 'AveRooms', 'AveBedrms', 'Population', 'AveOccup', 'Latitude', 'Longitude']\n",
      "Train samples: 16512\n",
      "Validation samples: 4128\n"
     ]
    }
   ],
   "source": [
    "SEED = 2022\n",
    "set_random_seed(SEED, cuda=use_gpu)\n",
    "\n",
    "X_train, X_val, y_train, y_val = train_test_split(X, y, train_size=0.8, random_state=SEED)\n",
    "feature_columns = X_train.columns.tolist()\n",
    "X_train = X_train[feature_columns]\n",
    "X_val = X_val[feature_columns]\n",
    "\n",
    "print('Feature columns:', feature_columns)\n",
    "print('Train samples:', len(X_train))\n",
    "print('Validation samples:', len(X_val))"
   ]
  },
  {
   "cell_type": "markdown",
   "id": "87af980f-23e2-48a8-875c-a46830b4131c",
   "metadata": {
    "tags": []
   },
   "source": [
    "### Train the Model"
   ]
  },
  {
   "cell_type": "code",
   "execution_count": 17,
   "id": "f5207c18-e1e3-4570-9736-5ecd9a23881e",
   "metadata": {},
   "outputs": [
    {
     "name": "stdout",
     "output_type": "stream",
     "text": [
      "[mlfoundry] 2022-05-16T16:55:34+0530 INFO Parameters logged successfully\n",
      "step=20 {'step/lr': 0.0015384615384615387, 'step/train_loss': 25.87055778503418}\n",
      "[mlfoundry] 2022-05-16T16:55:43+0530 INFO Metrics logged successfully\n",
      "step=40 {'step/lr': 0.0030769230769230774, 'step/train_loss': 175.3499298095703}\n",
      "[mlfoundry] 2022-05-16T16:55:50+0530 INFO Metrics logged successfully\n",
      "step=60 {'step/lr': 0.004615384615384616, 'step/train_loss': 1.731807827949524}\n",
      "[mlfoundry] 2022-05-16T16:55:53+0530 INFO Metrics logged successfully\n",
      "step=80 {'step/lr': 0.004870689655172414, 'step/train_loss': 5.2563982009887695}\n",
      "[mlfoundry] 2022-05-16T16:56:00+0530 INFO Metrics logged successfully\n",
      "step=100 {'step/lr': 0.004698275862068966, 'step/train_loss': 3.978200674057007}\n",
      "[mlfoundry] 2022-05-16T16:56:09+0530 INFO Metrics logged successfully\n",
      "step=120 {'step/lr': 0.004525862068965518, 'step/train_loss': 2.086646556854248}\n",
      "[mlfoundry] 2022-05-16T16:56:15+0530 INFO Metrics logged successfully\n",
      "epoch=1 {'epoch/epoch': 1, 'epoch/lr': 0.0044482758620689655, 'epoch/train_loss': 26.20008175872093, 'epoch/time': 44.199137457999996, 'epoch/train_mae': 1.4187162, 'epoch/train_mse': 2.6463697, 'epoch/train_r2': -0.9740446827748783, 'epoch/val_mae': 1.4219897, 'epoch/val_mse': 2.6140566, 'epoch/val_r2': -1.0199974296679386}\n",
      "[mlfoundry] 2022-05-16T16:56:26+0530 INFO Metrics logged successfully\n",
      "step=140 {'step/lr': 0.0043534482758620695, 'step/train_loss': 1.4608948230743408}\n",
      "[mlfoundry] 2022-05-16T16:56:31+0530 INFO Metrics logged successfully\n",
      "step=160 {'step/lr': 0.0041810344827586205, 'step/train_loss': 1.2237880229949951}\n",
      "[mlfoundry] 2022-05-16T16:56:38+0530 INFO Metrics logged successfully\n",
      "step=180 {'step/lr': 0.0040086206896551724, 'step/train_loss': 1.1575788259506226}\n",
      "[mlfoundry] 2022-05-16T16:56:45+0530 INFO Metrics logged successfully\n",
      "step=200 {'step/lr': 0.0038362068965517243, 'step/train_loss': 1.3344358205795288}\n",
      "[mlfoundry] 2022-05-16T16:56:51+0530 INFO Metrics logged successfully\n",
      "step=220 {'step/lr': 0.003663793103448276, 'step/train_loss': 1.1247916221618652}\n",
      "[mlfoundry] 2022-05-16T16:56:53+0530 INFO Metrics logged successfully\n",
      "step=240 {'step/lr': 0.0034913793103448277, 'step/train_loss': 1.7999725341796875}\n",
      "[mlfoundry] 2022-05-16T16:56:54+0530 INFO Metrics logged successfully\n",
      "epoch=2 {'epoch/epoch': 2, 'epoch/lr': 0.003336206896551724, 'epoch/train_loss': 1.5800123584362888, 'epoch/time': 33.717931875000005, 'epoch/train_mae': 0.94143516, 'epoch/train_mse': 1.587313, 'epoch/train_r2': -0.1840473288612543, 'epoch/val_mae': 0.9180415, 'epoch/val_mse': 1.5132202, 'epoch/val_r2': -0.16933239472009043}\n",
      "[mlfoundry] 2022-05-16T16:57:10+0530 INFO Metrics logged successfully\n",
      "step=260 {'step/lr': 0.0033189655172413796, 'step/train_loss': 1.6973134279251099}\n",
      "[mlfoundry] 2022-05-16T16:57:12+0530 INFO Metrics logged successfully\n",
      "step=280 {'step/lr': 0.003146551724137931, 'step/train_loss': 0.862374484539032}\n",
      "[mlfoundry] 2022-05-16T16:57:19+0530 INFO Metrics logged successfully\n",
      "step=300 {'step/lr': 0.002974137931034483, 'step/train_loss': 0.9679892063140869}\n",
      "[mlfoundry] 2022-05-16T16:57:23+0530 INFO Metrics logged successfully\n",
      "step=320 {'step/lr': 0.0028017241379310344, 'step/train_loss': 1.170093297958374}\n",
      "[mlfoundry] 2022-05-16T16:57:24+0530 INFO Metrics logged successfully\n",
      "step=340 {'step/lr': 0.0026293103448275863, 'step/train_loss': 0.7659969329833984}\n",
      "[mlfoundry] 2022-05-16T16:57:31+0530 INFO Metrics logged successfully\n",
      "step=360 {'step/lr': 0.002456896551724138, 'step/train_loss': 1.3122203350067139}\n",
      "[mlfoundry] 2022-05-16T16:57:37+0530 INFO Metrics logged successfully\n",
      "step=380 {'step/lr': 0.0022844827586206897, 'step/train_loss': 0.99357670545578}\n",
      "[mlfoundry] 2022-05-16T16:57:44+0530 INFO Metrics logged successfully\n",
      "epoch=3 {'epoch/epoch': 3, 'epoch/lr': 0.0022241379310344827, 'epoch/train_loss': 1.097207830857861, 'epoch/time': 36.45065395899999, 'epoch/train_mae': 0.67209053, 'epoch/train_mse': 0.7171717, 'epoch/train_r2': 0.4650297431938817, 'epoch/val_mae': 0.6764965, 'epoch/val_mse': 0.706719, 'epoch/val_r2': 0.4538868829364171}\n",
      "[mlfoundry] 2022-05-16T16:57:54+0530 INFO Metrics logged successfully\n",
      "step=400 {'step/lr': 0.0021120689655172416, 'step/train_loss': 0.7754267454147339}\n",
      "[mlfoundry] 2022-05-16T16:58:00+0530 INFO Metrics logged successfully\n",
      "step=420 {'step/lr': 0.001939655172413793, 'step/train_loss': 0.8650048971176147}\n",
      "[mlfoundry] 2022-05-16T16:58:07+0530 INFO Metrics logged successfully\n",
      "step=440 {'step/lr': 0.0017672413793103448, 'step/train_loss': 0.39870691299438477}\n",
      "[mlfoundry] 2022-05-16T16:58:14+0530 INFO Metrics logged successfully\n",
      "step=460 {'step/lr': 0.0015948275862068967, 'step/train_loss': 0.6990646719932556}\n",
      "[mlfoundry] 2022-05-16T16:58:20+0530 INFO Metrics logged successfully\n",
      "step=480 {'step/lr': 0.0014224137931034483, 'step/train_loss': 0.6043082475662231}\n",
      "[mlfoundry] 2022-05-16T16:58:23+0530 INFO Metrics logged successfully\n",
      "step=500 {'step/lr': 0.00125, 'step/train_loss': 0.7145141363143921}\n",
      "[mlfoundry] 2022-05-16T16:58:24+0530 INFO Metrics logged successfully\n",
      "epoch=4 {'epoch/epoch': 4, 'epoch/lr': 0.0011120689655172414, 'epoch/train_loss': 0.8414320834847384, 'epoch/time': 34.533633958000024, 'epoch/train_mae': 0.704186, 'epoch/train_mse': 0.772694, 'epoch/train_r2': 0.4236132048055191, 'epoch/val_mae': 0.6956787, 'epoch/val_mse': 0.7440047, 'epoch/val_r2': 0.42507457616198874}\n",
      "[mlfoundry] 2022-05-16T16:58:39+0530 INFO Metrics logged successfully\n",
      "step=520 {'step/lr': 0.0010775862068965517, 'step/train_loss': 0.6228542327880859}\n",
      "[mlfoundry] 2022-05-16T16:58:42+0530 INFO Metrics logged successfully\n",
      "step=540 {'step/lr': 0.0009051724137931035, 'step/train_loss': 0.5791735053062439}\n",
      "[mlfoundry] 2022-05-16T16:58:48+0530 INFO Metrics logged successfully\n",
      "step=560 {'step/lr': 0.0007327586206896551, 'step/train_loss': 0.6884193420410156}\n",
      "[mlfoundry] 2022-05-16T16:58:53+0530 INFO Metrics logged successfully\n",
      "step=580 {'step/lr': 0.0005603448275862069, 'step/train_loss': 0.7236852645874023}\n",
      "[mlfoundry] 2022-05-16T16:58:54+0530 INFO Metrics logged successfully\n",
      "step=600 {'step/lr': 0.00038793103448275866, 'step/train_loss': 0.644391655921936}\n",
      "[mlfoundry] 2022-05-16T16:59:01+0530 INFO Metrics logged successfully\n",
      "step=620 {'step/lr': 0.00021551724137931037, 'step/train_loss': 0.6495223641395569}\n",
      "[mlfoundry] 2022-05-16T16:59:08+0530 INFO Metrics logged successfully\n",
      "step=640 {'step/lr': 4.310344827586207e-05, 'step/train_loss': 0.7935978770256042}\n",
      "[mlfoundry] 2022-05-16T16:59:15+0530 INFO Metrics logged successfully\n",
      "epoch=5 {'epoch/epoch': 5, 'epoch/lr': 0.0, 'epoch/train_loss': 0.6318163021590358, 'epoch/time': 37.822739583000015, 'epoch/train_mae': 0.56978345, 'epoch/train_mse': 0.59464186, 'epoch/train_r2': 0.5564302377504982, 'epoch/val_mae': 0.5710463, 'epoch/val_mse': 0.5782643, 'epoch/val_r2': 0.5531495563275334}\n",
      "[mlfoundry] 2022-05-16T16:59:26+0530 INFO Metrics logged successfully\n"
     ]
    }
   ],
   "source": [
    "EPOCHS = 5\n",
    "device = torch.device('cuda') if use_gpu else torch.device('cpu')\n",
    "model, optimizer, scheduler = train(\n",
    "    run=run,\n",
    "    X_train=X_train,\n",
    "    y_train=y_train,\n",
    "    X_val=X_val,\n",
    "    y_val=y_val,\n",
    "    device=device,\n",
    "    hidden_size=128,\n",
    "    learning_rate=0.005,\n",
    "    batch_size=128, \n",
    "    epochs=EPOCHS,\n",
    "    warmup_ratio=0.1,\n",
    "    weight_decay=0.001,\n",
    "    seed=SEED,\n",
    ")"
   ]
  },
  {
   "cell_type": "markdown",
   "id": "f499894f-7458-4041-be4b-f3c7dd2066c3",
   "metadata": {
    "tags": []
   },
   "source": [
    "### Save and Log model, optimizer and feature column names"
   ]
  },
  {
   "cell_type": "code",
   "execution_count": 18,
   "id": "783cbc97-73b1-4786-a830-f8e304dba9cd",
   "metadata": {},
   "outputs": [],
   "source": [
    "fname = f'epochs-{EPOCHS}'\n",
    "json.dump(feature_columns, open(f'{fname}.features.json', 'w'))\n",
    "torch.save(model, f'{fname}.model.pth')\n",
    "torch.save(optimizer, f'{fname}.optim.pth')"
   ]
  },
  {
   "cell_type": "code",
   "execution_count": 19,
   "id": "40248027-1735-4f13-9efb-317c5aa7175f",
   "metadata": {},
   "outputs": [
    {
     "name": "stdout",
     "output_type": "stream",
     "text": [
      "[mlfoundry] 2022-05-16T16:59:54+0530 INFO Model logged successfully\n"
     ]
    }
   ],
   "source": [
    "run.log_model(model, framework=mlf.ModelFramework.PYTORCH)\n",
    "run.log_artifact(f'{fname}.optim.pth')\n",
    "run.log_artifact(f'{fname}.features.json')"
   ]
  },
  {
   "cell_type": "markdown",
   "id": "d2209ffb-8fef-47fe-a16a-202b4dc6657f",
   "metadata": {
    "tags": []
   },
   "source": [
    "### Compute predictions and log train dataset stats"
   ]
  },
  {
   "cell_type": "code",
   "execution_count": 20,
   "id": "02fabd79-2922-4b9e-8203-887de6164b5f",
   "metadata": {},
   "outputs": [],
   "source": [
    "train_df = X_train.copy()\n",
    "train_df['targets'] = y_train.values\n",
    "train_df['predictions'] = predict_on_dataframe(model, device, X_train)"
   ]
  },
  {
   "cell_type": "code",
   "execution_count": 21,
   "id": "d0f9bcd1-e226-42fe-888d-5ba48a9471b6",
   "metadata": {},
   "outputs": [
    {
     "data": {
      "text/html": [
       "<div>\n",
       "<style scoped>\n",
       "    .dataframe tbody tr th:only-of-type {\n",
       "        vertical-align: middle;\n",
       "    }\n",
       "\n",
       "    .dataframe tbody tr th {\n",
       "        vertical-align: top;\n",
       "    }\n",
       "\n",
       "    .dataframe thead th {\n",
       "        text-align: right;\n",
       "    }\n",
       "</style>\n",
       "<table border=\"1\" class=\"dataframe\">\n",
       "  <thead>\n",
       "    <tr style=\"text-align: right;\">\n",
       "      <th></th>\n",
       "      <th>MedInc</th>\n",
       "      <th>HouseAge</th>\n",
       "      <th>AveRooms</th>\n",
       "      <th>AveBedrms</th>\n",
       "      <th>Population</th>\n",
       "      <th>AveOccup</th>\n",
       "      <th>Latitude</th>\n",
       "      <th>Longitude</th>\n",
       "      <th>targets</th>\n",
       "      <th>predictions</th>\n",
       "    </tr>\n",
       "  </thead>\n",
       "  <tbody>\n",
       "    <tr>\n",
       "      <th>16289</th>\n",
       "      <td>1.7694</td>\n",
       "      <td>28.0</td>\n",
       "      <td>4.594444</td>\n",
       "      <td>1.063889</td>\n",
       "      <td>3201.0</td>\n",
       "      <td>4.445833</td>\n",
       "      <td>37.92</td>\n",
       "      <td>-121.30</td>\n",
       "      <td>0.739</td>\n",
       "      <td>1.191414</td>\n",
       "    </tr>\n",
       "    <tr>\n",
       "      <th>3084</th>\n",
       "      <td>2.0694</td>\n",
       "      <td>18.0</td>\n",
       "      <td>6.889855</td>\n",
       "      <td>1.557971</td>\n",
       "      <td>1366.0</td>\n",
       "      <td>1.979710</td>\n",
       "      <td>35.72</td>\n",
       "      <td>-118.47</td>\n",
       "      <td>0.812</td>\n",
       "      <td>1.270548</td>\n",
       "    </tr>\n",
       "    <tr>\n",
       "      <th>53</th>\n",
       "      <td>1.2475</td>\n",
       "      <td>52.0</td>\n",
       "      <td>4.075000</td>\n",
       "      <td>1.140000</td>\n",
       "      <td>1162.0</td>\n",
       "      <td>2.905000</td>\n",
       "      <td>37.82</td>\n",
       "      <td>-122.27</td>\n",
       "      <td>1.042</td>\n",
       "      <td>1.296511</td>\n",
       "    </tr>\n",
       "    <tr>\n",
       "      <th>15259</th>\n",
       "      <td>3.9826</td>\n",
       "      <td>25.0</td>\n",
       "      <td>5.745981</td>\n",
       "      <td>1.000000</td>\n",
       "      <td>1108.0</td>\n",
       "      <td>3.562701</td>\n",
       "      <td>33.03</td>\n",
       "      <td>-117.27</td>\n",
       "      <td>2.158</td>\n",
       "      <td>1.985452</td>\n",
       "    </tr>\n",
       "    <tr>\n",
       "      <th>20007</th>\n",
       "      <td>1.7106</td>\n",
       "      <td>24.0</td>\n",
       "      <td>5.718987</td>\n",
       "      <td>1.032911</td>\n",
       "      <td>1169.0</td>\n",
       "      <td>2.959494</td>\n",
       "      <td>36.13</td>\n",
       "      <td>-119.03</td>\n",
       "      <td>0.955</td>\n",
       "      <td>1.024684</td>\n",
       "    </tr>\n",
       "  </tbody>\n",
       "</table>\n",
       "</div>"
      ],
      "text/plain": [
       "       MedInc  HouseAge  AveRooms  AveBedrms  Population  AveOccup  Latitude  \\\n",
       "16289  1.7694      28.0  4.594444   1.063889      3201.0  4.445833     37.92   \n",
       "3084   2.0694      18.0  6.889855   1.557971      1366.0  1.979710     35.72   \n",
       "53     1.2475      52.0  4.075000   1.140000      1162.0  2.905000     37.82   \n",
       "15259  3.9826      25.0  5.745981   1.000000      1108.0  3.562701     33.03   \n",
       "20007  1.7106      24.0  5.718987   1.032911      1169.0  2.959494     36.13   \n",
       "\n",
       "       Longitude  targets  predictions  \n",
       "16289    -121.30    0.739     1.191414  \n",
       "3084     -118.47    0.812     1.270548  \n",
       "53       -122.27    1.042     1.296511  \n",
       "15259    -117.27    2.158     1.985452  \n",
       "20007    -119.03    0.955     1.024684  "
      ]
     },
     "execution_count": 21,
     "metadata": {},
     "output_type": "execute_result"
    }
   ],
   "source": [
    "train_df.head()"
   ]
  },
  {
   "cell_type": "markdown",
   "id": "209a5294-e5f2-4a6d-b6db-ec0db7bf5ac8",
   "metadata": {
    "tags": []
   },
   "source": [
    "### Log the train dataset and stats"
   ]
  },
  {
   "cell_type": "code",
   "execution_count": 22,
   "id": "01eac6f9-9416-4a31-a105-5ba707d98bb0",
   "metadata": {},
   "outputs": [],
   "source": [
    "run.log_dataset(\n",
    "    dataset_name='train',\n",
    "    features=X_train,\n",
    "    predictions=train_df['predictions'],\n",
    "    actuals=train_df['targets'],\n",
    ")"
   ]
  },
  {
   "cell_type": "code",
   "execution_count": 23,
   "id": "4ae266d9-d77a-4bda-95a2-7fb754e07f3e",
   "metadata": {},
   "outputs": [
    {
     "name": "stdout",
     "output_type": "stream",
     "text": [
      "WARN: Missing config\n",
      "[mlfoundry] 2022-05-16T17:00:58+0530 INFO Metrics logged successfully\n",
      "[mlfoundry] 2022-05-16T17:01:04+0530 INFO Dataset stats have been successfully computed and logged\n"
     ]
    }
   ],
   "source": [
    "run.log_dataset_stats(\n",
    "    train_df, \n",
    "    data_slice='train',\n",
    "    data_schema=mlf.Schema(\n",
    "        feature_column_names=feature_columns,\n",
    "        prediction_column_name='predictions',\n",
    "        actual_column_name='targets'\n",
    "    ),\n",
    "    model_type='regression',\n",
    ")"
   ]
  },
  {
   "cell_type": "markdown",
   "id": "8198725b-0646-4594-b231-fc5432eb1bd6",
   "metadata": {
    "tags": []
   },
   "source": [
    "### Compute predictions"
   ]
  },
  {
   "cell_type": "code",
   "execution_count": 24,
   "id": "58da899f-cb19-4d70-a657-0703c31063d6",
   "metadata": {},
   "outputs": [],
   "source": [
    "val_df = X_val.copy()\n",
    "val_df['targets'] = y_val.values\n",
    "val_df['predictions'] = predict_on_dataframe(model, device, X_val)"
   ]
  },
  {
   "cell_type": "code",
   "execution_count": 25,
   "id": "34932b74-11b2-4f0e-b795-2110b19c591e",
   "metadata": {},
   "outputs": [
    {
     "data": {
      "text/html": [
       "<div>\n",
       "<style scoped>\n",
       "    .dataframe tbody tr th:only-of-type {\n",
       "        vertical-align: middle;\n",
       "    }\n",
       "\n",
       "    .dataframe tbody tr th {\n",
       "        vertical-align: top;\n",
       "    }\n",
       "\n",
       "    .dataframe thead th {\n",
       "        text-align: right;\n",
       "    }\n",
       "</style>\n",
       "<table border=\"1\" class=\"dataframe\">\n",
       "  <thead>\n",
       "    <tr style=\"text-align: right;\">\n",
       "      <th></th>\n",
       "      <th>MedInc</th>\n",
       "      <th>HouseAge</th>\n",
       "      <th>AveRooms</th>\n",
       "      <th>AveBedrms</th>\n",
       "      <th>Population</th>\n",
       "      <th>AveOccup</th>\n",
       "      <th>Latitude</th>\n",
       "      <th>Longitude</th>\n",
       "      <th>targets</th>\n",
       "      <th>predictions</th>\n",
       "    </tr>\n",
       "  </thead>\n",
       "  <tbody>\n",
       "    <tr>\n",
       "      <th>11020</th>\n",
       "      <td>10.1570</td>\n",
       "      <td>8.0</td>\n",
       "      <td>9.180451</td>\n",
       "      <td>1.107769</td>\n",
       "      <td>2569.0</td>\n",
       "      <td>3.219298</td>\n",
       "      <td>33.83</td>\n",
       "      <td>-117.81</td>\n",
       "      <td>4.771</td>\n",
       "      <td>4.586352</td>\n",
       "    </tr>\n",
       "    <tr>\n",
       "      <th>5919</th>\n",
       "      <td>2.5147</td>\n",
       "      <td>38.0</td>\n",
       "      <td>4.000000</td>\n",
       "      <td>1.055363</td>\n",
       "      <td>1359.0</td>\n",
       "      <td>4.702422</td>\n",
       "      <td>34.28</td>\n",
       "      <td>-118.44</td>\n",
       "      <td>1.371</td>\n",
       "      <td>1.287483</td>\n",
       "    </tr>\n",
       "    <tr>\n",
       "      <th>6050</th>\n",
       "      <td>3.4609</td>\n",
       "      <td>27.0</td>\n",
       "      <td>4.805040</td>\n",
       "      <td>1.072944</td>\n",
       "      <td>3712.0</td>\n",
       "      <td>4.923077</td>\n",
       "      <td>34.03</td>\n",
       "      <td>-117.74</td>\n",
       "      <td>1.233</td>\n",
       "      <td>1.508507</td>\n",
       "    </tr>\n",
       "    <tr>\n",
       "      <th>9627</th>\n",
       "      <td>3.3929</td>\n",
       "      <td>31.0</td>\n",
       "      <td>6.951705</td>\n",
       "      <td>1.321023</td>\n",
       "      <td>1313.0</td>\n",
       "      <td>3.730114</td>\n",
       "      <td>37.21</td>\n",
       "      <td>-120.24</td>\n",
       "      <td>0.938</td>\n",
       "      <td>1.744403</td>\n",
       "    </tr>\n",
       "    <tr>\n",
       "      <th>6554</th>\n",
       "      <td>5.7051</td>\n",
       "      <td>35.0</td>\n",
       "      <td>5.727273</td>\n",
       "      <td>0.997326</td>\n",
       "      <td>986.0</td>\n",
       "      <td>2.636364</td>\n",
       "      <td>34.17</td>\n",
       "      <td>-118.07</td>\n",
       "      <td>3.260</td>\n",
       "      <td>3.072451</td>\n",
       "    </tr>\n",
       "  </tbody>\n",
       "</table>\n",
       "</div>"
      ],
      "text/plain": [
       "        MedInc  HouseAge  AveRooms  AveBedrms  Population  AveOccup  Latitude  \\\n",
       "11020  10.1570       8.0  9.180451   1.107769      2569.0  3.219298     33.83   \n",
       "5919    2.5147      38.0  4.000000   1.055363      1359.0  4.702422     34.28   \n",
       "6050    3.4609      27.0  4.805040   1.072944      3712.0  4.923077     34.03   \n",
       "9627    3.3929      31.0  6.951705   1.321023      1313.0  3.730114     37.21   \n",
       "6554    5.7051      35.0  5.727273   0.997326       986.0  2.636364     34.17   \n",
       "\n",
       "       Longitude  targets  predictions  \n",
       "11020    -117.81    4.771     4.586352  \n",
       "5919     -118.44    1.371     1.287483  \n",
       "6050     -117.74    1.233     1.508507  \n",
       "9627     -120.24    0.938     1.744403  \n",
       "6554     -118.07    3.260     3.072451  "
      ]
     },
     "execution_count": 25,
     "metadata": {},
     "output_type": "execute_result"
    }
   ],
   "source": [
    "val_df.head()"
   ]
  },
  {
   "cell_type": "markdown",
   "id": "b9df438a-9989-4dd5-9f2b-5737c087269c",
   "metadata": {
    "tags": []
   },
   "source": [
    "### Log the validation dataset and stats"
   ]
  },
  {
   "cell_type": "code",
   "execution_count": 29,
   "id": "70e3f5dd-5484-4bb9-94cb-9397830d7413",
   "metadata": {},
   "outputs": [],
   "source": [
    "run.log_dataset(\n",
    "    dataset_name='validation',\n",
    "    features=X_val,\n",
    "    predictions=val_df['predictions'],\n",
    "    actuals=val_df['targets'],\n",
    ")"
   ]
  },
  {
   "cell_type": "code",
   "execution_count": 27,
   "id": "733c9f39-288f-44bb-8bce-e4280938786d",
   "metadata": {},
   "outputs": [
    {
     "name": "stdout",
     "output_type": "stream",
     "text": [
      "[mlfoundry] 2022-05-16T17:01:40+0530 INFO Metrics logged successfully\n",
      "[mlfoundry] 2022-05-16T17:01:45+0530 INFO Dataset stats have been successfully computed and logged\n"
     ]
    }
   ],
   "source": [
    "run.log_dataset_stats(\n",
    "    val_df, \n",
    "    data_slice='validate',  # or mlf.DataSlice.VALIDATE\n",
    "    data_schema=mlf.Schema(\n",
    "        feature_column_names=feature_columns,\n",
    "        prediction_column_name='predictions',\n",
    "        actual_column_name='targets'\n",
    "    ),\n",
    "    model_type='regression',\n",
    ")"
   ]
  },
  {
   "cell_type": "code",
   "execution_count": 28,
   "id": "7e6596f1-47be-4e62-8bb5-f83a326ba29f",
   "metadata": {},
   "outputs": [
    {
     "name": "stdout",
     "output_type": "stream",
     "text": [
      "[mlfoundry] 2022-05-16T17:01:46+0530 INFO Shutting down background jobs and syncing data for run with id 'd9e1b1e572134b088bc7aab94147f06d', please don't kill this process...\n"
     ]
    }
   ],
   "source": [
    "run.end()"
   ]
  }
 ],
 "metadata": {
  "kernelspec": {
   "display_name": "Python 3 (ipykernel)",
   "language": "python",
   "name": "python3"
  },
  "language_info": {
   "codemirror_mode": {
    "name": "ipython",
    "version": 3
   },
   "file_extension": ".py",
   "mimetype": "text/x-python",
   "name": "python",
   "nbconvert_exporter": "python",
   "pygments_lexer": "ipython3",
   "version": "3.9.2"
  }
 },
 "nbformat": 4,
 "nbformat_minor": 5
}
