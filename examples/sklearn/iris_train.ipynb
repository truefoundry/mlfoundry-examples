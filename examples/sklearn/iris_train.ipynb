{
 "cells": [
  {
   "cell_type": "code",
   "execution_count": 13,
   "metadata": {},
   "outputs": [],
   "source": [
    "import pickle\n",
    "import pandas as pd\n",
    "import numpy as np\n",
    "import mlfoundry as mlf\n",
    "from sklearn import datasets\n",
    "from sklearn import svm\n",
    "from sklearn.model_selection import train_test_split"
   ]
  },
  {
   "cell_type": "markdown",
   "metadata": {},
   "source": [
    "# Loading Iris Dataset"
   ]
  },
  {
   "cell_type": "code",
   "execution_count": 14,
   "metadata": {},
   "outputs": [],
   "source": [
    "iris = datasets.load_iris()\n",
    "iris_frame = pd.DataFrame(iris.data, columns = iris.feature_names)"
   ]
  },
  {
   "cell_type": "markdown",
   "metadata": {},
   "source": [
    "# Using MlFoundry APIs"
   ]
  },
  {
   "cell_type": "markdown",
   "metadata": {},
   "source": [
    "## Creating run"
   ]
  },
  {
   "cell_type": "code",
   "execution_count": 15,
   "metadata": {},
   "outputs": [
    {
     "name": "stderr",
     "output_type": "stream",
     "text": [
      "2022-04-06 00:31:54.784 INFO    mlfoundry.mlfoundry_api: Run is created with id 220d6f4479dc4d5ba8b783fc07e30480 and name run_2022-04-05_19-01-54_utc\n"
     ]
    }
   ],
   "source": [
    "mlf_api = mlf.get_client() # to save locally\n",
    "mlf_run = mlf_api.create_run(project_name='iris-project')"
   ]
  },
  {
   "cell_type": "markdown",
   "metadata": {},
   "source": [
    "## Training the model"
   ]
  },
  {
   "cell_type": "code",
   "execution_count": 16,
   "metadata": {},
   "outputs": [],
   "source": [
    "iris = datasets.load_iris()\n",
    "iris_frame = pd.DataFrame(iris.data, columns = iris.feature_names)"
   ]
  },
  {
   "cell_type": "code",
   "execution_count": 17,
   "metadata": {},
   "outputs": [
    {
     "data": {
      "text/plain": [
       "SVC(probability=True)"
      ]
     },
     "execution_count": 17,
     "metadata": {},
     "output_type": "execute_result"
    }
   ],
   "source": [
    "X, y = iris.data, iris.target\n",
    "X_train, X_test, y_train, y_test = train_test_split(X, y, test_size=0.2)\n",
    "\n",
    "# Model Training\n",
    "clf = svm.SVC(gamma='scale', kernel='rbf', probability=True)\n",
    "clf.fit(X, y)"
   ]
  },
  {
   "cell_type": "markdown",
   "metadata": {},
   "source": [
    "## Logging the dataset"
   ]
  },
  {
   "cell_type": "code",
   "execution_count": 18,
   "metadata": {},
   "outputs": [],
   "source": [
    "train_data = np.hstack([X_train, np.reshape(y_train, (-1,1))])\n",
    "train_data = pd.DataFrame(train_data, columns=iris.feature_names + [\"target\"])\n",
    "\n",
    "test_data = np.hstack([X_test, np.reshape(y_test, (-1,1))])\n",
    "test_data = pd.DataFrame(test_data, columns=iris.feature_names + [\"target\"])"
   ]
  },
  {
   "cell_type": "code",
   "execution_count": 19,
   "metadata": {},
   "outputs": [],
   "source": [
    "mlf_run.log_dataset(train_data, data_slice=\"train\")\n",
    "mlf_run.log_dataset(test_data, data_slice=\"test\")"
   ]
  },
  {
   "cell_type": "markdown",
   "metadata": {},
   "source": [
    "## Logging Parameters"
   ]
  },
  {
   "cell_type": "code",
   "execution_count": 20,
   "metadata": {},
   "outputs": [
    {
     "name": "stderr",
     "output_type": "stream",
     "text": [
      "2022-04-06 00:33:20.289 INFO    mlfoundry.mlfoundry_run: Parameters logged successfully\n"
     ]
    }
   ],
   "source": [
    "params = {'classes': clf.classes_, 'features': clf.n_features_in_}\n",
    "mlf_run.log_params(params)"
   ]
  },
  {
   "cell_type": "markdown",
   "metadata": {},
   "source": [
    "## Logging the model"
   ]
  },
  {
   "cell_type": "code",
   "execution_count": 21,
   "metadata": {},
   "outputs": [
    {
     "name": "stderr",
     "output_type": "stream",
     "text": [
      "2022-04-06 00:33:23.770 INFO    mlfoundry.mlfoundry_run: Model logged Successfully\n"
     ]
    }
   ],
   "source": [
    "mlf_run.log_model(clf, \"sklearn\")"
   ]
  },
  {
   "cell_type": "markdown",
   "metadata": {},
   "source": [
    "## Computing predictions"
   ]
  },
  {
   "cell_type": "code",
   "execution_count": 22,
   "metadata": {},
   "outputs": [],
   "source": [
    "y_hat_train = clf.predict(X_train)\n",
    "y_hat_test = clf.predict(X_test)"
   ]
  },
  {
   "cell_type": "markdown",
   "metadata": {},
   "source": [
    "## Logging the metrics"
   ]
  },
  {
   "cell_type": "code",
   "execution_count": 23,
   "metadata": {},
   "outputs": [
    {
     "name": "stderr",
     "output_type": "stream",
     "text": [
      "2022-04-06 00:33:40.337 INFO    mlfoundry.mlfoundry_run: Metrics logged successfully\n"
     ]
    }
   ],
   "source": [
    "from sklearn.metrics import accuracy_score, f1_score\n",
    "metrics_dict = {}\n",
    "\n",
    "metrics_dict['accuracy_score'] = accuracy_score(y_test, y_hat_test)\n",
    "metrics_dict['f1_score'] = f1_score(y_test, y_hat_test, average='micro')\n",
    "\n",
    "mlf_run.log_metrics(metrics_dict)\n"
   ]
  },
  {
   "cell_type": "markdown",
   "metadata": {},
   "source": [
    "## Logging the Dataset Stats"
   ]
  },
  {
   "cell_type": "code",
   "execution_count": 24,
   "metadata": {},
   "outputs": [
    {
     "name": "stderr",
     "output_type": "stream",
     "text": [
      "Passing a set as an indexer is deprecated and will raise in a future version. Use a list instead.\n",
      "Passing a set as an indexer is deprecated and will raise in a future version. Use a list instead.\n",
      "2022-04-06 00:34:13.928 INFO    mlfoundry.mlfoundry_run: Metrics logged successfully\n",
      "2022-04-06 00:34:13.929 INFO    mlfoundry.mlfoundry_run: Dataset stats have been successfully computed and logged\n",
      "2022-04-06 00:34:13.931 WARNING shap: Using 120 background data samples could cause slower run times. Consider using shap.sample(data, K) or shap.kmeans(data, K) to summarize the background as K samples.\n"
     ]
    },
    {
     "data": {
      "application/vnd.jupyter.widget-view+json": {
       "model_id": "7817e40754e941f194a0296328fc5a8b",
       "version_major": 2,
       "version_minor": 0
      },
      "text/plain": [
       "  0%|          | 0/30 [00:00<?, ?it/s]"
      ]
     },
     "metadata": {},
     "output_type": "display_data"
    },
    {
     "name": "stderr",
     "output_type": "stream",
     "text": [
      "2022-04-06 00:34:13.968 INFO    shap: num_full_subsets = 2\n",
      "2022-04-06 00:34:13.982 INFO    shap: phi = [-0.01231872 -0.0104041  -0.26925947 -0.03009148]\n",
      "2022-04-06 00:34:13.983 INFO    shap: phi = [ 0.01450993 -0.00158278 -0.09976835 -0.19431223]\n",
      "2022-04-06 00:34:13.984 INFO    shap: phi = [-0.00219121  0.01198688  0.36902782  0.2244037 ]\n",
      "2022-04-06 00:34:13.998 INFO    shap: num_full_subsets = 2\n",
      "2022-04-06 00:34:14.011 INFO    shap: phi = [-0.00396011 -0.02022687 -0.28188845 -0.01824229]\n",
      "2022-04-06 00:34:14.012 INFO    shap: phi = [-0.00158819  0.00382546  0.57313894  0.07792017]\n",
      "2022-04-06 00:34:14.013 INFO    shap: phi = [ 0.00554829  0.01640141 -0.29125049 -0.05967788]\n",
      "2022-04-06 00:34:14.028 INFO    shap: num_full_subsets = 2\n",
      "2022-04-06 00:34:14.041 INFO    shap: phi = [-0.01483173  0.00053047 -0.25977432 -0.04887407]\n",
      "2022-04-06 00:34:14.043 INFO    shap: phi = [ 0.01908547  0.00979438 -0.14587018 -0.20835986]\n",
      "2022-04-06 00:34:14.044 INFO    shap: phi = [-0.00425374 -0.01032485  0.40564451  0.25723393]\n",
      "2022-04-06 00:34:14.060 INFO    shap: num_full_subsets = 2\n",
      "2022-04-06 00:34:14.074 INFO    shap: phi = [0.02093472 0.01804258 0.54782523 0.05444914]\n",
      "2022-04-06 00:34:14.075 INFO    shap: phi = [-0.02336524 -0.01021716 -0.3552584   0.08125042]\n",
      "2022-04-06 00:34:14.076 INFO    shap: phi = [ 0.00243053 -0.00782542 -0.19256683 -0.13569956]\n",
      "2022-04-06 00:34:14.088 INFO    shap: num_full_subsets = 2\n",
      "2022-04-06 00:34:14.098 INFO    shap: phi = [-0.00744917 -0.02377869 -0.26068522 -0.01427023]\n",
      "2022-04-06 00:34:14.099 INFO    shap: phi = [0.00481578 0.02097162 0.52686121 0.09022751]\n",
      "2022-04-06 00:34:14.100 INFO    shap: phi = [ 0.00263339  0.00280707 -0.26617599 -0.07595728]\n",
      "2022-04-06 00:34:14.111 INFO    shap: num_full_subsets = 2\n",
      "2022-04-06 00:34:14.122 INFO    shap: phi = [-0.00523352 -0.00874316 -0.29302834 -0.01590284]\n",
      "2022-04-06 00:34:14.123 INFO    shap: phi = [0.00233033 0.00665843 0.56781941 0.07786326]\n",
      "2022-04-06 00:34:14.124 INFO    shap: phi = [ 0.00290319  0.00208473 -0.27479107 -0.06196043]\n",
      "2022-04-06 00:34:14.136 INFO    shap: num_full_subsets = 2\n",
      "2022-04-06 00:34:14.146 INFO    shap: phi = [-0.01748117 -0.00330602 -0.25730365 -0.04222495]\n",
      "2022-04-06 00:34:14.146 INFO    shap: phi = [ 0.02241973  0.01111441 -0.0185413  -0.30109198]\n",
      "2022-04-06 00:34:14.147 INFO    shap: phi = [-0.00493856 -0.00780838  0.27584494  0.34331693]\n",
      "2022-04-06 00:34:14.161 INFO    shap: num_full_subsets = 2\n",
      "2022-04-06 00:34:14.179 INFO    shap: phi = [0.01812361 0.02378642 0.50737534 0.07301283]\n",
      "2022-04-06 00:34:14.181 INFO    shap: phi = [-0.01900695 -0.01612343 -0.31942418  0.06326316]\n",
      "2022-04-06 00:34:14.182 INFO    shap: phi = [ 0.00088334 -0.00766299 -0.18795115 -0.13627599]\n",
      "2022-04-06 00:34:14.193 INFO    shap: num_full_subsets = 2\n",
      "2022-04-06 00:34:14.204 INFO    shap: phi = [-0.00435864 -0.00469087 -0.29667264 -0.01536508]\n",
      "2022-04-06 00:34:14.205 INFO    shap: phi = [4.86769036e-04 7.93906384e-03 5.68477298e-01 7.65671456e-02]\n",
      "2022-04-06 00:34:14.206 INFO    shap: phi = [ 0.00387187 -0.00324819 -0.27180466 -0.06120206]\n",
      "2022-04-06 00:34:14.220 INFO    shap: num_full_subsets = 2\n",
      "2022-04-06 00:34:14.232 INFO    shap: phi = [-0.00621425 -0.00998717 -0.27716171 -0.02812408]\n",
      "2022-04-06 00:34:14.233 INFO    shap: phi = [ 0.00129516 -0.00804465 -0.00979023 -0.21061446]\n",
      "2022-04-06 00:34:14.234 INFO    shap: phi = [0.00491909 0.01803182 0.28695194 0.23873854]\n",
      "2022-04-06 00:34:14.245 INFO    shap: num_full_subsets = 2\n",
      "2022-04-06 00:34:14.257 INFO    shap: phi = [-0.00488777 -0.00420956 -0.30009231 -0.01266082]\n",
      "2022-04-06 00:34:14.258 INFO    shap: phi = [0.00181375 0.00723747 0.55201822 0.09342184]\n",
      "2022-04-06 00:34:14.259 INFO    shap: phi = [ 0.00307403 -0.00302791 -0.25192591 -0.08076102]\n",
      "2022-04-06 00:34:14.273 INFO    shap: num_full_subsets = 2\n",
      "2022-04-06 00:34:14.284 INFO    shap: phi = [-0.01989509  0.00619661 -0.2584534  -0.04872074]\n",
      "2022-04-06 00:34:14.285 INFO    shap: phi = [ 0.02379304  0.01013569 -0.21586173 -0.14416569]\n",
      "2022-04-06 00:34:14.286 INFO    shap: phi = [-0.00389795 -0.01633229  0.47431513  0.19288643]\n",
      "2022-04-06 00:34:14.299 INFO    shap: num_full_subsets = 2\n",
      "2022-04-06 00:34:14.311 INFO    shap: phi = [0.01962611 0.02161349 0.56263195 0.04526322]\n",
      "2022-04-06 00:34:14.312 INFO    shap: phi = [-0.0226467  -0.0110667  -0.37005834  0.08935562]\n",
      "2022-04-06 00:34:14.313 INFO    shap: phi = [ 0.0030206  -0.01054679 -0.19257361 -0.13461884]\n",
      "2022-04-06 00:34:14.326 INFO    shap: num_full_subsets = 2\n",
      "2022-04-06 00:34:14.336 INFO    shap: phi = [ 0.03043991 -0.00176335  0.55793432  0.05193868]\n",
      "2022-04-06 00:34:14.337 INFO    shap: phi = [-0.03987748  0.00161777 -0.35225144  0.08479143]\n",
      "2022-04-06 00:34:14.338 INFO    shap: phi = [ 9.43757127e-03  1.45582344e-04 -2.05682883e-01 -1.36730107e-01]\n",
      "2022-04-06 00:34:14.358 INFO    shap: num_full_subsets = 2\n",
      "2022-04-06 00:34:14.369 INFO    shap: phi = [-0.00418692 -0.0208895  -0.28092466 -0.01448872]\n",
      "2022-04-06 00:34:14.370 INFO    shap: phi = [-0.00070497  0.01116809  0.5599435   0.08789433]\n",
      "2022-04-06 00:34:14.371 INFO    shap: phi = [ 0.00489189  0.00972142 -0.27901884 -0.07340561]\n",
      "2022-04-06 00:34:14.384 INFO    shap: num_full_subsets = 2\n",
      "2022-04-06 00:34:14.395 INFO    shap: phi = [-0.00691384 -0.00478503 -0.29158336 -0.01973707]\n",
      "2022-04-06 00:34:14.396 INFO    shap: phi = [0.00710858 0.00838742 0.56972303 0.05660142]\n",
      "2022-04-06 00:34:14.398 INFO    shap: phi = [-1.94734913e-04 -3.60239024e-03 -2.78139676e-01 -3.68643437e-02]\n",
      "2022-04-06 00:34:14.409 INFO    shap: num_full_subsets = 2\n",
      "2022-04-06 00:34:14.419 INFO    shap: phi = [-0.01744302 -0.00305907 -0.26530517 -0.03604791]\n",
      "2022-04-06 00:34:14.420 INFO    shap: phi = [ 0.0222617   0.00977985 -0.11818519 -0.21855894]\n",
      "2022-04-06 00:34:14.421 INFO    shap: phi = [-0.00481868 -0.00672078  0.38349037  0.25460685]\n",
      "2022-04-06 00:34:14.434 INFO    shap: num_full_subsets = 2\n",
      "2022-04-06 00:34:14.445 INFO    shap: phi = [0.0209509  0.03419992 0.53227771 0.05589738]\n",
      "2022-04-06 00:34:14.447 INFO    shap: phi = [-0.02302546 -0.02132852 -0.34425847  0.07861429]\n",
      "2022-04-06 00:34:14.448 INFO    shap: phi = [ 0.00207455 -0.0128714  -0.18801925 -0.13451167]\n",
      "2022-04-06 00:34:14.460 INFO    shap: num_full_subsets = 2\n",
      "2022-04-06 00:34:14.471 INFO    shap: phi = [0.01729671 0.04551069 0.51052431 0.05649447]\n",
      "2022-04-06 00:34:14.472 INFO    shap: phi = [-0.01798401 -0.03081493 -0.31830408  0.06785958]\n",
      "2022-04-06 00:34:14.473 INFO    shap: phi = [ 0.0006873  -0.01469576 -0.19222023 -0.12435405]\n",
      "2022-04-06 00:34:14.488 INFO    shap: num_full_subsets = 2\n",
      "2022-04-06 00:34:14.506 INFO    shap: phi = [-0.00730594  0.00297921 -0.29748858 -0.01978933]\n",
      "2022-04-06 00:34:14.508 INFO    shap: phi = [0.01175621 0.02165371 0.50187645 0.04322022]\n",
      "2022-04-06 00:34:14.509 INFO    shap: phi = [-0.00445027 -0.02463292 -0.20438786 -0.02343089]\n",
      "2022-04-06 00:34:14.521 INFO    shap: num_full_subsets = 2\n",
      "2022-04-06 00:34:14.531 INFO    shap: phi = [-0.00782939 -0.00438033 -0.28475958 -0.0239898 ]\n",
      "2022-04-06 00:34:14.532 INFO    shap: phi = [ 0.01106327  0.0059541   0.24069445 -0.11525029]\n",
      "2022-04-06 00:34:14.533 INFO    shap: phi = [-0.00323387 -0.00157377  0.04406513  0.13924009]\n",
      "2022-04-06 00:34:14.545 INFO    shap: num_full_subsets = 2\n",
      "2022-04-06 00:34:14.556 INFO    shap: phi = [-0.00850653 -0.0226278  -0.28089693 -0.01184155]\n",
      "2022-04-06 00:34:14.557 INFO    shap: phi = [0.00747617 0.00562295 0.54261647 0.10573493]\n",
      "2022-04-06 00:34:14.558 INFO    shap: phi = [ 0.00103037  0.01700485 -0.26171954 -0.09389338]\n",
      "2022-04-06 00:34:14.571 INFO    shap: num_full_subsets = 2\n",
      "2022-04-06 00:34:14.581 INFO    shap: phi = [-0.00483461 -0.01679505 -0.28648435 -0.01343771]\n",
      "2022-04-06 00:34:14.582 INFO    shap: phi = [0.00080383 0.00863139 0.55968112 0.09008401]\n",
      "2022-04-06 00:34:14.582 INFO    shap: phi = [ 0.00403078  0.00816366 -0.27319677 -0.07664629]\n",
      "2022-04-06 00:34:14.600 INFO    shap: num_full_subsets = 2\n",
      "2022-04-06 00:34:14.611 INFO    shap: phi = [-0.01129272 -0.0102793  -0.273188   -0.02644968]\n",
      "2022-04-06 00:34:14.612 INFO    shap: phi = [ 0.01855656 -0.01758235  0.1362615  -0.14889901]\n",
      "2022-04-06 00:34:14.613 INFO    shap: phi = [-0.00726384  0.02786165  0.1369265   0.1753487 ]\n",
      "2022-04-06 00:34:14.624 INFO    shap: num_full_subsets = 2\n"
     ]
    },
    {
     "name": "stderr",
     "output_type": "stream",
     "text": [
      "2022-04-06 00:34:14.635 INFO    shap: phi = [0.03580909 0.02845399 0.46608411 0.08521751]\n",
      "2022-04-06 00:34:14.637 INFO    shap: phi = [-0.04029048 -0.02073405 -0.27580619  0.05114555]\n",
      "2022-04-06 00:34:14.638 INFO    shap: phi = [ 0.00448139 -0.00771993 -0.19027792 -0.13636305]\n",
      "2022-04-06 00:34:14.657 INFO    shap: num_full_subsets = 2\n",
      "2022-04-06 00:34:14.670 INFO    shap: phi = [0.01138828 0.01775528 0.57317796 0.04403183]\n",
      "2022-04-06 00:34:14.673 INFO    shap: phi = [-0.01202141 -0.00866161 -0.3824053   0.09088371]\n",
      "2022-04-06 00:34:14.675 INFO    shap: phi = [ 0.00063313 -0.00909366 -0.19077265 -0.13491554]\n",
      "2022-04-06 00:34:14.694 INFO    shap: num_full_subsets = 2\n",
      "2022-04-06 00:34:14.704 INFO    shap: phi = [0.01259246 0.02811289 0.57248795 0.03538966]\n",
      "2022-04-06 00:34:14.705 INFO    shap: phi = [-0.01352057 -0.01332739 -0.37566827  0.08789571]\n",
      "2022-04-06 00:34:14.706 INFO    shap: phi = [ 0.00092811 -0.0147855  -0.19681967 -0.12328537]\n",
      "2022-04-06 00:34:14.719 INFO    shap: num_full_subsets = 2\n",
      "2022-04-06 00:34:14.729 INFO    shap: phi = [0.02289475 0.00818597 0.57432047 0.04290127]\n",
      "2022-04-06 00:34:14.730 INFO    shap: phi = [-0.02878979 -0.00325499 -0.37429844  0.09274508]\n",
      "2022-04-06 00:34:14.731 INFO    shap: phi = [ 0.00589504 -0.00493098 -0.20002203 -0.13564634]\n",
      "2022-04-06 00:34:14.743 INFO    shap: num_full_subsets = 2\n",
      "2022-04-06 00:34:14.754 INFO    shap: phi = [-0.01082642  0.0005661  -0.26533915 -0.04812845]\n",
      "2022-04-06 00:34:14.755 INFO    shap: phi = [ 0.01315807  0.0078251  -0.19193425 -0.15581122]\n",
      "2022-04-06 00:34:14.756 INFO    shap: phi = [-0.00233165 -0.0083912   0.4572734   0.20393967]\n",
      "2022-04-06 00:34:14.768 INFO    shap: num_full_subsets = 2\n",
      "2022-04-06 00:34:14.778 INFO    shap: phi = [-0.02410988 -0.00847411 -0.25594284 -0.03279291]\n",
      "2022-04-06 00:34:14.779 INFO    shap: phi = [ 0.02910622  0.00213506 -0.28016962 -0.07512979]\n",
      "2022-04-06 00:34:14.780 INFO    shap: phi = [-0.00499634  0.00633905  0.53611246  0.1079227 ]\n",
      "Passing a set as an indexer is deprecated and will raise in a future version. Use a list instead.\n",
      "Passing a set as an indexer is deprecated and will raise in a future version. Use a list instead.\n",
      "2022-04-06 00:34:14.820 INFO    mlfoundry.mlfoundry_run: Metrics logged successfully\n",
      "Passing a set as an indexer is deprecated and will raise in a future version. Use a list instead.\n",
      "2022-04-06 00:34:14.837 INFO    mlfoundry.mlfoundry_run: Dataset stats have been successfully computed and logged\n"
     ]
    }
   ],
   "source": [
    "import shap\n",
    "\n",
    "y_train_prob = clf.predict_proba(X_train)\n",
    "\n",
    "\n",
    "X_train_df = pd.DataFrame(X_train, columns=iris.feature_names)\n",
    "X_train_df['targets'] = y_train\n",
    "X_train_df['predictions'] = y_hat_train\n",
    "X_train_df['prediction_probabilities'] = list(y_train_prob)\n",
    "\n",
    "X_test_df = pd.DataFrame(X_test, columns=iris.feature_names)\n",
    "X_test_df['targets'] = y_test\n",
    "X_test_df['predictions'] = y_hat_test\n",
    "\n",
    "# compute and log stats for train data without shap\n",
    "mlf_run.log_dataset_stats(\n",
    "    X_train_df, \n",
    "    data_slice=\"train\",\n",
    "    data_schema=mlf.Schema(\n",
    "        feature_column_names=iris.feature_names,\n",
    "        prediction_column_name=\"predictions\",\n",
    "        actual_column_name=\"targets\",\n",
    "        prediction_probability_column_name=\"prediction_probabilities\"   # to calculate probability related metrics\n",
    "    ),\n",
    "    model_type=\"multiclass_classification\",\n",
    ")\n",
    "\n",
    "# shap value computation\n",
    "X_train_df1 = pd.DataFrame(X_train, columns=iris.feature_names)\n",
    "X_test_df1 = pd.DataFrame(X_test, columns=iris.feature_names)\n",
    "explainer = shap.KernelExplainer(clf.predict_proba, X_train_df1)\n",
    "shap_values = explainer.shap_values(X_test_df1)\n",
    "\n",
    "mlf_run.log_dataset_stats(\n",
    "    X_test_df, \n",
    "    data_slice=\"test\",\n",
    "    data_schema=mlf.Schema(\n",
    "        feature_column_names=iris.feature_names,\n",
    "        prediction_column_name=\"predictions\",\n",
    "        actual_column_name=\"targets\"\n",
    "    ),\n",
    "    model_type=\"multiclass_classification\",\n",
    "    shap_values=shap_values\n",
    ")"
   ]
  },
  {
   "cell_type": "code",
   "execution_count": 11,
   "metadata": {},
   "outputs": [],
   "source": [
    "with open('iris_sklearn_model.pkl', 'wb') as f:\n",
    "    pickle.dump(clf, f)"
   ]
  },
  {
   "cell_type": "code",
   "execution_count": 19,
   "metadata": {},
   "outputs": [
    {
     "name": "stdout",
     "output_type": "stream",
     "text": [
      "Overwriting streamlit_iris.py\n"
     ]
    }
   ],
   "source": [
    "%%writefile streamlit_iris.py\n",
    "import pickle \n",
    "import random\n",
    "import mlfoundry as mlf\n",
    "import pandas as pd\n",
    "import streamlit as st\n",
    "\n",
    "def predict_fn(i1: float, i2: float, i3: float, i4: float) -> str:\n",
    "    try:\n",
    "        class_name_map = dict(\n",
    "            zip([0, 1, 2], [\"Iris Setosa\", \"Iris Versicolour\", \"Iris Virginica\"])\n",
    "        )\n",
    "        features = pd.DataFrame([[i1, i2, i3, i4]])\n",
    "        with open('iris_sklearn_model.pkl', 'rb') as f:\n",
    "            model = pickle.load(f)\n",
    "        model_output = model.predict(features)[0]\n",
    "        return class_name_map[model_output]\n",
    "    except Exception as e:\n",
    "        print(f\"Exception happened: {e}. Choosing random\")\n",
    "        return random.choice([\"Iris Setosa\", \"Iris Versicolour\", \"Iris Virginica\"])\n",
    "\n",
    "mlf_api = mlf.get_client()\n",
    "mlf_run = mlf_api.create_run(project_name=\"iris-project-webapp\")\n",
    "raw_in, raw_out = mlf_run.webapp(\n",
    "    fn=predict_fn, inputs=[\"number\", \"number\", \"number\", \"number\"], outputs=\"text\"\n",
    ")\n",
    "\n",
    "\n",
    "with st.form(key=\"Model-Feedback\", clear_on_submit=True):\n",
    "    comments = [\n",
    "                \"Prediction looks good.\", \n",
    "                \"Prediction looks off.\",  \n",
    "                \"Other comment.\"\n",
    "               ]\n",
    "    for comment in comments:\n",
    "        val = st.checkbox(comment)\n",
    "\n",
    "    st.write(\"Please enter more details\")\n",
    "    comment = st.text_input(\"Comment\")\n",
    "    form_submitted = st.form_submit_button(label=\"Submit Feedback\")\n",
    "    if form_submitted:\n",
    "        print(f\"User comment type: {val}. Comment: {comment}\")\n",
    "        st.success(\"Feedback Printed\")"
   ]
  },
  {
   "cell_type": "code",
   "execution_count": 13,
   "metadata": {},
   "outputs": [],
   "source": [
    "mlf_run.log_webapp_file('streamlit_iris.py')"
   ]
  },
  {
   "cell_type": "code",
   "execution_count": null,
   "metadata": {},
   "outputs": [],
   "source": [
    "!mlfoundry ui "
   ]
  },
  {
   "cell_type": "code",
   "execution_count": null,
   "metadata": {},
   "outputs": [],
   "source": []
  }
 ],
 "metadata": {
  "interpreter": {
   "hash": "e8743b0f75b6a55a016638ba229c0d478e77c985bb41c53d6f2fbe781d6f864f"
  },
  "kernelspec": {
   "display_name": "Python 3 (ipykernel)",
   "language": "python",
   "name": "python3"
  },
  "language_info": {
   "codemirror_mode": {
    "name": "ipython",
    "version": 3
   },
   "file_extension": ".py",
   "mimetype": "text/x-python",
   "name": "python",
   "nbconvert_exporter": "python",
   "pygments_lexer": "ipython3",
   "version": "3.8.5"
  }
 },
 "nbformat": 4,
 "nbformat_minor": 2
}
