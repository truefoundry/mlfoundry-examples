{
 "cells": [
  {
   "cell_type": "code",
   "execution_count": 1,
   "metadata": {},
   "outputs": [
    {
     "name": "stderr",
     "output_type": "stream",
     "text": [
      "2022-03-22 23:16:11.397 INFO    streamlit_gradio.networking: Hashes generated for all static assets.\n"
     ]
    }
   ],
   "source": [
    "import pickle\n",
    "import pandas as pd\n",
    "import numpy as np\n",
    "import mlfoundry as mlf\n",
    "from sklearn import datasets\n",
    "from sklearn import svm\n",
    "from sklearn.model_selection import train_test_split"
   ]
  },
  {
   "cell_type": "markdown",
   "metadata": {},
   "source": [
    "# Loading Iris Dataset"
   ]
  },
  {
   "cell_type": "code",
   "execution_count": 2,
   "metadata": {},
   "outputs": [],
   "source": [
    "iris = datasets.load_iris()\n",
    "iris_frame = pd.DataFrame(iris.data, columns = iris.feature_names)"
   ]
  },
  {
   "cell_type": "markdown",
   "metadata": {},
   "source": [
    "# Using MlFoundry APIs"
   ]
  },
  {
   "cell_type": "markdown",
   "metadata": {},
   "source": [
    "## Creating run"
   ]
  },
  {
   "cell_type": "code",
   "execution_count": 3,
   "metadata": {},
   "outputs": [
    {
     "name": "stderr",
     "output_type": "stream",
     "text": [
      "2022-03-22 23:16:21.137 INFO    mlfoundry.mlfoundry_api: Run is created with id 79e3490ca6d54c978729d89003f8652e and name run_2022-03-22_17-46-21_utc\n"
     ]
    }
   ],
   "source": [
    "mlf_api = mlf.get_client() # to save locally\n",
    "mlf_run = mlf_api.create_run(project_name='iris-project')"
   ]
  },
  {
   "cell_type": "markdown",
   "metadata": {},
   "source": [
    "## Training the model"
   ]
  },
  {
   "cell_type": "code",
   "execution_count": null,
   "metadata": {},
   "outputs": [],
   "source": [
    "iris = datasets.load_iris()\n",
    "iris_frame = pd.DataFrame(iris.data, columns = iris.feature_names)"
   ]
  },
  {
   "cell_type": "code",
   "execution_count": 4,
   "metadata": {},
   "outputs": [
    {
     "data": {
      "text/plain": [
       "SVC(probability=True)"
      ]
     },
     "execution_count": 4,
     "metadata": {},
     "output_type": "execute_result"
    }
   ],
   "source": [
    "X, y = iris.data, iris.target\n",
    "X_train, X_test, y_train, y_test = train_test_split(X, y, test_size=0.2)\n",
    "\n",
    "# Model Training\n",
    "clf = svm.SVC(gamma='scale', kernel='rbf', probability=True)\n",
    "clf.fit(X, y)"
   ]
  },
  {
   "cell_type": "markdown",
   "metadata": {},
   "source": [
    "## Logging the dataset"
   ]
  },
  {
   "cell_type": "code",
   "execution_count": 29,
   "metadata": {},
   "outputs": [],
   "source": [
    "train_data = np.hstack([X_train, np.reshape(y_train, (-1,1))])\n",
    "train_data = pd.DataFrame(train_data, columns=iris.feature_names + [\"target\"])\n",
    "\n",
    "test_data = np.hstack([X_test, np.reshape(y_test, (-1,1))])\n",
    "test_data = pd.DataFrame(test_data, columns=iris.feature_names + [\"target\"])"
   ]
  },
  {
   "cell_type": "code",
   "execution_count": null,
   "metadata": {},
   "outputs": [],
   "source": [
    "mlf_run.log_dataset(train_data, data_slice=mlf.DataSlice.TRAIN)\n",
    "mlf_run.log_dataset(test_data, data_slice=mlf.DataSlice.TEST)"
   ]
  },
  {
   "cell_type": "markdown",
   "metadata": {},
   "source": [
    "## Logging Parameters"
   ]
  },
  {
   "cell_type": "code",
   "execution_count": 6,
   "metadata": {},
   "outputs": [
    {
     "name": "stderr",
     "output_type": "stream",
     "text": [
      "2022-03-14 17:32:14.679 INFO    mlfoundry.mlfoundry_run: Parameters logged successfully\n"
     ]
    }
   ],
   "source": [
    "params = {'classes': clf.classes_, 'features': clf.n_features_in_}\n",
    "mlf_run.log_params(params)"
   ]
  },
  {
   "cell_type": "markdown",
   "metadata": {},
   "source": [
    "## Logging the model"
   ]
  },
  {
   "cell_type": "code",
   "execution_count": 7,
   "metadata": {},
   "outputs": [
    {
     "name": "stderr",
     "output_type": "stream",
     "text": [
      "2022-03-14 17:32:17.201 INFO    mlfoundry.mlfoundry_run: Model logged Successfully\n"
     ]
    }
   ],
   "source": [
    "mlf_run.log_model(clf, mlf.ModelFramework.SKLEARN)"
   ]
  },
  {
   "cell_type": "markdown",
   "metadata": {},
   "source": [
    "## Logging Predictions Synchronously"
   ]
  },
  {
   "cell_type": "code",
   "execution_count": 8,
   "metadata": {},
   "outputs": [],
   "source": [
    "y_hat_train = clf.predict(X_train)\n",
    "y_hat_test = clf.predict(X_test)"
   ]
  },
  {
   "cell_type": "markdown",
   "metadata": {},
   "source": [
    "## Logging the metrics"
   ]
  },
  {
   "cell_type": "code",
   "execution_count": 9,
   "metadata": {},
   "outputs": [
    {
     "name": "stderr",
     "output_type": "stream",
     "text": [
      "2022-03-14 17:32:17.247 INFO    mlfoundry.mlfoundry_run: Metrics logged successfully\n"
     ]
    }
   ],
   "source": [
    "from sklearn.metrics import accuracy_score, f1_score\n",
    "metrics_dict = {}\n",
    "\n",
    "metrics_dict['accuracy_score'] = accuracy_score(y_test, y_hat_test)\n",
    "metrics_dict['f1_score'] = f1_score(y_test, y_hat_test, average='micro')\n",
    "\n",
    "mlf_run.log_metrics(metrics_dict)\n"
   ]
  },
  {
   "cell_type": "markdown",
   "metadata": {},
   "source": [
    "## Logging the Dataset Stats"
   ]
  },
  {
   "cell_type": "code",
   "execution_count": 10,
   "metadata": {},
   "outputs": [
    {
     "name": "stderr",
     "output_type": "stream",
     "text": [
      "Passing a set as an indexer is deprecated and will raise in a future version. Use a list instead.\n",
      "2022-03-14 17:32:17.887 INFO    whylogs.app.config: No config file loaded\n",
      "Passing a set as an indexer is deprecated and will raise in a future version. Use a list instead.\n",
      "2022-03-14 17:32:17.944 INFO    mlfoundry.mlfoundry_run: Metrics logged successfully\n",
      "2022-03-14 17:32:17.949 INFO    mlfoundry.mlfoundry_run: Dataset stats have been successfully computed and logged\n",
      "2022-03-14 17:32:17.952 WARNING shap: Using 120 background data samples could cause slower run times. Consider using shap.sample(data, K) or shap.kmeans(data, K) to summarize the background as K samples.\n"
     ]
    },
    {
     "name": "stdout",
     "output_type": "stream",
     "text": [
      "WARN: Missing config\n"
     ]
    },
    {
     "data": {
      "application/vnd.jupyter.widget-view+json": {
       "model_id": "169badc4a96e4e78bef346e281fb6c2b",
       "version_major": 2,
       "version_minor": 0
      },
      "text/plain": [
       "  0%|          | 0/30 [00:00<?, ?it/s]"
      ]
     },
     "metadata": {},
     "output_type": "display_data"
    },
    {
     "name": "stderr",
     "output_type": "stream",
     "text": [
      "2022-03-14 17:32:18.022 INFO    shap: num_full_subsets = 2\n",
      "2022-03-14 17:32:18.046 INFO    shap: phi = [-0.00217723 -0.00464712 -0.29849855 -0.01793215]\n",
      "2022-03-14 17:32:18.048 INFO    shap: phi = [-0.00706495  0.00843823  0.49916939  0.07344129]\n",
      "2022-03-14 17:32:18.050 INFO    shap: phi = [ 0.00924218 -0.00379111 -0.20067084 -0.05550914]\n",
      "2022-03-14 17:32:18.074 INFO    shap: num_full_subsets = 2\n",
      "2022-03-14 17:32:18.094 INFO    shap: phi = [0.02461519 0.00605985 0.54740426 0.06116714]\n",
      "2022-03-14 17:32:18.095 INFO    shap: phi = [-0.02814859 -0.00345984 -0.36545083  0.07703238]\n",
      "2022-03-14 17:32:18.097 INFO    shap: phi = [ 0.0035334  -0.00260001 -0.18195343 -0.13819952]\n",
      "2022-03-14 17:32:18.114 INFO    shap: num_full_subsets = 2\n",
      "2022-03-14 17:32:18.138 INFO    shap: phi = [-0.00483364 -0.00720178 -0.29516366 -0.01554248]\n",
      "2022-03-14 17:32:18.139 INFO    shap: phi = [0.00156978 0.00707897 0.55195269 0.08143252]\n",
      "2022-03-14 17:32:18.141 INFO    shap: phi = [ 3.26385786e-03  1.22817549e-04 -2.56789034e-01 -6.58900406e-02]\n",
      "2022-03-14 17:32:18.160 INFO    shap: num_full_subsets = 2\n",
      "2022-03-14 17:32:18.178 INFO    shap: phi = [-0.00417136 -0.00919695 -0.27572458 -0.03014112]\n",
      "2022-03-14 17:32:18.180 INFO    shap: phi = [-0.0051852  -0.00796565  0.07276459 -0.24862283]\n",
      "2022-03-14 17:32:18.181 INFO    shap: phi = [0.00935656 0.0171626  0.20295999 0.27876395]\n",
      "2022-03-14 17:32:18.197 INFO    shap: num_full_subsets = 2\n",
      "2022-03-14 17:32:18.215 INFO    shap: phi = [-0.01705216 -0.00204892 -0.25964607 -0.04334756]\n",
      "2022-03-14 17:32:18.216 INFO    shap: phi = [ 0.02167869  0.00892674 -0.17925796 -0.19110644]\n",
      "2022-03-14 17:32:18.217 INFO    shap: phi = [-0.00462653 -0.00687782  0.43890403  0.23445401]\n",
      "2022-03-14 17:32:18.234 INFO    shap: num_full_subsets = 2\n",
      "2022-03-14 17:32:18.253 INFO    shap: phi = [0.01604739 0.01872959 0.54689553 0.05047817]\n",
      "2022-03-14 17:32:18.254 INFO    shap: phi = [-0.01701792 -0.01142655 -0.35766373  0.07176504]\n",
      "2022-03-14 17:32:18.255 INFO    shap: phi = [ 0.00097053 -0.00730303 -0.1892318  -0.12224321]\n",
      "2022-03-14 17:32:18.274 INFO    shap: num_full_subsets = 2\n",
      "2022-03-14 17:32:18.296 INFO    shap: phi = [ 0.00669556 -0.04638131 -0.22768477 -0.01657415]\n",
      "2022-03-14 17:32:18.297 INFO    shap: phi = [-0.01693649  0.04177775  0.49097812  0.08619828]\n",
      "2022-03-14 17:32:18.299 INFO    shap: phi = [ 0.01024092  0.00460356 -0.26329335 -0.06962413]\n",
      "2022-03-14 17:32:18.320 INFO    shap: num_full_subsets = 2\n",
      "2022-03-14 17:32:18.343 INFO    shap: phi = [-0.0076292  -0.01014079 -0.2826437  -0.02048031]\n",
      "2022-03-14 17:32:18.346 INFO    shap: phi = [ 0.00782897 -0.01982494  0.02765786 -0.09908069]\n",
      "2022-03-14 17:32:18.347 INFO    shap: phi = [-1.99769840e-04  2.99657368e-02  2.54985841e-01  1.19561001e-01]\n",
      "2022-03-14 17:32:18.374 INFO    shap: num_full_subsets = 2\n",
      "2022-03-14 17:32:18.399 INFO    shap: phi = [-0.01494091 -0.00404724 -0.25678513 -0.0467353 ]\n",
      "2022-03-14 17:32:18.401 INFO    shap: phi = [ 0.0189981   0.00910457 -0.1529743  -0.21514849]\n",
      "2022-03-14 17:32:18.402 INFO    shap: phi = [-0.0040572  -0.00505733  0.40975943  0.26188379]\n",
      "2022-03-14 17:32:18.422 INFO    shap: num_full_subsets = 2\n",
      "2022-03-14 17:32:18.444 INFO    shap: phi = [-0.02488352  0.00966524 -0.2603559  -0.03894584]\n",
      "2022-03-14 17:32:18.445 INFO    shap: phi = [ 0.02643409  0.00875135 -0.3221461  -0.05307405]\n",
      "2022-03-14 17:32:18.447 INFO    shap: phi = [-0.00155057 -0.01841659  0.582502    0.09201989]\n",
      "2022-03-14 17:32:18.467 INFO    shap: num_full_subsets = 2\n",
      "2022-03-14 17:32:18.487 INFO    shap: phi = [-0.02046254 -0.00506824 -0.27189733 -0.02303502]\n",
      "2022-03-14 17:32:18.489 INFO    shap: phi = [ 0.02591872  0.00371928 -0.25901993 -0.09344536]\n",
      "2022-03-14 17:32:18.490 INFO    shap: phi = [-0.00545618  0.00134896  0.53091725  0.11648038]\n",
      "2022-03-14 17:32:18.508 INFO    shap: num_full_subsets = 2\n",
      "2022-03-14 17:32:18.527 INFO    shap: phi = [-0.00861026 -0.00519147 -0.28173423 -0.0246639 ]\n",
      "2022-03-14 17:32:18.528 INFO    shap: phi = [ 0.01207981  0.00376527  0.14556022 -0.14394566]\n",
      "2022-03-14 17:32:18.529 INFO    shap: phi = [-0.00346955  0.0014262   0.13617401  0.16860956]\n",
      "2022-03-14 17:32:18.545 INFO    shap: num_full_subsets = 2\n",
      "2022-03-14 17:32:18.563 INFO    shap: phi = [0.02903079 0.00596485 0.54785205 0.05615799]\n",
      "2022-03-14 17:32:18.564 INFO    shap: phi = [-0.03531277 -0.00326491 -0.35892687  0.07737882]\n",
      "2022-03-14 17:32:18.565 INFO    shap: phi = [ 0.00628198 -0.00269994 -0.18892518 -0.13353681]\n",
      "2022-03-14 17:32:18.582 INFO    shap: num_full_subsets = 2\n",
      "2022-03-14 17:32:18.599 INFO    shap: phi = [-0.01101533 -0.01444428 -0.27637823 -0.02039504]\n",
      "2022-03-14 17:32:18.600 INFO    shap: phi = [ 0.02483544 -0.03440017  0.22588593  0.0189033 ]\n",
      "2022-03-14 17:32:18.601 INFO    shap: phi = [-0.0138201   0.04884445  0.0504923   0.00149174]\n",
      "2022-03-14 17:32:18.618 INFO    shap: num_full_subsets = 2\n",
      "2022-03-14 17:32:18.636 INFO    shap: phi = [-0.02240918 -0.00722186 -0.26122459 -0.02989373]\n",
      "2022-03-14 17:32:18.637 INFO    shap: phi = [ 0.0249633   0.00330817 -0.33281923 -0.03597324]\n",
      "2022-03-14 17:32:18.638 INFO    shap: phi = [-0.00255412  0.00391369  0.59404382  0.06586697]\n",
      "2022-03-14 17:32:18.656 INFO    shap: num_full_subsets = 2\n",
      "2022-03-14 17:32:18.674 INFO    shap: phi = [0.01104191 0.01723567 0.5747031  0.04412278]\n",
      "2022-03-14 17:32:18.675 INFO    shap: phi = [-0.01158176 -0.00918001 -0.39459371  0.08818613]\n",
      "2022-03-14 17:32:18.676 INFO    shap: phi = [ 0.00053985 -0.00805565 -0.18010939 -0.13230891]\n",
      "2022-03-14 17:32:18.692 INFO    shap: num_full_subsets = 2\n",
      "2022-03-14 17:32:18.713 INFO    shap: phi = [0.02055901 0.01220311 0.56396939 0.04879205]\n",
      "2022-03-14 17:32:18.714 INFO    shap: phi = [-0.02344671 -0.00663045 -0.37951062  0.08412114]\n",
      "2022-03-14 17:32:18.715 INFO    shap: phi = [ 0.0028877  -0.00557267 -0.18445877 -0.13291319]\n",
      "2022-03-14 17:32:18.750 INFO    shap: num_full_subsets = 2\n",
      "2022-03-14 17:32:18.798 INFO    shap: phi = [-0.00568134 -0.01148857 -0.29459277 -0.01001462]\n",
      "2022-03-14 17:32:18.801 INFO    shap: phi = [0.00288408 0.00685177 0.53555461 0.10176374]\n",
      "2022-03-14 17:32:18.803 INFO    shap: phi = [ 0.00279726  0.0046368  -0.24096184 -0.09174912]\n",
      "2022-03-14 17:32:18.832 INFO    shap: num_full_subsets = 2\n",
      "2022-03-14 17:32:18.853 INFO    shap: phi = [0.01831208 0.01641103 0.57678641 0.03873293]\n",
      "2022-03-14 17:32:18.855 INFO    shap: phi = [-0.02126027 -0.00794948 -0.38866377  0.08828194]\n",
      "2022-03-14 17:32:18.856 INFO    shap: phi = [ 0.00294819 -0.00846156 -0.18812263 -0.12701487]\n",
      "2022-03-14 17:32:18.883 INFO    shap: num_full_subsets = 2\n",
      "2022-03-14 17:32:18.910 INFO    shap: phi = [-0.00364802 -0.01706688 -0.28445373 -0.01803342]\n",
      "2022-03-14 17:32:18.911 INFO    shap: phi = [-0.00154242  0.0077549   0.5649594   0.07339604]\n",
      "2022-03-14 17:32:18.912 INFO    shap: phi = [ 0.00519044  0.00931198 -0.28050567 -0.05536262]\n",
      "2022-03-14 17:32:18.934 INFO    shap: num_full_subsets = 2\n",
      "2022-03-14 17:32:18.955 INFO    shap: phi = [-0.01265109 -0.00183561 -0.27438514 -0.03106994]\n",
      "2022-03-14 17:32:18.956 INFO    shap: phi = [ 0.01549544  0.01453292 -0.02560863 -0.24778756]\n",
      "2022-03-14 17:32:18.957 INFO    shap: phi = [-0.00284435 -0.01269731  0.29999377  0.27885751]\n",
      "2022-03-14 17:32:18.976 INFO    shap: num_full_subsets = 2\n",
      "2022-03-14 17:32:19.000 INFO    shap: phi = [-0.01253801 -0.00687985 -0.28809813 -0.01595481]\n",
      "2022-03-14 17:32:19.001 INFO    shap: phi = [0.01931619 0.00618589 0.46234141 0.12236069]\n",
      "2022-03-14 17:32:19.002 INFO    shap: phi = [-0.00677818  0.00069396 -0.17424328 -0.10640589]\n",
      "2022-03-14 17:32:19.022 INFO    shap: num_full_subsets = 2\n",
      "2022-03-14 17:32:19.043 INFO    shap: phi = [-0.00418769 -0.02536396 -0.27407975 -0.01309744]\n",
      "2022-03-14 17:32:19.044 INFO    shap: phi = [-2.84844456e-04  1.75911210e-02  5.36036084e-01  8.84547810e-02]\n",
      "2022-03-14 17:32:19.046 INFO    shap: phi = [ 0.00447253  0.00777283 -0.26195633 -0.07535734]\n",
      "2022-03-14 17:32:19.068 INFO    shap: num_full_subsets = 2\n",
      "2022-03-14 17:32:19.089 INFO    shap: phi = [-0.01727295 -0.00413916 -0.25554402 -0.04275532]\n",
      "2022-03-14 17:32:19.090 INFO    shap: phi = [ 0.02182407  0.01148512 -0.0375535  -0.3057683 ]\n",
      "2022-03-14 17:32:19.091 INFO    shap: phi = [-0.00455112 -0.00734595  0.29309752  0.34852363]\n",
      "2022-03-14 17:32:19.108 INFO    shap: num_full_subsets = 2\n"
     ]
    },
    {
     "name": "stderr",
     "output_type": "stream",
     "text": [
      "2022-03-14 17:32:19.130 INFO    shap: phi = [0.01755822 0.00695546 0.58673526 0.03930359]\n",
      "2022-03-14 17:32:19.132 INFO    shap: phi = [-0.0206625  -0.00281297 -0.39949493  0.09331009]\n",
      "2022-03-14 17:32:19.133 INFO    shap: phi = [ 0.00310428 -0.00414249 -0.18724034 -0.13261368]\n",
      "2022-03-14 17:32:19.153 INFO    shap: num_full_subsets = 2\n",
      "2022-03-14 17:32:19.173 INFO    shap: phi = [0.0249655  0.00768371 0.57468038 0.04210709]\n",
      "2022-03-14 17:32:19.174 INFO    shap: phi = [-0.03342953 -0.0034133  -0.38291301  0.09051274]\n",
      "2022-03-14 17:32:19.175 INFO    shap: phi = [ 0.00846403 -0.00427042 -0.19176737 -0.13261983]\n",
      "2022-03-14 17:32:19.193 INFO    shap: num_full_subsets = 2\n",
      "2022-03-14 17:32:19.211 INFO    shap: phi = [-0.00538918 -0.01553959 -0.26650728 -0.03282906]\n",
      "2022-03-14 17:32:19.212 INFO    shap: phi = [-0.00134396 -0.01593006  0.00122541 -0.24693775]\n",
      "2022-03-14 17:32:19.213 INFO    shap: phi = [0.00673314 0.03146965 0.26528187 0.27976681]\n",
      "2022-03-14 17:32:19.228 INFO    shap: num_full_subsets = 2\n",
      "2022-03-14 17:32:19.246 INFO    shap: phi = [-0.00409816 -0.01109943 -0.29255377 -0.01609605]\n",
      "2022-03-14 17:32:19.247 INFO    shap: phi = [-4.14326187e-04  5.34493012e-03  5.51680844e-01  8.42055949e-02]\n",
      "2022-03-14 17:32:19.248 INFO    shap: phi = [ 0.00451248  0.0057545  -0.25912707 -0.06810954]\n",
      "2022-03-14 17:32:19.264 INFO    shap: num_full_subsets = 2\n",
      "2022-03-14 17:32:19.283 INFO    shap: phi = [0.0291217  0.00685015 0.5299087  0.06518944]\n",
      "2022-03-14 17:32:19.284 INFO    shap: phi = [-0.03354332 -0.00419445 -0.3439138   0.06864809]\n",
      "2022-03-14 17:32:19.285 INFO    shap: phi = [ 0.00442162 -0.00265569 -0.1859949  -0.13383753]\n",
      "2022-03-14 17:32:19.302 INFO    shap: num_full_subsets = 2\n",
      "2022-03-14 17:32:19.319 INFO    shap: phi = [0.01226759 0.02765555 0.573811   0.03554369]\n",
      "2022-03-14 17:32:19.320 INFO    shap: phi = [-0.01306026 -0.01434867 -0.38719845  0.08507669]\n",
      "2022-03-14 17:32:19.322 INFO    shap: phi = [ 0.00079267 -0.01330688 -0.18661254 -0.12062038]\n",
      "Passing a set as an indexer is deprecated and will raise in a future version. Use a list instead.\n",
      "Passing a set as an indexer is deprecated and will raise in a future version. Use a list instead.\n",
      "2022-03-14 17:32:19.379 INFO    mlfoundry.mlfoundry_run: Metrics logged successfully\n",
      "Passing a set as an indexer is deprecated and will raise in a future version. Use a list instead.\n",
      "2022-03-14 17:32:19.399 INFO    mlfoundry.mlfoundry_run: Dataset stats have been successfully computed and logged\n"
     ]
    }
   ],
   "source": [
    "import shap\n",
    "\n",
    "y_train_prob = clf.predict_proba(X_train)\n",
    "\n",
    "\n",
    "X_train_df = pd.DataFrame(X_train, columns=iris.feature_names)\n",
    "X_train_df['targets'] = y_train\n",
    "X_train_df['predictions'] = y_hat_train\n",
    "X_train_df['prediction_probabilities'] = list(y_train_prob)\n",
    "\n",
    "X_test_df = pd.DataFrame(X_test, columns=iris.feature_names)\n",
    "X_test_df['targets'] = y_test\n",
    "X_test_df['predictions'] = y_hat_test\n",
    "\n",
    "# compute and log stats for train data without shap\n",
    "mlf_run.log_dataset_stats(\n",
    "    X_train_df, \n",
    "    data_slice=mlf.DataSlice.TRAIN,\n",
    "    data_schema=mlf.Schema(\n",
    "        feature_column_names=iris.feature_names,\n",
    "        prediction_column_name=\"predictions\",\n",
    "        actual_column_name=\"targets\",\n",
    "        prediction_probability_column_name=\"prediction_probabilities\"   # to calculate probability related metrics\n",
    "    ),\n",
    "    model_type=mlf.ModelType.MULTICLASS_CLASSIFICATION,\n",
    ")\n",
    "\n",
    "# shap value computation\n",
    "X_train_df1 = pd.DataFrame(X_train, columns=iris.feature_names)\n",
    "X_test_df1 = pd.DataFrame(X_test, columns=iris.feature_names)\n",
    "explainer = shap.KernelExplainer(clf.predict_proba, X_train_df1)\n",
    "shap_values = explainer.shap_values(X_test_df1)\n",
    "\n",
    "mlf_run.log_dataset_stats(\n",
    "    X_test_df, \n",
    "    data_slice=mlf.DataSlice.TEST,\n",
    "    data_schema=mlf.Schema(\n",
    "        feature_column_names=iris.feature_names,\n",
    "        prediction_column_name=\"predictions\",\n",
    "        actual_column_name=\"targets\"\n",
    "    ),\n",
    "    model_type=mlf.ModelType.MULTICLASS_CLASSIFICATION,\n",
    "    shap_values=shap_values\n",
    ")"
   ]
  },
  {
   "cell_type": "code",
   "execution_count": 11,
   "metadata": {},
   "outputs": [],
   "source": [
    "with open('iris_sklearn_model.pkl', 'wb') as f:\n",
    "    pickle.dump(clf, f)"
   ]
  },
  {
   "cell_type": "code",
   "execution_count": 19,
   "metadata": {},
   "outputs": [
    {
     "name": "stdout",
     "output_type": "stream",
     "text": [
      "Overwriting streamlit_iris.py\n"
     ]
    }
   ],
   "source": [
    "%%writefile streamlit_iris.py\n",
    "import pickle \n",
    "import random\n",
    "import mlfoundry as mlf\n",
    "import pandas as pd\n",
    "import streamlit as st\n",
    "\n",
    "def predict_fn(i1: float, i2: float, i3: float, i4: float) -> str:\n",
    "    try:\n",
    "        class_name_map = dict(\n",
    "            zip([0, 1, 2], [\"Iris Setosa\", \"Iris Versicolour\", \"Iris Virginica\"])\n",
    "        )\n",
    "        features = pd.DataFrame([[i1, i2, i3, i4]])\n",
    "        with open('iris_sklearn_model.pkl', 'rb') as f:\n",
    "            model = pickle.load(f)\n",
    "        model_output = model.predict(features)[0]\n",
    "        return class_name_map[model_output]\n",
    "    except Exception as e:\n",
    "        print(f\"Exception happened: {e}. Choosing random\")\n",
    "        return random.choice([\"Iris Setosa\", \"Iris Versicolour\", \"Iris Virginica\"])\n",
    "\n",
    "mlf_api = mlf.get_client()\n",
    "mlf_run = mlf_api.create_run(project_name=\"iris-project-webapp\")\n",
    "raw_in, raw_out = mlf_run.webapp(\n",
    "    fn=predict_fn, inputs=[\"number\", \"number\", \"number\", \"number\"], outputs=\"text\"\n",
    ")\n",
    "\n",
    "\n",
    "with st.form(key=\"Model-Feedback\", clear_on_submit=True):\n",
    "    comments = [\n",
    "                \"Prediction looks good.\", \n",
    "                \"Prediction looks off.\",  \n",
    "                \"Other comment.\"\n",
    "               ]\n",
    "    for comment in comments:\n",
    "        val = st.checkbox(comment)\n",
    "\n",
    "    st.write(\"Please enter more details\")\n",
    "    comment = st.text_input(\"Comment\")\n",
    "    form_submitted = st.form_submit_button(label=\"Submit Feedback\")\n",
    "    if form_submitted:\n",
    "        print(f\"User comment type: {val}. Comment: {comment}\")\n",
    "        st.success(\"Feedback Printed\")"
   ]
  },
  {
   "cell_type": "code",
   "execution_count": 13,
   "metadata": {},
   "outputs": [],
   "source": [
    "mlf_run.log_webapp_file('streamlit_iris.py')"
   ]
  },
  {
   "cell_type": "code",
   "execution_count": null,
   "metadata": {},
   "outputs": [],
   "source": [
    "!mlfoundry ui "
   ]
  },
  {
   "cell_type": "code",
   "execution_count": null,
   "metadata": {},
   "outputs": [],
   "source": []
  }
 ],
 "metadata": {
  "interpreter": {
   "hash": "e8743b0f75b6a55a016638ba229c0d478e77c985bb41c53d6f2fbe781d6f864f"
  },
  "kernelspec": {
   "display_name": "Python 3 (ipykernel)",
   "language": "python",
   "name": "python3"
  },
  "language_info": {
   "codemirror_mode": {
    "name": "ipython",
    "version": 3
   },
   "file_extension": ".py",
   "mimetype": "text/x-python",
   "name": "python",
   "nbconvert_exporter": "python",
   "pygments_lexer": "ipython3",
   "version": "3.8.5"
  }
 },
 "nbformat": 4,
 "nbformat_minor": 2
}
