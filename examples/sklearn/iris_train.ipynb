{
 "cells": [
  {
   "cell_type": "code",
   "execution_count": 70,
   "metadata": {},
   "outputs": [],
   "source": [
    "import pickle\n",
    "import pandas as pd\n",
    "import numpy as np\n",
    "import mlfoundry as mlf\n",
    "from sklearn import datasets\n",
    "from sklearn import svm\n",
    "from sklearn.model_selection import train_test_split"
   ]
  },
  {
   "cell_type": "markdown",
   "metadata": {},
   "source": [
    "# Loading Iris Dataset"
   ]
  },
  {
   "cell_type": "code",
   "execution_count": 71,
   "metadata": {},
   "outputs": [],
   "source": [
    "iris = datasets.load_iris()\n",
    "iris_frame = pd.DataFrame(iris.data, columns = iris.feature_names)"
   ]
  },
  {
   "cell_type": "markdown",
   "metadata": {},
   "source": [
    "# Using MlFoundry APIs"
   ]
  },
  {
   "cell_type": "markdown",
   "metadata": {},
   "source": [
    "## Creating run"
   ]
  },
  {
   "cell_type": "code",
   "execution_count": 72,
   "metadata": {},
   "outputs": [
    {
     "name": "stderr",
     "output_type": "stream",
     "text": [
      "2022-03-14 17:03:11.228 INFO    mlfoundry.mlfoundry_api: Run is created with id 5dac775beb264626840031af2183ae90 and name run_2022-03-15_00:03:11_utc\n"
     ]
    }
   ],
   "source": [
    "mlf_api = mlf.get_client() # to save locally\n",
    "mlf_run = mlf_api.create_run(project_name='iris-project')"
   ]
  },
  {
   "cell_type": "markdown",
   "metadata": {},
   "source": [
    "## Logging the dataset"
   ]
  },
  {
   "cell_type": "code",
   "execution_count": 73,
   "metadata": {},
   "outputs": [],
   "source": [
    "mlf_run.log_dataset(iris_frame, data_slice=mlf.DataSlice.TRAIN)  # saves in parquet format\n",
    "mlf_run.log_dataset(iris_frame, data_slice=mlf.DataSlice.TEST, fileformat=mlf.FileFormat.CSV) # saves in csv format"
   ]
  },
  {
   "cell_type": "markdown",
   "metadata": {},
   "source": [
    "## Training the model"
   ]
  },
  {
   "cell_type": "code",
   "execution_count": 74,
   "metadata": {},
   "outputs": [
    {
     "data": {
      "text/plain": [
       "SVC(probability=True)"
      ]
     },
     "execution_count": 74,
     "metadata": {},
     "output_type": "execute_result"
    }
   ],
   "source": [
    "X, y = iris.data, iris.target\n",
    "X_train, X_test, y_train, y_test = train_test_split(X, y, test_size=0.2)\n",
    "\n",
    "# Model Training\n",
    "clf = svm.SVC(gamma='scale', kernel='rbf', probability=True)\n",
    "clf.fit(X, y)"
   ]
  },
  {
   "cell_type": "markdown",
   "metadata": {},
   "source": [
    "## Logging Parameters"
   ]
  },
  {
   "cell_type": "code",
   "execution_count": 75,
   "metadata": {},
   "outputs": [
    {
     "name": "stderr",
     "output_type": "stream",
     "text": [
      "2022-03-14 17:03:11.888 INFO    mlfoundry.mlfoundry_run: Parameters logged successfully\n"
     ]
    }
   ],
   "source": [
    "params = {'classes': clf.classes_, 'features': clf.n_features_in_}\n",
    "mlf_run.log_params(params)"
   ]
  },
  {
   "cell_type": "markdown",
   "metadata": {},
   "source": [
    "## Logging the model"
   ]
  },
  {
   "cell_type": "code",
   "execution_count": 76,
   "metadata": {},
   "outputs": [
    {
     "name": "stderr",
     "output_type": "stream",
     "text": [
      "2022-03-14 17:03:14.698 INFO    mlfoundry.mlfoundry_run: Model logged Successfully\n"
     ]
    }
   ],
   "source": [
    "mlf_run.log_model(clf, mlf.ModelFramework.SKLEARN)"
   ]
  },
  {
   "cell_type": "markdown",
   "metadata": {},
   "source": [
    "## Logging Predictions Synchronously"
   ]
  },
  {
   "cell_type": "code",
   "execution_count": 77,
   "metadata": {},
   "outputs": [],
   "source": [
    "y_hat_train = clf.predict(X_train)\n",
    "y_hat_test = clf.predict(X_test)"
   ]
  },
  {
   "cell_type": "markdown",
   "metadata": {},
   "source": [
    "## Logging the metrics"
   ]
  },
  {
   "cell_type": "code",
   "execution_count": 78,
   "metadata": {},
   "outputs": [
    {
     "name": "stderr",
     "output_type": "stream",
     "text": [
      "2022-03-14 17:03:14.717 INFO    mlfoundry.mlfoundry_run: Metrics logged successfully\n"
     ]
    }
   ],
   "source": [
    "from sklearn.metrics import accuracy_score, f1_score\n",
    "metrics_dict = {}\n",
    "\n",
    "metrics_dict['accuracy_score'] = accuracy_score(y_test, y_hat_test)\n",
    "metrics_dict['f1_score'] = f1_score(y_test, y_hat_test, average='micro')\n",
    "\n",
    "mlf_run.log_metrics(metrics_dict)\n"
   ]
  },
  {
   "cell_type": "markdown",
   "metadata": {},
   "source": [
    "## Logging the Dataset Stats"
   ]
  },
  {
   "cell_type": "code",
   "execution_count": 79,
   "metadata": {},
   "outputs": [
    {
     "name": "stderr",
     "output_type": "stream",
     "text": [
      "Passing a set as an indexer is deprecated and will raise in a future version. Use a list instead.\n",
      "Passing a set as an indexer is deprecated and will raise in a future version. Use a list instead.\n",
      "2022-03-14 17:03:14.816 INFO    mlfoundry.mlfoundry_run: Metrics logged successfully\n",
      "2022-03-14 17:03:14.822 INFO    mlfoundry.mlfoundry_run: Dataset stats have been successfully computed and logged\n",
      "2022-03-14 17:03:14.826 WARNING shap: Using 120 background data samples could cause slower run times. Consider using shap.sample(data, K) or shap.kmeans(data, K) to summarize the background as K samples.\n"
     ]
    },
    {
     "data": {
      "application/vnd.jupyter.widget-view+json": {
       "model_id": "3a21813d4c7047be8ce7faba1459071c",
       "version_major": 2,
       "version_minor": 0
      },
      "text/plain": [
       "  0%|          | 0/30 [00:00<?, ?it/s]"
      ]
     },
     "metadata": {},
     "output_type": "display_data"
    },
    {
     "name": "stderr",
     "output_type": "stream",
     "text": [
      "2022-03-14 17:03:14.884 INFO    shap: num_full_subsets = 2\n",
      "2022-03-14 17:03:14.908 INFO    shap: phi = [ 0.00249153 -0.01407185 -0.29194784 -0.02356216]\n",
      "2022-03-14 17:03:14.910 INFO    shap: phi = [-0.03948572 -0.02669439  0.42593416 -0.0109125 ]\n",
      "2022-03-14 17:03:14.912 INFO    shap: phi = [ 0.03699418  0.04076624 -0.13398632  0.03447467]\n",
      "2022-03-14 17:03:14.936 INFO    shap: num_full_subsets = 2\n",
      "2022-03-14 17:03:14.958 INFO    shap: phi = [0.02420082 0.00725375 0.5689506  0.04057953]\n",
      "2022-03-14 17:03:14.960 INFO    shap: phi = [-0.03190268 -0.00364265 -0.38100665  0.0857868 ]\n",
      "2022-03-14 17:03:14.961 INFO    shap: phi = [ 0.00770186 -0.0036111  -0.18794395 -0.12636633]\n",
      "2022-03-14 17:03:14.986 INFO    shap: num_full_subsets = 2\n",
      "2022-03-14 17:03:15.011 INFO    shap: phi = [-0.01478062 -0.00364772 -0.26554183 -0.04689305]\n",
      "2022-03-14 17:03:15.013 INFO    shap: phi = [ 0.01880444  0.00846944 -0.15331498 -0.21499579]\n",
      "2022-03-14 17:03:15.014 INFO    shap: phi = [-0.00402381 -0.00482172  0.41885681  0.26188884]\n",
      "2022-03-14 17:03:15.030 INFO    shap: num_full_subsets = 2\n",
      "2022-03-14 17:03:15.047 INFO    shap: phi = [0.00412635 0.02828744 0.57167231 0.0376567 ]\n",
      "2022-03-14 17:03:15.049 INFO    shap: phi = [-0.00417627 -0.0154336  -0.39876523  0.08602844]\n",
      "2022-03-14 17:03:15.050 INFO    shap: phi = [ 4.99254775e-05 -1.28538449e-02 -1.72907084e-01 -1.23685134e-01]\n",
      "2022-03-14 17:03:15.065 INFO    shap: num_full_subsets = 2\n",
      "2022-03-14 17:03:15.083 INFO    shap: phi = [-0.00501486 -0.00720614 -0.30162368 -0.01582749]\n",
      "2022-03-14 17:03:15.084 INFO    shap: phi = [0.0015656  0.00643315 0.54453634 0.08436304]\n",
      "2022-03-14 17:03:15.085 INFO    shap: phi = [ 0.00344925  0.00077299 -0.24291266 -0.06853555]\n",
      "2022-03-14 17:03:15.101 INFO    shap: num_full_subsets = 2\n",
      "2022-03-14 17:03:15.119 INFO    shap: phi = [-0.02656106 -0.00890289 -0.25367172 -0.03630565]\n",
      "2022-03-14 17:03:15.120 INFO    shap: phi = [ 0.02875308  0.00464915 -0.35031291 -0.02529524]\n",
      "2022-03-14 17:03:15.121 INFO    shap: phi = [-0.00219203  0.00425375  0.60398463  0.06160089]\n",
      "2022-03-14 17:03:15.138 INFO    shap: num_full_subsets = 2\n",
      "2022-03-14 17:03:15.156 INFO    shap: phi = [-0.00786073 -0.00454562 -0.30209874 -0.01681351]\n",
      "2022-03-14 17:03:15.157 INFO    shap: phi = [0.01219614 0.0071397  0.4586042  0.10128525]\n",
      "2022-03-14 17:03:15.158 INFO    shap: phi = [-0.00433541 -0.00259407 -0.15650546 -0.08447174]\n",
      "2022-03-14 17:03:15.175 INFO    shap: num_full_subsets = 2\n",
      "2022-03-14 17:03:15.193 INFO    shap: phi = [-0.01236914 -0.00484029 -0.28631771 -0.02667388]\n",
      "2022-03-14 17:03:15.195 INFO    shap: phi = [ 0.01462651  0.00516842 -0.17056242 -0.16241282]\n",
      "2022-03-14 17:03:15.196 INFO    shap: phi = [-2.25736412e-03 -3.28130843e-04  4.56880123e-01  1.89086695e-01]\n",
      "2022-03-14 17:03:15.214 INFO    shap: num_full_subsets = 2\n",
      "2022-03-14 17:03:15.232 INFO    shap: phi = [ 0.00705635 -0.05974681 -0.15837909 -0.02520733]\n",
      "2022-03-14 17:03:15.233 INFO    shap: phi = [-0.01485343  0.05722779  0.40831159  0.0850254 ]\n",
      "2022-03-14 17:03:15.234 INFO    shap: phi = [ 0.00779708  0.00251901 -0.2499325  -0.05981807]\n",
      "2022-03-14 17:03:15.250 INFO    shap: num_full_subsets = 2\n",
      "2022-03-14 17:03:15.267 INFO    shap: phi = [-1.44622676e-02  2.27019783e-04 -2.66887002e-01 -4.95287747e-02]\n",
      "2022-03-14 17:03:15.268 INFO    shap: phi = [ 0.01855078  0.0097133  -0.16063047 -0.20966688]\n",
      "2022-03-14 17:03:15.269 INFO    shap: phi = [-0.00408851 -0.00994032  0.42751748  0.25919566]\n",
      "2022-03-14 17:03:15.285 INFO    shap: num_full_subsets = 2\n",
      "2022-03-14 17:03:15.302 INFO    shap: phi = [-0.01163648 -0.00161698 -0.27507687 -0.04164285]\n",
      "2022-03-14 17:03:15.304 INFO    shap: phi = [ 0.01301734  0.01216854 -0.08911646 -0.26604452]\n",
      "2022-03-14 17:03:15.305 INFO    shap: phi = [-0.00138086 -0.01055156  0.36419333  0.30768737]\n",
      "2022-03-14 17:03:15.322 INFO    shap: num_full_subsets = 2\n",
      "2022-03-14 17:03:15.340 INFO    shap: phi = [-0.0123653  -0.00898484 -0.28915723 -0.02079098]\n",
      "2022-03-14 17:03:15.341 INFO    shap: phi = [ 2.36501803e-02 -2.66181865e-05  4.39914499e-01  7.64149192e-02]\n",
      "2022-03-14 17:03:15.342 INFO    shap: phi = [-0.01128488  0.00901146 -0.15075727 -0.05562394]\n",
      "2022-03-14 17:03:15.359 INFO    shap: num_full_subsets = 2\n",
      "2022-03-14 17:03:15.377 INFO    shap: phi = [0.01366646 0.02702487 0.5440015  0.05059152]\n",
      "2022-03-14 17:03:15.379 INFO    shap: phi = [-0.01427003 -0.01696392 -0.36998439  0.07508494]\n",
      "2022-03-14 17:03:15.380 INFO    shap: phi = [ 0.00060358 -0.01006095 -0.17401711 -0.12567646]\n",
      "2022-03-14 17:03:15.396 INFO    shap: num_full_subsets = 2\n",
      "2022-03-14 17:03:15.413 INFO    shap: phi = [-0.02005277 -0.00470593 -0.28078038 -0.02328388]\n",
      "2022-03-14 17:03:15.415 INFO    shap: phi = [ 0.02538019  0.00288962 -0.25786901 -0.09197211]\n",
      "2022-03-14 17:03:15.416 INFO    shap: phi = [-0.00532742  0.00181631  0.53864939  0.11525599]\n",
      "2022-03-14 17:03:15.433 INFO    shap: num_full_subsets = 2\n",
      "2022-03-14 17:03:15.451 INFO    shap: phi = [-0.00623714 -0.00958892 -0.26837598 -0.04544437]\n",
      "2022-03-14 17:03:15.452 INFO    shap: phi = [ 0.00298918  0.00487641 -0.02836832 -0.30727496]\n",
      "2022-03-14 17:03:15.453 INFO    shap: phi = [0.00324796 0.00471251 0.29674429 0.35271933]\n",
      "2022-03-14 17:03:15.469 INFO    shap: num_full_subsets = 2\n",
      "2022-03-14 17:03:15.487 INFO    shap: phi = [-0.01090327 -0.01424451 -0.28469536 -0.02028658]\n",
      "2022-03-14 17:03:15.488 INFO    shap: phi = [ 0.02431702 -0.03523612  0.22046725  0.01422393]\n",
      "2022-03-14 17:03:15.489 INFO    shap: phi = [-0.01341375  0.04948063  0.06422811  0.00606265]\n",
      "2022-03-14 17:03:15.506 INFO    shap: num_full_subsets = 2\n",
      "2022-03-14 17:03:15.524 INFO    shap: phi = [0.01172565 0.0272262  0.56773769 0.03412628]\n",
      "2022-03-14 17:03:15.525 INFO    shap: phi = [-0.01246615 -0.01434082 -0.38482631  0.08058707]\n",
      "2022-03-14 17:03:15.526 INFO    shap: phi = [ 0.00074049 -0.01288538 -0.18291138 -0.11471335]\n",
      "2022-03-14 17:03:15.544 INFO    shap: num_full_subsets = 2\n",
      "2022-03-14 17:03:15.561 INFO    shap: phi = [0.02785594 0.00603047 0.52747055 0.061694  ]\n",
      "2022-03-14 17:03:15.563 INFO    shap: phi = [-0.03179803 -0.00399331 -0.34523353  0.06603255]\n",
      "2022-03-14 17:03:15.564 INFO    shap: phi = [ 0.00394208 -0.00203715 -0.18223702 -0.12772655]\n",
      "2022-03-14 17:03:15.579 INFO    shap: num_full_subsets = 2\n",
      "2022-03-14 17:03:15.597 INFO    shap: phi = [-0.01556663 -0.01494387 -0.26984803 -0.03059686]\n",
      "2022-03-14 17:03:15.598 INFO    shap: phi = [ 0.01989321 -0.00242934 -0.24798929 -0.1070253 ]\n",
      "2022-03-14 17:03:15.599 INFO    shap: phi = [-0.00432658  0.01737321  0.51783732  0.13762216]\n",
      "2022-03-14 17:03:15.614 INFO    shap: num_full_subsets = 2\n",
      "2022-03-14 17:03:15.632 INFO    shap: phi = [-0.01113672 -0.00291514 -0.29017132 -0.02587216]\n",
      "2022-03-14 17:03:15.633 INFO    shap: phi = [ 0.01264974  0.00729643 -0.16701829 -0.16409965]\n",
      "2022-03-14 17:03:15.634 INFO    shap: phi = [-0.00151301 -0.00438129  0.45718961  0.18997182]\n",
      "2022-03-14 17:03:15.651 INFO    shap: num_full_subsets = 2\n",
      "2022-03-14 17:03:15.669 INFO    shap: phi = [-0.0053671  -0.01517362 -0.27522435 -0.03289297]\n",
      "2022-03-14 17:03:15.670 INFO    shap: phi = [-0.00122575 -0.0170376   0.0042262  -0.24473813]\n",
      "2022-03-14 17:03:15.671 INFO    shap: phi = [0.00659285 0.03221123 0.27099815 0.2776311 ]\n",
      "2022-03-14 17:03:15.687 INFO    shap: num_full_subsets = 2\n",
      "2022-03-14 17:03:15.704 INFO    shap: phi = [-0.00824356 -0.01072811 -0.29395753 -0.01630734]\n",
      "2022-03-14 17:03:15.705 INFO    shap: phi = [ 0.00853125 -0.01139799 -0.20382653 -0.0752735 ]\n",
      "2022-03-14 17:03:15.706 INFO    shap: phi = [-2.87685602e-04  2.21261017e-02  4.97784063e-01  9.15808426e-02]\n",
      "2022-03-14 17:03:15.724 INFO    shap: num_full_subsets = 2\n",
      "2022-03-14 17:03:15.741 INFO    shap: phi = [0.02472145 0.00807702 0.55862684 0.04604836]\n",
      "2022-03-14 17:03:15.743 INFO    shap: phi = [-0.03037192 -0.00448481 -0.3734415   0.08072198]\n",
      "2022-03-14 17:03:15.744 INFO    shap: phi = [ 0.00565047 -0.0035922  -0.18518534 -0.12677034]\n",
      "2022-03-14 17:03:15.763 INFO    shap: num_full_subsets = 2\n",
      "2022-03-14 17:03:15.781 INFO    shap: phi = [-0.00485773 -0.01881131 -0.28994737 -0.01419717]\n",
      "2022-03-14 17:03:15.783 INFO    shap: phi = [0.00071805 0.01079965 0.54207247 0.08868389]\n",
      "2022-03-14 17:03:15.784 INFO    shap: phi = [ 0.00413968  0.00801166 -0.2521251  -0.07448673]\n"
     ]
    },
    {
     "name": "stderr",
     "output_type": "stream",
     "text": [
      "2022-03-14 17:03:15.802 INFO    shap: num_full_subsets = 2\n",
      "2022-03-14 17:03:15.823 INFO    shap: phi = [-0.010572   -0.02212778 -0.27650572 -0.02325036]\n",
      "2022-03-14 17:03:15.824 INFO    shap: phi = [ 0.0188556  -0.02264182  0.45474438  0.07404428]\n",
      "2022-03-14 17:03:15.825 INFO    shap: phi = [-0.00828359  0.0447696  -0.17823866 -0.05079392]\n",
      "2022-03-14 17:03:15.845 INFO    shap: num_full_subsets = 2\n",
      "2022-03-14 17:03:15.865 INFO    shap: phi = [-0.00229107 -0.00449167 -0.30562598 -0.01812251]\n",
      "2022-03-14 17:03:15.867 INFO    shap: phi = [-0.00732368  0.00703542  0.48980803  0.07215164]\n",
      "2022-03-14 17:03:15.868 INFO    shap: phi = [ 0.00961475 -0.00254376 -0.18418205 -0.05402913]\n",
      "2022-03-14 17:03:15.887 INFO    shap: num_full_subsets = 2\n",
      "2022-03-14 17:03:15.904 INFO    shap: phi = [-0.01240765 -0.00672481 -0.295552   -0.01596454]\n",
      "2022-03-14 17:03:15.906 INFO    shap: phi = [0.01939355 0.00487543 0.45418843 0.1223521 ]\n",
      "2022-03-14 17:03:15.907 INFO    shap: phi = [-0.0069859   0.00184938 -0.15863643 -0.10638756]\n",
      "2022-03-14 17:03:15.923 INFO    shap: num_full_subsets = 2\n",
      "2022-03-14 17:03:15.941 INFO    shap: phi = [0.02409472 0.0143585  0.55941163 0.04116077]\n",
      "2022-03-14 17:03:15.942 INFO    shap: phi = [-0.02970175 -0.00771123 -0.37181056  0.08019608]\n",
      "2022-03-14 17:03:15.943 INFO    shap: phi = [ 0.00560703 -0.00664727 -0.18760106 -0.12135685]\n",
      "2022-03-14 17:03:15.960 INFO    shap: num_full_subsets = 2\n",
      "2022-03-14 17:03:15.977 INFO    shap: phi = [0.02540704 0.00099469 0.56850462 0.04272114]\n",
      "2022-03-14 17:03:15.978 INFO    shap: phi = [-0.0332645  -0.00053456 -0.37849247  0.08430002]\n",
      "2022-03-14 17:03:15.979 INFO    shap: phi = [ 0.00785745 -0.00046013 -0.19001215 -0.12702116]\n",
      "2022-03-14 17:03:15.996 INFO    shap: num_full_subsets = 2\n",
      "2022-03-14 17:03:16.014 INFO    shap: phi = [0.01959321 0.01656504 0.54571148 0.05192197]\n",
      "2022-03-14 17:03:16.015 INFO    shap: phi = [-0.02153615 -0.01017019 -0.36732856  0.07470132]\n",
      "2022-03-14 17:03:16.016 INFO    shap: phi = [ 0.00194294 -0.00639485 -0.17838292 -0.12662329]\n",
      "Passing a set as an indexer is deprecated and will raise in a future version. Use a list instead.\n",
      "Passing a set as an indexer is deprecated and will raise in a future version. Use a list instead.\n",
      "2022-03-14 17:03:16.070 INFO    mlfoundry.mlfoundry_run: Metrics logged successfully\n",
      "Passing a set as an indexer is deprecated and will raise in a future version. Use a list instead.\n",
      "2022-03-14 17:03:16.097 INFO    mlfoundry.mlfoundry_run: Dataset stats have been successfully computed and logged\n"
     ]
    }
   ],
   "source": [
    "import shap\n",
    "\n",
    "y_train_prob = clf.predict_proba(X_train)\n",
    "\n",
    "\n",
    "X_train_df = pd.DataFrame(X_train, columns=iris.feature_names)\n",
    "X_train_df['targets'] = y_train\n",
    "X_train_df['predictions'] = y_hat_train\n",
    "X_train_df['prediction_probabilities'] = list(y_train_prob)\n",
    "\n",
    "X_test_df = pd.DataFrame(X_test, columns=iris.feature_names)\n",
    "X_test_df['targets'] = y_test\n",
    "X_test_df['predictions'] = y_hat_test\n",
    "\n",
    "# compute and log stats for train data without shap\n",
    "mlf_run.log_dataset_stats(\n",
    "    X_train_df, \n",
    "    data_slice=mlf.DataSlice.TRAIN,\n",
    "    data_schema=mlf.Schema(\n",
    "        feature_column_names=iris.feature_names,\n",
    "        prediction_column_name=\"predictions\",\n",
    "        actual_column_name=\"targets\",\n",
    "        prediction_probability_column_name=\"prediction_probabilities\"   # to calculate probability related metrics\n",
    "    ),\n",
    "    model_type=mlf.ModelType.MULTICLASS_CLASSIFICATION,\n",
    ")\n",
    "\n",
    "# shap value computation\n",
    "X_train_df1 = pd.DataFrame(X_train, columns=iris.feature_names)\n",
    "X_test_df1 = pd.DataFrame(X_test, columns=iris.feature_names)\n",
    "explainer = shap.KernelExplainer(clf.predict_proba, X_train_df1)\n",
    "shap_values = explainer.shap_values(X_test_df1)\n",
    "\n",
    "mlf_run.log_dataset_stats(\n",
    "    X_test_df, \n",
    "    data_slice=mlf.DataSlice.TEST,\n",
    "    data_schema=mlf.Schema(\n",
    "        feature_column_names=iris.feature_names,\n",
    "        prediction_column_name=\"predictions\",\n",
    "        actual_column_name=\"targets\"\n",
    "    ),\n",
    "    model_type=mlf.ModelType.MULTICLASS_CLASSIFICATION,\n",
    "    shap_values=shap_values\n",
    ")"
   ]
  },
  {
   "cell_type": "code",
   "execution_count": 80,
   "metadata": {},
   "outputs": [],
   "source": [
    "with open('iris_sklearn_model.pkl', 'wb') as f:\n",
    "    pickle.dump(clf, f)"
   ]
  },
  {
   "cell_type": "code",
   "execution_count": 81,
   "metadata": {},
   "outputs": [
    {
     "name": "stdout",
     "output_type": "stream",
     "text": [
      "Overwriting streamlit_iris.py\n"
     ]
    }
   ],
   "source": [
    "%%writefile streamlit_iris.py\n",
    "import pickle \n",
    "import random\n",
    "import mlfoundry as mlf\n",
    "import pandas as pd\n",
    "\n",
    "def predict_fn(i1: float, i2: float, i3: float, i4: float) -> str:\n",
    "    try:\n",
    "        class_name_map = dict(\n",
    "            zip([0, 1, 2], [\"Iris Setosa\", \"Iris Versicolour\", \"Iris Virginica\"])\n",
    "        )\n",
    "        features = pd.DataFrame([[i1, i2, i3, i4]])\n",
    "        with open('iris_sklearn_model.pkl', 'wb') as f:\n",
    "            model = pickle.load(f)\n",
    "        model_output = model.predict(features)[0]\n",
    "        return class_name_map[model_output]\n",
    "    except Exception as e:\n",
    "        print(f\"Exception happened: {e}. Choosing random\")\n",
    "        return random.choice([\"Iris Setosa\", \"Iris Versicolour\", \"Iris Virginica\"])\n",
    "\n",
    "mlf_api = mlf.get_client()\n",
    "mlf_run = mlf_api.create_run(project_name=\"iris-project-webapp\")\n",
    "raw_in, raw_out = mlf_run.webapp(\n",
    "    fn=predict_fn, inputs=[\"number\", \"number\", \"number\", \"number\"], outputs=\"text\"\n",
    ")"
   ]
  },
  {
   "cell_type": "code",
   "execution_count": 82,
   "metadata": {},
   "outputs": [],
   "source": [
    "mlf_run.log_webapp_file('streamlit_iris.py')"
   ]
  },
  {
   "cell_type": "code",
   "execution_count": 54,
   "metadata": {},
   "outputs": [
    {
     "name": "stdout",
     "output_type": "stream",
     "text": [
      "2022-03-14 16:56:55.707 INFO    streamlit_gradio.networking: Hashes generated for all static assets.\n",
      "\u001b[32m\u001b[1mMlFoundry CLI\u001b[0m\n",
      "\u001b[0m\n",
      "\u001b[34m\u001b[1m  You can now view your Streamlit app in your browser.\u001b[0m\n",
      "\u001b[0m\n",
      "\u001b[34m  Local URL: \u001b[0m\u001b[1mhttp://localhost:8502\u001b[0m\n",
      "\u001b[34m  Network URL: \u001b[0m\u001b[1mhttp://192.168.1.67:8502\u001b[0m\n",
      "\u001b[0m\n",
      "\u001b[34m\u001b[1m  For better performance, install the Watchdog module:\u001b[0m\n",
      "\n",
      "  $ xcode-select --install\n",
      "  $ pip install watchdog\n",
      "            \u001b[0m\n",
      "2022-03-14 16:57:02.545 Hashes generated for all static assets.\n",
      "2022-03-14 16:57:04.299 Run is created with id 8037871c80ef4785953c5fbda0f903bc and name run_2022-03-14_23:57:04_utc\n",
      "2022-03-14 16:57:11.200 Run is created with id 89bb52e30042444a86635f2a1d97dbed and name run_2022-03-14_23:57:11_utc\n",
      "2022-03-14 16:57:11.665 Webapp could not be generated. Error name 'random' is not defined\n",
      "2022-03-14 16:57:11.665 Cannot execute streamlit /Users/cusgadmin/work/deepL/mlfoundry-examples/examples/sklearn/servicefoundry/getdirs/webapp/webapp/streamlit_iris.py. Error cannot unpack non-iterable NoneType object\n",
      "^C\n",
      "\u001b[34m  Stopping...\u001b[0m\n"
     ]
    }
   ],
   "source": [
    "!mlfoundry ui "
   ]
  },
  {
   "cell_type": "code",
   "execution_count": null,
   "metadata": {},
   "outputs": [],
   "source": []
  }
 ],
 "metadata": {
  "interpreter": {
   "hash": "e8743b0f75b6a55a016638ba229c0d478e77c985bb41c53d6f2fbe781d6f864f"
  },
  "kernelspec": {
   "display_name": "Python 3 (ipykernel)",
   "language": "python",
   "name": "python3"
  },
  "language_info": {
   "codemirror_mode": {
    "name": "ipython",
    "version": 3
   },
   "file_extension": ".py",
   "mimetype": "text/x-python",
   "name": "python",
   "nbconvert_exporter": "python",
   "pygments_lexer": "ipython3",
   "version": "3.9.4"
  }
 },
 "nbformat": 4,
 "nbformat_minor": 2
}
