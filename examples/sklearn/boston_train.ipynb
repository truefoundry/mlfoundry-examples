{
 "cells": [
  {
   "cell_type": "markdown",
   "metadata": {},
   "source": [
    "# Regression using Boston Data"
   ]
  },
  {
   "cell_type": "code",
   "execution_count": 1,
   "metadata": {},
   "outputs": [
    {
     "name": "stderr",
     "output_type": "stream",
     "text": [
      "2022-04-06 00:28:38.789 INFO    streamlit_gradio.networking: Hashes generated for all static assets.\n"
     ]
    }
   ],
   "source": [
    "import shap\n",
    "import mlfoundry as mlf\n",
    "import pandas as pd \n",
    "from sklearn.datasets import load_boston\n",
    "from sklearn.ensemble import RandomForestRegressor\n",
    "from sklearn.model_selection import train_test_split"
   ]
  },
  {
   "cell_type": "markdown",
   "metadata": {},
   "source": [
    "### Loading Data"
   ]
  },
  {
   "cell_type": "code",
   "execution_count": 2,
   "metadata": {},
   "outputs": [],
   "source": [
    "boston = load_boston()\n",
    "\n",
    "# Create a Pandas dataframe with all the features\n",
    "X = pd.DataFrame(data = boston['data'], columns = boston['feature_names'])\n",
    "y = boston['target']\n",
    "\n",
    "X_train, X_test, y_train, y_test = train_test_split(X, y, random_state=42)"
   ]
  },
  {
   "cell_type": "markdown",
   "metadata": {},
   "source": [
    "### Creating mlfoundry runs"
   ]
  },
  {
   "cell_type": "code",
   "execution_count": 3,
   "metadata": {},
   "outputs": [
    {
     "name": "stderr",
     "output_type": "stream",
     "text": [
      "2022-04-06 00:28:43.918 INFO    mlfoundry.mlfoundry_api: Run is created with id 3d6d1496f86f4554a11e0d5ca7f9d0a2 and name run_2022-04-05_18-58-43_utc\n"
     ]
    }
   ],
   "source": [
    "mlf_api = mlf.get_client() # to save locally\n",
    "mlf_run = mlf_api.create_run(project_name='boston-project')"
   ]
  },
  {
   "cell_type": "markdown",
   "metadata": {},
   "source": [
    "### Logging Dataset"
   ]
  },
  {
   "cell_type": "code",
   "execution_count": 4,
   "metadata": {},
   "outputs": [],
   "source": [
    "mlf_run.log_dataset(X_train, data_slice=\"train\")\n",
    "mlf_run.log_dataset(X_test, data_slice=\"test\")"
   ]
  },
  {
   "cell_type": "markdown",
   "metadata": {},
   "source": [
    "### Training Model"
   ]
  },
  {
   "cell_type": "code",
   "execution_count": 5,
   "metadata": {},
   "outputs": [
    {
     "data": {
      "text/plain": [
       "RandomForestRegressor()"
      ]
     },
     "execution_count": 5,
     "metadata": {},
     "output_type": "execute_result"
    }
   ],
   "source": [
    "rf_reg = RandomForestRegressor(n_estimators=100)\n",
    "rf_reg.fit(X_train, y_train)"
   ]
  },
  {
   "cell_type": "markdown",
   "metadata": {},
   "source": [
    "### Logging Parameters & Model"
   ]
  },
  {
   "cell_type": "code",
   "execution_count": 6,
   "metadata": {},
   "outputs": [
    {
     "name": "stderr",
     "output_type": "stream",
     "text": [
      "2022-04-06 00:28:44.177 INFO    mlfoundry.mlfoundry_run: Parameters logged successfully\n",
      "2022-04-06 00:28:46.218 INFO    mlfoundry.mlfoundry_run: Model logged Successfully\n"
     ]
    }
   ],
   "source": [
    "mlf_run.log_params(rf_reg.get_params())\n",
    "mlf_run.log_model(rf_reg, \"sklearn\")\n",
    "\n",
    "# logging predictions\n",
    "y_hat_train = rf_reg.predict(X_train)\n",
    "y_hat_test = rf_reg.predict(X_test)"
   ]
  },
  {
   "cell_type": "markdown",
   "metadata": {},
   "source": [
    "### Logging metrics"
   ]
  },
  {
   "cell_type": "code",
   "execution_count": 7,
   "metadata": {},
   "outputs": [
    {
     "name": "stderr",
     "output_type": "stream",
     "text": [
      "2022-04-06 00:28:46.254 INFO    mlfoundry.mlfoundry_run: Metrics logged successfully\n"
     ]
    }
   ],
   "source": [
    "from sklearn.metrics import r2_score\n",
    "\n",
    "metrics_dict = {}\n",
    "\n",
    "metrics_dict['r2_score'] = r2_score(y_test, y_hat_test)\n",
    "\n",
    "mlf_run.log_metrics(metrics_dict)"
   ]
  },
  {
   "cell_type": "markdown",
   "metadata": {},
   "source": [
    "### Logging Dataset Stats"
   ]
  },
  {
   "cell_type": "code",
   "execution_count": 8,
   "metadata": {},
   "outputs": [
    {
     "name": "stderr",
     "output_type": "stream",
     "text": [
      "Passing a set as an indexer is deprecated and will raise in a future version. Use a list instead.\n",
      "2022-04-06 00:28:46.816 INFO    whylogs.app.config: No config file loaded\n",
      "Passing a set as an indexer is deprecated and will raise in a future version. Use a list instead.\n",
      "2022-04-06 00:28:46.881 INFO    mlfoundry.mlfoundry_run: Metrics logged successfully\n",
      "Passing a set as an indexer is deprecated and will raise in a future version. Use a list instead.\n",
      "2022-04-06 00:28:46.896 INFO    mlfoundry.mlfoundry_run: Dataset stats have been successfully computed and logged\n"
     ]
    },
    {
     "name": "stdout",
     "output_type": "stream",
     "text": [
      "WARN: Missing config\n"
     ]
    }
   ],
   "source": [
    "import shap\n",
    "\n",
    "X_test_df = X_test.copy()\n",
    "X_test_df['targets'] = y_test\n",
    "X_test_df['predictions'] = y_hat_test\n",
    "\n",
    "# shap value computation\n",
    "explainer = shap.TreeExplainer(rf_reg)\n",
    "shap_values = explainer.shap_values(X_test)\n",
    "\n",
    "\n",
    "mlf_run.log_dataset_stats(\n",
    "    X_test_df, \n",
    "    data_slice=\"test\",\n",
    "    data_schema=mlf.Schema(\n",
    "        feature_column_names=list(boston['feature_names']),\n",
    "        prediction_column_name=\"predictions\",\n",
    "        actual_column_name=\"targets\"\n",
    "    ),\n",
    "    model_type=\"regression\",\n",
    "    shap_values=shap_values\n",
    ")"
   ]
  },
  {
   "cell_type": "code",
   "execution_count": null,
   "metadata": {},
   "outputs": [],
   "source": []
  }
 ],
 "metadata": {
  "interpreter": {
   "hash": "027b14c6733c9acbe37177506f8659b1d92ece977e44ec5755eb2e5d348989ff"
  },
  "kernelspec": {
   "display_name": "Python 3 (ipykernel)",
   "language": "python",
   "name": "python3"
  },
  "language_info": {
   "codemirror_mode": {
    "name": "ipython",
    "version": 3
   },
   "file_extension": ".py",
   "mimetype": "text/x-python",
   "name": "python",
   "nbconvert_exporter": "python",
   "pygments_lexer": "ipython3",
   "version": "3.8.5"
  }
 },
 "nbformat": 4,
 "nbformat_minor": 2
}
