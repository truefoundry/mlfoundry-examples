{
 "cells": [
  {
   "cell_type": "markdown",
   "metadata": {
    "tags": []
   },
   "source": [
    "## Try this Notebook in Google Colab\n",
    "\n",
    "[![Open In Colab](https://colab.research.google.com/assets/colab-badge.svg)](https://colab.research.google.com/github/truefoundry/mlfoundry-examples/blob/main/examples/sklearn/wine_classification.ipynb)"
   ]
  },
  {
   "cell_type": "markdown",
   "metadata": {
    "tags": []
   },
   "source": [
    "## Install dependencies"
   ]
  },
  {
   "cell_type": "code",
   "execution_count": 4,
   "metadata": {
    "tags": []
   },
   "outputs": [
    {
     "name": "stdout",
     "output_type": "stream",
     "text": [
      "\u001b[33mWARNING: You are using pip version 22.0.4; however, version 22.1 is available.\n",
      "You should consider upgrading via the '/Users/chiragjn/Library/Caches/pypoetry/virtualenvs/mlfoundry-jYktQAfc-py3.9/bin/python -m pip install --upgrade pip' command.\u001b[0m\u001b[33m\n",
      "\u001b[0mRequirement already satisfied: mlfoundry in /Users/chiragjn/Library/Caches/pypoetry/virtualenvs/mlfoundry-jYktQAfc-py3.9/lib/python3.9/site-packages (0.3.15)\n",
      "Requirement already satisfied: orjson<4.0.0,>=3.6.5 in /Users/chiragjn/Library/Caches/pypoetry/virtualenvs/mlfoundry-jYktQAfc-py3.9/lib/python3.9/site-packages (from mlfoundry) (3.6.8)\n",
      "Requirement already satisfied: fastparquet<0.8.0,>=0.7.2 in /Users/chiragjn/Library/Caches/pypoetry/virtualenvs/mlfoundry-jYktQAfc-py3.9/lib/python3.9/site-packages (from mlfoundry) (0.7.2)\n",
      "Requirement already satisfied: tfy-mlflow-client==0.0.8 in /Users/chiragjn/Library/Caches/pypoetry/virtualenvs/mlfoundry-jYktQAfc-py3.9/lib/python3.9/site-packages (from mlfoundry) (0.0.8)\n",
      "Requirement already satisfied: GitPython<4.0.0,>=3.1.26 in /Users/chiragjn/Library/Caches/pypoetry/virtualenvs/mlfoundry-jYktQAfc-py3.9/lib/python3.9/site-packages (from mlfoundry) (3.1.27)\n",
      "Requirement already satisfied: pandas>=1.0.0 in /Users/chiragjn/Library/Caches/pypoetry/virtualenvs/mlfoundry-jYktQAfc-py3.9/lib/python3.9/site-packages (from mlfoundry) (1.1.5)\n",
      "Requirement already satisfied: shap<0.41.0,>=0.40.0 in /Users/chiragjn/Library/Caches/pypoetry/virtualenvs/mlfoundry-jYktQAfc-py3.9/lib/python3.9/site-packages (from mlfoundry) (0.40.0)\n",
      "Requirement already satisfied: matplotlib>=3.0.3 in /Users/chiragjn/Library/Caches/pypoetry/virtualenvs/mlfoundry-jYktQAfc-py3.9/lib/python3.9/site-packages (from mlfoundry) (3.5.2)\n",
      "Requirement already satisfied: whylogs>=0.6.15 in /Users/chiragjn/Library/Caches/pypoetry/virtualenvs/mlfoundry-jYktQAfc-py3.9/lib/python3.9/site-packages (from mlfoundry) (0.7.6)\n",
      "Requirement already satisfied: human-id<0.3.0,>=0.2.0 in /Users/chiragjn/Library/Caches/pypoetry/virtualenvs/mlfoundry-jYktQAfc-py3.9/lib/python3.9/site-packages (from mlfoundry) (0.2.0)\n",
      "Requirement already satisfied: scipy<2.0.0,>=1.5.4 in /Users/chiragjn/Library/Caches/pypoetry/virtualenvs/mlfoundry-jYktQAfc-py3.9/lib/python3.9/site-packages (from mlfoundry) (1.7.3)\n",
      "Requirement already satisfied: packaging<22.0,>=21.3 in /Users/chiragjn/Library/Caches/pypoetry/virtualenvs/mlfoundry-jYktQAfc-py3.9/lib/python3.9/site-packages (from mlfoundry) (21.3)\n",
      "Requirement already satisfied: cryptography<37.0.0,>=36.0.1 in /Users/chiragjn/Library/Caches/pypoetry/virtualenvs/mlfoundry-jYktQAfc-py3.9/lib/python3.9/site-packages (from mlfoundry) (36.0.2)\n",
      "Requirement already satisfied: numpy>=1.17.0 in /Users/chiragjn/Library/Caches/pypoetry/virtualenvs/mlfoundry-jYktQAfc-py3.9/lib/python3.9/site-packages (from mlfoundry) (1.21.6)\n",
      "Requirement already satisfied: psutil<6.0.0,>=5.9.0 in /Users/chiragjn/Library/Caches/pypoetry/virtualenvs/mlfoundry-jYktQAfc-py3.9/lib/python3.9/site-packages (from mlfoundry) (5.9.0)\n",
      "Requirement already satisfied: PyMySQL<2.0.0,>=1.0.2 in /Users/chiragjn/Library/Caches/pypoetry/virtualenvs/mlfoundry-jYktQAfc-py3.9/lib/python3.9/site-packages (from mlfoundry) (1.0.2)\n",
      "Requirement already satisfied: pipreqs<0.5.0,>=0.4.11 in /Users/chiragjn/Library/Caches/pypoetry/virtualenvs/mlfoundry-jYktQAfc-py3.9/lib/python3.9/site-packages (from mlfoundry) (0.4.11)\n",
      "Requirement already satisfied: SQLAlchemy<2.0.0,>=1.4.30 in /Users/chiragjn/Library/Caches/pypoetry/virtualenvs/mlfoundry-jYktQAfc-py3.9/lib/python3.9/site-packages (from mlfoundry) (1.4.35)\n",
      "Requirement already satisfied: psycopg2-binary<3.0.0,>=2.9.1 in /Users/chiragjn/Library/Caches/pypoetry/virtualenvs/mlfoundry-jYktQAfc-py3.9/lib/python3.9/site-packages (from mlfoundry) (2.9.3)\n",
      "Requirement already satisfied: amplitude-tracker<0.0.8,>=0.0.7 in /Users/chiragjn/Library/Caches/pypoetry/virtualenvs/mlfoundry-jYktQAfc-py3.9/lib/python3.9/site-packages (from mlfoundry) (0.0.7)\n",
      "Requirement already satisfied: boto3>=1.14.1 in /Users/chiragjn/Library/Caches/pypoetry/virtualenvs/mlfoundry-jYktQAfc-py3.9/lib/python3.9/site-packages (from mlfoundry) (1.22.1)\n",
      "Requirement already satisfied: scikit-learn<0.25.0,>=0.24.2 in /Users/chiragjn/Library/Caches/pypoetry/virtualenvs/mlfoundry-jYktQAfc-py3.9/lib/python3.9/site-packages (from mlfoundry) (0.24.2)\n",
      "Requirement already satisfied: pydantic<2.0.0,>=1.8.2 in /Users/chiragjn/Library/Caches/pypoetry/virtualenvs/mlfoundry-jYktQAfc-py3.9/lib/python3.9/site-packages (from mlfoundry) (1.9.0)\n",
      "Requirement already satisfied: pyarrow>=5.0.0 in /Users/chiragjn/Library/Caches/pypoetry/virtualenvs/mlfoundry-jYktQAfc-py3.9/lib/python3.9/site-packages (from mlfoundry) (7.0.0)\n",
      "Requirement already satisfied: importlib-metadata!=4.7.0,>=3.7.0 in /Users/chiragjn/Library/Caches/pypoetry/virtualenvs/mlfoundry-jYktQAfc-py3.9/lib/python3.9/site-packages (from tfy-mlflow-client==0.0.8->mlfoundry) (4.11.3)\n",
      "Requirement already satisfied: cloudpickle in /Users/chiragjn/Library/Caches/pypoetry/virtualenvs/mlfoundry-jYktQAfc-py3.9/lib/python3.9/site-packages (from tfy-mlflow-client==0.0.8->mlfoundry) (2.0.0)\n",
      "Requirement already satisfied: requests>=2.17.3 in /Users/chiragjn/Library/Caches/pypoetry/virtualenvs/mlfoundry-jYktQAfc-py3.9/lib/python3.9/site-packages (from tfy-mlflow-client==0.0.8->mlfoundry) (2.27.1)\n",
      "Requirement already satisfied: click>=7.0 in /Users/chiragjn/Library/Caches/pypoetry/virtualenvs/mlfoundry-jYktQAfc-py3.9/lib/python3.9/site-packages (from tfy-mlflow-client==0.0.8->mlfoundry) (8.1.2)\n",
      "Requirement already satisfied: pytz in /Users/chiragjn/Library/Caches/pypoetry/virtualenvs/mlfoundry-jYktQAfc-py3.9/lib/python3.9/site-packages (from tfy-mlflow-client==0.0.8->mlfoundry) (2022.1)\n",
      "Requirement already satisfied: databricks-cli>=0.8.7 in /Users/chiragjn/Library/Caches/pypoetry/virtualenvs/mlfoundry-jYktQAfc-py3.9/lib/python3.9/site-packages (from tfy-mlflow-client==0.0.8->mlfoundry) (0.16.6)\n",
      "Requirement already satisfied: entrypoints in /Users/chiragjn/Library/Caches/pypoetry/virtualenvs/mlfoundry-jYktQAfc-py3.9/lib/python3.9/site-packages (from tfy-mlflow-client==0.0.8->mlfoundry) (0.4)\n",
      "Requirement already satisfied: pyyaml>=5.1 in /Users/chiragjn/Library/Caches/pypoetry/virtualenvs/mlfoundry-jYktQAfc-py3.9/lib/python3.9/site-packages (from tfy-mlflow-client==0.0.8->mlfoundry) (6.0)\n",
      "Requirement already satisfied: sqlparse>=0.3.1 in /Users/chiragjn/Library/Caches/pypoetry/virtualenvs/mlfoundry-jYktQAfc-py3.9/lib/python3.9/site-packages (from tfy-mlflow-client==0.0.8->mlfoundry) (0.4.2)\n",
      "Requirement already satisfied: protobuf>=3.7.0 in /Users/chiragjn/Library/Caches/pypoetry/virtualenvs/mlfoundry-jYktQAfc-py3.9/lib/python3.9/site-packages (from tfy-mlflow-client==0.0.8->mlfoundry) (3.20.1)\n",
      "Requirement already satisfied: python-dateutil>2.1 in /Users/chiragjn/Library/Caches/pypoetry/virtualenvs/mlfoundry-jYktQAfc-py3.9/lib/python3.9/site-packages (from amplitude-tracker<0.0.8,>=0.0.7->mlfoundry) (2.8.2)\n",
      "Requirement already satisfied: monotonic>=1.5 in /Users/chiragjn/Library/Caches/pypoetry/virtualenvs/mlfoundry-jYktQAfc-py3.9/lib/python3.9/site-packages (from amplitude-tracker<0.0.8,>=0.0.7->mlfoundry) (1.6)\n",
      "Requirement already satisfied: six>=1.5 in /Users/chiragjn/Library/Caches/pypoetry/virtualenvs/mlfoundry-jYktQAfc-py3.9/lib/python3.9/site-packages (from amplitude-tracker<0.0.8,>=0.0.7->mlfoundry) (1.16.0)\n",
      "Requirement already satisfied: backoff==1.10.0 in /Users/chiragjn/Library/Caches/pypoetry/virtualenvs/mlfoundry-jYktQAfc-py3.9/lib/python3.9/site-packages (from amplitude-tracker<0.0.8,>=0.0.7->mlfoundry) (1.10.0)\n",
      "Requirement already satisfied: jmespath<2.0.0,>=0.7.1 in /Users/chiragjn/Library/Caches/pypoetry/virtualenvs/mlfoundry-jYktQAfc-py3.9/lib/python3.9/site-packages (from boto3>=1.14.1->mlfoundry) (1.0.0)\n",
      "Requirement already satisfied: s3transfer<0.6.0,>=0.5.0 in /Users/chiragjn/Library/Caches/pypoetry/virtualenvs/mlfoundry-jYktQAfc-py3.9/lib/python3.9/site-packages (from boto3>=1.14.1->mlfoundry) (0.5.2)\n",
      "Requirement already satisfied: botocore<1.26.0,>=1.25.1 in /Users/chiragjn/Library/Caches/pypoetry/virtualenvs/mlfoundry-jYktQAfc-py3.9/lib/python3.9/site-packages (from boto3>=1.14.1->mlfoundry) (1.25.1)\n",
      "Requirement already satisfied: cffi>=1.12 in /Users/chiragjn/Library/Caches/pypoetry/virtualenvs/mlfoundry-jYktQAfc-py3.9/lib/python3.9/site-packages (from cryptography<37.0.0,>=36.0.1->mlfoundry) (1.15.0)\n",
      "Requirement already satisfied: fsspec in /Users/chiragjn/Library/Caches/pypoetry/virtualenvs/mlfoundry-jYktQAfc-py3.9/lib/python3.9/site-packages (from fastparquet<0.8.0,>=0.7.2->mlfoundry) (2022.3.0)\n",
      "Requirement already satisfied: thrift>=0.11.0 in /Users/chiragjn/Library/Caches/pypoetry/virtualenvs/mlfoundry-jYktQAfc-py3.9/lib/python3.9/site-packages (from fastparquet<0.8.0,>=0.7.2->mlfoundry) (0.16.0)\n",
      "Requirement already satisfied: cramjam>=2.3.0 in /Users/chiragjn/Library/Caches/pypoetry/virtualenvs/mlfoundry-jYktQAfc-py3.9/lib/python3.9/site-packages (from fastparquet<0.8.0,>=0.7.2->mlfoundry) (2.5.0)\n",
      "Requirement already satisfied: gitdb<5,>=4.0.1 in /Users/chiragjn/Library/Caches/pypoetry/virtualenvs/mlfoundry-jYktQAfc-py3.9/lib/python3.9/site-packages (from GitPython<4.0.0,>=3.1.26->mlfoundry) (4.0.9)\n",
      "Requirement already satisfied: pillow>=6.2.0 in /Users/chiragjn/Library/Caches/pypoetry/virtualenvs/mlfoundry-jYktQAfc-py3.9/lib/python3.9/site-packages (from matplotlib>=3.0.3->mlfoundry) (9.1.0)\n",
      "Requirement already satisfied: cycler>=0.10 in /Users/chiragjn/Library/Caches/pypoetry/virtualenvs/mlfoundry-jYktQAfc-py3.9/lib/python3.9/site-packages (from matplotlib>=3.0.3->mlfoundry) (0.11.0)\n",
      "Requirement already satisfied: fonttools>=4.22.0 in /Users/chiragjn/Library/Caches/pypoetry/virtualenvs/mlfoundry-jYktQAfc-py3.9/lib/python3.9/site-packages (from matplotlib>=3.0.3->mlfoundry) (4.33.3)\n",
      "Requirement already satisfied: kiwisolver>=1.0.1 in /Users/chiragjn/Library/Caches/pypoetry/virtualenvs/mlfoundry-jYktQAfc-py3.9/lib/python3.9/site-packages (from matplotlib>=3.0.3->mlfoundry) (1.4.2)\n",
      "Requirement already satisfied: pyparsing>=2.2.1 in /Users/chiragjn/Library/Caches/pypoetry/virtualenvs/mlfoundry-jYktQAfc-py3.9/lib/python3.9/site-packages (from matplotlib>=3.0.3->mlfoundry) (3.0.8)\n",
      "Requirement already satisfied: docopt in /Users/chiragjn/Library/Caches/pypoetry/virtualenvs/mlfoundry-jYktQAfc-py3.9/lib/python3.9/site-packages (from pipreqs<0.5.0,>=0.4.11->mlfoundry) (0.6.2)\n",
      "Requirement already satisfied: yarg in /Users/chiragjn/Library/Caches/pypoetry/virtualenvs/mlfoundry-jYktQAfc-py3.9/lib/python3.9/site-packages (from pipreqs<0.5.0,>=0.4.11->mlfoundry) (0.1.9)\n",
      "Requirement already satisfied: typing-extensions>=3.7.4.3 in /Users/chiragjn/Library/Caches/pypoetry/virtualenvs/mlfoundry-jYktQAfc-py3.9/lib/python3.9/site-packages (from pydantic<2.0.0,>=1.8.2->mlfoundry) (4.2.0)\n",
      "Requirement already satisfied: threadpoolctl>=2.0.0 in /Users/chiragjn/Library/Caches/pypoetry/virtualenvs/mlfoundry-jYktQAfc-py3.9/lib/python3.9/site-packages (from scikit-learn<0.25.0,>=0.24.2->mlfoundry) (3.1.0)\n",
      "Requirement already satisfied: joblib>=0.11 in /Users/chiragjn/Library/Caches/pypoetry/virtualenvs/mlfoundry-jYktQAfc-py3.9/lib/python3.9/site-packages (from scikit-learn<0.25.0,>=0.24.2->mlfoundry) (1.1.0)\n",
      "Requirement already satisfied: tqdm>4.25.0 in /Users/chiragjn/Library/Caches/pypoetry/virtualenvs/mlfoundry-jYktQAfc-py3.9/lib/python3.9/site-packages (from shap<0.41.0,>=0.40.0->mlfoundry) (4.64.0)\n",
      "Requirement already satisfied: slicer==0.0.7 in /Users/chiragjn/Library/Caches/pypoetry/virtualenvs/mlfoundry-jYktQAfc-py3.9/lib/python3.9/site-packages (from shap<0.41.0,>=0.40.0->mlfoundry) (0.0.7)\n",
      "Requirement already satisfied: numba in /Users/chiragjn/Library/Caches/pypoetry/virtualenvs/mlfoundry-jYktQAfc-py3.9/lib/python3.9/site-packages (from shap<0.41.0,>=0.40.0->mlfoundry) (0.55.1)\n",
      "Requirement already satisfied: greenlet!=0.4.17 in /Users/chiragjn/Library/Caches/pypoetry/virtualenvs/mlfoundry-jYktQAfc-py3.9/lib/python3.9/site-packages (from SQLAlchemy<2.0.0,>=1.4.30->mlfoundry) (1.1.2)\n",
      "Requirement already satisfied: puremagic<2.0,>=1.10 in /Users/chiragjn/Library/Caches/pypoetry/virtualenvs/mlfoundry-jYktQAfc-py3.9/lib/python3.9/site-packages (from whylogs>=0.6.15->mlfoundry) (1.12)\n",
      "Requirement already satisfied: smart-open>=4.1.2 in /Users/chiragjn/Library/Caches/pypoetry/virtualenvs/mlfoundry-jYktQAfc-py3.9/lib/python3.9/site-packages (from whylogs>=0.6.15->mlfoundry) (6.0.0)\n",
      "Requirement already satisfied: whylabs-client<0.4.0,>=0.3.0 in /Users/chiragjn/Library/Caches/pypoetry/virtualenvs/mlfoundry-jYktQAfc-py3.9/lib/python3.9/site-packages (from whylogs>=0.6.15->mlfoundry) (0.3.0)\n",
      "Requirement already satisfied: jsonschema>=3.2.0 in /Users/chiragjn/Library/Caches/pypoetry/virtualenvs/mlfoundry-jYktQAfc-py3.9/lib/python3.9/site-packages (from whylogs>=0.6.15->mlfoundry) (4.4.0)\n",
      "Requirement already satisfied: marshmallow>=3.7.1 in /Users/chiragjn/Library/Caches/pypoetry/virtualenvs/mlfoundry-jYktQAfc-py3.9/lib/python3.9/site-packages (from whylogs>=0.6.15->mlfoundry) (3.15.0)\n",
      "Requirement already satisfied: whylabs-datasketches>=2.2.0b1 in /Users/chiragjn/Library/Caches/pypoetry/virtualenvs/mlfoundry-jYktQAfc-py3.9/lib/python3.9/site-packages (from whylogs>=0.6.15->mlfoundry) (2.2.0b1)\n",
      "Requirement already satisfied: urllib3<1.27,>=1.25.4 in /Users/chiragjn/Library/Caches/pypoetry/virtualenvs/mlfoundry-jYktQAfc-py3.9/lib/python3.9/site-packages (from botocore<1.26.0,>=1.25.1->boto3>=1.14.1->mlfoundry) (1.26.9)\n",
      "Requirement already satisfied: pycparser in /Users/chiragjn/Library/Caches/pypoetry/virtualenvs/mlfoundry-jYktQAfc-py3.9/lib/python3.9/site-packages (from cffi>=1.12->cryptography<37.0.0,>=36.0.1->mlfoundry) (2.21)\n",
      "Requirement already satisfied: pyjwt>=1.7.0 in /Users/chiragjn/Library/Caches/pypoetry/virtualenvs/mlfoundry-jYktQAfc-py3.9/lib/python3.9/site-packages (from databricks-cli>=0.8.7->tfy-mlflow-client==0.0.8->mlfoundry) (2.3.0)\n",
      "Requirement already satisfied: oauthlib>=3.1.0 in /Users/chiragjn/Library/Caches/pypoetry/virtualenvs/mlfoundry-jYktQAfc-py3.9/lib/python3.9/site-packages (from databricks-cli>=0.8.7->tfy-mlflow-client==0.0.8->mlfoundry) (3.2.0)\n",
      "Requirement already satisfied: tabulate>=0.7.7 in /Users/chiragjn/Library/Caches/pypoetry/virtualenvs/mlfoundry-jYktQAfc-py3.9/lib/python3.9/site-packages (from databricks-cli>=0.8.7->tfy-mlflow-client==0.0.8->mlfoundry) (0.8.9)\n",
      "Requirement already satisfied: smmap<6,>=3.0.1 in /Users/chiragjn/Library/Caches/pypoetry/virtualenvs/mlfoundry-jYktQAfc-py3.9/lib/python3.9/site-packages (from gitdb<5,>=4.0.1->GitPython<4.0.0,>=3.1.26->mlfoundry) (5.0.0)\n",
      "Requirement already satisfied: zipp>=0.5 in /Users/chiragjn/Library/Caches/pypoetry/virtualenvs/mlfoundry-jYktQAfc-py3.9/lib/python3.9/site-packages (from importlib-metadata!=4.7.0,>=3.7.0->tfy-mlflow-client==0.0.8->mlfoundry) (3.8.0)\n",
      "Requirement already satisfied: pyrsistent!=0.17.0,!=0.17.1,!=0.17.2,>=0.14.0 in /Users/chiragjn/Library/Caches/pypoetry/virtualenvs/mlfoundry-jYktQAfc-py3.9/lib/python3.9/site-packages (from jsonschema>=3.2.0->whylogs>=0.6.15->mlfoundry) (0.18.1)\n",
      "Requirement already satisfied: attrs>=17.4.0 in /Users/chiragjn/Library/Caches/pypoetry/virtualenvs/mlfoundry-jYktQAfc-py3.9/lib/python3.9/site-packages (from jsonschema>=3.2.0->whylogs>=0.6.15->mlfoundry) (21.4.0)\n",
      "Requirement already satisfied: certifi>=2017.4.17 in /Users/chiragjn/Library/Caches/pypoetry/virtualenvs/mlfoundry-jYktQAfc-py3.9/lib/python3.9/site-packages (from requests>=2.17.3->tfy-mlflow-client==0.0.8->mlfoundry) (2021.10.8)\n",
      "Requirement already satisfied: charset-normalizer~=2.0.0 in /Users/chiragjn/Library/Caches/pypoetry/virtualenvs/mlfoundry-jYktQAfc-py3.9/lib/python3.9/site-packages (from requests>=2.17.3->tfy-mlflow-client==0.0.8->mlfoundry) (2.0.12)\n",
      "Requirement already satisfied: idna<4,>=2.5 in /Users/chiragjn/Library/Caches/pypoetry/virtualenvs/mlfoundry-jYktQAfc-py3.9/lib/python3.9/site-packages (from requests>=2.17.3->tfy-mlflow-client==0.0.8->mlfoundry) (3.3)\n",
      "Requirement already satisfied: llvmlite<0.39,>=0.38.0rc1 in /Users/chiragjn/Library/Caches/pypoetry/virtualenvs/mlfoundry-jYktQAfc-py3.9/lib/python3.9/site-packages (from numba->shap<0.41.0,>=0.40.0->mlfoundry) (0.38.0)\n",
      "Requirement already satisfied: setuptools in /Users/chiragjn/Library/Caches/pypoetry/virtualenvs/mlfoundry-jYktQAfc-py3.9/lib/python3.9/site-packages (from numba->shap<0.41.0,>=0.40.0->mlfoundry) (62.1.0)\n",
      "\u001b[33mWARNING: You are using pip version 22.0.4; however, version 22.1 is available.\n",
      "You should consider upgrading via the '/Users/chiragjn/Library/Caches/pypoetry/virtualenvs/mlfoundry-jYktQAfc-py3.9/bin/python -m pip install --upgrade pip' command.\u001b[0m\u001b[33m\n",
      "\u001b[0m"
     ]
    }
   ],
   "source": [
    "! pip install --quiet \"numpy>=1.0.0,<2.0.0\" \"pandas>=1.0.0,<2.0.0\" scikit-learn shap==0.40.0\n",
    "! pip install -U mlfoundry"
   ]
  },
  {
   "cell_type": "markdown",
   "metadata": {
    "tags": []
   },
   "source": [
    "## Initialize MLFoundry Client"
   ]
  },
  {
   "cell_type": "code",
   "execution_count": 5,
   "metadata": {},
   "outputs": [],
   "source": [
    "import os\n",
    "import getpass\n",
    "import urllib.parse\n",
    "import mlfoundry as mlf"
   ]
  },
  {
   "cell_type": "code",
   "execution_count": 6,
   "metadata": {},
   "outputs": [
    {
     "name": "stdout",
     "output_type": "stream",
     "text": [
      "Paste your TrueFoundry API key\n",
      "You can find it over at https://app.truefoundry.com/settings\n"
     ]
    },
    {
     "name": "stdin",
     "output_type": "stream",
     "text": [
      " ····························································\n"
     ]
    }
   ],
   "source": [
    "TFY_URL = os.environ.get('TFY_URL', 'https://app.truefoundry.com/')\n",
    "TFY_API_KEY = os.environ.get('TFY_API_KEY')\n",
    "if not TFY_API_KEY:\n",
    "    print(f'Paste your TrueFoundry API key\\nYou can find it over at {urllib.parse.urljoin(TFY_URL, \"settings\")}')\n",
    "    TFY_API_KEY = getpass.getpass()"
   ]
  },
  {
   "cell_type": "code",
   "execution_count": 7,
   "metadata": {},
   "outputs": [],
   "source": [
    "client = mlf.get_client(api_key=TFY_API_KEY)"
   ]
  },
  {
   "cell_type": "markdown",
   "metadata": {},
   "source": [
    "---"
   ]
  },
  {
   "cell_type": "markdown",
   "metadata": {},
   "source": [
    "## Wine recognition as a Classification problem"
   ]
  },
  {
   "cell_type": "code",
   "execution_count": 8,
   "metadata": {},
   "outputs": [],
   "source": [
    "import shap\n",
    "import pandas as pd\n",
    "from sklearn import datasets\n",
    "from sklearn.model_selection import train_test_split\n",
    "from sklearn.neighbors import KNeighborsClassifier\n",
    "from sklearn.ensemble import RandomForestClassifier\n",
    "from sklearn.metrics import accuracy_score, f1_score\n",
    "\n",
    "import mlfoundry as mlf"
   ]
  },
  {
   "cell_type": "markdown",
   "metadata": {},
   "source": [
    "### Loading data and preprocessing"
   ]
  },
  {
   "cell_type": "code",
   "execution_count": 9,
   "metadata": {},
   "outputs": [
    {
     "name": "stdout",
     "output_type": "stream",
     "text": [
      "dict_keys(['data', 'target', 'frame', 'target_names', 'DESCR', 'feature_names'])\n"
     ]
    }
   ],
   "source": [
    "data = datasets.load_wine()\n",
    "print(data.keys())"
   ]
  },
  {
   "cell_type": "code",
   "execution_count": 10,
   "metadata": {},
   "outputs": [
    {
     "name": "stdout",
     "output_type": "stream",
     "text": [
      ".. _wine_dataset:\n",
      "\n",
      "Wine recognition dataset\n",
      "------------------------\n",
      "\n",
      "**Data Set Characteristics:**\n",
      "\n",
      "    :Number of Instances: 178 (50 in each of three classes)\n",
      "    :Number of Attributes: 13 numeric, predictive attributes and the class\n",
      "    :Attribute Information:\n",
      " \t\t- Alcohol\n",
      " \t\t- Malic acid\n",
      " \t\t- Ash\n",
      "\t\t- Alcalinity of ash  \n",
      " \t\t- Magnesium\n",
      "\t\t- Total phenols\n",
      " \t\t- Flavanoids\n",
      " \t\t- Nonflavanoid phenols\n",
      " \t\t- Proanthocyanins\n",
      "\t\t- Color intensity\n",
      " \t\t- Hue\n",
      " \t\t- OD280/OD315 of diluted wines\n",
      " \t\t- Proline\n",
      "\n",
      "    - class:\n",
      "            - class_0\n",
      "            - class_1\n",
      "            - class_2\n",
      "\t\t\n",
      "    :Summary Statistics:\n",
      "    \n",
      "    ============================= ==== ===== ======= =====\n",
      "                                   Min   Max   Mean     SD\n",
      "    ============================= ==== ===== ======= =====\n",
      "    Alcohol:                      11.0  14.8    13.0   0.8\n",
      "    Malic Acid:                   0.74  5.80    2.34  1.12\n",
      "    Ash:                          1.36  3.23    2.36  0.27\n",
      "    Alcalinity of Ash:            10.6  30.0    19.5   3.3\n",
      "    Magnesium:                    70.0 162.0    99.7  14.3\n",
      "    Total Phenols:                0.98  3.88    2.29  0.63\n",
      "    Flavanoids:                   0.34  5.08    2.03  1.00\n",
      "    Nonflavanoid Phenols:         0.13  0.66    0.36  0.12\n",
      "    Proanthocyanins:              0.41  3.58    1.59  0.57\n",
      "    Colour Intensity:              1.3  13.0     5.1   2.3\n",
      "    Hue:                          0.48  1.71    0.96  0.23\n",
      "    OD280/OD315 of diluted wines: 1.27  4.00    2.61  0.71\n",
      "    Proline:                       278  1680     746   315\n",
      "    ============================= ==== ===== ======= =====\n",
      "\n",
      "    :Missing Attribute Values: None\n",
      "    :Class Distribution: class_0 (59), class_1 (71), class_2 (48)\n",
      "    :Creator: R.A. Fisher\n",
      "    :Donor: Michael Marshall (MARSHALL%PLU@io.arc.nasa.gov)\n",
      "    :Date: July, 1988\n",
      "\n",
      "This is a copy of UCI ML Wine recognition datasets.\n",
      "https://archive.ics.uci.edu/ml/machine-learning-databases/wine/wine.data\n",
      "\n",
      "The data is the results of a chemical analysis of wines grown in the same\n",
      "region in Italy by three different cultivators. There are thirteen different\n",
      "measurements taken for different constituents found in the three types of\n",
      "wine.\n",
      "\n",
      "Original Owners: \n",
      "\n",
      "Forina, M. et al, PARVUS - \n",
      "An Extendible Package for Data Exploration, Classification and Correlation. \n",
      "Institute of Pharmaceutical and Food Analysis and Technologies,\n",
      "Via Brigata Salerno, 16147 Genoa, Italy.\n",
      "\n",
      "Citation:\n",
      "\n",
      "Lichman, M. (2013). UCI Machine Learning Repository\n",
      "[https://archive.ics.uci.edu/ml]. Irvine, CA: University of California,\n",
      "School of Information and Computer Science. \n",
      "\n",
      ".. topic:: References\n",
      "\n",
      "  (1) S. Aeberhard, D. Coomans and O. de Vel, \n",
      "  Comparison of Classifiers in High Dimensional Settings, \n",
      "  Tech. Rep. no. 92-02, (1992), Dept. of Computer Science and Dept. of  \n",
      "  Mathematics and Statistics, James Cook University of North Queensland. \n",
      "  (Also submitted to Technometrics). \n",
      "\n",
      "  The data was used with many others for comparing various \n",
      "  classifiers. The classes are separable, though only RDA \n",
      "  has achieved 100% correct classification. \n",
      "  (RDA : 100%, QDA 99.4%, LDA 98.9%, 1NN 96.1% (z-transformed data)) \n",
      "  (All results using the leave-one-out technique) \n",
      "\n",
      "  (2) S. Aeberhard, D. Coomans and O. de Vel, \n",
      "  \"THE CLASSIFICATION PERFORMANCE OF RDA\" \n",
      "  Tech. Rep. no. 92-01, (1992), Dept. of Computer Science and Dept. of \n",
      "  Mathematics and Statistics, James Cook University of North Queensland. \n",
      "  (Also submitted to Journal of Chemometrics).\n",
      "\n"
     ]
    }
   ],
   "source": [
    "print(data.DESCR) "
   ]
  },
  {
   "cell_type": "code",
   "execution_count": 11,
   "metadata": {},
   "outputs": [
    {
     "data": {
      "text/html": [
       "<div>\n",
       "<style scoped>\n",
       "    .dataframe tbody tr th:only-of-type {\n",
       "        vertical-align: middle;\n",
       "    }\n",
       "\n",
       "    .dataframe tbody tr th {\n",
       "        vertical-align: top;\n",
       "    }\n",
       "\n",
       "    .dataframe thead th {\n",
       "        text-align: right;\n",
       "    }\n",
       "</style>\n",
       "<table border=\"1\" class=\"dataframe\">\n",
       "  <thead>\n",
       "    <tr style=\"text-align: right;\">\n",
       "      <th></th>\n",
       "      <th>alcohol</th>\n",
       "      <th>malic_acid</th>\n",
       "      <th>ash</th>\n",
       "      <th>alcalinity_of_ash</th>\n",
       "      <th>magnesium</th>\n",
       "      <th>total_phenols</th>\n",
       "      <th>flavanoids</th>\n",
       "      <th>nonflavanoid_phenols</th>\n",
       "      <th>proanthocyanins</th>\n",
       "      <th>color_intensity</th>\n",
       "      <th>hue</th>\n",
       "      <th>od280/od315_of_diluted_wines</th>\n",
       "      <th>proline</th>\n",
       "      <th>target</th>\n",
       "    </tr>\n",
       "  </thead>\n",
       "  <tbody>\n",
       "    <tr>\n",
       "      <th>0</th>\n",
       "      <td>14.23</td>\n",
       "      <td>1.71</td>\n",
       "      <td>2.43</td>\n",
       "      <td>15.6</td>\n",
       "      <td>127.0</td>\n",
       "      <td>2.80</td>\n",
       "      <td>3.06</td>\n",
       "      <td>0.28</td>\n",
       "      <td>2.29</td>\n",
       "      <td>5.64</td>\n",
       "      <td>1.04</td>\n",
       "      <td>3.92</td>\n",
       "      <td>1065.0</td>\n",
       "      <td>0</td>\n",
       "    </tr>\n",
       "    <tr>\n",
       "      <th>1</th>\n",
       "      <td>13.20</td>\n",
       "      <td>1.78</td>\n",
       "      <td>2.14</td>\n",
       "      <td>11.2</td>\n",
       "      <td>100.0</td>\n",
       "      <td>2.65</td>\n",
       "      <td>2.76</td>\n",
       "      <td>0.26</td>\n",
       "      <td>1.28</td>\n",
       "      <td>4.38</td>\n",
       "      <td>1.05</td>\n",
       "      <td>3.40</td>\n",
       "      <td>1050.0</td>\n",
       "      <td>0</td>\n",
       "    </tr>\n",
       "    <tr>\n",
       "      <th>2</th>\n",
       "      <td>13.16</td>\n",
       "      <td>2.36</td>\n",
       "      <td>2.67</td>\n",
       "      <td>18.6</td>\n",
       "      <td>101.0</td>\n",
       "      <td>2.80</td>\n",
       "      <td>3.24</td>\n",
       "      <td>0.30</td>\n",
       "      <td>2.81</td>\n",
       "      <td>5.68</td>\n",
       "      <td>1.03</td>\n",
       "      <td>3.17</td>\n",
       "      <td>1185.0</td>\n",
       "      <td>0</td>\n",
       "    </tr>\n",
       "    <tr>\n",
       "      <th>3</th>\n",
       "      <td>14.37</td>\n",
       "      <td>1.95</td>\n",
       "      <td>2.50</td>\n",
       "      <td>16.8</td>\n",
       "      <td>113.0</td>\n",
       "      <td>3.85</td>\n",
       "      <td>3.49</td>\n",
       "      <td>0.24</td>\n",
       "      <td>2.18</td>\n",
       "      <td>7.80</td>\n",
       "      <td>0.86</td>\n",
       "      <td>3.45</td>\n",
       "      <td>1480.0</td>\n",
       "      <td>0</td>\n",
       "    </tr>\n",
       "    <tr>\n",
       "      <th>4</th>\n",
       "      <td>13.24</td>\n",
       "      <td>2.59</td>\n",
       "      <td>2.87</td>\n",
       "      <td>21.0</td>\n",
       "      <td>118.0</td>\n",
       "      <td>2.80</td>\n",
       "      <td>2.69</td>\n",
       "      <td>0.39</td>\n",
       "      <td>1.82</td>\n",
       "      <td>4.32</td>\n",
       "      <td>1.04</td>\n",
       "      <td>2.93</td>\n",
       "      <td>735.0</td>\n",
       "      <td>0</td>\n",
       "    </tr>\n",
       "  </tbody>\n",
       "</table>\n",
       "</div>"
      ],
      "text/plain": [
       "   alcohol  malic_acid   ash  alcalinity_of_ash  magnesium  total_phenols  \\\n",
       "0    14.23        1.71  2.43               15.6      127.0           2.80   \n",
       "1    13.20        1.78  2.14               11.2      100.0           2.65   \n",
       "2    13.16        2.36  2.67               18.6      101.0           2.80   \n",
       "3    14.37        1.95  2.50               16.8      113.0           3.85   \n",
       "4    13.24        2.59  2.87               21.0      118.0           2.80   \n",
       "\n",
       "   flavanoids  nonflavanoid_phenols  proanthocyanins  color_intensity   hue  \\\n",
       "0        3.06                  0.28             2.29             5.64  1.04   \n",
       "1        2.76                  0.26             1.28             4.38  1.05   \n",
       "2        3.24                  0.30             2.81             5.68  1.03   \n",
       "3        3.49                  0.24             2.18             7.80  0.86   \n",
       "4        2.69                  0.39             1.82             4.32  1.04   \n",
       "\n",
       "   od280/od315_of_diluted_wines  proline  target  \n",
       "0                          3.92   1065.0       0  \n",
       "1                          3.40   1050.0       0  \n",
       "2                          3.17   1185.0       0  \n",
       "3                          3.45   1480.0       0  \n",
       "4                          2.93    735.0       0  "
      ]
     },
     "execution_count": 11,
     "metadata": {},
     "output_type": "execute_result"
    }
   ],
   "source": [
    "# Read the DataFrame, first using the feature data\n",
    "df = pd.DataFrame(data.data, columns=data.feature_names)\n",
    "# Add a target column, and fill it with the target data\n",
    "df['target'] = data.target\n",
    "# Show the first five rows\n",
    "df.head()"
   ]
  },
  {
   "cell_type": "markdown",
   "metadata": {},
   "source": [
    "### Start MLFoundry Run(s)"
   ]
  },
  {
   "cell_type": "code",
   "execution_count": 12,
   "metadata": {},
   "outputs": [
    {
     "name": "stdout",
     "output_type": "stream",
     "text": [
      "[mlfoundry] 2022-05-13T17:24:48+0530 INFO project wine-recognition-project does not exist. Creating wine-recognition-project.\n",
      "[mlfoundry] 2022-05-13T17:24:54+0530 INFO Run is created with id '2391dc76418447c5b5a8deeef44f3355' and name 'meet-better-game'\n",
      "RUN 1 ID: 2391dc76418447c5b5a8deeef44f3355\n",
      "You can track your runs live at https://app.truefoundry.com/mlfoundry\n"
     ]
    }
   ],
   "source": [
    "run = client.create_run(project_name='wine-recognition-project')\n",
    "print('RUN 1 ID:', run.run_id)\n",
    "print(f'You can track your runs live at {urllib.parse.urljoin(TFY_URL, \"mlfoundry\")}')"
   ]
  },
  {
   "cell_type": "markdown",
   "metadata": {},
   "source": [
    "### Log the dataset"
   ]
  },
  {
   "cell_type": "code",
   "execution_count": 13,
   "metadata": {},
   "outputs": [],
   "source": [
    "# Store the feature data\n",
    "X = pd.DataFrame(data.data, columns=data.feature_names)\n",
    "# store the target data\n",
    "y = data.target\n",
    "\n",
    "run.log_dataset(\n",
    "    dataset_name='wine_recognition_dataset',\n",
    "    features=X,\n",
    "    actuals=y\n",
    ")"
   ]
  },
  {
   "cell_type": "markdown",
   "metadata": {},
   "source": [
    "### Split Dataset into Training and Validation"
   ]
  },
  {
   "cell_type": "code",
   "execution_count": 14,
   "metadata": {},
   "outputs": [
    {
     "name": "stdout",
     "output_type": "stream",
     "text": [
      "Train samples: 142\n",
      "Test samples: 36\n"
     ]
    }
   ],
   "source": [
    "# split the data using scikit-learn's train_test_split\n",
    "X_train, X_test, y_train, y_test = train_test_split(X, y, train_size=0.8, stratify=y, random_state=42)\n",
    "print('Train samples:', len(X_train))\n",
    "print('Test samples:', len(X_test))"
   ]
  },
  {
   "cell_type": "markdown",
   "metadata": {},
   "source": [
    "### Setting tags and Logging parameters"
   ]
  },
  {
   "cell_type": "code",
   "execution_count": 15,
   "metadata": {},
   "outputs": [
    {
     "name": "stdout",
     "output_type": "stream",
     "text": [
      "[mlfoundry] 2022-05-13T17:25:13+0530 INFO Parameters logged successfully\n"
     ]
    }
   ],
   "source": [
    "clf = RandomForestClassifier(n_estimators=100, max_depth=15)\n",
    "run.set_tags({'framework': 'sklearn', 'task': 'classification', 'model': 'RandomForestClassifier'})\n",
    "run.log_params({'n_estimators': 100, 'max_depth': 15})"
   ]
  },
  {
   "cell_type": "markdown",
   "metadata": {},
   "source": [
    "### Training model and logging model"
   ]
  },
  {
   "cell_type": "code",
   "execution_count": 16,
   "metadata": {},
   "outputs": [
    {
     "name": "stdout",
     "output_type": "stream",
     "text": [
      "[mlfoundry] 2022-05-13T17:25:33+0530 INFO Model logged successfully\n"
     ]
    }
   ],
   "source": [
    "clf.fit(X_train, y_train)\n",
    "run.log_model(clf, framework=mlf.ModelFramework.SKLEARN)"
   ]
  },
  {
   "cell_type": "markdown",
   "metadata": {},
   "source": [
    "## Computing predictions"
   ]
  },
  {
   "cell_type": "code",
   "execution_count": 17,
   "metadata": {},
   "outputs": [],
   "source": [
    "# logging predictions\n",
    "y_pred_train = clf.predict(X_train)\n",
    "y_pred_test = clf.predict(X_test)"
   ]
  },
  {
   "cell_type": "markdown",
   "metadata": {},
   "source": [
    "## Logging metrics"
   ]
  },
  {
   "cell_type": "code",
   "execution_count": 20,
   "metadata": {},
   "outputs": [
    {
     "name": "stdout",
     "output_type": "stream",
     "text": [
      "Random Forest metrics: {'train/accuracy_score': 1.0, 'train/f1': 1.0, 'test/accuracy_score': 1.0, 'test/f1': 1.0}\n",
      "[mlfoundry] 2022-05-13T17:26:44+0530 INFO Metrics logged successfully\n"
     ]
    }
   ],
   "source": [
    "metrics = {\n",
    "    'train/accuracy_score': accuracy_score(y_train, y_pred_train),\n",
    "    'train/f1': f1_score(y_train, y_pred_train, average='weighted'),\n",
    "    'test/accuracy_score': accuracy_score(y_test, y_pred_test),\n",
    "    'test/f1': f1_score(y_test, y_pred_test, average='weighted'),\n",
    "}\n",
    "print('Random Forest metrics:', metrics)\n",
    "run.log_metrics(metrics)"
   ]
  },
  {
   "cell_type": "markdown",
   "metadata": {},
   "source": [
    "## Log Test dataset stats"
   ]
  },
  {
   "cell_type": "code",
   "execution_count": 21,
   "metadata": {
    "tags": []
   },
   "outputs": [
    {
     "name": "stdout",
     "output_type": "stream",
     "text": [
      "WARN: Missing config\n",
      "[mlfoundry] 2022-05-13T17:27:09+0530 INFO Metrics logged successfully\n",
      "[mlfoundry] 2022-05-13T17:27:16+0530 INFO Dataset stats have been successfully computed and logged\n"
     ]
    }
   ],
   "source": [
    "X_test_df = X_test.copy()\n",
    "X_test_df['targets'] = list(y_test)\n",
    "X_test_df['predictions'] = list(y_pred_test)\n",
    "X_test_df['prediction_probabilities'] = list(clf.predict_proba(X_test))\n",
    "\n",
    "# shap value computation model 1 test set\n",
    "explainer = shap.TreeExplainer(clf)\n",
    "shap_values = explainer.shap_values(X_test)\n",
    "\n",
    "run.log_dataset_stats(\n",
    "    X_test_df, \n",
    "    data_slice='test',\n",
    "    data_schema=mlf.Schema(\n",
    "        feature_column_names=list(data.feature_names),\n",
    "        prediction_column_name='predictions',\n",
    "        actual_column_name='targets',\n",
    "        prediction_probability_column_name='prediction_probabilities'\n",
    "    ),\n",
    "    shap_values=shap_values,\n",
    "    model_type='multiclass_classification',\n",
    ")"
   ]
  },
  {
   "cell_type": "code",
   "execution_count": 22,
   "metadata": {},
   "outputs": [
    {
     "name": "stdout",
     "output_type": "stream",
     "text": [
      "[mlfoundry] 2022-05-13T17:27:50+0530 INFO Shutting down background jobs and syncing data for run with id '2391dc76418447c5b5a8deeef44f3355', please don't kill this process...\n"
     ]
    }
   ],
   "source": [
    "run.end()"
   ]
  },
  {
   "cell_type": "markdown",
   "metadata": {},
   "source": [
    "## Training a KNN model"
   ]
  },
  {
   "cell_type": "code",
   "execution_count": 24,
   "metadata": {},
   "outputs": [
    {
     "name": "stdout",
     "output_type": "stream",
     "text": [
      "[mlfoundry] 2022-05-13T17:35:57+0530 INFO Run is created with id 'aa4f55d7e42b43abb6a37376f3b5ccde' and name 'send-medical-father'\n",
      "[mlfoundry] 2022-05-13T17:35:58+0530 INFO Shutting down background jobs and syncing data for run with id '6da4b742c735439c852b0ebb4249208b', please don't kill this process...\n",
      "RUN 2 ID: aa4f55d7e42b43abb6a37376f3b5ccde\n",
      "[mlfoundry] 2022-05-13T17:36:22+0530 INFO Run is created with id '70eaa040c34c4adf9511f968bbfb1927' and name 'ask-huge-end'\n",
      "[mlfoundry] 2022-05-13T17:36:23+0530 INFO Shutting down background jobs and syncing data for run with id 'aa4f55d7e42b43abb6a37376f3b5ccde', please don't kill this process...\n",
      "[mlfoundry] 2022-05-13T17:36:27+0530 INFO Parameters logged successfully\n",
      "[mlfoundry] 2022-05-13T17:36:43+0530 INFO Model logged successfully\n",
      "Tree 2 metrics: {'train/accuracy_score': 0.7887323943661971, 'train/f1': 0.784706687620442, 'test/accuracy_score': 0.75, 'test/f1': 0.7419569817230636}\n",
      "[mlfoundry] 2022-05-13T17:36:44+0530 INFO Metrics logged successfully\n",
      "[mlfoundry] 2022-05-13T17:36:49+0530 INFO Metrics logged successfully\n",
      "[mlfoundry] 2022-05-13T17:36:55+0530 INFO Dataset stats have been successfully computed and logged\n",
      "[mlfoundry] 2022-05-13T17:36:56+0530 INFO Shutting down background jobs and syncing data for run with id '70eaa040c34c4adf9511f968bbfb1927', please don't kill this process...\n"
     ]
    }
   ],
   "source": [
    "run = client.create_run(project_name='wine-recognition-project')\n",
    "print('RUN 2 ID:', run.run_id)\n",
    "\n",
    "# log dataset\n",
    "run.log_dataset(\n",
    "    dataset_name='breast_cancer_dataset',\n",
    "    features=X,\n",
    "    actuals=y\n",
    ")\n",
    "\n",
    "run = client.create_run(project_name='wine-recognition-project')\n",
    "clf = KNeighborsClassifier(n_neighbors=8)\n",
    "run.set_tags({'framework': 'sklearn', 'task': 'classification', 'model': 'KNeighborsClassifier'})\n",
    "run.log_params({'n_neighbors': 8})\n",
    "\n",
    "clf.fit(X_train, y_train)\n",
    "run.log_model(clf, framework=mlf.ModelFramework.SKLEARN)\n",
    "\n",
    "y_pred_train = clf.predict(X_train)\n",
    "y_pred_test = clf.predict(X_test)\n",
    "\n",
    "metrics = {\n",
    "    'train/accuracy_score': accuracy_score(y_train, y_pred_train),\n",
    "    'train/f1': f1_score(y_train, y_pred_train, average='weighted'),\n",
    "    'test/accuracy_score': accuracy_score(y_test, y_pred_test),\n",
    "    'test/f1': f1_score(y_test, y_pred_test, average='weighted'),\n",
    "}\n",
    "print('Tree 2 metrics:', metrics)\n",
    "run.log_metrics(metrics)\n",
    "\n",
    "\n",
    "X_test_df = X_test.copy()\n",
    "X_test_df['targets'] = list(y_test)\n",
    "X_test_df['predictions'] = list(y_pred_test)\n",
    "X_test_df['prediction_probabilities'] = list(clf.predict_proba(X_test))\n",
    "\n",
    "run.log_dataset_stats(\n",
    "    X_test_df, \n",
    "    data_slice='test',\n",
    "    data_schema=mlf.Schema(\n",
    "        feature_column_names=list(data.feature_names),\n",
    "        prediction_column_name='predictions',\n",
    "        actual_column_name='targets',\n",
    "        prediction_probability_column_name='prediction_probabilities'\n",
    "    ),\n",
    "    model_type='multiclass_classification',\n",
    ")\n",
    "\n",
    "run.end()"
   ]
  },
  {
   "cell_type": "code",
   "execution_count": null,
   "metadata": {},
   "outputs": [],
   "source": []
  }
 ],
 "metadata": {
  "interpreter": {
   "hash": "32eca55f60ca0a4eb05caeb15f62cadd2ce358ded6aecd1922b0adda9a0225d5"
  },
  "kernelspec": {
   "display_name": "Python 3 (ipykernel)",
   "language": "python",
   "name": "python3"
  },
  "language_info": {
   "codemirror_mode": {
    "name": "ipython",
    "version": 3
   },
   "file_extension": ".py",
   "mimetype": "text/x-python",
   "name": "python",
   "nbconvert_exporter": "python",
   "pygments_lexer": "ipython3",
   "version": "3.9.2"
  }
 },
 "nbformat": 4,
 "nbformat_minor": 4
}
