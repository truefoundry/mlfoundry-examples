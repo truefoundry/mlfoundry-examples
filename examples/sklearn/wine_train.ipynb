{
 "cells": [
  {
   "cell_type": "code",
   "execution_count": 1,
   "metadata": {},
   "outputs": [
    {
     "name": "stderr",
     "output_type": "stream",
     "text": [
      "2022-04-06 00:34:35.956 INFO    streamlit_gradio.networking: Hashes generated for all static assets.\n"
     ]
    }
   ],
   "source": [
    "from sklearn.datasets import load_wine\n",
    "import pandas as pd\n",
    "from sklearn.neighbors import KNeighborsClassifier\n",
    "from sklearn.ensemble import RandomForestClassifier\n",
    "\n",
    "import mlfoundry as mlf"
   ]
  },
  {
   "cell_type": "markdown",
   "metadata": {},
   "source": [
    "## Data preprocessing"
   ]
  },
  {
   "cell_type": "code",
   "execution_count": 2,
   "metadata": {},
   "outputs": [
    {
     "name": "stdout",
     "output_type": "stream",
     "text": [
      "dict_keys(['data', 'target', 'frame', 'target_names', 'DESCR', 'feature_names'])\n"
     ]
    }
   ],
   "source": [
    "data = load_wine()\n",
    "print(data.keys())"
   ]
  },
  {
   "cell_type": "code",
   "execution_count": 3,
   "metadata": {},
   "outputs": [
    {
     "data": {
      "text/html": [
       "<div>\n",
       "<style scoped>\n",
       "    .dataframe tbody tr th:only-of-type {\n",
       "        vertical-align: middle;\n",
       "    }\n",
       "\n",
       "    .dataframe tbody tr th {\n",
       "        vertical-align: top;\n",
       "    }\n",
       "\n",
       "    .dataframe thead th {\n",
       "        text-align: right;\n",
       "    }\n",
       "</style>\n",
       "<table border=\"1\" class=\"dataframe\">\n",
       "  <thead>\n",
       "    <tr style=\"text-align: right;\">\n",
       "      <th></th>\n",
       "      <th>alcohol</th>\n",
       "      <th>malic_acid</th>\n",
       "      <th>ash</th>\n",
       "      <th>alcalinity_of_ash</th>\n",
       "      <th>magnesium</th>\n",
       "      <th>total_phenols</th>\n",
       "      <th>flavanoids</th>\n",
       "      <th>nonflavanoid_phenols</th>\n",
       "      <th>proanthocyanins</th>\n",
       "      <th>color_intensity</th>\n",
       "      <th>hue</th>\n",
       "      <th>od280/od315_of_diluted_wines</th>\n",
       "      <th>proline</th>\n",
       "      <th>target</th>\n",
       "    </tr>\n",
       "  </thead>\n",
       "  <tbody>\n",
       "    <tr>\n",
       "      <th>0</th>\n",
       "      <td>14.23</td>\n",
       "      <td>1.71</td>\n",
       "      <td>2.43</td>\n",
       "      <td>15.6</td>\n",
       "      <td>127.0</td>\n",
       "      <td>2.80</td>\n",
       "      <td>3.06</td>\n",
       "      <td>0.28</td>\n",
       "      <td>2.29</td>\n",
       "      <td>5.64</td>\n",
       "      <td>1.04</td>\n",
       "      <td>3.92</td>\n",
       "      <td>1065.0</td>\n",
       "      <td>0</td>\n",
       "    </tr>\n",
       "    <tr>\n",
       "      <th>1</th>\n",
       "      <td>13.20</td>\n",
       "      <td>1.78</td>\n",
       "      <td>2.14</td>\n",
       "      <td>11.2</td>\n",
       "      <td>100.0</td>\n",
       "      <td>2.65</td>\n",
       "      <td>2.76</td>\n",
       "      <td>0.26</td>\n",
       "      <td>1.28</td>\n",
       "      <td>4.38</td>\n",
       "      <td>1.05</td>\n",
       "      <td>3.40</td>\n",
       "      <td>1050.0</td>\n",
       "      <td>0</td>\n",
       "    </tr>\n",
       "    <tr>\n",
       "      <th>2</th>\n",
       "      <td>13.16</td>\n",
       "      <td>2.36</td>\n",
       "      <td>2.67</td>\n",
       "      <td>18.6</td>\n",
       "      <td>101.0</td>\n",
       "      <td>2.80</td>\n",
       "      <td>3.24</td>\n",
       "      <td>0.30</td>\n",
       "      <td>2.81</td>\n",
       "      <td>5.68</td>\n",
       "      <td>1.03</td>\n",
       "      <td>3.17</td>\n",
       "      <td>1185.0</td>\n",
       "      <td>0</td>\n",
       "    </tr>\n",
       "    <tr>\n",
       "      <th>3</th>\n",
       "      <td>14.37</td>\n",
       "      <td>1.95</td>\n",
       "      <td>2.50</td>\n",
       "      <td>16.8</td>\n",
       "      <td>113.0</td>\n",
       "      <td>3.85</td>\n",
       "      <td>3.49</td>\n",
       "      <td>0.24</td>\n",
       "      <td>2.18</td>\n",
       "      <td>7.80</td>\n",
       "      <td>0.86</td>\n",
       "      <td>3.45</td>\n",
       "      <td>1480.0</td>\n",
       "      <td>0</td>\n",
       "    </tr>\n",
       "    <tr>\n",
       "      <th>4</th>\n",
       "      <td>13.24</td>\n",
       "      <td>2.59</td>\n",
       "      <td>2.87</td>\n",
       "      <td>21.0</td>\n",
       "      <td>118.0</td>\n",
       "      <td>2.80</td>\n",
       "      <td>2.69</td>\n",
       "      <td>0.39</td>\n",
       "      <td>1.82</td>\n",
       "      <td>4.32</td>\n",
       "      <td>1.04</td>\n",
       "      <td>2.93</td>\n",
       "      <td>735.0</td>\n",
       "      <td>0</td>\n",
       "    </tr>\n",
       "  </tbody>\n",
       "</table>\n",
       "</div>"
      ],
      "text/plain": [
       "   alcohol  malic_acid   ash  alcalinity_of_ash  magnesium  total_phenols  \\\n",
       "0    14.23        1.71  2.43               15.6      127.0           2.80   \n",
       "1    13.20        1.78  2.14               11.2      100.0           2.65   \n",
       "2    13.16        2.36  2.67               18.6      101.0           2.80   \n",
       "3    14.37        1.95  2.50               16.8      113.0           3.85   \n",
       "4    13.24        2.59  2.87               21.0      118.0           2.80   \n",
       "\n",
       "   flavanoids  nonflavanoid_phenols  proanthocyanins  color_intensity   hue  \\\n",
       "0        3.06                  0.28             2.29             5.64  1.04   \n",
       "1        2.76                  0.26             1.28             4.38  1.05   \n",
       "2        3.24                  0.30             2.81             5.68  1.03   \n",
       "3        3.49                  0.24             2.18             7.80  0.86   \n",
       "4        2.69                  0.39             1.82             4.32  1.04   \n",
       "\n",
       "   od280/od315_of_diluted_wines  proline  target  \n",
       "0                          3.92   1065.0       0  \n",
       "1                          3.40   1050.0       0  \n",
       "2                          3.17   1185.0       0  \n",
       "3                          3.45   1480.0       0  \n",
       "4                          2.93    735.0       0  "
      ]
     },
     "execution_count": 3,
     "metadata": {},
     "output_type": "execute_result"
    }
   ],
   "source": [
    "# Read the DataFrame, first using the feature data\n",
    "df = pd.DataFrame(data.data, columns=data.feature_names)\n",
    "# Add a target column, and fill it with the target data\n",
    "df['target'] = data.target\n",
    "# Show the first five rows\n",
    "df.head()"
   ]
  },
  {
   "cell_type": "markdown",
   "metadata": {},
   "source": [
    "## Creating MLF Run"
   ]
  },
  {
   "cell_type": "code",
   "execution_count": 4,
   "metadata": {},
   "outputs": [
    {
     "name": "stderr",
     "output_type": "stream",
     "text": [
      "2022-04-06 00:34:47.036 INFO    mlfoundry.mlfoundry_api: Run is created with id 1cf204d949e3478283d1badc0feb3688 and name run_2022-04-05_19-04-46_utc\n",
      "2022-04-06 00:34:47.125 INFO    mlfoundry.mlfoundry_api: Run is created with id fea33b1e91d54189b6c9bc32e81be0e5 and name run_2022-04-05_19-04-47_utc\n"
     ]
    }
   ],
   "source": [
    "mlf_api = mlf.get_client()\n",
    "mlf_run = mlf_api.create_run(project_name='wine-project')\n",
    "mlf_run_2 = mlf_api.create_run(project_name='wine-project')"
   ]
  },
  {
   "cell_type": "code",
   "execution_count": 5,
   "metadata": {},
   "outputs": [],
   "source": [
    "# Store the feature data\n",
    "X = data.data\n",
    "X = pd.DataFrame(X, columns=data.feature_names)\n",
    "# store the target data\n",
    "y = data.target\n",
    "# split the data using Scikit-Learn's train_test_split\n",
    "from sklearn.model_selection import train_test_split\n",
    "X_train, X_test, y_train, y_test = train_test_split(X, y)"
   ]
  },
  {
   "cell_type": "markdown",
   "metadata": {},
   "source": [
    "## Model training"
   ]
  },
  {
   "cell_type": "code",
   "execution_count": 6,
   "metadata": {},
   "outputs": [
    {
     "data": {
      "text/plain": [
       "RandomForestClassifier(max_depth=10, n_estimators=150)"
      ]
     },
     "execution_count": 6,
     "metadata": {},
     "output_type": "execute_result"
    }
   ],
   "source": [
    "tree_clf = RandomForestClassifier(n_estimators=100, max_depth=15)\n",
    "tree_clf.fit(X_train, y_train)\n",
    "\n",
    "tree_clf_1 = RandomForestClassifier(n_estimators=150, max_depth=10)\n",
    "tree_clf_1.fit(X_train, y_train)"
   ]
  },
  {
   "cell_type": "markdown",
   "metadata": {},
   "source": [
    "## Logging parameter"
   ]
  },
  {
   "cell_type": "code",
   "execution_count": 7,
   "metadata": {},
   "outputs": [
    {
     "name": "stderr",
     "output_type": "stream",
     "text": [
      "2022-04-06 00:34:58.084 INFO    mlfoundry.mlfoundry_run: Parameters logged successfully\n",
      "2022-04-06 00:34:58.086 INFO    mlfoundry.mlfoundry_run: Parameters logged successfully\n",
      "2022-04-06 00:34:59.809 INFO    mlfoundry.mlfoundry_run: Model logged Successfully\n",
      "2022-04-06 00:35:01.090 INFO    mlfoundry.mlfoundry_run: Model logged Successfully\n"
     ]
    }
   ],
   "source": [
    "mlf_run.log_params({\"n_estimators\":100, \"max_depth\":15})\n",
    "mlf_run_2.log_params({\"n_estimators\":150, \"max_depth\":10})\n",
    "\n",
    "mlf_run.log_model(tree_clf, \"sklearn\")\n",
    "mlf_run_2.log_model(tree_clf_1, \"sklearn\")"
   ]
  },
  {
   "cell_type": "markdown",
   "metadata": {},
   "source": [
    "## Computing predictions"
   ]
  },
  {
   "cell_type": "code",
   "execution_count": 8,
   "metadata": {},
   "outputs": [],
   "source": [
    "# logging predictions\n",
    "y_hat_train = tree_clf.predict(X_train)\n",
    "y_hat_test = tree_clf.predict(X_test)\n",
    "\n",
    "y_hat_train_tree = tree_clf_1.predict(X_train)\n",
    "y_hat_test_tree = tree_clf_1.predict(X_test)"
   ]
  },
  {
   "cell_type": "markdown",
   "metadata": {},
   "source": [
    "## Logging metrics"
   ]
  },
  {
   "cell_type": "code",
   "execution_count": 9,
   "metadata": {},
   "outputs": [
    {
     "name": "stderr",
     "output_type": "stream",
     "text": [
      "2022-04-06 00:35:02.702 INFO    mlfoundry.mlfoundry_run: Metrics logged successfully\n",
      "2022-04-06 00:35:02.708 INFO    mlfoundry.mlfoundry_run: Metrics logged successfully\n"
     ]
    }
   ],
   "source": [
    "from sklearn.metrics import accuracy_score, f1_score\n",
    "\n",
    "f1 = f1_score(y_test, y_hat_test, average=\"micro\")\n",
    "accuracy = accuracy_score(y_test, y_hat_test)\n",
    "\n",
    "mlf_run.log_metrics({\"f1\":f1, \"accuracy_score\":accuracy})\n",
    "\n",
    "f1 = f1_score(y_test, y_hat_test_tree, average=\"micro\")\n",
    "accuracy = accuracy_score(y_test, y_hat_test_tree)\n",
    "mlf_run_2.log_metrics({\"f1\":f1, \"accuracy_score\":accuracy})"
   ]
  },
  {
   "cell_type": "markdown",
   "metadata": {},
   "source": [
    "## log_dataset_stats"
   ]
  },
  {
   "cell_type": "code",
   "execution_count": 10,
   "metadata": {},
   "outputs": [
    {
     "name": "stderr",
     "output_type": "stream",
     "text": [
      "Passing a set as an indexer is deprecated and will raise in a future version. Use a list instead.\n",
      "2022-04-06 00:35:24.650 INFO    whylogs.app.config: No config file loaded\n",
      "Passing a set as an indexer is deprecated and will raise in a future version. Use a list instead.\n",
      "2022-04-06 00:35:24.688 INFO    mlfoundry.mlfoundry_run: Metrics logged successfully\n",
      "Passing a set as an indexer is deprecated and will raise in a future version. Use a list instead.\n",
      "2022-04-06 00:35:24.704 INFO    mlfoundry.mlfoundry_run: Dataset stats have been successfully computed and logged\n",
      "Passing a set as an indexer is deprecated and will raise in a future version. Use a list instead.\n",
      "Passing a set as an indexer is deprecated and will raise in a future version. Use a list instead.\n",
      "2022-04-06 00:35:24.777 INFO    mlfoundry.mlfoundry_run: Metrics logged successfully\n",
      "Passing a set as an indexer is deprecated and will raise in a future version. Use a list instead.\n",
      "2022-04-06 00:35:24.792 INFO    mlfoundry.mlfoundry_run: Dataset stats have been successfully computed and logged\n"
     ]
    },
    {
     "name": "stdout",
     "output_type": "stream",
     "text": [
      "WARN: Missing config\n"
     ]
    }
   ],
   "source": [
    "import shap\n",
    "\n",
    "X_test_df = X_test.copy()\n",
    "X_test_df['targets'] = list(y_test)\n",
    "X_test_df['predictions'] = list(y_hat_test)\n",
    "X_test_df['prediction_probabilities'] = list(tree_clf.predict_proba(X_test))\n",
    "\n",
    "# Shap value computation model 1 test set\n",
    "explainer = shap.TreeExplainer(tree_clf)\n",
    "shap_values = explainer.shap_values(X_test)\n",
    "\n",
    "mlf_run.log_dataset_stats(\n",
    "    X_test_df, \n",
    "    data_slice=\"test\",\n",
    "    data_schema=mlf.Schema(\n",
    "        feature_column_names=list(data.feature_names),\n",
    "        prediction_column_name=\"predictions\",\n",
    "        actual_column_name=\"targets\",\n",
    "        prediction_probability_column_name='prediction_probabilities'\n",
    "    ),\n",
    "    shap_values=shap_values,\n",
    "    model_type=\"multiclass_classification\",\n",
    ")\n",
    "\n",
    "X_test_df = X_test.copy()\n",
    "X_test_df['targets'] = list(y_test)\n",
    "X_test_df['predictions'] = list(y_hat_test_tree)\n",
    "X_test_df['prediction_probabilities'] = list(tree_clf_1.predict_proba(X_test))\n",
    "\n",
    "# shap value computation model 2 test set\n",
    "explainer = shap.TreeExplainer(tree_clf_1)\n",
    "shap_values = explainer.shap_values(X_test)\n",
    "\n",
    "mlf_run_2.log_dataset_stats(\n",
    "    X_test_df, \n",
    "    data_slice=\"test\",\n",
    "    data_schema=mlf.Schema(\n",
    "        feature_column_names=list(data.feature_names),\n",
    "        prediction_column_name=\"predictions\",\n",
    "        actual_column_name=\"targets\",\n",
    "        prediction_probability_column_name='prediction_probabilities'\n",
    "    ),\n",
    "    shap_values=shap_values,\n",
    "    model_type=\"multiclass_classification\",\n",
    ")"
   ]
  },
  {
   "cell_type": "code",
   "execution_count": null,
   "metadata": {},
   "outputs": [],
   "source": []
  }
 ],
 "metadata": {
  "interpreter": {
   "hash": "32eca55f60ca0a4eb05caeb15f62cadd2ce358ded6aecd1922b0adda9a0225d5"
  },
  "kernelspec": {
   "display_name": "Python 3 (ipykernel)",
   "language": "python",
   "name": "python3"
  },
  "language_info": {
   "codemirror_mode": {
    "name": "ipython",
    "version": 3
   },
   "file_extension": ".py",
   "mimetype": "text/x-python",
   "name": "python",
   "nbconvert_exporter": "python",
   "pygments_lexer": "ipython3",
   "version": "3.8.5"
  }
 },
 "nbformat": 4,
 "nbformat_minor": 2
}
