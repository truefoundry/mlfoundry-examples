{
 "cells": [
  {
   "cell_type": "markdown",
   "metadata": {
    "tags": []
   },
   "source": [
    "## Try this Notebook in Google Colab\n",
    "\n",
    "[![Open In Colab](https://colab.research.google.com/assets/colab-badge.svg)](https://colab.research.google.com/github/truefoundry/mlfoundry-examples/blob/main/examples/sklearn/breast_cancer_classification.ipynb)"
   ]
  },
  {
   "cell_type": "markdown",
   "metadata": {
    "tags": []
   },
   "source": [
    "## Install dependencies"
   ]
  },
  {
   "cell_type": "code",
   "execution_count": null,
   "metadata": {
    "tags": []
   },
   "outputs": [],
   "source": [
    "! pip install --quiet \"numpy>=1.0.0,<2.0.0\" \"pandas>=1.0.0,<2.0.0\" scikit-learn shap==0.40.0\n",
    "! pip install -U mlfoundry"
   ]
  },
  {
   "cell_type": "markdown",
   "metadata": {
    "tags": []
   },
   "source": [
    "## Initialize MLFoundry Client"
   ]
  },
  {
   "cell_type": "code",
   "execution_count": null,
   "metadata": {},
   "outputs": [],
   "source": [
    "import os\n",
    "import getpass\n",
    "import urllib.parse\n",
    "import mlfoundry as mlf"
   ]
  },
  {
   "cell_type": "code",
   "execution_count": null,
   "metadata": {},
   "outputs": [],
   "source": [
    "TFY_URL = os.environ.get('TFY_URL', 'https://app.truefoundry.com/')\n",
    "TFY_API_KEY = os.environ.get('TFY_API_KEY')\n",
    "if not TFY_API_KEY:\n",
    "    print(f'Paste your TrueFoundry API key\\nYou can find it over at {urllib.parse.urljoin(TFY_URL, \"settings\")}')\n",
    "    TFY_API_KEY = getpass.getpass()"
   ]
  },
  {
   "cell_type": "code",
   "execution_count": null,
   "metadata": {},
   "outputs": [],
   "source": [
    "client = mlf.get_client(api_key=TFY_API_KEY)"
   ]
  },
  {
   "cell_type": "markdown",
   "metadata": {},
   "source": [
    "---"
   ]
  },
  {
   "cell_type": "markdown",
   "metadata": {},
   "source": [
    "## Breast Cancer Detection as a Classification problem"
   ]
  },
  {
   "cell_type": "code",
   "execution_count": 1,
   "metadata": {},
   "outputs": [
    {
     "name": "stderr",
     "output_type": "stream",
     "text": [
      "/Users/chiragjn/Library/Caches/pypoetry/virtualenvs/mlfoundry-jYktQAfc-py3.9/lib/python3.9/site-packages/tqdm/auto.py:22: TqdmWarning: IProgress not found. Please update jupyter and ipywidgets. See https://ipywidgets.readthedocs.io/en/stable/user_install.html\n",
      "  from .autonotebook import tqdm as notebook_tqdm\n"
     ]
    }
   ],
   "source": [
    "import shap\n",
    "import pandas as pd\n",
    "from sklearn import datasets\n",
    "from sklearn.model_selection import train_test_split\n",
    "from sklearn.ensemble import RandomForestClassifier\n",
    "from sklearn.metrics import accuracy_score, f1_score\n",
    "\n",
    "import mlfoundry as mlf"
   ]
  },
  {
   "cell_type": "markdown",
   "metadata": {},
   "source": [
    "### Loading data and preprocessing"
   ]
  },
  {
   "cell_type": "code",
   "execution_count": null,
   "metadata": {},
   "outputs": [],
   "source": [
    "data = datasets.load_breast_cancer()\n",
    "print(data.keys())"
   ]
  },
  {
   "cell_type": "code",
   "execution_count": null,
   "metadata": {},
   "outputs": [],
   "source": [
    "print(data.DESCR) "
   ]
  },
  {
   "cell_type": "code",
   "execution_count": null,
   "metadata": {},
   "outputs": [],
   "source": [
    "# Read the DataFrame, first using the feature data\n",
    "df = pd.DataFrame(data.data, columns=data.feature_names)\n",
    "# Add a target column, and fill it with the target data\n",
    "df['target'] = data.target\n",
    "# Show the first five rows\n",
    "df.head()"
   ]
  },
  {
   "cell_type": "markdown",
   "metadata": {},
   "source": [
    "### Start MLFoundry Run(s)"
   ]
  },
  {
   "cell_type": "code",
   "execution_count": null,
   "metadata": {},
   "outputs": [],
   "source": [
    "run = client.create_run(project_name='cancer-project')\n",
    "print('RUN 1 ID:', run.run_id)\n",
    "print(f'You can track your runs live at {urllib.parse.urljoin(TFY_URL, \"mlfoundry\")}')"
   ]
  },
  {
   "cell_type": "markdown",
   "metadata": {},
   "source": [
    "### Log the dataset"
   ]
  },
  {
   "cell_type": "code",
   "execution_count": null,
   "metadata": {},
   "outputs": [],
   "source": [
    "# Store the feature data\n",
    "X = pd.DataFrame(data.data, columns=data.feature_names)\n",
    "# store the target data\n",
    "y = data.target\n",
    "\n",
    "run.log_dataset(\n",
    "    dataset_name='breast_cancer_dataset',\n",
    "    features=X,\n",
    "    actuals=y\n",
    ")"
   ]
  },
  {
   "cell_type": "markdown",
   "metadata": {},
   "source": [
    "### Split Dataset into Training and Validation"
   ]
  },
  {
   "cell_type": "code",
   "execution_count": null,
   "metadata": {},
   "outputs": [],
   "source": [
    "# split the data using scikit-learn's train_test_split\n",
    "X_train, X_test, y_train, y_test = train_test_split(X, y, train_size=0.8, stratify=y, random_state=42)\n",
    "print('Train samples:', len(X_train))\n",
    "print('Test samples:', len(X_test))"
   ]
  },
  {
   "cell_type": "markdown",
   "metadata": {},
   "source": [
    "### Setting tags and Logging parameters"
   ]
  },
  {
   "cell_type": "code",
   "execution_count": null,
   "metadata": {},
   "outputs": [],
   "source": [
    "clf = RandomForestClassifier(n_estimators=50, max_depth=15)\n",
    "run.set_tags({'framework': 'sklearn', 'task': 'classification'})\n",
    "run.log_params({'n_estimators': 50, 'max_depth': 15})"
   ]
  },
  {
   "cell_type": "markdown",
   "metadata": {},
   "source": [
    "### Training model and logging model"
   ]
  },
  {
   "cell_type": "code",
   "execution_count": null,
   "metadata": {},
   "outputs": [],
   "source": [
    "clf.fit(X_train, y_train)\n",
    "run.log_model(clf, framework=mlf.ModelFramework.SKLEARN)"
   ]
  },
  {
   "cell_type": "markdown",
   "metadata": {},
   "source": [
    "## Computing predictions"
   ]
  },
  {
   "cell_type": "code",
   "execution_count": null,
   "metadata": {},
   "outputs": [],
   "source": [
    "# logging predictions\n",
    "y_pred_train = clf.predict(X_train)\n",
    "y_pred_test = clf.predict(X_test)"
   ]
  },
  {
   "cell_type": "markdown",
   "metadata": {},
   "source": [
    "## Logging metrics"
   ]
  },
  {
   "cell_type": "code",
   "execution_count": null,
   "metadata": {},
   "outputs": [],
   "source": [
    "metrics = {\n",
    "    'train/accuracy_score': accuracy_score(y_train, y_pred_train),\n",
    "    'train/f1': f1_score(y_train, y_pred_train),\n",
    "    'test/accuracy_score': accuracy_score(y_test, y_pred_test),\n",
    "    'test/f1': f1_score(y_test, y_pred_test),\n",
    "}\n",
    "print('Tree 1 metrics:', metrics)\n",
    "run.log_metrics(metrics)"
   ]
  },
  {
   "cell_type": "markdown",
   "metadata": {},
   "source": [
    "## Log Test dataset stats"
   ]
  },
  {
   "cell_type": "code",
   "execution_count": null,
   "metadata": {
    "tags": []
   },
   "outputs": [],
   "source": [
    "X_test_df = X_test.copy()\n",
    "X_test_df['targets'] = list(y_test)\n",
    "X_test_df['predictions'] = list(y_pred_test)\n",
    "X_test_df['prediction_probabilities'] = list(clf.predict_proba(X_test))\n",
    "\n",
    "# shap value computation model 1 test set\n",
    "explainer = shap.TreeExplainer(clf)\n",
    "shap_values = explainer.shap_values(X_test)\n",
    "\n",
    "run.log_dataset_stats(\n",
    "    X_test_df, \n",
    "    data_slice='test',\n",
    "    data_schema=mlf.Schema(\n",
    "        feature_column_names=list(data.feature_names),\n",
    "        prediction_column_name='predictions',\n",
    "        actual_column_name='targets',\n",
    "        prediction_probability_column_name='prediction_probabilities'\n",
    "    ),\n",
    "    shap_values=shap_values,\n",
    "    model_type='binary_classification',\n",
    ")"
   ]
  },
  {
   "cell_type": "code",
   "execution_count": null,
   "metadata": {},
   "outputs": [],
   "source": [
    "run.end()"
   ]
  },
  {
   "cell_type": "markdown",
   "metadata": {},
   "source": [
    "## Training another model with different hyperparameters"
   ]
  },
  {
   "cell_type": "code",
   "execution_count": null,
   "metadata": {},
   "outputs": [],
   "source": [
    "run = client.create_run(project_name='cancer-project')\n",
    "print('RUN 2 ID:', run.run_id)\n",
    "\n",
    "# log dataset\n",
    "run.log_dataset(\n",
    "    dataset_name='breast_cancer_dataset',\n",
    "    features=X,\n",
    "    actuals=y\n",
    ")\n",
    "\n",
    "clf = RandomForestClassifier(n_estimators=150, max_depth=10)\n",
    "run.set_tags({'framework': 'sklearn', 'task': 'classification'})\n",
    "run.log_params({'n_estimators': 150, 'max_depth': 10})\n",
    "\n",
    "clf.fit(X_train, y_train)\n",
    "run.log_model(clf, framework=mlf.ModelFramework.SKLEARN)\n",
    "\n",
    "y_pred_train = clf.predict(X_train)\n",
    "y_pred_test = clf.predict(X_test)\n",
    "\n",
    "metrics = {\n",
    "    'train/accuracy_score': accuracy_score(y_train, y_pred_train),\n",
    "    'train/f1': f1_score(y_train, y_pred_train),\n",
    "    'test/accuracy_score': accuracy_score(y_test, y_pred_test),\n",
    "    'test/f1': f1_score(y_test, y_pred_test),\n",
    "}\n",
    "print('Tree 2 metrics:', metrics)\n",
    "run.log_metrics(metrics)\n",
    "\n",
    "\n",
    "X_test_df = X_test.copy()\n",
    "X_test_df['targets'] = list(y_test)\n",
    "X_test_df['predictions'] = list(y_pred_test)\n",
    "X_test_df['prediction_probabilities'] = list(clf.predict_proba(X_test))\n",
    "\n",
    "# shap value computation Model 2 test set\n",
    "explainer = shap.TreeExplainer(clf)\n",
    "shap_values = explainer.shap_values(X_test)\n",
    "\n",
    "\n",
    "run.log_dataset_stats(\n",
    "    X_test_df, \n",
    "    data_slice='test',\n",
    "    data_schema=mlf.Schema(\n",
    "        feature_column_names=list(data.feature_names),\n",
    "        prediction_column_name='predictions',\n",
    "        actual_column_name='targets',\n",
    "        prediction_probability_column_name='prediction_probabilities'\n",
    "    ),\n",
    "    shap_values=shap_values,\n",
    "    model_type='binary_classification',\n",
    ")\n",
    "\n",
    "run.end()"
   ]
  },
  {
   "cell_type": "code",
   "execution_count": null,
   "metadata": {},
   "outputs": [],
   "source": []
  }
 ],
 "metadata": {
  "interpreter": {
   "hash": "32eca55f60ca0a4eb05caeb15f62cadd2ce358ded6aecd1922b0adda9a0225d5"
  },
  "kernelspec": {
   "display_name": "Python 3 (ipykernel)",
   "language": "python",
   "name": "python3"
  },
  "language_info": {
   "codemirror_mode": {
    "name": "ipython",
    "version": 3
   },
   "file_extension": ".py",
   "mimetype": "text/x-python",
   "name": "python",
   "nbconvert_exporter": "python",
   "pygments_lexer": "ipython3",
   "version": "3.9.2"
  }
 },
 "nbformat": 4,
 "nbformat_minor": 4
}
