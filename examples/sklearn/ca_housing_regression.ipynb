{
 "cells": [
  {
   "cell_type": "markdown",
   "metadata": {
    "tags": []
   },
   "source": [
    "## Try this Notebook in Google Colab\n",
    "\n",
    "[![Open In Colab](https://colab.research.google.com/assets/colab-badge.svg)](https://colab.research.google.com/github/truefoundry/mlfoundry-examples/blob/main/examples/sklearn/ca_housing_regression.ipynb)"
   ]
  },
  {
   "cell_type": "markdown",
   "metadata": {
    "tags": []
   },
   "source": [
    "## Install dependencies"
   ]
  },
  {
   "cell_type": "code",
   "execution_count": 1,
   "metadata": {
    "tags": []
   },
   "outputs": [
    {
     "name": "stdout",
     "output_type": "stream",
     "text": [
      "\u001b[33mWARNING: You are using pip version 22.0.4; however, version 22.1 is available.\n",
      "You should consider upgrading via the '/Users/chiragjn/Library/Caches/pypoetry/virtualenvs/mlfoundry-jYktQAfc-py3.9/bin/python -m pip install --upgrade pip' command.\u001b[0m\u001b[33m\n",
      "\u001b[0mRequirement already satisfied: mlfoundry in /Users/chiragjn/Library/Caches/pypoetry/virtualenvs/mlfoundry-jYktQAfc-py3.9/lib/python3.9/site-packages (0.3.16)\n",
      "Requirement already satisfied: PyMySQL<2.0.0,>=1.0.2 in /Users/chiragjn/Library/Caches/pypoetry/virtualenvs/mlfoundry-jYktQAfc-py3.9/lib/python3.9/site-packages (from mlfoundry) (1.0.2)\n",
      "Requirement already satisfied: SQLAlchemy<2.0.0,>=1.4.30 in /Users/chiragjn/Library/Caches/pypoetry/virtualenvs/mlfoundry-jYktQAfc-py3.9/lib/python3.9/site-packages (from mlfoundry) (1.4.35)\n",
      "Requirement already satisfied: orjson<4.0.0,>=3.6.5 in /Users/chiragjn/Library/Caches/pypoetry/virtualenvs/mlfoundry-jYktQAfc-py3.9/lib/python3.9/site-packages (from mlfoundry) (3.6.8)\n",
      "Requirement already satisfied: fastparquet<0.8.0,>=0.7.2 in /Users/chiragjn/Library/Caches/pypoetry/virtualenvs/mlfoundry-jYktQAfc-py3.9/lib/python3.9/site-packages (from mlfoundry) (0.7.2)\n",
      "Requirement already satisfied: cryptography<37.0.0,>=36.0.1 in /Users/chiragjn/Library/Caches/pypoetry/virtualenvs/mlfoundry-jYktQAfc-py3.9/lib/python3.9/site-packages (from mlfoundry) (36.0.2)\n",
      "Requirement already satisfied: whylogs>=0.6.15 in /Users/chiragjn/Library/Caches/pypoetry/virtualenvs/mlfoundry-jYktQAfc-py3.9/lib/python3.9/site-packages (from mlfoundry) (0.7.6)\n",
      "Requirement already satisfied: packaging<22.0,>=21.3 in /Users/chiragjn/Library/Caches/pypoetry/virtualenvs/mlfoundry-jYktQAfc-py3.9/lib/python3.9/site-packages (from mlfoundry) (21.3)\n",
      "Requirement already satisfied: numpy>=1.17.0 in /Users/chiragjn/Library/Caches/pypoetry/virtualenvs/mlfoundry-jYktQAfc-py3.9/lib/python3.9/site-packages (from mlfoundry) (1.21.6)\n",
      "Requirement already satisfied: psutil<6.0.0,>=5.9.0 in /Users/chiragjn/Library/Caches/pypoetry/virtualenvs/mlfoundry-jYktQAfc-py3.9/lib/python3.9/site-packages (from mlfoundry) (5.9.0)\n",
      "Requirement already satisfied: pipreqs<0.5.0,>=0.4.11 in /Users/chiragjn/Library/Caches/pypoetry/virtualenvs/mlfoundry-jYktQAfc-py3.9/lib/python3.9/site-packages (from mlfoundry) (0.4.11)\n",
      "Requirement already satisfied: scipy<2.0.0,>=1.5.4 in /Users/chiragjn/Library/Caches/pypoetry/virtualenvs/mlfoundry-jYktQAfc-py3.9/lib/python3.9/site-packages (from mlfoundry) (1.7.3)\n",
      "Requirement already satisfied: pandas>=1.0.0 in /Users/chiragjn/Library/Caches/pypoetry/virtualenvs/mlfoundry-jYktQAfc-py3.9/lib/python3.9/site-packages (from mlfoundry) (1.1.5)\n",
      "Requirement already satisfied: boto3>=1.14.1 in /Users/chiragjn/Library/Caches/pypoetry/virtualenvs/mlfoundry-jYktQAfc-py3.9/lib/python3.9/site-packages (from mlfoundry) (1.22.1)\n",
      "Requirement already satisfied: GitPython<4.0.0,>=3.1.26 in /Users/chiragjn/Library/Caches/pypoetry/virtualenvs/mlfoundry-jYktQAfc-py3.9/lib/python3.9/site-packages (from mlfoundry) (3.1.27)\n",
      "Requirement already satisfied: matplotlib>=3.0.3 in /Users/chiragjn/Library/Caches/pypoetry/virtualenvs/mlfoundry-jYktQAfc-py3.9/lib/python3.9/site-packages (from mlfoundry) (3.5.1)\n",
      "Requirement already satisfied: tfy-mlflow-client==0.0.8 in /Users/chiragjn/Library/Caches/pypoetry/virtualenvs/mlfoundry-jYktQAfc-py3.9/lib/python3.9/site-packages (from mlfoundry) (0.0.8)\n",
      "Requirement already satisfied: scikit-learn<0.25.0,>=0.24.2 in /Users/chiragjn/Library/Caches/pypoetry/virtualenvs/mlfoundry-jYktQAfc-py3.9/lib/python3.9/site-packages (from mlfoundry) (0.24.2)\n",
      "Requirement already satisfied: pydantic<2.0.0,>=1.8.2 in /Users/chiragjn/Library/Caches/pypoetry/virtualenvs/mlfoundry-jYktQAfc-py3.9/lib/python3.9/site-packages (from mlfoundry) (1.9.0)\n",
      "Requirement already satisfied: human-id<0.3.0,>=0.2.0 in /Users/chiragjn/Library/Caches/pypoetry/virtualenvs/mlfoundry-jYktQAfc-py3.9/lib/python3.9/site-packages (from mlfoundry) (0.2.0)\n",
      "Requirement already satisfied: shap<0.41.0,>=0.40.0 in /Users/chiragjn/Library/Caches/pypoetry/virtualenvs/mlfoundry-jYktQAfc-py3.9/lib/python3.9/site-packages (from mlfoundry) (0.40.0)\n",
      "Requirement already satisfied: psycopg2-binary<3.0.0,>=2.9.1 in /Users/chiragjn/Library/Caches/pypoetry/virtualenvs/mlfoundry-jYktQAfc-py3.9/lib/python3.9/site-packages (from mlfoundry) (2.9.3)\n",
      "Requirement already satisfied: pyarrow>=5.0.0 in /Users/chiragjn/Library/Caches/pypoetry/virtualenvs/mlfoundry-jYktQAfc-py3.9/lib/python3.9/site-packages (from mlfoundry) (7.0.0)\n",
      "Requirement already satisfied: amplitude-tracker<0.0.8,>=0.0.7 in /Users/chiragjn/Library/Caches/pypoetry/virtualenvs/mlfoundry-jYktQAfc-py3.9/lib/python3.9/site-packages (from mlfoundry) (0.0.7)\n",
      "Requirement already satisfied: databricks-cli>=0.8.7 in /Users/chiragjn/Library/Caches/pypoetry/virtualenvs/mlfoundry-jYktQAfc-py3.9/lib/python3.9/site-packages (from tfy-mlflow-client==0.0.8->mlfoundry) (0.16.6)\n",
      "Requirement already satisfied: click>=7.0 in /Users/chiragjn/Library/Caches/pypoetry/virtualenvs/mlfoundry-jYktQAfc-py3.9/lib/python3.9/site-packages (from tfy-mlflow-client==0.0.8->mlfoundry) (8.1.2)\n",
      "Requirement already satisfied: requests>=2.17.3 in /Users/chiragjn/Library/Caches/pypoetry/virtualenvs/mlfoundry-jYktQAfc-py3.9/lib/python3.9/site-packages (from tfy-mlflow-client==0.0.8->mlfoundry) (2.27.1)\n",
      "Requirement already satisfied: importlib-metadata!=4.7.0,>=3.7.0 in /Users/chiragjn/Library/Caches/pypoetry/virtualenvs/mlfoundry-jYktQAfc-py3.9/lib/python3.9/site-packages (from tfy-mlflow-client==0.0.8->mlfoundry) (4.11.3)\n",
      "Requirement already satisfied: entrypoints in /Users/chiragjn/Library/Caches/pypoetry/virtualenvs/mlfoundry-jYktQAfc-py3.9/lib/python3.9/site-packages (from tfy-mlflow-client==0.0.8->mlfoundry) (0.4)\n",
      "Requirement already satisfied: cloudpickle in /Users/chiragjn/Library/Caches/pypoetry/virtualenvs/mlfoundry-jYktQAfc-py3.9/lib/python3.9/site-packages (from tfy-mlflow-client==0.0.8->mlfoundry) (2.0.0)\n",
      "Requirement already satisfied: pyyaml>=5.1 in /Users/chiragjn/Library/Caches/pypoetry/virtualenvs/mlfoundry-jYktQAfc-py3.9/lib/python3.9/site-packages (from tfy-mlflow-client==0.0.8->mlfoundry) (6.0)\n",
      "Requirement already satisfied: protobuf>=3.7.0 in /Users/chiragjn/Library/Caches/pypoetry/virtualenvs/mlfoundry-jYktQAfc-py3.9/lib/python3.9/site-packages (from tfy-mlflow-client==0.0.8->mlfoundry) (3.20.1)\n",
      "Requirement already satisfied: pytz in /Users/chiragjn/Library/Caches/pypoetry/virtualenvs/mlfoundry-jYktQAfc-py3.9/lib/python3.9/site-packages (from tfy-mlflow-client==0.0.8->mlfoundry) (2022.1)\n",
      "Requirement already satisfied: sqlparse>=0.3.1 in /Users/chiragjn/Library/Caches/pypoetry/virtualenvs/mlfoundry-jYktQAfc-py3.9/lib/python3.9/site-packages (from tfy-mlflow-client==0.0.8->mlfoundry) (0.4.2)\n",
      "Requirement already satisfied: python-dateutil>2.1 in /Users/chiragjn/Library/Caches/pypoetry/virtualenvs/mlfoundry-jYktQAfc-py3.9/lib/python3.9/site-packages (from amplitude-tracker<0.0.8,>=0.0.7->mlfoundry) (2.8.2)\n",
      "Requirement already satisfied: monotonic>=1.5 in /Users/chiragjn/Library/Caches/pypoetry/virtualenvs/mlfoundry-jYktQAfc-py3.9/lib/python3.9/site-packages (from amplitude-tracker<0.0.8,>=0.0.7->mlfoundry) (1.6)\n",
      "Requirement already satisfied: backoff==1.10.0 in /Users/chiragjn/Library/Caches/pypoetry/virtualenvs/mlfoundry-jYktQAfc-py3.9/lib/python3.9/site-packages (from amplitude-tracker<0.0.8,>=0.0.7->mlfoundry) (1.10.0)\n",
      "Requirement already satisfied: six>=1.5 in /Users/chiragjn/Library/Caches/pypoetry/virtualenvs/mlfoundry-jYktQAfc-py3.9/lib/python3.9/site-packages (from amplitude-tracker<0.0.8,>=0.0.7->mlfoundry) (1.16.0)\n",
      "Requirement already satisfied: botocore<1.26.0,>=1.25.1 in /Users/chiragjn/Library/Caches/pypoetry/virtualenvs/mlfoundry-jYktQAfc-py3.9/lib/python3.9/site-packages (from boto3>=1.14.1->mlfoundry) (1.25.1)\n",
      "Requirement already satisfied: s3transfer<0.6.0,>=0.5.0 in /Users/chiragjn/Library/Caches/pypoetry/virtualenvs/mlfoundry-jYktQAfc-py3.9/lib/python3.9/site-packages (from boto3>=1.14.1->mlfoundry) (0.5.2)\n",
      "Requirement already satisfied: jmespath<2.0.0,>=0.7.1 in /Users/chiragjn/Library/Caches/pypoetry/virtualenvs/mlfoundry-jYktQAfc-py3.9/lib/python3.9/site-packages (from boto3>=1.14.1->mlfoundry) (1.0.0)\n",
      "Requirement already satisfied: cffi>=1.12 in /Users/chiragjn/Library/Caches/pypoetry/virtualenvs/mlfoundry-jYktQAfc-py3.9/lib/python3.9/site-packages (from cryptography<37.0.0,>=36.0.1->mlfoundry) (1.15.0)\n",
      "Requirement already satisfied: thrift>=0.11.0 in /Users/chiragjn/Library/Caches/pypoetry/virtualenvs/mlfoundry-jYktQAfc-py3.9/lib/python3.9/site-packages (from fastparquet<0.8.0,>=0.7.2->mlfoundry) (0.16.0)\n",
      "Requirement already satisfied: fsspec in /Users/chiragjn/Library/Caches/pypoetry/virtualenvs/mlfoundry-jYktQAfc-py3.9/lib/python3.9/site-packages (from fastparquet<0.8.0,>=0.7.2->mlfoundry) (2022.3.0)\n",
      "Requirement already satisfied: cramjam>=2.3.0 in /Users/chiragjn/Library/Caches/pypoetry/virtualenvs/mlfoundry-jYktQAfc-py3.9/lib/python3.9/site-packages (from fastparquet<0.8.0,>=0.7.2->mlfoundry) (2.5.0)\n",
      "Requirement already satisfied: gitdb<5,>=4.0.1 in /Users/chiragjn/Library/Caches/pypoetry/virtualenvs/mlfoundry-jYktQAfc-py3.9/lib/python3.9/site-packages (from GitPython<4.0.0,>=3.1.26->mlfoundry) (4.0.9)\n",
      "Requirement already satisfied: pillow>=6.2.0 in /Users/chiragjn/Library/Caches/pypoetry/virtualenvs/mlfoundry-jYktQAfc-py3.9/lib/python3.9/site-packages (from matplotlib>=3.0.3->mlfoundry) (9.1.0)\n",
      "Requirement already satisfied: fonttools>=4.22.0 in /Users/chiragjn/Library/Caches/pypoetry/virtualenvs/mlfoundry-jYktQAfc-py3.9/lib/python3.9/site-packages (from matplotlib>=3.0.3->mlfoundry) (4.33.3)\n",
      "Requirement already satisfied: pyparsing>=2.2.1 in /Users/chiragjn/Library/Caches/pypoetry/virtualenvs/mlfoundry-jYktQAfc-py3.9/lib/python3.9/site-packages (from matplotlib>=3.0.3->mlfoundry) (3.0.8)\n",
      "Requirement already satisfied: cycler>=0.10 in /Users/chiragjn/Library/Caches/pypoetry/virtualenvs/mlfoundry-jYktQAfc-py3.9/lib/python3.9/site-packages (from matplotlib>=3.0.3->mlfoundry) (0.11.0)\n",
      "Requirement already satisfied: kiwisolver>=1.0.1 in /Users/chiragjn/Library/Caches/pypoetry/virtualenvs/mlfoundry-jYktQAfc-py3.9/lib/python3.9/site-packages (from matplotlib>=3.0.3->mlfoundry) (1.4.2)\n",
      "Requirement already satisfied: yarg in /Users/chiragjn/Library/Caches/pypoetry/virtualenvs/mlfoundry-jYktQAfc-py3.9/lib/python3.9/site-packages (from pipreqs<0.5.0,>=0.4.11->mlfoundry) (0.1.9)\n",
      "Requirement already satisfied: docopt in /Users/chiragjn/Library/Caches/pypoetry/virtualenvs/mlfoundry-jYktQAfc-py3.9/lib/python3.9/site-packages (from pipreqs<0.5.0,>=0.4.11->mlfoundry) (0.6.2)\n",
      "Requirement already satisfied: typing-extensions>=3.7.4.3 in /Users/chiragjn/Library/Caches/pypoetry/virtualenvs/mlfoundry-jYktQAfc-py3.9/lib/python3.9/site-packages (from pydantic<2.0.0,>=1.8.2->mlfoundry) (4.2.0)\n",
      "Requirement already satisfied: threadpoolctl>=2.0.0 in /Users/chiragjn/Library/Caches/pypoetry/virtualenvs/mlfoundry-jYktQAfc-py3.9/lib/python3.9/site-packages (from scikit-learn<0.25.0,>=0.24.2->mlfoundry) (3.1.0)\n",
      "Requirement already satisfied: joblib>=0.11 in /Users/chiragjn/Library/Caches/pypoetry/virtualenvs/mlfoundry-jYktQAfc-py3.9/lib/python3.9/site-packages (from scikit-learn<0.25.0,>=0.24.2->mlfoundry) (1.1.0)\n",
      "Requirement already satisfied: slicer==0.0.7 in /Users/chiragjn/Library/Caches/pypoetry/virtualenvs/mlfoundry-jYktQAfc-py3.9/lib/python3.9/site-packages (from shap<0.41.0,>=0.40.0->mlfoundry) (0.0.7)\n",
      "Requirement already satisfied: numba in /Users/chiragjn/Library/Caches/pypoetry/virtualenvs/mlfoundry-jYktQAfc-py3.9/lib/python3.9/site-packages (from shap<0.41.0,>=0.40.0->mlfoundry) (0.55.1)\n",
      "Requirement already satisfied: tqdm>4.25.0 in /Users/chiragjn/Library/Caches/pypoetry/virtualenvs/mlfoundry-jYktQAfc-py3.9/lib/python3.9/site-packages (from shap<0.41.0,>=0.40.0->mlfoundry) (4.64.0)\n",
      "Requirement already satisfied: greenlet!=0.4.17 in /Users/chiragjn/Library/Caches/pypoetry/virtualenvs/mlfoundry-jYktQAfc-py3.9/lib/python3.9/site-packages (from SQLAlchemy<2.0.0,>=1.4.30->mlfoundry) (1.1.2)\n",
      "Requirement already satisfied: puremagic<2.0,>=1.10 in /Users/chiragjn/Library/Caches/pypoetry/virtualenvs/mlfoundry-jYktQAfc-py3.9/lib/python3.9/site-packages (from whylogs>=0.6.15->mlfoundry) (1.12)\n",
      "Requirement already satisfied: smart-open>=4.1.2 in /Users/chiragjn/Library/Caches/pypoetry/virtualenvs/mlfoundry-jYktQAfc-py3.9/lib/python3.9/site-packages (from whylogs>=0.6.15->mlfoundry) (6.0.0)\n",
      "Requirement already satisfied: whylabs-datasketches>=2.2.0b1 in /Users/chiragjn/Library/Caches/pypoetry/virtualenvs/mlfoundry-jYktQAfc-py3.9/lib/python3.9/site-packages (from whylogs>=0.6.15->mlfoundry) (2.2.0b1)\n",
      "Requirement already satisfied: jsonschema>=3.2.0 in /Users/chiragjn/Library/Caches/pypoetry/virtualenvs/mlfoundry-jYktQAfc-py3.9/lib/python3.9/site-packages (from whylogs>=0.6.15->mlfoundry) (4.4.0)\n",
      "Requirement already satisfied: whylabs-client<0.4.0,>=0.3.0 in /Users/chiragjn/Library/Caches/pypoetry/virtualenvs/mlfoundry-jYktQAfc-py3.9/lib/python3.9/site-packages (from whylogs>=0.6.15->mlfoundry) (0.3.0)\n",
      "Requirement already satisfied: marshmallow>=3.7.1 in /Users/chiragjn/Library/Caches/pypoetry/virtualenvs/mlfoundry-jYktQAfc-py3.9/lib/python3.9/site-packages (from whylogs>=0.6.15->mlfoundry) (3.15.0)\n",
      "Requirement already satisfied: urllib3<1.27,>=1.25.4 in /Users/chiragjn/Library/Caches/pypoetry/virtualenvs/mlfoundry-jYktQAfc-py3.9/lib/python3.9/site-packages (from botocore<1.26.0,>=1.25.1->boto3>=1.14.1->mlfoundry) (1.26.9)\n",
      "Requirement already satisfied: pycparser in /Users/chiragjn/Library/Caches/pypoetry/virtualenvs/mlfoundry-jYktQAfc-py3.9/lib/python3.9/site-packages (from cffi>=1.12->cryptography<37.0.0,>=36.0.1->mlfoundry) (2.21)\n",
      "Requirement already satisfied: tabulate>=0.7.7 in /Users/chiragjn/Library/Caches/pypoetry/virtualenvs/mlfoundry-jYktQAfc-py3.9/lib/python3.9/site-packages (from databricks-cli>=0.8.7->tfy-mlflow-client==0.0.8->mlfoundry) (0.8.9)\n",
      "Requirement already satisfied: oauthlib>=3.1.0 in /Users/chiragjn/Library/Caches/pypoetry/virtualenvs/mlfoundry-jYktQAfc-py3.9/lib/python3.9/site-packages (from databricks-cli>=0.8.7->tfy-mlflow-client==0.0.8->mlfoundry) (3.2.0)\n",
      "Requirement already satisfied: pyjwt>=1.7.0 in /Users/chiragjn/Library/Caches/pypoetry/virtualenvs/mlfoundry-jYktQAfc-py3.9/lib/python3.9/site-packages (from databricks-cli>=0.8.7->tfy-mlflow-client==0.0.8->mlfoundry) (2.3.0)\n",
      "Requirement already satisfied: smmap<6,>=3.0.1 in /Users/chiragjn/Library/Caches/pypoetry/virtualenvs/mlfoundry-jYktQAfc-py3.9/lib/python3.9/site-packages (from gitdb<5,>=4.0.1->GitPython<4.0.0,>=3.1.26->mlfoundry) (5.0.0)\n",
      "Requirement already satisfied: zipp>=0.5 in /Users/chiragjn/Library/Caches/pypoetry/virtualenvs/mlfoundry-jYktQAfc-py3.9/lib/python3.9/site-packages (from importlib-metadata!=4.7.0,>=3.7.0->tfy-mlflow-client==0.0.8->mlfoundry) (3.8.0)\n",
      "Requirement already satisfied: attrs>=17.4.0 in /Users/chiragjn/Library/Caches/pypoetry/virtualenvs/mlfoundry-jYktQAfc-py3.9/lib/python3.9/site-packages (from jsonschema>=3.2.0->whylogs>=0.6.15->mlfoundry) (21.4.0)\n",
      "Requirement already satisfied: pyrsistent!=0.17.0,!=0.17.1,!=0.17.2,>=0.14.0 in /Users/chiragjn/Library/Caches/pypoetry/virtualenvs/mlfoundry-jYktQAfc-py3.9/lib/python3.9/site-packages (from jsonschema>=3.2.0->whylogs>=0.6.15->mlfoundry) (0.18.1)\n",
      "Requirement already satisfied: certifi>=2017.4.17 in /Users/chiragjn/Library/Caches/pypoetry/virtualenvs/mlfoundry-jYktQAfc-py3.9/lib/python3.9/site-packages (from requests>=2.17.3->tfy-mlflow-client==0.0.8->mlfoundry) (2021.10.8)\n",
      "Requirement already satisfied: charset-normalizer~=2.0.0 in /Users/chiragjn/Library/Caches/pypoetry/virtualenvs/mlfoundry-jYktQAfc-py3.9/lib/python3.9/site-packages (from requests>=2.17.3->tfy-mlflow-client==0.0.8->mlfoundry) (2.0.12)\n",
      "Requirement already satisfied: idna<4,>=2.5 in /Users/chiragjn/Library/Caches/pypoetry/virtualenvs/mlfoundry-jYktQAfc-py3.9/lib/python3.9/site-packages (from requests>=2.17.3->tfy-mlflow-client==0.0.8->mlfoundry) (3.3)\n",
      "Requirement already satisfied: llvmlite<0.39,>=0.38.0rc1 in /Users/chiragjn/Library/Caches/pypoetry/virtualenvs/mlfoundry-jYktQAfc-py3.9/lib/python3.9/site-packages (from numba->shap<0.41.0,>=0.40.0->mlfoundry) (0.38.0)\n",
      "Requirement already satisfied: setuptools in /Users/chiragjn/Library/Caches/pypoetry/virtualenvs/mlfoundry-jYktQAfc-py3.9/lib/python3.9/site-packages (from numba->shap<0.41.0,>=0.40.0->mlfoundry) (62.1.0)\n",
      "\u001b[33mWARNING: You are using pip version 22.0.4; however, version 22.1 is available.\n",
      "You should consider upgrading via the '/Users/chiragjn/Library/Caches/pypoetry/virtualenvs/mlfoundry-jYktQAfc-py3.9/bin/python -m pip install --upgrade pip' command.\u001b[0m\u001b[33m\n",
      "\u001b[0m"
     ]
    }
   ],
   "source": [
    "! pip install --quiet \"numpy>=1.0.0,<2.0.0\" \"pandas>=1.0.0,<2.0.0\" scikit-learn shap==0.40.0\n",
    "! pip install -U mlfoundry"
   ]
  },
  {
   "cell_type": "markdown",
   "metadata": {
    "tags": []
   },
   "source": [
    "## Initialize MLFoundry Client"
   ]
  },
  {
   "cell_type": "code",
   "execution_count": 2,
   "metadata": {},
   "outputs": [
    {
     "name": "stderr",
     "output_type": "stream",
     "text": [
      "/Users/chiragjn/Library/Caches/pypoetry/virtualenvs/mlfoundry-jYktQAfc-py3.9/lib/python3.9/site-packages/tqdm/auto.py:22: TqdmWarning: IProgress not found. Please update jupyter and ipywidgets. See https://ipywidgets.readthedocs.io/en/stable/user_install.html\n",
      "  from .autonotebook import tqdm as notebook_tqdm\n"
     ]
    }
   ],
   "source": [
    "import os\n",
    "import getpass\n",
    "import urllib.parse\n",
    "import mlfoundry as mlf"
   ]
  },
  {
   "cell_type": "code",
   "execution_count": 3,
   "metadata": {},
   "outputs": [],
   "source": [
    "TFY_URL = os.environ.get('TFY_URL', 'https://app.truefoundry.com/')\n",
    "TFY_API_KEY = os.environ.get('TFY_API_KEY')\n",
    "if not TFY_API_KEY:\n",
    "    print(f'Paste your TrueFoundry API key\\nYou can find it over at {urllib.parse.urljoin(TFY_URL, \"settings\")}')\n",
    "    TFY_API_KEY = getpass.getpass()"
   ]
  },
  {
   "cell_type": "code",
   "execution_count": 4,
   "metadata": {},
   "outputs": [],
   "source": [
    "client = mlf.get_client(api_key=TFY_API_KEY)"
   ]
  },
  {
   "cell_type": "markdown",
   "metadata": {},
   "source": [
    "---"
   ]
  },
  {
   "cell_type": "markdown",
   "metadata": {
    "tags": []
   },
   "source": [
    "## California Housing Price Prediction as a Regression problem"
   ]
  },
  {
   "cell_type": "code",
   "execution_count": 5,
   "metadata": {},
   "outputs": [],
   "source": [
    "import shap\n",
    "import numpy as np\n",
    "import pandas as pd\n",
    "from sklearn import datasets\n",
    "from sklearn.model_selection import train_test_split\n",
    "from sklearn.ensemble import RandomForestRegressor\n",
    "from sklearn.metrics import mean_absolute_error, mean_squared_error, r2_score\n",
    "\n",
    "import mlfoundry as mlf"
   ]
  },
  {
   "cell_type": "markdown",
   "metadata": {
    "tags": []
   },
   "source": [
    "### Load the California Housing dataset"
   ]
  },
  {
   "cell_type": "code",
   "execution_count": 6,
   "metadata": {},
   "outputs": [
    {
     "name": "stdout",
     "output_type": "stream",
     "text": [
      "dict_keys(['data', 'target', 'frame', 'target_names', 'feature_names', 'DESCR'])\n"
     ]
    }
   ],
   "source": [
    "data = datasets.fetch_california_housing(as_frame=True)\n",
    "print(data.keys())"
   ]
  },
  {
   "cell_type": "code",
   "execution_count": 7,
   "metadata": {
    "tags": []
   },
   "outputs": [
    {
     "name": "stdout",
     "output_type": "stream",
     "text": [
      ".. _california_housing_dataset:\n",
      "\n",
      "California Housing dataset\n",
      "--------------------------\n",
      "\n",
      "**Data Set Characteristics:**\n",
      "\n",
      "    :Number of Instances: 20640\n",
      "\n",
      "    :Number of Attributes: 8 numeric, predictive attributes and the target\n",
      "\n",
      "    :Attribute Information:\n",
      "        - MedInc        median income in block\n",
      "        - HouseAge      median house age in block\n",
      "        - AveRooms      average number of rooms\n",
      "        - AveBedrms     average number of bedrooms\n",
      "        - Population    block population\n",
      "        - AveOccup      average house occupancy\n",
      "        - Latitude      house block latitude\n",
      "        - Longitude     house block longitude\n",
      "\n",
      "    :Missing Attribute Values: None\n",
      "\n",
      "This dataset was obtained from the StatLib repository.\n",
      "http://lib.stat.cmu.edu/datasets/\n",
      "\n",
      "The target variable is the median house value for California districts.\n",
      "\n",
      "This dataset was derived from the 1990 U.S. census, using one row per census\n",
      "block group. A block group is the smallest geographical unit for which the U.S.\n",
      "Census Bureau publishes sample data (a block group typically has a population\n",
      "of 600 to 3,000 people).\n",
      "\n",
      "It can be downloaded/loaded using the\n",
      ":func:`sklearn.datasets.fetch_california_housing` function.\n",
      "\n",
      ".. topic:: References\n",
      "\n",
      "    - Pace, R. Kelley and Ronald Barry, Sparse Spatial Autoregressions,\n",
      "      Statistics and Probability Letters, 33 (1997) 291-297\n",
      "\n"
     ]
    }
   ],
   "source": [
    "print(data.DESCR)"
   ]
  },
  {
   "cell_type": "code",
   "execution_count": 8,
   "metadata": {},
   "outputs": [
    {
     "data": {
      "text/html": [
       "<div>\n",
       "<style scoped>\n",
       "    .dataframe tbody tr th:only-of-type {\n",
       "        vertical-align: middle;\n",
       "    }\n",
       "\n",
       "    .dataframe tbody tr th {\n",
       "        vertical-align: top;\n",
       "    }\n",
       "\n",
       "    .dataframe thead th {\n",
       "        text-align: right;\n",
       "    }\n",
       "</style>\n",
       "<table border=\"1\" class=\"dataframe\">\n",
       "  <thead>\n",
       "    <tr style=\"text-align: right;\">\n",
       "      <th></th>\n",
       "      <th>MedInc</th>\n",
       "      <th>HouseAge</th>\n",
       "      <th>AveRooms</th>\n",
       "      <th>AveBedrms</th>\n",
       "      <th>Population</th>\n",
       "      <th>AveOccup</th>\n",
       "      <th>Latitude</th>\n",
       "      <th>Longitude</th>\n",
       "      <th>MedHouseVal</th>\n",
       "    </tr>\n",
       "  </thead>\n",
       "  <tbody>\n",
       "    <tr>\n",
       "      <th>0</th>\n",
       "      <td>8.3252</td>\n",
       "      <td>41.0</td>\n",
       "      <td>6.984127</td>\n",
       "      <td>1.023810</td>\n",
       "      <td>322.0</td>\n",
       "      <td>2.555556</td>\n",
       "      <td>37.88</td>\n",
       "      <td>-122.23</td>\n",
       "      <td>4.526</td>\n",
       "    </tr>\n",
       "    <tr>\n",
       "      <th>1</th>\n",
       "      <td>8.3014</td>\n",
       "      <td>21.0</td>\n",
       "      <td>6.238137</td>\n",
       "      <td>0.971880</td>\n",
       "      <td>2401.0</td>\n",
       "      <td>2.109842</td>\n",
       "      <td>37.86</td>\n",
       "      <td>-122.22</td>\n",
       "      <td>3.585</td>\n",
       "    </tr>\n",
       "    <tr>\n",
       "      <th>2</th>\n",
       "      <td>7.2574</td>\n",
       "      <td>52.0</td>\n",
       "      <td>8.288136</td>\n",
       "      <td>1.073446</td>\n",
       "      <td>496.0</td>\n",
       "      <td>2.802260</td>\n",
       "      <td>37.85</td>\n",
       "      <td>-122.24</td>\n",
       "      <td>3.521</td>\n",
       "    </tr>\n",
       "    <tr>\n",
       "      <th>3</th>\n",
       "      <td>5.6431</td>\n",
       "      <td>52.0</td>\n",
       "      <td>5.817352</td>\n",
       "      <td>1.073059</td>\n",
       "      <td>558.0</td>\n",
       "      <td>2.547945</td>\n",
       "      <td>37.85</td>\n",
       "      <td>-122.25</td>\n",
       "      <td>3.413</td>\n",
       "    </tr>\n",
       "    <tr>\n",
       "      <th>4</th>\n",
       "      <td>3.8462</td>\n",
       "      <td>52.0</td>\n",
       "      <td>6.281853</td>\n",
       "      <td>1.081081</td>\n",
       "      <td>565.0</td>\n",
       "      <td>2.181467</td>\n",
       "      <td>37.85</td>\n",
       "      <td>-122.25</td>\n",
       "      <td>3.422</td>\n",
       "    </tr>\n",
       "  </tbody>\n",
       "</table>\n",
       "</div>"
      ],
      "text/plain": [
       "   MedInc  HouseAge  AveRooms  AveBedrms  Population  AveOccup  Latitude  \\\n",
       "0  8.3252      41.0  6.984127   1.023810       322.0  2.555556     37.88   \n",
       "1  8.3014      21.0  6.238137   0.971880      2401.0  2.109842     37.86   \n",
       "2  7.2574      52.0  8.288136   1.073446       496.0  2.802260     37.85   \n",
       "3  5.6431      52.0  5.817352   1.073059       558.0  2.547945     37.85   \n",
       "4  3.8462      52.0  6.281853   1.081081       565.0  2.181467     37.85   \n",
       "\n",
       "   Longitude  MedHouseVal  \n",
       "0    -122.23        4.526  \n",
       "1    -122.22        3.585  \n",
       "2    -122.24        3.521  \n",
       "3    -122.25        3.413  \n",
       "4    -122.25        3.422  "
      ]
     },
     "execution_count": 8,
     "metadata": {},
     "output_type": "execute_result"
    }
   ],
   "source": [
    "data.frame.head()"
   ]
  },
  {
   "cell_type": "markdown",
   "metadata": {
    "tags": []
   },
   "source": [
    "### Split Dataset into Training and Validation"
   ]
  },
  {
   "cell_type": "code",
   "execution_count": 9,
   "metadata": {},
   "outputs": [],
   "source": [
    "# Create a Pandas dataframe with all the features\n",
    "X = pd.DataFrame(data.data, columns=data.feature_names)\n",
    "y = data.target"
   ]
  },
  {
   "cell_type": "code",
   "execution_count": 10,
   "metadata": {},
   "outputs": [
    {
     "name": "stdout",
     "output_type": "stream",
     "text": [
      "Feature columns: ['MedInc', 'HouseAge', 'AveRooms', 'AveBedrms', 'Population', 'AveOccup', 'Latitude', 'Longitude']\n",
      "Train samples: 16512\n",
      "Test samples: 4128\n"
     ]
    }
   ],
   "source": [
    "X_train, X_test, y_train, y_test = train_test_split(X, y, train_size=0.8, random_state=42)\n",
    "feature_columns = X_train.columns.tolist()\n",
    "X_train = X_train[feature_columns]\n",
    "X_test = X_test[feature_columns]\n",
    "\n",
    "print('Feature columns:', feature_columns)\n",
    "print('Train samples:', len(X_train))\n",
    "print('Test samples:', len(X_test))"
   ]
  },
  {
   "cell_type": "markdown",
   "metadata": {
    "tags": []
   },
   "source": [
    "### Start a MLFoundry Run"
   ]
  },
  {
   "cell_type": "code",
   "execution_count": 11,
   "metadata": {
    "tags": []
   },
   "outputs": [
    {
     "name": "stdout",
     "output_type": "stream",
     "text": [
      "[mlfoundry] 2022-05-16T16:27:07+0530 INFO Run is created with id b614e94615d244e0bc389d19886246b0 and name would-wrong-month\n",
      "RUN ID: b614e94615d244e0bc389d19886246b0\n",
      "You can track your runs live at https://app.truefoundry.com/mlfoundry\n"
     ]
    }
   ],
   "source": [
    "run = client.create_run(project_name='sklearn-ca-housing-example')\n",
    "print('RUN ID:', run.run_id)\n",
    "print(f'You can track your runs live at {urllib.parse.urljoin(TFY_URL, \"mlfoundry\")}')"
   ]
  },
  {
   "cell_type": "markdown",
   "metadata": {
    "tags": []
   },
   "source": [
    "### Set tags for our run"
   ]
  },
  {
   "cell_type": "code",
   "execution_count": 12,
   "metadata": {},
   "outputs": [],
   "source": [
    "rf_reg = RandomForestRegressor(n_estimators=100, max_depth=15, min_samples_leaf=30)\n",
    "run.set_tags({'framework': 'sklearn', 'task': 'regression'})"
   ]
  },
  {
   "cell_type": "markdown",
   "metadata": {},
   "source": [
    "### Training Model"
   ]
  },
  {
   "cell_type": "code",
   "execution_count": 13,
   "metadata": {},
   "outputs": [
    {
     "data": {
      "text/plain": [
       "RandomForestRegressor(max_depth=15, min_samples_leaf=30)"
      ]
     },
     "execution_count": 13,
     "metadata": {},
     "output_type": "execute_result"
    }
   ],
   "source": [
    "rf_reg.fit(X_train, y_train)"
   ]
  },
  {
   "cell_type": "markdown",
   "metadata": {},
   "source": [
    "### Logging Parameters & Model"
   ]
  },
  {
   "cell_type": "code",
   "execution_count": 14,
   "metadata": {
    "tags": []
   },
   "outputs": [
    {
     "name": "stdout",
     "output_type": "stream",
     "text": [
      "{'bootstrap': True, 'ccp_alpha': 0.0, 'criterion': 'mse', 'max_depth': 15, 'max_features': 'auto', 'max_leaf_nodes': None, 'max_samples': None, 'min_impurity_decrease': 0.0, 'min_impurity_split': None, 'min_samples_leaf': 30, 'min_samples_split': 2, 'min_weight_fraction_leaf': 0.0, 'n_estimators': 100, 'n_jobs': None, 'oob_score': False, 'random_state': None, 'verbose': 0, 'warm_start': False}\n",
      "[mlfoundry] 2022-05-16T16:27:24+0530 INFO Parameters logged successfully\n",
      "[mlfoundry] 2022-05-16T16:27:55+0530 INFO Model logged successfully\n"
     ]
    }
   ],
   "source": [
    "print(rf_reg.get_params())\n",
    "run.log_params(rf_reg.get_params())\n",
    "run.log_model(rf_reg, framework=mlf.ModelFramework.SKLEARN)"
   ]
  },
  {
   "cell_type": "markdown",
   "metadata": {},
   "source": [
    "### Computing Predictions"
   ]
  },
  {
   "cell_type": "code",
   "execution_count": 15,
   "metadata": {},
   "outputs": [],
   "source": [
    "y_pred_train = rf_reg.predict(X_train)\n",
    "y_pred_test = rf_reg.predict(X_test)"
   ]
  },
  {
   "cell_type": "markdown",
   "metadata": {},
   "source": [
    "### Logging metrics"
   ]
  },
  {
   "cell_type": "code",
   "execution_count": 16,
   "metadata": {},
   "outputs": [
    {
     "name": "stdout",
     "output_type": "stream",
     "text": [
      "{'train/mae': 0.34231054424771856, 'train/mse': 0.2599938097546138, 'train/r2_score': 0.8055071458663416, 'test/mae': 0.37744712287022186, 'test/mse': 0.3186573910717649, 'test/r2_score': 0.756826001375897}\n",
      "[mlfoundry] 2022-05-16T16:27:59+0530 INFO Metrics logged successfully\n"
     ]
    }
   ],
   "source": [
    "metrics_dict = {\n",
    "    'train/mae': mean_absolute_error(y_true=y_train, y_pred=y_pred_train),\n",
    "    'train/mse': mean_squared_error(y_true=y_train, y_pred=y_pred_train),\n",
    "    'train/r2_score': r2_score(y_true=y_train, y_pred=y_pred_train),\n",
    "    'test/mae': mean_absolute_error(y_true=y_test, y_pred=y_pred_test),\n",
    "    'test/mse': mean_squared_error(y_true=y_test, y_pred=y_pred_test),\n",
    "    'test/r2_score': r2_score(y_true=y_test, y_pred=y_pred_test)\n",
    "}\n",
    "print(metrics_dict)\n",
    "run.log_metrics(metrics_dict)"
   ]
  },
  {
   "cell_type": "markdown",
   "metadata": {
    "tags": []
   },
   "source": [
    "### Log the dataset"
   ]
  },
  {
   "cell_type": "code",
   "execution_count": 17,
   "metadata": {},
   "outputs": [],
   "source": [
    "run.log_dataset(\n",
    "    dataset_name='train',\n",
    "    features=X_train,\n",
    "    predictions=y_pred_train,\n",
    "    actuals=y_train,\n",
    ")"
   ]
  },
  {
   "cell_type": "code",
   "execution_count": 18,
   "metadata": {},
   "outputs": [],
   "source": [
    "run.log_dataset(\n",
    "    dataset_name='test',\n",
    "    features=X_test,\n",
    "    predictions=y_pred_test,\n",
    "    actuals=y_test,\n",
    ")"
   ]
  },
  {
   "cell_type": "markdown",
   "metadata": {},
   "source": [
    "### Logging Dataset Stats"
   ]
  },
  {
   "cell_type": "code",
   "execution_count": 19,
   "metadata": {},
   "outputs": [
    {
     "name": "stdout",
     "output_type": "stream",
     "text": [
      "WARN: Missing config\n",
      "[mlfoundry] 2022-05-16T16:29:21+0530 INFO Metrics logged successfully\n",
      "[mlfoundry] 2022-05-16T16:29:33+0530 INFO Dataset stats have been successfully computed and logged\n"
     ]
    }
   ],
   "source": [
    "# shap value computation\n",
    "explainer = shap.TreeExplainer(rf_reg)\n",
    "shap_values = explainer.shap_values(X_test)\n",
    "\n",
    "\n",
    "X_test_df = X_test.copy()\n",
    "X_test_df['targets'] = y_test\n",
    "X_test_df['predictions'] = y_pred_test\n",
    "\n",
    "run.log_dataset_stats(\n",
    "    X_test_df, \n",
    "    data_slice='test',\n",
    "    data_schema=mlf.Schema(\n",
    "        feature_column_names=feature_columns,\n",
    "        prediction_column_name='predictions',\n",
    "        actual_column_name='targets'\n",
    "    ),\n",
    "    model_type='regression',\n",
    "    shap_values=shap_values\n",
    ")"
   ]
  },
  {
   "cell_type": "markdown",
   "metadata": {},
   "source": [
    "### Optionally, you can also log training data slice stats as follows:\n",
    "It might take longer as training split is relatively much larger than test split\n",
    "\n",
    "```python\n",
    "# shap value computation\n",
    "explainer = shap.TreeExplainer(rf_reg)\n",
    "shap_values = explainer.shap_values(X_train)\n",
    "\n",
    "\n",
    "X_train_df = X_train.copy()\n",
    "X_train_df['targets'] = y_train\n",
    "X_train_df['predictions'] = y_pred_train\n",
    "\n",
    "\n",
    "run.log_dataset_stats(\n",
    "    X_train_df, \n",
    "    data_slice='train',\n",
    "    data_schema=mlf.Schema(\n",
    "        feature_column_names=feature_columns,\n",
    "        prediction_column_name='predictions',\n",
    "        actual_column_name='targets'\n",
    "    ),\n",
    "    model_type='regression',\n",
    "    shap_values=shap_values\n",
    ")\n",
    "```"
   ]
  },
  {
   "cell_type": "code",
   "execution_count": 20,
   "metadata": {},
   "outputs": [
    {
     "name": "stdout",
     "output_type": "stream",
     "text": [
      "[mlfoundry] 2022-05-16T16:29:34+0530 INFO Shutting down background jobs and syncing data for run with id 'b614e94615d244e0bc389d19886246b0', please don't kill this process...\n"
     ]
    }
   ],
   "source": [
    "run.end()"
   ]
  },
  {
   "cell_type": "code",
   "execution_count": null,
   "metadata": {},
   "outputs": [],
   "source": []
  }
 ],
 "metadata": {
  "interpreter": {
   "hash": "027b14c6733c9acbe37177506f8659b1d92ece977e44ec5755eb2e5d348989ff"
  },
  "kernelspec": {
   "display_name": "Python 3 (ipykernel)",
   "language": "python",
   "name": "python3"
  },
  "language_info": {
   "codemirror_mode": {
    "name": "ipython",
    "version": 3
   },
   "file_extension": ".py",
   "mimetype": "text/x-python",
   "name": "python",
   "nbconvert_exporter": "python",
   "pygments_lexer": "ipython3",
   "version": "3.9.2"
  }
 },
 "nbformat": 4,
 "nbformat_minor": 4
}
