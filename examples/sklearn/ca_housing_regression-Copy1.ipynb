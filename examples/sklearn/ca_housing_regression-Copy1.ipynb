{
 "cells": [
  {
   "cell_type": "markdown",
   "metadata": {
    "tags": []
   },
   "source": [
    "## Try this Notebook in Google Colab\n",
    "\n",
    "[![Open In Colab](https://colab.research.google.com/assets/colab-badge.svg)](https://colab.research.google.com/github/truefoundry/mlfoundry-examples/blob/main/examples/sklearn/ca_housing_regression.ipynb)"
   ]
  },
  {
   "cell_type": "markdown",
   "metadata": {
    "tags": []
   },
   "source": [
    "## Install dependencies"
   ]
  },
  {
   "cell_type": "code",
   "execution_count": 1,
   "metadata": {
    "tags": []
   },
   "outputs": [
    {
     "name": "stdout",
     "output_type": "stream",
     "text": [
      "Requirement already satisfied: mlfoundry in /Users/nikp18/work/repos/mlfoundry/venv/lib/python3.8/site-packages (0.3.34)\n",
      "Requirement already satisfied: coolname<2.0.0,>=1.1.0 in /Users/nikp18/work/repos/mlfoundry/venv/lib/python3.8/site-packages (from mlfoundry) (1.1.0)\n",
      "Requirement already satisfied: importlib-metadata<5.0.0,>=4.11.3 in /Users/nikp18/work/repos/mlfoundry/venv/lib/python3.8/site-packages (from mlfoundry) (4.11.4)\n",
      "Requirement already satisfied: scikit-learn<2.0.0,>=0.24.2 in /Users/nikp18/work/repos/mlfoundry/venv/lib/python3.8/site-packages (from mlfoundry) (1.0.2)\n",
      "Requirement already satisfied: fastparquet<0.8.0,>=0.7.2 in /Users/nikp18/work/repos/mlfoundry/venv/lib/python3.8/site-packages (from mlfoundry) (0.7.2)\n",
      "Requirement already satisfied: scipy<2.0.0,>=1.5.4 in /Users/nikp18/work/repos/mlfoundry/venv/lib/python3.8/site-packages (from mlfoundry) (1.7.3)\n",
      "Requirement already satisfied: boto3<2.0.0,>=1.14.1 in /Users/nikp18/work/repos/mlfoundry/venv/lib/python3.8/site-packages (from mlfoundry) (1.24.9)\n",
      "Requirement already satisfied: tinynetrc<2.0.0,>=1.3.1 in /Users/nikp18/work/repos/mlfoundry/venv/lib/python3.8/site-packages (from mlfoundry) (1.3.1)\n",
      "Requirement already satisfied: whylogs<0.7.0,>=0.6.15 in /Users/nikp18/work/repos/mlfoundry/venv/lib/python3.8/site-packages (from mlfoundry) (0.6.30)\n",
      "Requirement already satisfied: tfy-mlflow-client==0.0.13 in /Users/nikp18/work/repos/mlfoundry/venv/lib/python3.8/site-packages (from mlfoundry) (0.0.13)\n",
      "Requirement already satisfied: pyarrow<9.0.0,>=5.0.0 in /Users/nikp18/work/repos/mlfoundry/venv/lib/python3.8/site-packages (from mlfoundry) (5.0.0)\n",
      "Requirement already satisfied: numpy<2.0.0,>=1.17.0 in /Users/nikp18/work/repos/mlfoundry/venv/lib/python3.8/site-packages (from mlfoundry) (1.22.4)\n",
      "Requirement already satisfied: packaging<22.0,>=21.3 in /Users/nikp18/work/repos/mlfoundry/venv/lib/python3.8/site-packages (from mlfoundry) (21.3)\n",
      "Requirement already satisfied: psutil<6.0.0,>=5.9.0 in /Users/nikp18/work/repos/mlfoundry/venv/lib/python3.8/site-packages (from mlfoundry) (5.9.1)\n",
      "Requirement already satisfied: pydantic<2.0.0,>=1.8.2 in /Users/nikp18/work/repos/mlfoundry/venv/lib/python3.8/site-packages (from mlfoundry) (1.9.1)\n",
      "Requirement already satisfied: pandas<2.0.0,>=1.0.0 in /Users/nikp18/work/repos/mlfoundry/venv/lib/python3.8/site-packages (from mlfoundry) (1.4.2)\n",
      "Requirement already satisfied: GitPython<4.0.0,>=3.1.26 in /Users/nikp18/work/repos/mlfoundry/venv/lib/python3.8/site-packages (from mlfoundry) (3.1.27)\n",
      "Requirement already satisfied: amplitude-tracker<0.0.8,>=0.0.7 in /Users/nikp18/work/repos/mlfoundry/venv/lib/python3.8/site-packages (from mlfoundry) (0.0.7)\n",
      "Requirement already satisfied: sqlparse>=0.3.1 in /Users/nikp18/work/repos/mlfoundry/venv/lib/python3.8/site-packages (from tfy-mlflow-client==0.0.13->mlfoundry) (0.4.2)\n",
      "Requirement already satisfied: entrypoints in /Users/nikp18/work/repos/mlfoundry/venv/lib/python3.8/site-packages (from tfy-mlflow-client==0.0.13->mlfoundry) (0.4)\n",
      "Requirement already satisfied: requests>=2.17.3 in /Users/nikp18/work/repos/mlfoundry/venv/lib/python3.8/site-packages (from tfy-mlflow-client==0.0.13->mlfoundry) (2.28.0)\n",
      "Requirement already satisfied: cloudpickle in /Users/nikp18/work/repos/mlfoundry/venv/lib/python3.8/site-packages (from tfy-mlflow-client==0.0.13->mlfoundry) (2.1.0)\n",
      "Requirement already satisfied: pyyaml>=5.1 in /Users/nikp18/work/repos/mlfoundry/venv/lib/python3.8/site-packages (from tfy-mlflow-client==0.0.13->mlfoundry) (6.0)\n",
      "Requirement already satisfied: protobuf<5.0,>=3.12 in /Users/nikp18/work/repos/mlfoundry/venv/lib/python3.8/site-packages (from tfy-mlflow-client==0.0.13->mlfoundry) (3.19.4)\n",
      "Requirement already satisfied: databricks-cli>=0.8.7 in /Users/nikp18/work/repos/mlfoundry/venv/lib/python3.8/site-packages (from tfy-mlflow-client==0.0.13->mlfoundry) (0.16.8)\n",
      "Requirement already satisfied: pytz in /Users/nikp18/work/repos/mlfoundry/venv/lib/python3.8/site-packages (from tfy-mlflow-client==0.0.13->mlfoundry) (2022.1)\n",
      "Requirement already satisfied: click>=7.0 in /Users/nikp18/work/repos/mlfoundry/venv/lib/python3.8/site-packages (from tfy-mlflow-client==0.0.13->mlfoundry) (8.1.3)\n",
      "Requirement already satisfied: six>=1.5 in /Users/nikp18/work/repos/mlfoundry/venv/lib/python3.8/site-packages (from amplitude-tracker<0.0.8,>=0.0.7->mlfoundry) (1.16.0)\n",
      "Requirement already satisfied: monotonic>=1.5 in /Users/nikp18/work/repos/mlfoundry/venv/lib/python3.8/site-packages (from amplitude-tracker<0.0.8,>=0.0.7->mlfoundry) (1.6)\n",
      "Requirement already satisfied: backoff==1.10.0 in /Users/nikp18/work/repos/mlfoundry/venv/lib/python3.8/site-packages (from amplitude-tracker<0.0.8,>=0.0.7->mlfoundry) (1.10.0)\n",
      "Requirement already satisfied: python-dateutil>2.1 in /Users/nikp18/work/repos/mlfoundry/venv/lib/python3.8/site-packages (from amplitude-tracker<0.0.8,>=0.0.7->mlfoundry) (2.8.2)\n",
      "Requirement already satisfied: s3transfer<0.7.0,>=0.6.0 in /Users/nikp18/work/repos/mlfoundry/venv/lib/python3.8/site-packages (from boto3<2.0.0,>=1.14.1->mlfoundry) (0.6.0)\n",
      "Requirement already satisfied: jmespath<2.0.0,>=0.7.1 in /Users/nikp18/work/repos/mlfoundry/venv/lib/python3.8/site-packages (from boto3<2.0.0,>=1.14.1->mlfoundry) (1.0.0)\n",
      "Requirement already satisfied: botocore<1.28.0,>=1.27.9 in /Users/nikp18/work/repos/mlfoundry/venv/lib/python3.8/site-packages (from boto3<2.0.0,>=1.14.1->mlfoundry) (1.27.9)\n",
      "Requirement already satisfied: cramjam>=2.3.0 in /Users/nikp18/work/repos/mlfoundry/venv/lib/python3.8/site-packages (from fastparquet<0.8.0,>=0.7.2->mlfoundry) (2.5.0)\n",
      "Requirement already satisfied: thrift>=0.11.0 in /Users/nikp18/work/repos/mlfoundry/venv/lib/python3.8/site-packages (from fastparquet<0.8.0,>=0.7.2->mlfoundry) (0.16.0)\n",
      "Requirement already satisfied: fsspec in /Users/nikp18/work/repos/mlfoundry/venv/lib/python3.8/site-packages (from fastparquet<0.8.0,>=0.7.2->mlfoundry) (2022.5.0)\n",
      "Requirement already satisfied: gitdb<5,>=4.0.1 in /Users/nikp18/work/repos/mlfoundry/venv/lib/python3.8/site-packages (from GitPython<4.0.0,>=3.1.26->mlfoundry) (4.0.9)\n",
      "Requirement already satisfied: zipp>=0.5 in /Users/nikp18/work/repos/mlfoundry/venv/lib/python3.8/site-packages (from importlib-metadata<5.0.0,>=4.11.3->mlfoundry) (3.8.0)\n",
      "Requirement already satisfied: pyparsing!=3.0.5,>=2.0.2 in /Users/nikp18/work/repos/mlfoundry/venv/lib/python3.8/site-packages (from packaging<22.0,>=21.3->mlfoundry) (3.0.9)\n",
      "Requirement already satisfied: typing-extensions>=3.7.4.3 in /Users/nikp18/work/repos/mlfoundry/venv/lib/python3.8/site-packages (from pydantic<2.0.0,>=1.8.2->mlfoundry) (4.2.0)\n",
      "Requirement already satisfied: threadpoolctl>=2.0.0 in /Users/nikp18/work/repos/mlfoundry/venv/lib/python3.8/site-packages (from scikit-learn<2.0.0,>=0.24.2->mlfoundry) (3.1.0)\n",
      "Requirement already satisfied: joblib>=0.11 in /Users/nikp18/work/repos/mlfoundry/venv/lib/python3.8/site-packages (from scikit-learn<2.0.0,>=0.24.2->mlfoundry) (1.1.0)\n",
      "Requirement already satisfied: tqdm<5.0.0,>=4.60.0 in /Users/nikp18/work/repos/mlfoundry/venv/lib/python3.8/site-packages (from whylogs<0.7.0,>=0.6.15->mlfoundry) (4.64.0)\n",
      "Requirement already satisfied: matplotlib<4.0.0,>=3.0.3 in /Users/nikp18/work/repos/mlfoundry/venv/lib/python3.8/site-packages (from whylogs<0.7.0,>=0.6.15->mlfoundry) (3.5.2)\n",
      "Requirement already satisfied: smart-open>=4.1.2 in /Users/nikp18/work/repos/mlfoundry/venv/lib/python3.8/site-packages (from whylogs<0.7.0,>=0.6.15->mlfoundry) (6.0.0)\n",
      "Requirement already satisfied: whylabs-client<0.4.0,>=0.3.0 in /Users/nikp18/work/repos/mlfoundry/venv/lib/python3.8/site-packages (from whylogs<0.7.0,>=0.6.15->mlfoundry) (0.3.0)\n",
      "Requirement already satisfied: jsonschema>=3.2.0 in /Users/nikp18/work/repos/mlfoundry/venv/lib/python3.8/site-packages (from whylogs<0.7.0,>=0.6.15->mlfoundry) (4.6.0)\n",
      "Requirement already satisfied: whylabs-datasketches>=2.2.0b1 in /Users/nikp18/work/repos/mlfoundry/venv/lib/python3.8/site-packages (from whylogs<0.7.0,>=0.6.15->mlfoundry) (2.2.0b1)\n",
      "Requirement already satisfied: puremagic<2.0,>=1.10 in /Users/nikp18/work/repos/mlfoundry/venv/lib/python3.8/site-packages (from whylogs<0.7.0,>=0.6.15->mlfoundry) (1.14)\n",
      "Requirement already satisfied: marshmallow>=3.7.1 in /Users/nikp18/work/repos/mlfoundry/venv/lib/python3.8/site-packages (from whylogs<0.7.0,>=0.6.15->mlfoundry) (3.16.0)\n",
      "Requirement already satisfied: urllib3<1.27,>=1.25.4 in /Users/nikp18/work/repos/mlfoundry/venv/lib/python3.8/site-packages (from botocore<1.28.0,>=1.27.9->boto3<2.0.0,>=1.14.1->mlfoundry) (1.26.9)\n",
      "Requirement already satisfied: tabulate>=0.7.7 in /Users/nikp18/work/repos/mlfoundry/venv/lib/python3.8/site-packages (from databricks-cli>=0.8.7->tfy-mlflow-client==0.0.13->mlfoundry) (0.8.9)\n",
      "Requirement already satisfied: pyjwt>=1.7.0 in /Users/nikp18/work/repos/mlfoundry/venv/lib/python3.8/site-packages (from databricks-cli>=0.8.7->tfy-mlflow-client==0.0.13->mlfoundry) (2.4.0)\n",
      "Requirement already satisfied: oauthlib>=3.1.0 in /Users/nikp18/work/repos/mlfoundry/venv/lib/python3.8/site-packages (from databricks-cli>=0.8.7->tfy-mlflow-client==0.0.13->mlfoundry) (3.2.0)\n",
      "Requirement already satisfied: smmap<6,>=3.0.1 in /Users/nikp18/work/repos/mlfoundry/venv/lib/python3.8/site-packages (from gitdb<5,>=4.0.1->GitPython<4.0.0,>=3.1.26->mlfoundry) (5.0.0)\n"
     ]
    },
    {
     "name": "stdout",
     "output_type": "stream",
     "text": [
      "Requirement already satisfied: importlib-resources>=1.4.0 in /Users/nikp18/work/repos/mlfoundry/venv/lib/python3.8/site-packages (from jsonschema>=3.2.0->whylogs<0.7.0,>=0.6.15->mlfoundry) (5.7.1)\n",
      "Requirement already satisfied: pyrsistent!=0.17.0,!=0.17.1,!=0.17.2,>=0.14.0 in /Users/nikp18/work/repos/mlfoundry/venv/lib/python3.8/site-packages (from jsonschema>=3.2.0->whylogs<0.7.0,>=0.6.15->mlfoundry) (0.18.1)\n",
      "Requirement already satisfied: attrs>=17.4.0 in /Users/nikp18/work/repos/mlfoundry/venv/lib/python3.8/site-packages (from jsonschema>=3.2.0->whylogs<0.7.0,>=0.6.15->mlfoundry) (21.4.0)\n",
      "Requirement already satisfied: pillow>=6.2.0 in /Users/nikp18/work/repos/mlfoundry/venv/lib/python3.8/site-packages (from matplotlib<4.0.0,>=3.0.3->whylogs<0.7.0,>=0.6.15->mlfoundry) (9.1.1)\n",
      "Requirement already satisfied: fonttools>=4.22.0 in /Users/nikp18/work/repos/mlfoundry/venv/lib/python3.8/site-packages (from matplotlib<4.0.0,>=3.0.3->whylogs<0.7.0,>=0.6.15->mlfoundry) (4.33.3)\n",
      "Requirement already satisfied: cycler>=0.10 in /Users/nikp18/work/repos/mlfoundry/venv/lib/python3.8/site-packages (from matplotlib<4.0.0,>=3.0.3->whylogs<0.7.0,>=0.6.15->mlfoundry) (0.11.0)\n",
      "Requirement already satisfied: kiwisolver>=1.0.1 in /Users/nikp18/work/repos/mlfoundry/venv/lib/python3.8/site-packages (from matplotlib<4.0.0,>=3.0.3->whylogs<0.7.0,>=0.6.15->mlfoundry) (1.4.3)\n",
      "Requirement already satisfied: certifi>=2017.4.17 in /Users/nikp18/work/repos/mlfoundry/venv/lib/python3.8/site-packages (from requests>=2.17.3->tfy-mlflow-client==0.0.13->mlfoundry) (2022.6.15)\n",
      "Requirement already satisfied: idna<4,>=2.5 in /Users/nikp18/work/repos/mlfoundry/venv/lib/python3.8/site-packages (from requests>=2.17.3->tfy-mlflow-client==0.0.13->mlfoundry) (3.3)\n",
      "Requirement already satisfied: charset-normalizer~=2.0.0 in /Users/nikp18/work/repos/mlfoundry/venv/lib/python3.8/site-packages (from requests>=2.17.3->tfy-mlflow-client==0.0.13->mlfoundry) (2.0.12)\n",
      "\n",
      "\u001b[1m[\u001b[0m\u001b[34;49mnotice\u001b[0m\u001b[1;39;49m]\u001b[0m\u001b[39;49m A new release of pip available: \u001b[0m\u001b[31;49m22.1.2\u001b[0m\u001b[39;49m -> \u001b[0m\u001b[32;49m22.2.2\u001b[0m\n",
      "\u001b[1m[\u001b[0m\u001b[34;49mnotice\u001b[0m\u001b[1;39;49m]\u001b[0m\u001b[39;49m To update, run: \u001b[0m\u001b[32;49mpip install --upgrade pip\u001b[0m\n"
     ]
    }
   ],
   "source": [
    "! pip install --quiet \"numpy>=1.0.0,<2.0.0\" \"pandas>=1.0.0,<2.0.0\" \"matplotlib>=3.5.2,<3.6.0\" scikit-learn shap==0.40.0\n",
    "! pip install -U mlfoundry"
   ]
  },
  {
   "cell_type": "markdown",
   "metadata": {
    "tags": []
   },
   "source": [
    "## Initialize MLFoundry Client"
   ]
  },
  {
   "cell_type": "code",
   "execution_count": 2,
   "metadata": {},
   "outputs": [
    {
     "name": "stderr",
     "output_type": "stream",
     "text": [
      "/Users/nikp18/work/repos/mlfoundry/venv/lib/python3.8/site-packages/tqdm/auto.py:22: TqdmWarning: IProgress not found. Please update jupyter and ipywidgets. See https://ipywidgets.readthedocs.io/en/stable/user_install.html\n",
      "  from .autonotebook import tqdm as notebook_tqdm\n"
     ]
    }
   ],
   "source": [
    "import mlfoundry as mlf\n",
    "client = mlf.get_client(api_key=\"djE6dHJ1ZWZvdW5kcnk6bmlraGlsOjJkZjdkOA==\", tracking_uri = \"https://app.devtest.truefoundry.tech\")\n"
   ]
  },
  {
   "cell_type": "markdown",
   "metadata": {},
   "source": [
    "---"
   ]
  },
  {
   "cell_type": "markdown",
   "metadata": {
    "tags": []
   },
   "source": [
    "## California Housing Price Prediction as a Regression problem"
   ]
  },
  {
   "cell_type": "code",
   "execution_count": 3,
   "metadata": {},
   "outputs": [],
   "source": [
    "import os\n",
    "import getpass\n",
    "import urllib.parse\n",
    "\n",
    "import numpy as np\n",
    "import pandas as pd\n",
    "from sklearn import datasets\n",
    "from sklearn.model_selection import train_test_split\n",
    "from sklearn.ensemble import RandomForestRegressor\n",
    "from sklearn.metrics import mean_absolute_error, mean_squared_error, r2_score\n",
    "\n",
    "import mlfoundry as mlf"
   ]
  },
  {
   "cell_type": "markdown",
   "metadata": {
    "tags": []
   },
   "source": [
    "\n",
    "\n",
    "\n",
    "\n",
    "### Load the California Housing dataset"
   ]
  },
  {
   "cell_type": "code",
   "execution_count": 4,
   "metadata": {},
   "outputs": [
    {
     "name": "stdout",
     "output_type": "stream",
     "text": [
      "dict_keys(['data', 'target', 'frame', 'target_names', 'feature_names', 'DESCR'])\n"
     ]
    }
   ],
   "source": [
    "\n",
    "\n",
    "\n",
    "\n",
    "\n",
    "data = datasets.fetch_california_housing(as_frame=True)\n",
    "print(data.keys())"
   ]
  },
  {
   "cell_type": "code",
   "execution_count": 5,
   "metadata": {},
   "outputs": [
    {
     "data": {
      "text/plain": [
       "'.. _california_housing_dataset:\\n\\nCalifornia Housing dataset\\n--------------------------\\n\\n**Data Set Characteristics:**\\n\\n    :Number of Instances: 20640\\n\\n    :Number of Attributes: 8 numeric, predictive attributes and the target\\n\\n    :Attribute Information:\\n        - MedInc        median income in block group\\n        - HouseAge      median house age in block group\\n        - AveRooms      average number of rooms per household\\n        - AveBedrms     average number of bedrooms per household\\n        - Population    block group population\\n        - AveOccup      average number of household members\\n        - Latitude      block group latitude\\n        - Longitude     block group longitude\\n\\n    :Missing Attribute Values: None\\n\\nThis dataset was obtained from the StatLib repository.\\nhttps://www.dcc.fc.up.pt/~ltorgo/Regression/cal_housing.html\\n\\nThe target variable is the median house value for California districts,\\nexpressed in hundreds of thousands of dollars ($100,000).\\n\\nThis dataset was derived from the 1990 U.S. census, using one row per census\\nblock group. A block group is the smallest geographical unit for which the U.S.\\nCensus Bureau publishes sample data (a block group typically has a population\\nof 600 to 3,000 people).\\n\\nAn household is a group of people residing within a home. Since the average\\nnumber of rooms and bedrooms in this dataset are provided per household, these\\ncolumns may take surpinsingly large values for block groups with few households\\nand many empty houses, such as vacation resorts.\\n\\nIt can be downloaded/loaded using the\\n:func:`sklearn.datasets.fetch_california_housing` function.\\n\\n.. topic:: References\\n\\n    - Pace, R. Kelley and Ronald Barry, Sparse Spatial Autoregressions,\\n      Statistics and Probability Letters, 33 (1997) 291-297\\n'"
      ]
     },
     "execution_count": 5,
     "metadata": {},
     "output_type": "execute_result"
    }
   ],
   "source": [
    "data['DESCR']"
   ]
  },
  {
   "cell_type": "code",
   "execution_count": 6,
   "metadata": {},
   "outputs": [
    {
     "data": {
      "text/html": [
       "<div>\n",
       "<style scoped>\n",
       "    .dataframe tbody tr th:only-of-type {\n",
       "        vertical-align: middle;\n",
       "    }\n",
       "\n",
       "    .dataframe tbody tr th {\n",
       "        vertical-align: top;\n",
       "    }\n",
       "\n",
       "    .dataframe thead th {\n",
       "        text-align: right;\n",
       "    }\n",
       "</style>\n",
       "<table border=\"1\" class=\"dataframe\">\n",
       "  <thead>\n",
       "    <tr style=\"text-align: right;\">\n",
       "      <th></th>\n",
       "      <th>MedInc</th>\n",
       "      <th>HouseAge</th>\n",
       "      <th>AveRooms</th>\n",
       "      <th>AveBedrms</th>\n",
       "      <th>Population</th>\n",
       "      <th>AveOccup</th>\n",
       "      <th>Latitude</th>\n",
       "      <th>Longitude</th>\n",
       "      <th>MedHouseVal</th>\n",
       "    </tr>\n",
       "  </thead>\n",
       "  <tbody>\n",
       "    <tr>\n",
       "      <th>0</th>\n",
       "      <td>8.3252</td>\n",
       "      <td>41.0</td>\n",
       "      <td>6.984127</td>\n",
       "      <td>1.023810</td>\n",
       "      <td>322.0</td>\n",
       "      <td>2.555556</td>\n",
       "      <td>37.88</td>\n",
       "      <td>-122.23</td>\n",
       "      <td>4.526</td>\n",
       "    </tr>\n",
       "    <tr>\n",
       "      <th>1</th>\n",
       "      <td>8.3014</td>\n",
       "      <td>21.0</td>\n",
       "      <td>6.238137</td>\n",
       "      <td>0.971880</td>\n",
       "      <td>2401.0</td>\n",
       "      <td>2.109842</td>\n",
       "      <td>37.86</td>\n",
       "      <td>-122.22</td>\n",
       "      <td>3.585</td>\n",
       "    </tr>\n",
       "    <tr>\n",
       "      <th>2</th>\n",
       "      <td>7.2574</td>\n",
       "      <td>52.0</td>\n",
       "      <td>8.288136</td>\n",
       "      <td>1.073446</td>\n",
       "      <td>496.0</td>\n",
       "      <td>2.802260</td>\n",
       "      <td>37.85</td>\n",
       "      <td>-122.24</td>\n",
       "      <td>3.521</td>\n",
       "    </tr>\n",
       "    <tr>\n",
       "      <th>3</th>\n",
       "      <td>5.6431</td>\n",
       "      <td>52.0</td>\n",
       "      <td>5.817352</td>\n",
       "      <td>1.073059</td>\n",
       "      <td>558.0</td>\n",
       "      <td>2.547945</td>\n",
       "      <td>37.85</td>\n",
       "      <td>-122.25</td>\n",
       "      <td>3.413</td>\n",
       "    </tr>\n",
       "    <tr>\n",
       "      <th>4</th>\n",
       "      <td>3.8462</td>\n",
       "      <td>52.0</td>\n",
       "      <td>6.281853</td>\n",
       "      <td>1.081081</td>\n",
       "      <td>565.0</td>\n",
       "      <td>2.181467</td>\n",
       "      <td>37.85</td>\n",
       "      <td>-122.25</td>\n",
       "      <td>3.422</td>\n",
       "    </tr>\n",
       "  </tbody>\n",
       "</table>\n",
       "</div>"
      ],
      "text/plain": [
       "   MedInc  HouseAge  AveRooms  AveBedrms  Population  AveOccup  Latitude  \\\n",
       "0  8.3252      41.0  6.984127   1.023810       322.0  2.555556     37.88   \n",
       "1  8.3014      21.0  6.238137   0.971880      2401.0  2.109842     37.86   \n",
       "2  7.2574      52.0  8.288136   1.073446       496.0  2.802260     37.85   \n",
       "3  5.6431      52.0  5.817352   1.073059       558.0  2.547945     37.85   \n",
       "4  3.8462      52.0  6.281853   1.081081       565.0  2.181467     37.85   \n",
       "\n",
       "   Longitude  MedHouseVal  \n",
       "0    -122.23        4.526  \n",
       "1    -122.22        3.585  \n",
       "2    -122.24        3.521  \n",
       "3    -122.25        3.413  \n",
       "4    -122.25        3.422  "
      ]
     },
     "execution_count": 6,
     "metadata": {},
     "output_type": "execute_result"
    }
   ],
   "source": [
    "data.frame.head()"
   ]
  },
  {
   "cell_type": "markdown",
   "metadata": {
    "tags": []
   },
   "source": [
    "### Split Dataset into Training and Validation"
   ]
  },
  {
   "cell_type": "code",
   "execution_count": 7,
   "metadata": {},
   "outputs": [],
   "source": [
    "# Create a Pandas dataframe with all the features\n",
    "X = pd.DataFrame(data.data, columns=data.feature_names)\n",
    "y = data.target"
   ]
  },
  {
   "cell_type": "code",
   "execution_count": 8,
   "metadata": {},
   "outputs": [
    {
     "name": "stdout",
     "output_type": "stream",
     "text": [
      "Feature columns: ['MedInc', 'HouseAge', 'AveRooms', 'AveBedrms', 'Population', 'AveOccup', 'Latitude', 'Longitude']\n",
      "Train samples: 16512\n",
      "Test samples: 4128\n"
     ]
    }
   ],
   "source": [
    "X_train, X_test, y_train, y_test = train_test_split(X, y, train_size=0.8, random_state=42)\n",
    "feature_columns = X_train.columns.tolist()\n",
    "X_train = X_train[feature_columns]\n",
    "X_test = X_test[feature_columns]\n",
    "\n",
    "print('Feature columns:', feature_columns)\n",
    "print('Train samples:', len(X_train))\n",
    "print('Test samples:', len(X_test))"
   ]
  },
  {
   "cell_type": "code",
   "execution_count": 9,
   "metadata": {},
   "outputs": [
    {
     "data": {
      "text/plain": [
       "{'MedInc': 3.2596,\n",
       " 'HouseAge': 33.0,\n",
       " 'AveRooms': 5.017656500802568,\n",
       " 'AveBedrms': 1.0064205457463884,\n",
       " 'Population': 2300.0,\n",
       " 'AveOccup': 3.691813804173355,\n",
       " 'Latitude': 32.71,\n",
       " 'Longitude': -117.03}"
      ]
     },
     "execution_count": 9,
     "metadata": {},
     "output_type": "execute_result"
    }
   ],
   "source": [
    "dict(X_train.iloc[0])"
   ]
  },
  {
   "cell_type": "markdown",
   "metadata": {
    "tags": []
   },
   "source": [
    "\n",
    "### Start a MLFoundry Run"
   ]
  },
  {
   "cell_type": "code",
   "execution_count": 10,
   "metadata": {
    "tags": []
   },
   "outputs": [
    {
     "name": "stdout",
     "output_type": "stream",
     "text": [
      "[mlfoundry] 2022-08-30T11:28:07+0530 INFO No run_name given. Using a randomly generated name umber-stork. You can pass your own using the `run_name` argument\n",
      "Link to the dashboard for the run: https://app.devtest.truefoundry.tech/mlfoundry/81/e5a27fbe30d949d19611c147e143adf3/\n",
      "[mlfoundry] 2022-08-30T11:28:13+0530 INFO Run 'truefoundry/nikhil/sklearn-ca-housing-example/umber-stork' has started.\n"
     ]
    }
   ],
   "source": [
    "run = client.create_run(project_name='sklearn-ca-housing-example')"
   ]
  },
  {
   "cell_type": "markdown",
   "metadata": {
    "tags": []
   },
   "source": [
    "### Set tags for our run"
   ]
  },
  {
   "cell_type": "code",
   "execution_count": 11,
   "metadata": {},
   "outputs": [
    {
     "name": "stdout",
     "output_type": "stream",
     "text": [
      "[mlfoundry] 2022-08-30T11:28:14+0530 INFO Tags set successfully\n"
     ]
    }
   ],
   "source": [
    "rf_reg = RandomForestRegressor(n_estimators=100, max_depth=15, min_samples_leaf=30)\n",
    "run.set_tags({'framework': 'sklearn', 'task': 'regression'})"
   ]
  },
  {
   "cell_type": "markdown",
   "metadata": {},
   "source": [
    "### Training Model"
   ]
  },
  {
   "cell_type": "code",
   "execution_count": 12,
   "metadata": {},
   "outputs": [
    {
     "data": {
      "text/plain": [
       "RandomForestRegressor(max_depth=15, min_samples_leaf=30)"
      ]
     },
     "execution_count": 12,
     "metadata": {},
     "output_type": "execute_result"
    }
   ],
   "source": [
    "rf_reg.fit(X_train, y_train)"
   ]
  },
  {
   "cell_type": "markdown",
   "metadata": {},
   "source": [
    "### Logging Parameters & Model"
   ]
  },
  {
   "cell_type": "code",
   "execution_count": 13,
   "metadata": {
    "tags": []
   },
   "outputs": [
    {
     "name": "stdout",
     "output_type": "stream",
     "text": [
      "{'bootstrap': True, 'ccp_alpha': 0.0, 'criterion': 'squared_error', 'max_depth': 15, 'max_features': 'auto', 'max_leaf_nodes': None, 'max_samples': None, 'min_impurity_decrease': 0.0, 'min_samples_leaf': 30, 'min_samples_split': 2, 'min_weight_fraction_leaf': 0.0, 'n_estimators': 100, 'n_jobs': None, 'oob_score': False, 'random_state': None, 'verbose': 0, 'warm_start': False}\n",
      "[mlfoundry] 2022-08-29T12:59:49+0530 INFO Parameters logged successfully\n",
      "[mlfoundry] 2022-08-29T13:00:15+0530 INFO Model logged successfully\n"
     ]
    }
   ],
   "source": [
    "print(rf_reg.get_params())\n",
    "run.log_params(rf_reg.get_params())\n",
    "run.log_model(rf_reg, framework=mlf.ModelFramework.SKLEARN)"
   ]
  },
  {
   "cell_type": "markdown",
   "metadata": {},
   "source": [
    "### Computing Predictions"
   ]
  },
  {
   "cell_type": "code",
   "execution_count": 13,
   "metadata": {},
   "outputs": [],
   "source": [
    "y_pred_train = rf_reg.predict(X_train)\n",
    "y_pred_test = rf_reg.predict(X_test)"
   ]
  },
  {
   "cell_type": "markdown",
   "metadata": {},
   "source": [
    "### Logging metrics"
   ]
  },
  {
   "cell_type": "code",
   "execution_count": 14,
   "metadata": {},
   "outputs": [
    {
     "name": "stdout",
     "output_type": "stream",
     "text": [
      "{'train/mae': 0.3410231279237083, 'train/mse': 0.2587774915392068, 'train/r2_score': 0.8064170336881806, 'test/mae': 0.37712841702473665, 'test/mse': 0.3198101009873863, 'test/r2_score': 0.7559463447688666}\n",
      "[mlfoundry] 2022-08-30T11:28:19+0530 INFO Metrics logged successfully\n"
     ]
    }
   ],
   "source": [
    "metrics_dict = {\n",
    "    'train/mae': mean_absolute_error(y_true=y_train, y_pred=y_pred_train),\n",
    "    'train/mse': mean_squared_error(y_true=y_train, y_pred=y_pred_train),\n",
    "    'train/r2_score': r2_score(y_true=y_train, y_pred=y_pred_train),\n",
    "    'test/mae': mean_absolute_error(y_true=y_test, y_pred=y_pred_test),\n",
    "    'test/mse': mean_squared_error(y_true=y_test, y_pred=y_pred_test),\n",
    "    'test/r2_score': r2_score(y_true=y_test, y_pred=y_pred_test)\n",
    "}\n",
    "print(metrics_dict)\n",
    "run.log_metrics(metrics_dict)"
   ]
  },
  {
   "cell_type": "markdown",
   "metadata": {
    "tags": []
   },
   "source": [
    "### Log the dataset"
   ]
  },
  {
   "cell_type": "code",
   "execution_count": 16,
   "metadata": {},
   "outputs": [
    {
     "name": "stdout",
     "output_type": "stream",
     "text": [
      "[mlfoundry] 2022-08-29T13:00:16+0530 INFO Logging Dataset, this might take a while ...\n",
      "[mlfoundry] 2022-08-29T13:00:41+0530 INFO Dataset logged successfully\n",
      "To visualize the logged dataset, click on the link https://app.truefoundry.com/mlfoundry/244/8e39a5f8bf794f1fa32d5a33ec6ff2a6/?tab=data-feature-metrics\n"
     ]
    }
   ],
   "source": [
    "run.log_dataset(\n",
    "    dataset_name='train',\n",
    "    features=X_train,\n",
    "    predictions=y_pred_train,\n",
    "    actuals=y_train,\n",
    ")"
   ]
  },
  {
   "cell_type": "code",
   "execution_count": 17,
   "metadata": {},
   "outputs": [
    {
     "name": "stdout",
     "output_type": "stream",
     "text": [
      "[mlfoundry] 2022-08-29T13:00:41+0530 INFO Logging Dataset, this might take a while ...\n",
      "[mlfoundry] 2022-08-29T13:01:01+0530 INFO Dataset logged successfully\n",
      "To visualize the logged dataset, click on the link https://app.truefoundry.com/mlfoundry/244/8e39a5f8bf794f1fa32d5a33ec6ff2a6/?tab=data-feature-metrics\n"
     ]
    }
   ],
   "source": [
    "run.log_dataset(\n",
    "    dataset_name='test',\n",
    "    features=X_test,\n",
    "    predictions=y_pred_test,\n",
    "    actuals=y_test,\n",
    ")"
   ]
  },
  {
   "cell_type": "code",
   "execution_count": 15,
   "metadata": {},
   "outputs": [
    {
     "name": "stdout",
     "output_type": "stream",
     "text": [
      "[mlfoundry] 2022-08-30T11:28:20+0530 INFO Shutting down background jobs and syncing data for run 'truefoundry/nikhil/sklearn-ca-housing-example/umber-stork', please don't kill this process...\n",
      "[mlfoundry] 2022-08-30T11:28:21+0530 INFO Finished syncing data for run 'truefoundry/nikhil/sklearn-ca-housing-example/umber-stork'. Thank you for waiting!\n",
      "Link to the dashboard for the run: https://app.devtest.truefoundry.tech/mlfoundry/81/e5a27fbe30d949d19611c147e143adf3/\n"
     ]
    }
   ],
   "source": [
    "run.end()"
   ]
  },
  {
   "cell_type": "markdown",
   "metadata": {},
   "source": [
    "## Log predictions and actuals"
   ]
  },
  {
   "cell_type": "code",
   "execution_count": 22,
   "metadata": {},
   "outputs": [],
   "source": [
    "import mlfoundry as mlf\n",
    "monitoring_client = mlf.get_monitoring_client(tracking_uri='https://app.devtest.truefoundry.tech', model_version_id=\"8d14cede-ab19-4ce3-bed2-9f0f1a593bef\", api_key=\"djE6dHJ1ZWZvdW5kcnk6bmlraGlsOjJkZjdkOA==\")"
   ]
  },
  {
   "cell_type": "code",
   "execution_count": 17,
   "metadata": {},
   "outputs": [],
   "source": [
    "X = pd.concat([X_train, X_test])"
   ]
  },
  {
   "cell_type": "code",
   "execution_count": 18,
   "metadata": {},
   "outputs": [],
   "source": [
    "Y = pd.concat([y_train, y_test])"
   ]
  },
  {
   "cell_type": "code",
   "execution_count": 19,
   "metadata": {},
   "outputs": [],
   "source": [
    "Y_pred = np.concatenate([y_pred_train, y_pred_test])"
   ]
  },
  {
   "cell_type": "code",
   "execution_count": 20,
   "metadata": {},
   "outputs": [],
   "source": [
    "import time\n",
    "import uuid\n",
    "from datetime import datetime, timedelta\n",
    "import random\n",
    "for i in range(len(Y_pred)):\n",
    "    features = dict(X.iloc[i])\n",
    "    prediction_data = {\n",
    "        \"value\": Y_pred[i],\n",
    "        \"probabilities\": {},\n",
    "        \"shap_values\": {}\n",
    "    }\n",
    "    actual = Y.iloc[0]\n",
    "    id1 = monitoring_client.generate_hash_from_data(features=features, timestamp=datetime.utcnow()) # generate_hash_from_data\n",
    "    if (prediction_data[\"value\"]-actual)**2 > 0.2:\n",
    "        continue\n",
    "    monitoring_client.log_prediction(\n",
    "        mlf.Prediction(\n",
    "            data_id=id1, \n",
    "            features=features,\n",
    "            prediction_data=prediction_data,\n",
    "            occurred_at=datetime.utcnow() - timedelta(minutes=int(random.random()*3000)),\n",
    "            raw_data={\"raw_data\":\"data\"}\n",
    "        )\n",
    "    )\n",
    "    monitoring_client.log_actual(\n",
    "        mlf.Actual(\n",
    "            data_id=id1,\n",
    "            value=Y.iloc[i]\n",
    "        )\n",
    "    )\n",
    "    if (i+1)%1000==0:\n",
    "        time.sleep(20)"
   ]
  },
  {
   "cell_type": "code",
   "execution_count": null,
   "metadata": {},
   "outputs": [],
   "source": []
  }
 ],
 "metadata": {
  "interpreter": {
   "hash": "027b14c6733c9acbe37177506f8659b1d92ece977e44ec5755eb2e5d348989ff"
  },
  "kernelspec": {
   "display_name": "Python 3 (ipykernel)",
   "language": "python",
   "name": "python3"
  },
  "language_info": {
   "codemirror_mode": {
    "name": "ipython",
    "version": 3
   },
   "file_extension": ".py",
   "mimetype": "text/x-python",
   "name": "python",
   "nbconvert_exporter": "python",
   "pygments_lexer": "ipython3",
   "version": "3.8.9"
  }
 },
 "nbformat": 4,
 "nbformat_minor": 4
}
