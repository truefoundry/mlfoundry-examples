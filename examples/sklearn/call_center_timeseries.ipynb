{
 "cells": [
  {
   "cell_type": "markdown",
   "id": "cb598c23-38f9-4560-8329-1ee327bd023a",
   "metadata": {
    "tags": []
   },
   "source": [
    "## Try this Notebook in Google Colab\n",
    "\n",
    "[![Open In Colab](https://colab.research.google.com/assets/colab-badge.svg)](https://colab.research.google.com/github/truefoundry/mlfoundry-examples/blob/main/examples/sklearn/call_center_timeseries.ipynb)"
   ]
  },
  {
   "cell_type": "markdown",
   "id": "d93dcf25-2d95-4c53-aa81-c28abbb68bf4",
   "metadata": {
    "tags": []
   },
   "source": [
    "## Install dependencies"
   ]
  },
  {
   "cell_type": "code",
   "execution_count": null,
   "id": "2c107fb3-88d4-466c-9fa2-1e65f60ae77e",
   "metadata": {
    "tags": []
   },
   "outputs": [],
   "source": [
    "! pip install --quiet \"numpy>=1.0.0,<2.0.0\" \"pandas>=1.0.0,<2.0.0\" \"openpyxl>=3.0.9,<3.1.0\" \"matplotlib>=3.5.2,<3.6.0\" \"seaborn>=0.11.2,<0.12.0\" \"matplotlib>=3.5.2,<3.6.0\" scikit-learn shap==0.40.0\n",
    "! pip install -U mlfoundry"
   ]
  },
  {
   "cell_type": "markdown",
   "id": "eeadf542-fe26-4e5b-bd5a-0a10bcd41a67",
   "metadata": {
    "tags": []
   },
   "source": [
    "## Initialize MLFoundry Client"
   ]
  },
  {
   "cell_type": "code",
   "execution_count": null,
   "id": "5176c494-b5e0-4b34-af7e-50ca72334a25",
   "metadata": {},
   "outputs": [],
   "source": [
    "import mlfoundry as mlf\n",
    "mlf.login()\n",
    "\n",
    "client = mlf.get_client()"
   ]
  },
  {
   "cell_type": "markdown",
   "id": "308bdd55",
   "metadata": {},
   "source": [
    "# Timeseries model"
   ]
  },
  {
   "cell_type": "code",
   "execution_count": null,
   "id": "e204af95",
   "metadata": {},
   "outputs": [],
   "source": [
    "import numpy as np\n",
    "import pandas as pd\n",
    "import matplotlib.pyplot as plt\n",
    "from matplotlib.ticker import FormatStrFormatter\n",
    "import seaborn as sns\n",
    "import pylab\n",
    "import scipy\n",
    "\n",
    "from sklearn.metrics import mean_absolute_error"
   ]
  },
  {
   "cell_type": "code",
   "execution_count": null,
   "id": "de7c9ee6",
   "metadata": {},
   "outputs": [],
   "source": [
    "# importing the data\n",
    "raw_csv_data = pd.read_excel(\"CallCenterData.xlsx\", engine='openpyxl')"
   ]
  },
  {
   "cell_type": "code",
   "execution_count": null,
   "id": "27b0ab65",
   "metadata": {},
   "outputs": [],
   "source": [
    "# check point of data\n",
    "df_comp = raw_csv_data.copy()"
   ]
  },
  {
   "cell_type": "code",
   "execution_count": null,
   "id": "a99bcba3",
   "metadata": {},
   "outputs": [],
   "source": [
    "df_comp.head()"
   ]
  },
  {
   "cell_type": "code",
   "execution_count": null,
   "id": "e1521f75",
   "metadata": {},
   "outputs": [],
   "source": [
    "df_comp.describe()"
   ]
  },
  {
   "cell_type": "code",
   "execution_count": null,
   "id": "47407f16",
   "metadata": {
    "tags": []
   },
   "outputs": [],
   "source": [
    "df_comp.isna().sum()"
   ]
  },
  {
   "cell_type": "markdown",
   "id": "0c94c283",
   "metadata": {},
   "source": [
    "## Converting Date to numeric"
   ]
  },
  {
   "cell_type": "code",
   "execution_count": null,
   "id": "591b2c5c",
   "metadata": {},
   "outputs": [],
   "source": [
    "df_comp[\"timestamp\"] = df_comp[\"month\"].apply(lambda x : x.timestamp())"
   ]
  },
  {
   "cell_type": "markdown",
   "id": "ecae7f32",
   "metadata": {},
   "source": [
    "## Setting date as Index"
   ]
  },
  {
   "cell_type": "code",
   "execution_count": null,
   "id": "2a72ab0b",
   "metadata": {},
   "outputs": [],
   "source": [
    "# taken as a date time field\n",
    "df_comp.month.describe()"
   ]
  },
  {
   "cell_type": "code",
   "execution_count": null,
   "id": "d099f7cc",
   "metadata": {},
   "outputs": [],
   "source": [
    "df_comp.set_index(\"month\", inplace=True)"
   ]
  },
  {
   "cell_type": "code",
   "execution_count": null,
   "id": "d9ffbb85",
   "metadata": {},
   "outputs": [],
   "source": [
    "df_comp.head()"
   ]
  },
  {
   "cell_type": "code",
   "execution_count": null,
   "id": "d8d478e0",
   "metadata": {},
   "outputs": [],
   "source": [
    "# seeting the frequency as monthly\n",
    "df_comp.asfreq('M')"
   ]
  },
  {
   "cell_type": "code",
   "execution_count": null,
   "id": "f524003f",
   "metadata": {},
   "outputs": [],
   "source": [
    "# seeting the frequency as monthly\n",
    "df_comp = df_comp.asfreq('M')"
   ]
  },
  {
   "cell_type": "code",
   "execution_count": null,
   "id": "97201252",
   "metadata": {},
   "outputs": [],
   "source": [
    "# checking for the null values\n",
    "df_comp.isna().sum()"
   ]
  },
  {
   "cell_type": "markdown",
   "id": "ab4896a3",
   "metadata": {},
   "source": [
    "## Time Series Visualization"
   ]
  },
  {
   "cell_type": "code",
   "execution_count": null,
   "id": "61a39b0f",
   "metadata": {},
   "outputs": [],
   "source": [
    "df_comp.Healthcare.plot(figsize=(20,5), title=\"Healthcare\")\n",
    "plt.show()"
   ]
  },
  {
   "cell_type": "code",
   "execution_count": null,
   "id": "77ae46ed",
   "metadata": {},
   "outputs": [],
   "source": [
    "df_comp.Telecom.plot(figsize=(20,5), title=\"Telecom\")\n",
    "plt.show()"
   ]
  },
  {
   "cell_type": "code",
   "execution_count": null,
   "id": "33e42962",
   "metadata": {},
   "outputs": [],
   "source": [
    "df_comp.Banking.plot(figsize=(20,5), title=\"Banking\")\n",
    "plt.show()"
   ]
  },
  {
   "cell_type": "code",
   "execution_count": null,
   "id": "d370e5de",
   "metadata": {},
   "outputs": [],
   "source": [
    "df_comp.Technology.plot(figsize=(20,5), title=\"Technology\")\n",
    "plt.show()"
   ]
  },
  {
   "cell_type": "code",
   "execution_count": null,
   "id": "807ae446",
   "metadata": {},
   "outputs": [],
   "source": [
    "df_comp.Insurance.plot(figsize=(20,5), title=\"Insurance\")\n",
    "plt.show()"
   ]
  },
  {
   "cell_type": "markdown",
   "id": "f6ccf398",
   "metadata": {},
   "source": [
    "## Check for normality"
   ]
  },
  {
   "cell_type": "code",
   "execution_count": null,
   "id": "c0aa6ff3",
   "metadata": {},
   "outputs": [],
   "source": [
    "# Density Plots\n",
    "df_comp[\"Healthcare\"].plot(kind='kde', figsize=(20, 10))\n",
    "pyplot.show()"
   ]
  },
  {
   "cell_type": "code",
   "execution_count": null,
   "id": "f2492fff",
   "metadata": {},
   "outputs": [],
   "source": [
    "# The QQ plot\n",
    "scipy.stats.probplot(df_comp[\"Healthcare\"], plot=pylab)\n",
    "plt.title(\"QQ plot for Healthcare\")\n",
    "pylab.show()"
   ]
  },
  {
   "cell_type": "markdown",
   "id": "f7e3d0ea",
   "metadata": {},
   "source": [
    "## Gaussian Process"
   ]
  },
  {
   "cell_type": "code",
   "execution_count": null,
   "id": "debc1edf",
   "metadata": {},
   "outputs": [],
   "source": [
    "from sklearn.gaussian_process.kernels import WhiteKernel, ExpSineSquared, ConstantKernel\n",
    "from sklearn.gaussian_process.kernels import RationalQuadratic\n",
    "\n",
    "k0 = WhiteKernel(noise_level=0.3 ** 2, noise_level_bounds=(0.1 ** 2, 0.5 ** 2))\n",
    "\n",
    "k1 = ConstantKernel(constant_value=2) * \\\n",
    "  ExpSineSquared(length_scale=1.0, periodicity=40, periodicity_bounds=(35, 45))\n",
    "\n",
    "k2 = ConstantKernel(constant_value=100, constant_value_bounds=(1, 500)) * \\\n",
    "  RationalQuadratic(length_scale=500, length_scale_bounds=(1, 1e4), alpha= 50.0, alpha_bounds=(1, 1e3))\n",
    "\n",
    "k3 = ConstantKernel(constant_value=1) * \\\n",
    "  ExpSineSquared(length_scale=1.0, periodicity=12, periodicity_bounds=(10, 15))\n",
    "\n",
    "kernel_4  = k0 + k1 + k2 + k3"
   ]
  },
  {
   "cell_type": "code",
   "execution_count": null,
   "id": "d8331a2d",
   "metadata": {},
   "outputs": [],
   "source": [
    "mlf_run = mlf_api.create_run(project_name='timeseries-project', run_name='gp2-model')"
   ]
  },
  {
   "cell_type": "code",
   "execution_count": null,
   "id": "1dd6c881",
   "metadata": {},
   "outputs": [],
   "source": [
    "from sklearn.gaussian_process import GaussianProcessRegressor\n",
    "\n",
    "gp2 = GaussianProcessRegressor(\n",
    "    kernel=kernel_4, \n",
    "    n_restarts_optimizer=10, \n",
    "    normalize_y=True,\n",
    "    alpha=0.0\n",
    ")"
   ]
  },
  {
   "cell_type": "code",
   "execution_count": null,
   "id": "ebe3e940",
   "metadata": {},
   "outputs": [],
   "source": [
    "data_df = df_comp[[\"timestamp\", \"Healthcare\"]]"
   ]
  },
  {
   "cell_type": "code",
   "execution_count": null,
   "id": "6da75555",
   "metadata": {
    "scrolled": true
   },
   "outputs": [],
   "source": [
    "# train set split\n",
    "test_size = 22\n",
    "X = df_comp[\"timestamp\"]\n",
    "y = df_comp[\"Healthcare\"]\n",
    "\n",
    "x_train_t = X[:-test_size]\n",
    "y_train_t = y[:-test_size]\n",
    "\n",
    "x_test_t = X[-test_size:]\n",
    "y_test_t = y[-test_size:]\n",
    "\n",
    "df_train = df_comp[:-test_size]\n",
    "df_test = df_comp[-test_size:]\n",
    "\n",
    "plt.figure(figsize=(20,5))\n",
    "plt.title('train and test sets', size=20)\n",
    "plt.plot(y_train_t, label='Training set')\n",
    "plt.plot(y_test_t, label='Test set', color='orange')\n",
    "\n",
    "plt.legend()"
   ]
  },
  {
   "cell_type": "code",
   "execution_count": null,
   "id": "a93e0901",
   "metadata": {},
   "outputs": [],
   "source": [
    "# logging dataset\n",
    "mlf_run.log_dataset(df_train, data_slice=mlf.DataSlice.TRAIN)  \n",
    "mlf_run.log_dataset(df_test, data_slice=mlf.DataSlice.TEST)"
   ]
  },
  {
   "cell_type": "code",
   "execution_count": null,
   "id": "0949d21f",
   "metadata": {},
   "outputs": [],
   "source": [
    "x_train = x_train_t.values.reshape(-1, 1)\n",
    "y_train = y_train_t.values.reshape(-1, 1)\n",
    "\n",
    "x_test = x_test_t.values.reshape(-1, 1)\n",
    "y_test = y_test_t.values.reshape(-1, 1)"
   ]
  },
  {
   "cell_type": "code",
   "execution_count": null,
   "id": "c683ec84",
   "metadata": {},
   "outputs": [],
   "source": [
    "sns.set_style(\n",
    "    style='darkgrid', \n",
    "    rc={'axes.facecolor': '.9', 'grid.color': '.8'}\n",
    ")\n",
    "sns.set_palette(palette='deep')\n",
    "sns_c = sns.color_palette(palette='deep')"
   ]
  },
  {
   "cell_type": "code",
   "execution_count": null,
   "id": "aff1395a",
   "metadata": {},
   "outputs": [],
   "source": [
    "gp2_prior_samples = gp2.sample_y(X=x_train, n_samples=100)\n",
    "\n",
    "fig, ax = plt.subplots()\n",
    "for i in range(100):\n",
    "    sns.lineplot(x=x_train[...,0], y = gp2_prior_samples[:, i], color=sns_c[1], alpha=0.2, ax=ax)\n",
    "sns.lineplot(x=x_train[...,0], y=y_train[..., 0], color=sns_c[0], label='y2', ax=ax) \n",
    "ax.legend(loc='center left', bbox_to_anchor=(1, 0.5))\n",
    "ax.set(title='GP2 Prior Samples', xlabel='t');"
   ]
  },
  {
   "cell_type": "code",
   "execution_count": null,
   "id": "29458d63",
   "metadata": {},
   "outputs": [],
   "source": [
    "gp2.fit(x_train, y_train)"
   ]
  },
  {
   "cell_type": "code",
   "execution_count": null,
   "id": "620c1bc4",
   "metadata": {},
   "outputs": [],
   "source": [
    "mlf_run.log_params(gp2.get_params())    # logging params\n",
    "mlf_run.log_model(gp2, mlf.ModelFramework.SKLEARN) # log model"
   ]
  },
  {
   "cell_type": "code",
   "execution_count": null,
   "id": "8a2966e6",
   "metadata": {},
   "outputs": [],
   "source": [
    "# Generate predictions.\n",
    "y_pred, y_std = gp2.predict(x_train, return_std=True)\n",
    "\n",
    "\n",
    "df_train['y_pred'] = y_pred\n",
    "df_train['y_std'] = y_std\n",
    "df_train['y_pred_lwr'] = df_train['y_pred'] - 2*df_train['y_std']\n",
    "df_train['y_pred_upr'] = df_train['y_pred'] + 2*df_train['y_std']"
   ]
  },
  {
   "cell_type": "code",
   "execution_count": null,
   "id": "5ef383bf",
   "metadata": {},
   "outputs": [],
   "source": [
    "# Generate predictions.\n",
    "y_pred_test, y_std_test = gp2.predict(x_test, return_std=True)\n",
    "\n",
    "\n",
    "df_test['y_pred'] = y_pred_test\n",
    "df_test['y_std'] = y_std_test\n",
    "df_test['y_pred_lwr'] = df_test['y_pred'] - 2*df_test['y_std']\n",
    "df_test['y_pred_upr'] = df_test['y_pred'] + 2*df_test['y_std']"
   ]
  },
  {
   "cell_type": "code",
   "execution_count": null,
   "id": "7ac0f0b7",
   "metadata": {},
   "outputs": [],
   "source": [
    "mlf_run.log_predictions(df_test[['timestamp', 'Healthcare']], list(y_pred_test))   #logging predictions"
   ]
  },
  {
   "cell_type": "code",
   "execution_count": null,
   "id": "b963b39b",
   "metadata": {
    "scrolled": true
   },
   "outputs": [],
   "source": [
    "plt.figure(figsize=(20,5))\n",
    "plt.plot(df_train[\"y_pred\"])\n",
    "plt.plot(df_train[\"Healthcare\"], color='red')\n",
    "plt.show()"
   ]
  },
  {
   "cell_type": "code",
   "execution_count": null,
   "id": "4ec23882",
   "metadata": {},
   "outputs": [],
   "source": [
    "plt.figure(figsize=(20,5))\n",
    "plt.plot(df_test[\"y_pred\"])\n",
    "plt.plot(df_test[\"Healthcare\"], color='red')\n",
    "plt.show()"
   ]
  },
  {
   "cell_type": "code",
   "execution_count": null,
   "id": "733667c0",
   "metadata": {},
   "outputs": [],
   "source": [
    "print(f'R2 Score Train = {gp2.score(X=x_train, y=y_train): 0.3f}')\n",
    "print(f'R2 Score Test = {gp2.score(X=x_test, y=y_test): 0.3f}')\n",
    "print(f'MAE Train = {mean_absolute_error(y_true=y_train, y_pred=gp2.predict(x_train)): 0.3f}')\n",
    "print(f'MAE Test = {mean_absolute_error(y_true=y_test, y_pred=gp2.predict(x_test)): 0.3f}')\n"
   ]
  },
  {
   "cell_type": "code",
   "execution_count": null,
   "id": "b302f16e",
   "metadata": {},
   "outputs": [],
   "source": [
    "def mase_loss(y_test, y_pred, y_train):\n",
    "    #  naive seasonal prediction\n",
    "    y_train = np.asarray(y_train)\n",
    "    y_pred_naive = y_train[:-1]\n",
    "\n",
    "    # mean absolute error of naive seasonal prediction\n",
    "    mae_naive = np.mean(np.abs(y_train[1:] - y_pred_naive))\n",
    "\n",
    "    # if training data is flat, mae may be zero,\n",
    "    # return np.nan to avoid divide by zero error\n",
    "    # and np.inf values\n",
    "    if mae_naive == 0:\n",
    "        return np.nan\n",
    "    else:\n",
    "        return np.mean(np.abs(y_test - y_pred)) / mae_naive\n",
    "\n",
    "masel = mase_loss(y_test, df_test[\"y_pred\"].to_list(), df_train[\"Healthcare\"].to_list())\n",
    "mlf_run.log_metrics({'mase_loss': masel})    # logging metrics"
   ]
  },
  {
   "cell_type": "code",
   "execution_count": null,
   "id": "bc97d2b4",
   "metadata": {},
   "outputs": [],
   "source": [
    "import shap\n",
    "explainer = shap.KernelExplainer(gp2.predict,x_train)\n",
    "shap_values = explainer.shap_values(x_test)\n",
    "\n",
    "mlf_run.log_dataset_stats(\n",
    "    df_test, \n",
    "    data_slice=mlf.DataSlice.TEST,\n",
    "    data_schema=mlf.Schema(\n",
    "        feature_column_names=['timestamp'],\n",
    "        prediction_column_name=\"y_pred\",\n",
    "        actual_column_name=\"Healthcare\"\n",
    "    ),\n",
    "    model_type=mlf.ModelType.TIMESERIES,\n",
    "    shap_values=shap_values\n",
    ")"
   ]
  },
  {
   "cell_type": "code",
   "execution_count": null,
   "id": "3e0af516",
   "metadata": {},
   "outputs": [],
   "source": [
    "errors = gp2.predict(x_train) - y_train\n",
    "errors = errors.flatten()\n",
    "errors_mean = errors.mean()\n",
    "errors_std = errors.std()\n",
    "\n",
    "fig, ax = plt.subplots(1, 2, figsize=(12, 6)) \n",
    "sns.regplot(x=y_train.flatten(), y=gp2.predict(x_train).flatten(), ax=ax[0])\n",
    "sns.distplot(a=errors, ax=ax[1])\n",
    "ax[1].axvline(x=errors_mean, color=sns_c[3], linestyle='--', label=f'$\\mu$')\n",
    "ax[1].axvline(x=errors_mean + 2*errors_std, color=sns_c[4], linestyle='--', label=f'$\\mu \\pm 2\\sigma$')\n",
    "ax[1].axvline(x=errors_mean - 2*errors_std, color=sns_c[4], linestyle='--')\n",
    "ax[1].axvline(x=errors_mean, color=sns_c[3], linestyle='--')\n",
    "ax[1].legend()\n",
    "ax[0].set(title='Model 2 - Train vs Predictions (Train Set)', xlabel='y_train', ylabel='y_pred');\n",
    "ax[1].set(title='Model 2  - Errors', xlabel='error', ylabel=None);"
   ]
  },
  {
   "cell_type": "code",
   "execution_count": null,
   "id": "62eef02a",
   "metadata": {},
   "outputs": [],
   "source": [
    "errors = gp2.predict(x_test) - y_test\n",
    "errors = errors.flatten()\n",
    "errors_mean = errors.mean()\n",
    "errors_std = errors.std()\n",
    "\n",
    "fig, ax = plt.subplots(1, 2, figsize=(12, 6)) \n",
    "sns.regplot(x=y_test.flatten(), y=gp2.predict(x_test).flatten(), ax=ax[0])\n",
    "sns.distplot(a=errors, ax=ax[1])\n",
    "ax[1].axvline(x=errors_mean, color=sns_c[3], linestyle='--', label=f'$\\mu$')\n",
    "ax[1].axvline(x=errors_mean + 2*errors_std, color=sns_c[4], linestyle='--', label=f'$\\mu \\pm 2\\sigma$')\n",
    "ax[1].axvline(x=errors_mean - 2*errors_std, color=sns_c[4], linestyle='--')\n",
    "ax[1].axvline(x=errors_mean, color=sns_c[3], linestyle='--')\n",
    "ax[1].legend()\n",
    "ax[0].set(title='Model 2 - Test vs Predictions (Test Set)', xlabel='y_test', ylabel='y_pred');\n",
    "ax[1].set(title='Model 2  - Errors', xlabel='error', ylabel=None);"
   ]
  },
  {
   "cell_type": "markdown",
   "id": "04dadd86",
   "metadata": {},
   "source": [
    "## Difference (1)"
   ]
  },
  {
   "cell_type": "code",
   "execution_count": null,
   "id": "e206bb40",
   "metadata": {},
   "outputs": [],
   "source": [
    "mlf_run2 = mlf_api.create_run(project_name='timeseries-project', run_name='gp1-model')"
   ]
  },
  {
   "cell_type": "code",
   "execution_count": null,
   "id": "9ac89a52",
   "metadata": {},
   "outputs": [],
   "source": [
    "df_comp[\"delta_1_Healthcare\"] = df_comp.Healthcare.diff(1)"
   ]
  },
  {
   "cell_type": "code",
   "execution_count": null,
   "id": "373f8366",
   "metadata": {},
   "outputs": [],
   "source": [
    "df_comp.head()"
   ]
  },
  {
   "cell_type": "code",
   "execution_count": null,
   "id": "caef5f12",
   "metadata": {},
   "outputs": [],
   "source": [
    "df_comp.delta_1_Healthcare.plot(figsize=(20,5))"
   ]
  },
  {
   "cell_type": "code",
   "execution_count": null,
   "id": "6fee0f13",
   "metadata": {},
   "outputs": [],
   "source": [
    "# Checking the normality again with Density Plots\n",
    "df_comp[\"delta_1_Healthcare\"].plot(kind='kde', figsize=(20, 10))\n",
    "pyplot.show()"
   ]
  },
  {
   "cell_type": "code",
   "execution_count": null,
   "id": "bbb4aa78",
   "metadata": {},
   "outputs": [],
   "source": [
    "data_df_res = df_comp[[\"timestamp\", \"delta_1_Healthcare\"]]"
   ]
  },
  {
   "cell_type": "code",
   "execution_count": null,
   "id": "5e970432",
   "metadata": {},
   "outputs": [],
   "source": [
    "# train set split\n",
    "test_size = 12\n",
    "X = df_comp[\"timestamp\"]\n",
    "y = df_comp[\"delta_1_Healthcare\"]\n",
    "\n",
    "x_train_res = X[:-test_size]\n",
    "y_train_res = y[:-test_size]\n",
    "\n",
    "x_test_res = X[-test_size:]\n",
    "y_test_res = y[-test_size:]\n",
    "\n",
    "df_train_res = data_df_res[:-test_size][1:]\n",
    "df_test_res = data_df_res[-test_size:][1:]\n",
    "\n",
    "plt.figure(figsize=(20,5))\n",
    "plt.title('train and test sets', size=20)\n",
    "plt.plot(y_train_res, label='Training set')\n",
    "plt.plot(y_test_res, label='Test set', color='orange')\n",
    "\n",
    "plt.legend();"
   ]
  },
  {
   "cell_type": "code",
   "execution_count": null,
   "id": "3697ef3d",
   "metadata": {},
   "outputs": [],
   "source": [
    "x_train_res_1 = x_train_res.values.reshape(-1, 1)[1:]\n",
    "y_train_res_1 = y_train_res.values.reshape(-1, 1)[1:]\n",
    "\n",
    "x_test_res_1 = x_test_res.values.reshape(-1, 1)[1:]\n",
    "y_test_res_1 = y_test_res.values.reshape(-1, 1)[1:]"
   ]
  },
  {
   "cell_type": "code",
   "execution_count": null,
   "id": "a4e1066e",
   "metadata": {},
   "outputs": [],
   "source": [
    "from sklearn.gaussian_process.kernels import WhiteKernel, ExpSineSquared, ConstantKernel\n",
    "\n",
    "k0 = WhiteKernel(noise_level=0.3**2, noise_level_bounds=(0.1**2, 0.5**2))\n",
    "\n",
    "k1 = ConstantKernel(constant_value=2) * \\\n",
    "  ExpSineSquared(length_scale=1.0, periodicity=40, periodicity_bounds=(35, 45))\n",
    "\n",
    "kernel_1  = k0 + k1 "
   ]
  },
  {
   "cell_type": "code",
   "execution_count": null,
   "id": "7c284625",
   "metadata": {},
   "outputs": [],
   "source": [
    "from sklearn.gaussian_process import GaussianProcessRegressor\n",
    "\n",
    "gp1 = GaussianProcessRegressor(\n",
    "    kernel=kernel_1, \n",
    "    n_restarts_optimizer=5, \n",
    "    normalize_y=True,\n",
    "    alpha=0.0001\n",
    ")"
   ]
  },
  {
   "cell_type": "code",
   "execution_count": null,
   "id": "28973838",
   "metadata": {},
   "outputs": [],
   "source": [
    "gp1.fit(x_train_res_1, y_train_res_1)"
   ]
  },
  {
   "cell_type": "code",
   "execution_count": null,
   "id": "a074971a",
   "metadata": {},
   "outputs": [],
   "source": [
    "mlf_run2.log_params(gp1.get_params())    # logging params\n",
    "mlf_run2.log_model(gp1, mlf.ModelFramework.SKLEARN) # log model"
   ]
  },
  {
   "cell_type": "code",
   "execution_count": null,
   "id": "c7fab3a6",
   "metadata": {},
   "outputs": [],
   "source": [
    "# Generate predictions.\n",
    "y_pred, y_std = gp1.predict(x_train_res_1, return_std=True)\n",
    "\n",
    "\n",
    "df_train_res['y_pred'] = y_pred\n",
    "df_train_res['y_std'] = y_std\n",
    "df_train_res['y_pred_lwr'] = df_train_res['y_pred'] - 2*df_train_res['y_std']\n",
    "df_train_res['y_pred_upr'] = df_train_res['y_pred'] + 2*df_train_res['y_std']"
   ]
  },
  {
   "cell_type": "code",
   "execution_count": null,
   "id": "c3209152",
   "metadata": {},
   "outputs": [],
   "source": [
    "plt.figure(figsize=(20,5))\n",
    "plt.plot(df_train_res[\"y_pred\"], color='red')\n",
    "plt.plot(df_train_res[\"delta_1_Healthcare\"] )\n",
    "plt.show()"
   ]
  },
  {
   "cell_type": "code",
   "execution_count": null,
   "id": "4a39b30f",
   "metadata": {},
   "outputs": [],
   "source": [
    "# Generate predictions.\n",
    "y_pred, y_std = gp1.predict(x_test_res_1, return_std=True)\n",
    "\n",
    "\n",
    "df_test_res['y_pred'] = y_pred\n",
    "df_test_res['y_std'] = y_std\n",
    "df_test_res['y_pred_lwr'] = df_test_res['y_pred'] - 2*df_test_res['y_std']\n",
    "df_test_res['y_pred_upr'] = df_test_res['y_pred'] + 2*df_test_res['y_std']"
   ]
  },
  {
   "cell_type": "code",
   "execution_count": null,
   "id": "92051dcf",
   "metadata": {},
   "outputs": [],
   "source": [
    "mlf_run.log_predictions(df_test_res[['timestamp', 'delta_1_Healthcare']], list(y_pred))   #logging predictions"
   ]
  },
  {
   "cell_type": "code",
   "execution_count": null,
   "id": "f1fbc5d7",
   "metadata": {},
   "outputs": [],
   "source": [
    "plt.figure(figsize=(20,5))\n",
    "plt.plot(df_test_res[\"y_pred\"])\n",
    "plt.plot(df_test_res[\"delta_1_Healthcare\"], color='red')\n",
    "plt.show()"
   ]
  },
  {
   "cell_type": "code",
   "execution_count": null,
   "id": "08e1db2a",
   "metadata": {},
   "outputs": [],
   "source": [
    "df_test_res"
   ]
  },
  {
   "cell_type": "code",
   "execution_count": null,
   "id": "e230830a",
   "metadata": {},
   "outputs": [],
   "source": [
    "masel = mase_loss(df_test_res[\"delta_1_Healthcare\"], df_test_res[\"y_pred\"].to_list(), df_train_res[\"delta_1_Healthcare\"].to_list())\n",
    "mlf_run2.log_metrics({'mase_loss': masel})    # logging metrics\n",
    "\n",
    "import shap\n",
    "explainer = shap.KernelExplainer(gp1.predict,x_train)\n",
    "shap_values = explainer.shap_values(x_test)\n",
    "\n",
    "mlf_run2.log_dataset_stats(\n",
    "    df_test_res, \n",
    "    data_slice=mlf.DataSlice.TEST,\n",
    "    data_schema=mlf.Schema(\n",
    "        feature_column_names=['timestamp'],\n",
    "        prediction_column_name=\"y_pred\",\n",
    "        actual_column_name=\"delta_1_Healthcare\"\n",
    "    ),\n",
    "    model_type=mlf.ModelType.TIMESERIES,\n",
    "    shap_values=shap_values\n",
    ")"
   ]
  }
 ],
 "metadata": {
  "kernelspec": {
   "display_name": "Python 3 (ipykernel)",
   "language": "python",
   "name": "python3"
  },
  "language_info": {
   "codemirror_mode": {
    "name": "ipython",
    "version": 3
   },
   "file_extension": ".py",
   "mimetype": "text/x-python",
   "name": "python",
   "nbconvert_exporter": "python",
   "pygments_lexer": "ipython3",
   "version": "3.9.2"
  }
 },
 "nbformat": 4,
 "nbformat_minor": 5
}
