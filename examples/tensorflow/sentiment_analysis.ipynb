{
 "cells": [
  {
   "cell_type": "code",
   "execution_count": 7,
   "metadata": {},
   "outputs": [
    {
     "name": "stdout",
     "output_type": "stream",
     "text": [
      "  % Total    % Received % Xferd  Average Speed   Time    Time     Time  Current\n",
      "                                 Dload  Upload   Total   Spent    Left  Speed\n",
      "100 80.2M  100 80.2M    0     0  47247      0  0:29:40  0:29:40 --:--:-- 70995 0:30:27 159682 54410 0  0:30:43  0:23:15  0:07:28 13402\n"
     ]
    }
   ],
   "source": [
    "!curl -O https://ai.stanford.edu/~amaas/data/sentiment/aclImdb_v1.tar.gz\n",
    "!tar -xf aclImdb_v1.tar.gz"
   ]
  },
  {
   "cell_type": "code",
   "execution_count": 8,
   "metadata": {},
   "outputs": [],
   "source": [
    "import os\n",
    "import re\n",
    "import shutil\n",
    "import string\n",
    "import numpy as np\n",
    "import mlfoundry as mlf\n",
    "\n",
    "import pandas as pd\n",
    "import tensorflow as tf\n",
    "# import tensorflow_datasets as tfds\n",
    "from tensorflow.keras import layers\n",
    "from tensorflow.keras import losses\n",
    "from tensorflow.keras.layers.experimental.preprocessing import TextVectorization\n",
    "from tensorflow.keras.callbacks import Callback"
   ]
  },
  {
   "cell_type": "markdown",
   "metadata": {},
   "source": [
    "## Training the model"
   ]
  },
  {
   "cell_type": "markdown",
   "metadata": {},
   "source": [
    "## Using MlFoundry APIs"
   ]
  },
  {
   "cell_type": "code",
   "execution_count": 9,
   "metadata": {},
   "outputs": [
    {
     "name": "stderr",
     "output_type": "stream",
     "text": [
      "2022-04-06 00:42:34.438 INFO    mlfoundry.mlfoundry_api: Run is created with id 354f310fffbc423a9ca63130ecaf26d6 and name run_2022-04-05_19-12-34_utc\n"
     ]
    }
   ],
   "source": [
    "mlf_api = mlf.get_client() \n",
    "mlf_run = mlf_api.create_run(project_name='tensorflow-project')"
   ]
  },
  {
   "cell_type": "markdown",
   "metadata": {},
   "source": [
    "### Building the tensorflow model"
   ]
  },
  {
   "cell_type": "code",
   "execution_count": 10,
   "metadata": {},
   "outputs": [],
   "source": [
    "# To remove <br/> from input text\n",
    "def custom_standardization(input_data):\n",
    "    lowercase = tf.strings.lower(input_data)\n",
    "    stripped_html = tf.strings.regex_replace(lowercase, '<br />', ' ')\n",
    "    return tf.strings.regex_replace(stripped_html, '[%s]' % re.escape(string.punctuation), '')\n",
    "\n",
    "\n",
    "batch_size = 32\n",
    "seed = 42\n",
    "max_features = 10000\n",
    "sequence_length = 250\n",
    "embedding_dim = 16\n",
    "epochs = 10\n",
    "AUTOTUNE = tf.data.AUTOTUNE\n",
    "\n",
    "vectorize_layer = TextVectorization(\n",
    "    standardize=custom_standardization,\n",
    "    max_tokens=max_features,\n",
    "    output_mode='int',\n",
    "    output_sequence_length=sequence_length)\n",
    "\n",
    "\n",
    "def download_data():\n",
    "    url = \"https://ai.stanford.edu/~amaas/data/sentiment/aclImdb_v1.tar.gz\"\n",
    "    dataset = tf.keras.utils.get_file(\"aclImdb_v1\", url, untar=True, cache_dir='.', cache_subdir='')\n",
    "    dataset_dir = os.path.join(os.path.dirname(dataset), 'aclImdb')\n",
    "    train_dir = os.path.join(dataset_dir, 'train')\n",
    "    remove_dir = os.path.join(train_dir, 'unsup')\n",
    "    shutil.rmtree(remove_dir)\n",
    "\n",
    "\n",
    "def vectorize_text(text, label):\n",
    "    text = tf.expand_dims(text, -1)\n",
    "    return vectorize_layer(text), label\n",
    "\n",
    "class MetricsLogCallback(Callback):\n",
    "    def on_epoch_end(self, epoch, logs=None):\n",
    "        mlf_run.log_metrics(logs)   # logging metrics using mlfoundry run\n",
    "\n",
    "\n",
    "def get_raw_dataset():\n",
    "    raw_train_ds = tf.keras.preprocessing.text_dataset_from_directory(\n",
    "        'aclImdb/train',\n",
    "        batch_size=batch_size,\n",
    "        validation_split=0.2,\n",
    "        subset='training',\n",
    "        seed=seed)\n",
    "\n",
    "    raw_val_ds = tf.keras.preprocessing.text_dataset_from_directory(\n",
    "        'aclImdb/train',\n",
    "        batch_size=batch_size,\n",
    "        validation_split=0.2,\n",
    "        subset='validation',\n",
    "        seed=seed)\n",
    "\n",
    "    raw_test_ds = tf.keras.preprocessing.text_dataset_from_directory(\n",
    "        'aclImdb/test',\n",
    "        batch_size=batch_size)\n",
    "    return raw_train_ds, raw_val_ds, raw_test_ds\n",
    "\n",
    "\n",
    "def prep_dataset(raw_train_ds, raw_val_ds, raw_test_ds):\n",
    "    # Make a text-only dataset (without labels), then call adapt\n",
    "    train_text = raw_train_ds.map(lambda x, y: x)\n",
    "    vectorize_layer.adapt(train_text)\n",
    "\n",
    "    # retrieve a batch (of 32 reviews and labels) from the dataset\n",
    "    text_batch, label_batch = next(iter(raw_train_ds))\n",
    "\n",
    "    train_ds = raw_train_ds.map(vectorize_text)\n",
    "    val_ds = raw_val_ds.map(vectorize_text)\n",
    "    test_ds = raw_test_ds.map(vectorize_text)\n",
    "\n",
    "    train_ds = train_ds.cache().prefetch(buffer_size=AUTOTUNE)\n",
    "    val_ds = val_ds.cache().prefetch(buffer_size=AUTOTUNE)\n",
    "    test_ds = test_ds.cache().prefetch(buffer_size=AUTOTUNE)\n",
    "    return train_ds, val_ds, test_ds\n",
    "\n",
    "\n",
    "def build_model(train_ds, val_ds, test_ds):\n",
    "    model = tf.keras.Sequential([\n",
    "        layers.Embedding(max_features + 1, embedding_dim),\n",
    "        layers.Dropout(0.2),\n",
    "        layers.GlobalAveragePooling1D(),\n",
    "        layers.Dropout(0.2),\n",
    "        layers.Dense(1)])\n",
    "\n",
    "    model.summary()\n",
    "\n",
    "    model.compile(loss=losses.BinaryCrossentropy(from_logits=True),\n",
    "                  optimizer='adam',\n",
    "                  metrics=tf.metrics.BinaryAccuracy(threshold=0.0))\n",
    "\n",
    "    model.fit(\n",
    "        train_ds,\n",
    "        validation_data=val_ds,\n",
    "        epochs=epochs,\n",
    "        callbacks=[MetricsLogCallback()])\n",
    "    return model\n",
    "\n",
    "\n",
    "def build_exportable_model(model):\n",
    "    export_model = tf.keras.Sequential([\n",
    "        vectorize_layer,\n",
    "        model,\n",
    "        layers.Activation('sigmoid')\n",
    "    ])\n",
    "\n",
    "    export_model.compile(\n",
    "        loss=losses.BinaryCrossentropy(from_logits=False), optimizer=\"adam\", metrics=['accuracy']\n",
    "    )\n",
    "    return export_model"
   ]
  },
  {
   "cell_type": "markdown",
   "metadata": {},
   "source": [
    "### Training model"
   ]
  },
  {
   "cell_type": "code",
   "execution_count": 11,
   "metadata": {},
   "outputs": [
    {
     "name": "stdout",
     "output_type": "stream",
     "text": [
      "Found 75000 files belonging to 3 classes.\n",
      "Using 60000 files for training.\n",
      "Found 75000 files belonging to 3 classes.\n",
      "Using 15000 files for validation.\n",
      "Found 25000 files belonging to 2 classes.\n",
      "Model: \"sequential\"\n",
      "_________________________________________________________________\n",
      " Layer (type)                Output Shape              Param #   \n",
      "=================================================================\n",
      " embedding (Embedding)       (None, None, 16)          160016    \n",
      "                                                                 \n",
      " dropout (Dropout)           (None, None, 16)          0         \n",
      "                                                                 \n",
      " global_average_pooling1d (G  (None, 16)               0         \n",
      " lobalAveragePooling1D)                                          \n",
      "                                                                 \n",
      " dropout_1 (Dropout)         (None, 16)                0         \n",
      "                                                                 \n",
      " dense (Dense)               (None, 1)                 17        \n",
      "                                                                 \n",
      "=================================================================\n",
      "Total params: 160,033\n",
      "Trainable params: 160,033\n",
      "Non-trainable params: 0\n",
      "_________________________________________________________________\n",
      "Epoch 1/10\n",
      "1871/1875 [============================>.] - ETA: 0s - loss: -15.4595 - binary_accuracy: 0.1663"
     ]
    },
    {
     "name": "stderr",
     "output_type": "stream",
     "text": [
      "2022-04-06 00:43:00.040 INFO    mlfoundry.mlfoundry_run: Metrics logged successfully\n"
     ]
    },
    {
     "name": "stdout",
     "output_type": "stream",
     "text": [
      "1875/1875 [==============================] - 9s 5ms/step - loss: -15.5165 - binary_accuracy: 0.1663 - val_loss: -43.8816 - val_binary_accuracy: 0.1681\n",
      "Epoch 2/10\n",
      "1875/1875 [==============================] - ETA: 0s - loss: -97.0565 - binary_accuracy: 0.1663"
     ]
    },
    {
     "name": "stderr",
     "output_type": "stream",
     "text": [
      "2022-04-06 00:43:09.895 INFO    mlfoundry.mlfoundry_run: Metrics logged successfully\n"
     ]
    },
    {
     "name": "stdout",
     "output_type": "stream",
     "text": [
      "1875/1875 [==============================] - 10s 5ms/step - loss: -97.0565 - binary_accuracy: 0.1663 - val_loss: -153.9190 - val_binary_accuracy: 0.1681\n",
      "Epoch 3/10\n",
      "1867/1875 [============================>.] - ETA: 0s - loss: -235.7335 - binary_accuracy: 0.1662"
     ]
    },
    {
     "name": "stderr",
     "output_type": "stream",
     "text": [
      "2022-04-06 00:43:19.683 INFO    mlfoundry.mlfoundry_run: Metrics logged successfully\n"
     ]
    },
    {
     "name": "stdout",
     "output_type": "stream",
     "text": [
      "1875/1875 [==============================] - 10s 5ms/step - loss: -236.0783 - binary_accuracy: 0.1663 - val_loss: -312.3886 - val_binary_accuracy: 0.1681\n",
      "Epoch 4/10\n",
      "1864/1875 [============================>.] - ETA: 0s - loss: -420.0092 - binary_accuracy: 0.1663"
     ]
    },
    {
     "name": "stderr",
     "output_type": "stream",
     "text": [
      "2022-04-06 00:43:29.342 INFO    mlfoundry.mlfoundry_run: Metrics logged successfully\n"
     ]
    },
    {
     "name": "stdout",
     "output_type": "stream",
     "text": [
      "1875/1875 [==============================] - 10s 5ms/step - loss: -420.5952 - binary_accuracy: 0.1663 - val_loss: -514.1993 - val_binary_accuracy: 0.1681\n",
      "Epoch 5/10\n",
      "1871/1875 [============================>.] - ETA: 0s - loss: -649.9819 - binary_accuracy: 0.1663"
     ]
    },
    {
     "name": "stderr",
     "output_type": "stream",
     "text": [
      "2022-04-06 00:43:39.189 INFO    mlfoundry.mlfoundry_run: Metrics logged successfully\n"
     ]
    },
    {
     "name": "stdout",
     "output_type": "stream",
     "text": [
      "1875/1875 [==============================] - 10s 5ms/step - loss: -650.1613 - binary_accuracy: 0.1663 - val_loss: -758.2071 - val_binary_accuracy: 0.1681\n",
      "Epoch 6/10\n",
      "1867/1875 [============================>.] - ETA: 0s - loss: -921.4586 - binary_accuracy: 0.1662"
     ]
    },
    {
     "name": "stderr",
     "output_type": "stream",
     "text": [
      "2022-04-06 00:43:49.094 INFO    mlfoundry.mlfoundry_run: Metrics logged successfully\n"
     ]
    },
    {
     "name": "stdout",
     "output_type": "stream",
     "text": [
      "1875/1875 [==============================] - 10s 5ms/step - loss: -921.8747 - binary_accuracy: 0.1663 - val_loss: -1043.6002 - val_binary_accuracy: 0.1681\n",
      "Epoch 7/10\n",
      "1868/1875 [============================>.] - ETA: 0s - loss: -1236.0967 - binary_accuracy: 0.1663"
     ]
    },
    {
     "name": "stderr",
     "output_type": "stream",
     "text": [
      "2022-04-06 00:43:59.087 INFO    mlfoundry.mlfoundry_run: Metrics logged successfully\n"
     ]
    },
    {
     "name": "stdout",
     "output_type": "stream",
     "text": [
      "1875/1875 [==============================] - 10s 5ms/step - loss: -1236.4836 - binary_accuracy: 0.1663 - val_loss: -1370.1252 - val_binary_accuracy: 0.1681\n",
      "Epoch 8/10\n",
      "1874/1875 [============================>.] - ETA: 0s - loss: -1595.6111 - binary_accuracy: 0.1663"
     ]
    },
    {
     "name": "stderr",
     "output_type": "stream",
     "text": [
      "2022-04-06 00:44:08.982 INFO    mlfoundry.mlfoundry_run: Metrics logged successfully\n"
     ]
    },
    {
     "name": "stdout",
     "output_type": "stream",
     "text": [
      "1875/1875 [==============================] - 10s 5ms/step - loss: -1595.4734 - binary_accuracy: 0.1663 - val_loss: -1737.8064 - val_binary_accuracy: 0.1681\n",
      "Epoch 9/10\n",
      "1871/1875 [============================>.] - ETA: 0s - loss: -1992.4424 - binary_accuracy: 0.1663"
     ]
    },
    {
     "name": "stderr",
     "output_type": "stream",
     "text": [
      "2022-04-06 00:44:18.777 INFO    mlfoundry.mlfoundry_run: Metrics logged successfully\n"
     ]
    },
    {
     "name": "stdout",
     "output_type": "stream",
     "text": [
      "1875/1875 [==============================] - 10s 5ms/step - loss: -1992.4967 - binary_accuracy: 0.1663 - val_loss: -2145.4951 - val_binary_accuracy: 0.1681\n",
      "Epoch 10/10\n",
      "1867/1875 [============================>.] - ETA: 0s - loss: -2431.6135 - binary_accuracy: 0.1662"
     ]
    },
    {
     "name": "stderr",
     "output_type": "stream",
     "text": [
      "2022-04-06 00:44:28.618 INFO    mlfoundry.mlfoundry_run: Metrics logged successfully\n"
     ]
    },
    {
     "name": "stdout",
     "output_type": "stream",
     "text": [
      "\b\b\b\b\b\b\b\b\b\b\b\b\b\b\b\b\b\b\b\b\b\b\b\b\b\b\b\b\b\b\b\b\b\b\b\b\b\b\b\b\b\b\b\b\b\b\b\b\b\b\b\b\b\b\b\b\b\b\b\b\b\b\b\b\b\b\b\b\b\b\b\b\b\b\b\b\b\b\b\b\b\b\b\b\b\b\b\b\b\b\b\b\b\b\b\b\b\r",
      "1875/1875 [==============================] - 10s 5ms/step - loss: -2432.3733 - binary_accuracy: 0.1663 - val_loss: -2593.4038 - val_binary_accuracy: 0.1681\n"
     ]
    }
   ],
   "source": [
    "# download_data()   # uncomment this to download the dataset\n",
    "raw_train_ds, raw_val_ds, raw_test_ds = get_raw_dataset()\n",
    "train_ds, val_ds, test_ds = prep_dataset(raw_train_ds, raw_val_ds, raw_test_ds)\n",
    "model = build_model(train_ds, val_ds, test_ds)\n",
    "export_model = build_exportable_model(model)"
   ]
  },
  {
   "cell_type": "markdown",
   "metadata": {},
   "source": [
    "### Logging Model"
   ]
  },
  {
   "cell_type": "code",
   "execution_count": 12,
   "metadata": {},
   "outputs": [
    {
     "name": "stderr",
     "output_type": "stream",
     "text": [
      "2022-04-06 00:44:29.207779: W tensorflow/python/util/util.cc:368] Sets are not currently considered sequences, but this may change in the future, so consider avoiding using them.\n",
      "2022-04-06 00:44:29.869 INFO    tensorflow: Assets written to: /home/rizwan/enthire/mlfoundry-examples/examples/tensorflow/servicefoundry/logdirs/models/assets\n",
      "2022-04-06 00:44:29.904 INFO    mlfoundry.mlfoundry_run: Model logged Successfully\n"
     ]
    }
   ],
   "source": [
    "model_loggable = {\n",
    "    'model': export_model,\n",
    "    'signatures': None,\n",
    "    'options': None\n",
    "}\n",
    "\n",
    "mlf_run.log_model(model_loggable, mlf.ModelFramework.TENSORFLOW)"
   ]
  },
  {
   "cell_type": "markdown",
   "metadata": {},
   "source": [
    "### Logging Predictions"
   ]
  },
  {
   "cell_type": "code",
   "execution_count": 14,
   "metadata": {},
   "outputs": [],
   "source": [
    "for text_batch, label_batch in raw_test_ds.take(1):\n",
    "    X_test = text_batch.numpy()\n",
    "    y_test = label_batch.numpy()\n",
    "\n",
    "y_hat_test = export_model.predict(X_test)"
   ]
  },
  {
   "cell_type": "markdown",
   "metadata": {},
   "source": [
    "### Logging Dataset Stats"
   ]
  },
  {
   "cell_type": "code",
   "execution_count": 15,
   "metadata": {},
   "outputs": [
    {
     "name": "stderr",
     "output_type": "stream",
     "text": [
      "/home/rizwan/.cache/pypoetry/virtualenvs/mlfoundry-examples-w7CJwyiv-py3.8/lib/python3.8/site-packages/mlfoundry/mlfoundry_run.py:427: FutureWarning: Passing a set as an indexer is deprecated and will raise in a future version. Use a list instead.\n",
      "  self.__compute_whylogs_stats(df[set(data_schema.feature_column_names)])\n",
      "2022-04-06 01:05:38.086 INFO    whylogs.app.config: No config file loaded\n",
      "/home/rizwan/.cache/pypoetry/virtualenvs/mlfoundry-examples-w7CJwyiv-py3.8/lib/python3.8/site-packages/mlfoundry/mlfoundry_run.py:524: FutureWarning: Passing a set as an indexer is deprecated and will raise in a future version. Use a list instead.\n",
      "  df[set(data_schema.feature_column_names)],\n",
      "2022-04-06 01:05:38.118 INFO    mlfoundry.mlfoundry_run: Metrics logged successfully\n",
      "2022-04-06 01:05:38.120 INFO    mlfoundry.mlfoundry_run: Dataset stats have been successfully computed and logged\n"
     ]
    },
    {
     "name": "stdout",
     "output_type": "stream",
     "text": [
      "WARN: Missing config\n"
     ]
    }
   ],
   "source": [
    "y_hat_test = np.round(y_hat_test.reshape((batch_size))).astype('int32')\n",
    "\n",
    "X_test_df = pd.DataFrame(X_test, columns=['text'])\n",
    "X_test_df['targets'] = y_test\n",
    "X_test_df['predictions'] = y_hat_test\n",
    "\n",
    "mlf_run.log_dataset_stats(\n",
    "    X_test_df, \n",
    "    data_slice=\"test\",\n",
    "    data_schema=mlf.Schema(\n",
    "        feature_column_names=['text'],\n",
    "        prediction_column_name=\"predictions\",\n",
    "        actual_column_name=\"targets\"\n",
    "    ),\n",
    "    model_type=\"binary_classification\",\n",
    ")"
   ]
  },
  {
   "cell_type": "code",
   "execution_count": null,
   "metadata": {},
   "outputs": [],
   "source": []
  }
 ],
 "metadata": {
  "interpreter": {
   "hash": "28092292923bed62c8b687b499027e8fe5fa2d6eed1f342433a13f18841f982d"
  },
  "kernelspec": {
   "display_name": "Python 3 (ipykernel)",
   "language": "python",
   "name": "python3"
  },
  "language_info": {
   "codemirror_mode": {
    "name": "ipython",
    "version": 3
   },
   "file_extension": ".py",
   "mimetype": "text/x-python",
   "name": "python",
   "nbconvert_exporter": "python",
   "pygments_lexer": "ipython3",
   "version": "3.8.5"
  }
 },
 "nbformat": 4,
 "nbformat_minor": 2
}
