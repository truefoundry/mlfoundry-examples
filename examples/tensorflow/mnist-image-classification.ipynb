{
  "nbformat": 4,
  "nbformat_minor": 0,
  "metadata": {
    "colab": {
      "name": "Untitled2.ipynb",
      "provenance": [],
      "collapsed_sections": []
    },
    "kernelspec": {
      "name": "python3",
      "display_name": "Python 3"
    },
    "language_info": {
      "name": "python"
    }
  },
  "cells": [
    {
      "cell_type": "markdown",
      "source": [
        "## Install MLfoundry"
      ],
      "metadata": {
        "id": "TcJ5RA_EAps_"
      }
    },
    {
      "cell_type": "code",
      "execution_count": null,
      "metadata": {
        "id": "7Jahm0-VXfmW"
      },
      "outputs": [],
      "source": [
        "!pip install mlfoundry"
      ]
    },
    {
      "cell_type": "markdown",
      "source": [
        "## Initialize MLFoundry Client"
      ],
      "metadata": {
        "id": "Ion3L6V6BEHR"
      }
    },
    {
      "cell_type": "code",
      "source": [
        "import mlfoundry as mlf\n",
        "mlf.login()\n",
        "client = mlf.get_client()\n",
        "run = client.create_run(\"mnist-example\")"
      ],
      "metadata": {
        "id": "CLt4076fXiEa"
      },
      "execution_count": null,
      "outputs": []
    },
    {
      "cell_type": "markdown",
      "source": [
        "## Creating a simple Keras model for MNIST image classification"
      ],
      "metadata": {
        "id": "PcHPjMkYB8SL"
      }
    },
    {
      "cell_type": "code",
      "source": [
        "from keras.datasets import mnist\n",
        "from keras.utils import np_utils\n",
        "from keras.models import Sequential\n",
        "from keras.layers import Dense\n",
        "import numpy as np\n",
        "\n",
        "data = mnist.load_data()\n",
        "(X_train, y_train), (X_test, y_test) = data\n",
        "X_train = X_train.reshape((X_train.shape[0], 28 * 28)).astype('float32') / 255\n",
        "X_test = X_test.reshape((X_test.shape[0], 28 * 28)).astype('float32') / 255\n",
        "\n",
        "y_train = np_utils.to_categorical(y_train)\n",
        "y_test = np_utils.to_categorical(y_test)\n",
        "num_classes = y_test.shape[1]\n",
        "\n",
        "model = Sequential()\n",
        "model.add(Dense(32, input_dim=28 * 28, activation='relu'))\n",
        "model.add(Dense(64, activation='relu'))\n",
        "model.add(Dense(10, activation='softmax'))\n",
        "model.compile(loss='categorical_crossentropy', optimizer='adam', metrics=['accuracy'])\n",
        "\n",
        "model.fit(X_train, y_train, epochs=3, batch_size=200)\n",
        "\n",
        "scores = model.evaluate(X_test, y_test)\n",
        "y_pred = model.predict(X_test)\n",
        "print('Accuracy:', scores[1] * 100)\n"
      ],
      "metadata": {
        "id": "vSAZ8IhvBUHq"
      },
      "execution_count": null,
      "outputs": []
    },
    {
      "cell_type": "markdown",
      "source": [
        "## Logging metrics, params and the model"
      ],
      "metadata": {
        "id": "OaiQ7r2cCGpb"
      }
    },
    {
      "cell_type": "code",
      "source": [
        "\n",
        "run.log_metrics({'accuracy': scores[1]})\n",
        "run.log_params(model.history.params)\n",
        "run.log_model(model=model, framework=\"keras\")\n",
        "\n"
      ],
      "metadata": {
        "id": "hIxYbI8dmbuE"
      },
      "execution_count": null,
      "outputs": []
    },
    {
      "cell_type": "markdown",
      "source": [
        "## Logging the images"
      ],
      "metadata": {
        "id": "2EVSudGCCOvB"
      }
    },
    {
      "cell_type": "code",
      "source": [
        "img_dict = {}\n",
        "img_array = X_test.reshape(10000, 28,28)\n",
        "actuals = np.argmax(y_pred, axis = 1)\n",
        "predictions = np.argmax(y_test, axis=1)\n",
        "\n",
        "for i in range(100):\n",
        "  img_dict[str(i)] = mlf.Image(\n",
        "      data_or_path=img_array[i],\n",
        "      caption=\"mnist sample\",\n",
        "      class_groups={\"actuals\": [str(actuals[i])], \"predictions\": [str(predictions[i])]} \n",
        "  )\n",
        "\n",
        "run.log_images(img_dict)"
      ],
      "metadata": {
        "id": "HrFw7KOypJIJ"
      },
      "execution_count": null,
      "outputs": []
    },
    {
      "cell_type": "markdown",
      "source": [
        "## Ending the run"
      ],
      "metadata": {
        "id": "GIyJ2U6oCScx"
      }
    },
    {
      "cell_type": "code",
      "source": [
        "run.end()"
      ],
      "metadata": {
        "colab": {
          "base_uri": "https://localhost:8080/"
        },
        "id": "_5fpoze97a0y",
        "outputId": "070a6301-f5c6-4306-c212-e8649e672800"
      },
      "execution_count": 97,
      "outputs": [
        {
          "output_type": "stream",
          "name": "stdout",
          "text": [
            "[mlfoundry] 2022-06-27T11:48:46+0000 INFO Shutting down background jobs and syncing data for run 'Nikhil/mnist-example/glorious-warthog', please don't kill this process...\n",
            "[mlfoundry] 2022-06-27T11:48:48+0000 INFO Finished syncing data for run 'Nikhil/mnist-example/glorious-warthog'. Thank you for waiting!\n",
            "Link to the dashboard for the run: https://app.truefoundry.com/mlfoundry/131/660e4dbaf77b4728a8d015b35facc691/\n"
          ]
        }
      ]
    }
  ]
}