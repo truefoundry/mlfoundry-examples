{
 "cells": [
  {
   "cell_type": "markdown",
   "id": "6daf38c9",
   "metadata": {},
   "source": [
    "## Try this Notebook in Google Colab\n",
    "\n",
    "[![Open In Colab](https://colab.research.google.com/assets/colab-badge.svg)](https://colab.research.google.com/github/truefoundry/mlfoundry-examples/blob/main/raw-examples/xgboost/titanic_survival_classification.ipynb)"
   ]
  },
  {
   "cell_type": "markdown",
   "id": "45ebf08e-fa9b-4119-b393-25de923e103f",
   "metadata": {
    "id": "45ebf08e-fa9b-4119-b393-25de923e103f",
    "tags": []
   },
   "source": [
    "## Install dependencies"
   ]
  },
  {
   "cell_type": "code",
   "execution_count": null,
   "id": "b01c5fc4",
   "metadata": {
    "id": "b01c5fc4",
    "tags": []
   },
   "outputs": [],
   "source": [
    "! pip install --quiet \"numpy>=1.0.0,<2.0.0\" \"pandas>=1.0.0,<2.0.0\" \"matplotlib>=3.5.2,<3.6.0\" \"seaborn>=0.11.0,<0.12.0\" \"xgboost>=1.6.1,<1.7.0\" scikit-learn shap==0.40.0"
   ]
  },
  {
   "cell_type": "markdown",
   "id": "3212ac43-f954-4d79-ac15-aa2f5bcec540",
   "metadata": {
    "id": "3212ac43-f954-4d79-ac15-aa2f5bcec540"
   },
   "source": [
    "## Titanic Survival Classification"
   ]
  },
  {
   "cell_type": "code",
   "execution_count": null,
   "id": "a837459d",
   "metadata": {
    "id": "a837459d"
   },
   "outputs": [],
   "source": [
    "import numpy as np\n",
    "import pandas as pd\n",
    "import seaborn as sns\n",
    "import xgboost as xgb\n",
    "import shap\n",
    "\n",
    "from sklearn.preprocessing import LabelEncoder\n",
    "from sklearn.model_selection import train_test_split\n",
    "from sklearn.metrics import classification_report, accuracy_score, precision_score, recall_score, f1_score"
   ]
  },
  {
   "cell_type": "markdown",
   "id": "fea9a7c8-383b-4475-82aa-d7ebb05b4e67",
   "metadata": {
    "id": "fea9a7c8-383b-4475-82aa-d7ebb05b4e67"
   },
   "source": [
    "### Load data and process it\n",
    "- Impute null and missing values\n",
    "- Map categorical values to numerical values"
   ]
  },
  {
   "cell_type": "code",
   "execution_count": null,
   "id": "ed1b8801",
   "metadata": {
    "id": "ed1b8801"
   },
   "outputs": [],
   "source": [
    "titanic = sns.load_dataset('titanic')\n",
    "titanic.info()"
   ]
  },
  {
   "cell_type": "code",
   "execution_count": null,
   "id": "6b995475-faf9-4b99-ac65-53bc2f5e1d91",
   "metadata": {
    "id": "6b995475-faf9-4b99-ac65-53bc2f5e1d91"
   },
   "outputs": [],
   "source": [
    "titanic.head()"
   ]
  },
  {
   "cell_type": "code",
   "execution_count": null,
   "id": "bf676e9c-476a-4367-964d-80af1b86276e",
   "metadata": {
    "id": "bf676e9c-476a-4367-964d-80af1b86276e"
   },
   "outputs": [],
   "source": [
    "titanic.drop(['who', 'embark_town', 'alive'], inplace=True, axis=1)"
   ]
  },
  {
   "cell_type": "code",
   "execution_count": null,
   "id": "c90b7b56-b294-4881-8c0c-1a5ad48b1f18",
   "metadata": {
    "id": "c90b7b56-b294-4881-8c0c-1a5ad48b1f18"
   },
   "outputs": [],
   "source": [
    "titanic.isnull().sum()"
   ]
  },
  {
   "cell_type": "code",
   "execution_count": null,
   "id": "dfebaa04-c937-4eef-b539-53315e6eeb29",
   "metadata": {
    "id": "dfebaa04-c937-4eef-b539-53315e6eeb29"
   },
   "outputs": [],
   "source": [
    "pd.value_counts(titanic['embarked'])"
   ]
  },
  {
   "cell_type": "code",
   "execution_count": null,
   "id": "32bac467-56bd-4dbf-a1d2-01636f374b2c",
   "metadata": {
    "id": "32bac467-56bd-4dbf-a1d2-01636f374b2c"
   },
   "outputs": [],
   "source": [
    "pd.value_counts(titanic['deck'])"
   ]
  },
  {
   "cell_type": "code",
   "execution_count": null,
   "id": "f4bedcd4-0c5d-4e84-a986-741300b1dcea",
   "metadata": {
    "id": "f4bedcd4-0c5d-4e84-a986-741300b1dcea"
   },
   "outputs": [],
   "source": [
    "titanic['embarked'].fillna('S', inplace=True)\n",
    "titanic['deck'].fillna('C', inplace=True)\n",
    "titanic['age'].fillna(titanic['age'].median(), inplace=True)"
   ]
  },
  {
   "cell_type": "code",
   "execution_count": null,
   "id": "587393e0-bed8-4654-80b1-cd1b73da0938",
   "metadata": {
    "id": "587393e0-bed8-4654-80b1-cd1b73da0938"
   },
   "outputs": [],
   "source": [
    "titanic.isnull().values.any()"
   ]
  },
  {
   "cell_type": "code",
   "execution_count": null,
   "id": "c0e0f56c-c3d7-4a93-9d29-7396b397a630",
   "metadata": {
    "id": "c0e0f56c-c3d7-4a93-9d29-7396b397a630"
   },
   "outputs": [],
   "source": [
    "titanic.head()"
   ]
  },
  {
   "cell_type": "code",
   "execution_count": null,
   "id": "0f614cc0-f6a5-4289-8f4e-05c007d8a773",
   "metadata": {
    "id": "0f614cc0-f6a5-4289-8f4e-05c007d8a773"
   },
   "outputs": [],
   "source": [
    "label_encoders = {}\n",
    "for column in ['sex', 'embarked', 'class', 'adult_male', 'deck', 'alone']:\n",
    "    label_encoders[column] = LabelEncoder()\n",
    "    titanic[column] = label_encoders[column].fit_transform(titanic[column])"
   ]
  },
  {
   "cell_type": "code",
   "execution_count": null,
   "id": "05bd5d2c",
   "metadata": {
    "id": "05bd5d2c"
   },
   "outputs": [],
   "source": [
    "X = titanic.copy().drop(['survived'], axis=1)\n",
    "y = titanic['survived']"
   ]
  },
  {
   "cell_type": "markdown",
   "id": "e380751a-8ad3-489d-b90f-b8bb800ee9f9",
   "metadata": {
    "id": "e380751a-8ad3-489d-b90f-b8bb800ee9f9"
   },
   "source": [
    "### Split Dataset into Training and Validation"
   ]
  },
  {
   "cell_type": "code",
   "execution_count": null,
   "id": "305796c3",
   "metadata": {
    "id": "305796c3"
   },
   "outputs": [],
   "source": [
    "X_train, X_test, y_train, y_test = train_test_split(X, y, test_size=0.3, random_state=42, stratify=y)"
   ]
  },
  {
   "cell_type": "markdown",
   "id": "9d41724b-92d2-459a-be29-f0d2ed46a725",
   "metadata": {
    "id": "9d41724b-92d2-459a-be29-f0d2ed46a725"
   },
   "source": [
    "### Training model"
   ]
  },
  {
   "cell_type": "code",
   "execution_count": null,
   "id": "9e8b01b8-497f-4c8d-a043-72fc45f1718b",
   "metadata": {
    "id": "9e8b01b8-497f-4c8d-a043-72fc45f1718b"
   },
   "outputs": [],
   "source": [
    "gbm = xgb.XGBClassifier(n_estimators=20, max_depth=5)\n",
    "gbm.fit(X_train, y_train)\n",
    "print('Accuracy:', gbm.score(X_test, y_test))"
   ]
  },
  {
   "cell_type": "code",
   "execution_count": null,
   "id": "c7cf7604-650d-4fba-a847-d0fbdb1caf3e",
   "metadata": {
    "id": "c7cf7604-650d-4fba-a847-d0fbdb1caf3e",
    "tags": []
   },
   "outputs": [],
   "source": [
    "print(gbm.get_params())"
   ]
  },
  {
   "cell_type": "code",
   "execution_count": null,
   "id": "01ada2a1-7a6f-477b-9831-5295530ad970",
   "metadata": {
    "id": "01ada2a1-7a6f-477b-9831-5295530ad970"
   },
   "outputs": [],
   "source": [
    "import pickle\n",
    "\n",
    "with open('label_encoders.pkl', 'wb') as f:\n",
    "    pickle.dump(label_encoders, f)"
   ]
  },
  {
   "cell_type": "markdown",
   "id": "19aa9613-3245-455b-ba5c-7ee163403112",
   "metadata": {
    "id": "19aa9613-3245-455b-ba5c-7ee163403112",
    "tags": []
   },
   "source": [
    "### Computing predictions"
   ]
  },
  {
   "cell_type": "code",
   "execution_count": null,
   "id": "7a2c73e8-421c-45b9-881c-dd335e3bf60c",
   "metadata": {
    "id": "7a2c73e8-421c-45b9-881c-dd335e3bf60c"
   },
   "outputs": [],
   "source": [
    "y_pred_train = gbm.predict(X_train)\n",
    "y_pred_test = gbm.predict(X_test)"
   ]
  },
  {
   "cell_type": "markdown",
   "id": "19ba7e2a-1549-4677-b1a6-eb26db198862",
   "metadata": {
    "id": "19ba7e2a-1549-4677-b1a6-eb26db198862"
   },
   "source": [
    "### Computing metrics"
   ]
  },
  {
   "cell_type": "code",
   "execution_count": null,
   "id": "a7a83a21",
   "metadata": {
    "id": "a7a83a21"
   },
   "outputs": [],
   "source": [
    "metrics = {\n",
    "    'train/accuracy': accuracy_score(y_train, y_pred_train),\n",
    "    'train/precision': precision_score(y_train, y_pred_train),\n",
    "    'train/recall': recall_score(y_train, y_pred_train),\n",
    "    'train/f1': f1_score(y_train, y_pred_train),\n",
    "    'test/accuracy': accuracy_score(y_test, y_pred_test),\n",
    "    'test/precision': precision_score(y_test, y_pred_test),\n",
    "    'test/recall': recall_score(y_test, y_pred_test),\n",
    "    'test/f1': f1_score(y_test, y_pred_test),\n",
    "}\n",
    "print(metrics)"
   ]
  }
 ],
 "metadata": {
  "colab": {
   "collapsed_sections": [],
   "name": "titanic_survival_classification.ipynb",
   "provenance": []
  },
  "interpreter": {
   "hash": "0a0e20efb45b0a8e04b12f0d220e2449093f6f1936ab23fc807597df021f0e2b"
  },
  "kernelspec": {
   "display_name": "Python 3 (ipykernel)",
   "language": "python",
   "name": "python3"
  },
  "language_info": {
   "codemirror_mode": {
    "name": "ipython",
    "version": 3
   },
   "file_extension": ".py",
   "mimetype": "text/x-python",
   "name": "python",
   "nbconvert_exporter": "python",
   "pygments_lexer": "ipython3",
   "version": "3.9.2"
  }
 },
 "nbformat": 4,
 "nbformat_minor": 5
}
