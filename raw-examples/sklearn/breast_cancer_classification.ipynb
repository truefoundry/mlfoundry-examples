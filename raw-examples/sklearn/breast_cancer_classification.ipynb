{
 "cells": [
  {
   "cell_type": "markdown",
   "metadata": {},
   "source": [
    "## Try this Notebook in Google Colab\n",
    "\n",
    "[![Open In Colab](https://colab.research.google.com/assets/colab-badge.svg)](https://colab.research.google.com/drive/154-KKG_FjFH4sMOPGDyB06IIS9EQgWIQ?usp=sharing)"
   ]
  },
  {
   "cell_type": "markdown",
   "metadata": {
    "id": "gqTxFp1scYHi",
    "tags": []
   },
   "source": [
    "## Install dependencies"
   ]
  },
  {
   "cell_type": "code",
   "execution_count": null,
   "metadata": {
    "id": "I_h9-Ia1cYHj",
    "tags": []
   },
   "outputs": [],
   "source": [
    "! pip install --quiet \"numpy>=1.0.0,<2.0.0\" \"pandas>=1.0.0,<2.0.0\" \"matplotlib>=3.5.2,<3.6.0\" scikit-learn shap==0.40.0"
   ]
  },
  {
   "cell_type": "markdown",
   "metadata": {
    "id": "xVY9aVEvcYHo"
   },
   "source": [
    "## Breast Cancer Detection as a Classification problem"
   ]
  },
  {
   "cell_type": "code",
   "execution_count": null,
   "metadata": {
    "id": "6kRgnZAEcYHo"
   },
   "outputs": [],
   "source": [
    "import shap\n",
    "import pandas as pd\n",
    "from sklearn import datasets\n",
    "from sklearn.model_selection import train_test_split\n",
    "from sklearn.ensemble import RandomForestClassifier\n",
    "from sklearn.metrics import accuracy_score, f1_score"
   ]
  },
  {
   "cell_type": "markdown",
   "metadata": {
    "id": "Qn0TCuuFcYHq"
   },
   "source": [
    "### Loading data and preprocessing"
   ]
  },
  {
   "cell_type": "code",
   "execution_count": null,
   "metadata": {
    "id": "Fgbg9BqIcYHr"
   },
   "outputs": [],
   "source": [
    "data = datasets.load_breast_cancer()\n",
    "print(data.keys())"
   ]
  },
  {
   "cell_type": "code",
   "execution_count": null,
   "metadata": {
    "id": "11cqMVQBcYHr"
   },
   "outputs": [],
   "source": [
    "print(data.DESCR) "
   ]
  },
  {
   "cell_type": "code",
   "execution_count": null,
   "metadata": {
    "id": "e5F-0eGNcYHs"
   },
   "outputs": [],
   "source": [
    "# Read the DataFrame, first using the feature data\n",
    "df = pd.DataFrame(data.data, columns=data.feature_names)\n",
    "# Add a target column, and fill it with the target data\n",
    "df['target'] = data.target\n",
    "# Show the first five rows\n",
    "df.head()"
   ]
  },
  {
   "cell_type": "markdown",
   "metadata": {
    "id": "Vwv0dqRDcYHt"
   },
   "source": [
    "### Split Dataset into Training and Validation"
   ]
  },
  {
   "cell_type": "code",
   "execution_count": null,
   "metadata": {
    "id": "hdaiImZKcYHt"
   },
   "outputs": [],
   "source": [
    "# Store the feature data\n",
    "X = pd.DataFrame(data.data, columns=data.feature_names)\n",
    "# store the target data\n",
    "y = data.target\n",
    "# Show the first five rows\n",
    "df.head()"
   ]
  },
  {
   "cell_type": "code",
   "execution_count": null,
   "metadata": {
    "id": "YJg5QloXcYHu"
   },
   "outputs": [],
   "source": [
    "# split the data using scikit-learn's train_test_split\n",
    "X_train, X_test, y_train, y_test = train_test_split(X, y, train_size=0.8, stratify=y, random_state=42)\n",
    "print('Train samples:', len(X_train))\n",
    "print('Test samples:', len(X_test))"
   ]
  },
  {
   "cell_type": "markdown",
   "metadata": {
    "id": "nne6yaopcYHw"
   },
   "source": [
    "### Training model and logging model"
   ]
  },
  {
   "cell_type": "code",
   "execution_count": null,
   "metadata": {
    "id": "Hu9pg3-acYHw"
   },
   "outputs": [],
   "source": [
    "clf = RandomForestClassifier(n_estimators=50, max_depth=15)\n",
    "clf.fit(X_train, y_train)\n",
    "print(clf.get_params())"
   ]
  },
  {
   "cell_type": "markdown",
   "metadata": {
    "id": "sQmsAHk_cYHw"
   },
   "source": [
    "### Computing predictions"
   ]
  },
  {
   "cell_type": "code",
   "execution_count": null,
   "metadata": {
    "id": "UZoyoV5lcYHx"
   },
   "outputs": [],
   "source": [
    "# logging predictions\n",
    "y_pred_train = clf.predict(X_train)\n",
    "y_pred_test = clf.predict(X_test)"
   ]
  },
  {
   "cell_type": "markdown",
   "metadata": {
    "id": "0SAzPOZ_cYHx"
   },
   "source": [
    "### Computing metrics"
   ]
  },
  {
   "cell_type": "code",
   "execution_count": null,
   "metadata": {
    "id": "YGdnqDHlcYHx"
   },
   "outputs": [],
   "source": [
    "metrics = {\n",
    "    'train/accuracy_score': accuracy_score(y_train, y_pred_train),\n",
    "    'train/f1': f1_score(y_train, y_pred_train),\n",
    "    'test/accuracy_score': accuracy_score(y_test, y_pred_test),\n",
    "    'test/f1': f1_score(y_test, y_pred_test),\n",
    "}\n",
    "print('Tree 1 metrics:', metrics)"
   ]
  },
  {
   "cell_type": "markdown",
   "metadata": {
    "id": "ZgY80XKocYH0"
   },
   "source": [
    "## Training another model with different hyperparameters"
   ]
  },
  {
   "cell_type": "code",
   "execution_count": null,
   "metadata": {
    "collapsed": true,
    "id": "naRdNqJ7cYH0"
   },
   "outputs": [],
   "source": [
    "clf = RandomForestClassifier(n_estimators=150, max_depth=10)\n",
    "\n",
    "clf.fit(X_train, y_train)\n",
    "print(clf.get_params())\n",
    "\n",
    "y_pred_train = clf.predict(X_train)\n",
    "y_pred_test = clf.predict(X_test)\n",
    "\n",
    "# shap value computation Model 2 test set\n",
    "explainer = shap.TreeExplainer(clf)\n",
    "shap_values = explainer.shap_values(X_test)"
   ]
  },
  {
   "cell_type": "code",
   "execution_count": null,
   "metadata": {
    "id": "yKtVoWmWcYH3"
   },
   "outputs": [],
   "source": []
  }
 ],
 "metadata": {
  "colab": {
   "collapsed_sections": [],
   "name": "breast_cancer_classification.ipynb",
   "provenance": []
  },
  "interpreter": {
   "hash": "32eca55f60ca0a4eb05caeb15f62cadd2ce358ded6aecd1922b0adda9a0225d5"
  },
  "kernelspec": {
   "display_name": "Python 3 (ipykernel)",
   "language": "python",
   "name": "python3"
  },
  "language_info": {
   "codemirror_mode": {
    "name": "ipython",
    "version": 3
   },
   "file_extension": ".py",
   "mimetype": "text/x-python",
   "name": "python",
   "nbconvert_exporter": "python",
   "pygments_lexer": "ipython3",
   "version": "3.8.5"
  }
 },
 "nbformat": 4,
 "nbformat_minor": 1
}
