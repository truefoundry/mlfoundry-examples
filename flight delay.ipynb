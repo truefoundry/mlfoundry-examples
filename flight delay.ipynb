{
 "cells": [
  {
   "cell_type": "code",
   "execution_count": null,
   "id": "12b8a092",
   "metadata": {},
   "outputs": [],
   "source": [
    "import matplotlib.pyplot as plt\n",
    "import seaborn as sns\n",
    "import numpy as np"
   ]
  },
  {
   "cell_type": "code",
   "execution_count": null,
   "id": "5880574f",
   "metadata": {},
   "outputs": [],
   "source": [
    "low_memory=False\n",
    "import pandas as pd"
   ]
  },
  {
   "cell_type": "code",
   "execution_count": null,
   "id": "c9e55ff6",
   "metadata": {},
   "outputs": [],
   "source": [
    "# Store the path in variables\n",
    "airlines_path = \"airlines.csv\"\n",
    "airport_path = \"airports.csv\"\n",
    "flights_path = \"flights.csv\"\n",
    "\n",
    "# Load the data\n",
    "airlines_data = pd.read_csv(airlines_path)\n",
    "airport_data = pd.read_csv(airport_path)\n",
    "flights_data = pd.read_csv(flights_path)"
   ]
  },
  {
   "cell_type": "code",
   "execution_count": null,
   "id": "91bd7a6e",
   "metadata": {},
   "outputs": [],
   "source": [
    "Flight_data_delay =[]\n",
    "for row in flights_data['ARRIVAL_DELAY']:\n",
    "    if row > 60:\n",
    "        Flight_data_delay.append(3)\n",
    "    elif row > 30:\n",
    "        Flight_data_delay.append(2)\n",
    "    elif row > 15:\n",
    "        Flight_data_delay.append(1)\n",
    "    else:\n",
    "        Flight_data_delay.append(0) "
   ]
  },
  {
   "cell_type": "code",
   "execution_count": null,
   "id": "b4d1b470",
   "metadata": {},
   "outputs": [],
   "source": [
    "flights_data['Delay'] = Flight_data_delay\n"
   ]
  },
  {
   "cell_type": "code",
   "execution_count": null,
   "id": "f9ba5aa5",
   "metadata": {},
   "outputs": [],
   "source": [
    "# flights_data=flights_data.drop(['YEAR'],\n",
    "#                                              axis=1)\n",
    "\n",
    "flights_data=flights_data.drop(['YEAR','FLIGHT_NUMBER','AIRLINE','DISTANCE','TAIL_NUMBER','TAXI_OUT','SCHEDULED_TIME','DEPARTURE_TIME','WHEELS_OFF','ELAPSED_TIME','AIR_TIME','WHEELS_ON','DAY_OF_WEEK','TAXI_IN','CANCELLATION_REASON','ORIGIN_AIRPORT', 'DESTINATION_AIRPORT', 'ARRIVAL_TIME', 'ARRIVAL_DELAY', \"CANCELLED\"],\n",
    "                                             axis=1)"
   ]
  },
  {
   "cell_type": "code",
   "execution_count": null,
   "id": "1130b064",
   "metadata": {},
   "outputs": [],
   "source": [
    "flights_data.describe()\n",
    "\n"
   ]
  },
  {
   "cell_type": "code",
   "execution_count": null,
   "id": "28de3e9f",
   "metadata": {},
   "outputs": [],
   "source": [
    "flights_data=flights_data.fillna(flights_data.mean())\n"
   ]
  },
  {
   "cell_type": "code",
   "execution_count": null,
   "id": "1a9f0716",
   "metadata": {},
   "outputs": [],
   "source": [
    "from sklearn.model_selection import train_test_split\n",
    "from sklearn.preprocessing import StandardScaler\n",
    "from sklearn.tree import DecisionTreeClassifier\n",
    "from sklearn.metrics import roc_auc_score\n",
    "data = flights_data[flights_data['MONTH']==1].values\n",
    "X, y = data[:,:-1], data[:,-1]\n",
    "X_train, X_test, y_train, y_test = train_test_split(X, y, test_size=0.30, random_state=42)"
   ]
  },
  {
   "cell_type": "code",
   "execution_count": null,
   "id": "177c7a90",
   "metadata": {},
   "outputs": [],
   "source": [
    "flights_data[flights_data['MONTH']==1]"
   ]
  },
  {
   "cell_type": "code",
   "execution_count": null,
   "id": "71a6e5a8",
   "metadata": {},
   "outputs": [],
   "source": [
    "data[0]"
   ]
  },
  {
   "cell_type": "code",
   "execution_count": null,
   "id": "0f6b41ca",
   "metadata": {},
   "outputs": [],
   "source": [
    "encoder = StandardScaler()\n",
    "encoder.fit(X_train)\n",
    "scaled_features = encoder.transform(X_train)\n"
   ]
  },
  {
   "cell_type": "code",
   "execution_count": 21,
   "id": "94196b08",
   "metadata": {},
   "outputs": [],
   "source": [
    "clf = DecisionTreeClassifier()\n",
    "clf = clf.fit(X_train,y_train)"
   ]
  },
  {
   "cell_type": "code",
   "execution_count": 22,
   "id": "fde1b5cb",
   "metadata": {},
   "outputs": [
    {
     "data": {
      "text/plain": [
       "0.9929018081683824"
      ]
     },
     "execution_count": 22,
     "metadata": {},
     "output_type": "execute_result"
    }
   ],
   "source": [
    "pred_prob = clf.predict_proba(X_test)\n",
    "auc_score = roc_auc_score(y_test, pred_prob, multi_class='ovr')\n",
    "auc_score"
   ]
  },
  {
   "cell_type": "code",
   "execution_count": 23,
   "id": "409130e7",
   "metadata": {},
   "outputs": [],
   "source": [
    "from eurybia import SmartDrift"
   ]
  },
  {
   "cell_type": "code",
   "execution_count": 24,
   "id": "0ea956e7",
   "metadata": {},
   "outputs": [],
   "source": [
    "SD = SmartDrift(df_current=flights_data[flights_data['MONTH']==1],\n",
    "                df_baseline=flights_data[flights_data['MONTH']==12],\n",
    "#                 deployed_model=clf, # Optional: put in perspective result with importance on deployed model\n",
    "#                 encoding=encoder, # Optional: if deployed_model and encoder to use this model\n",
    "                dataset_names={\"df_current\": \"january\", \"df_baseline\": \"october\"},\n",
    "                # Optional: Names for outputs\n",
    "               )"
   ]
  },
  {
   "cell_type": "code",
   "execution_count": 28,
   "id": "9b61d947",
   "metadata": {},
   "outputs": [
    {
     "name": "stdout",
     "output_type": "stream",
     "text": [
      "The following variables are manually set to be ignored in the analysis: \n",
      " ['MONTH']\n",
      "check and analyze consistency: 0.08892583847045898 sec\n",
      "df_concat and fill na: 0.18593406677246094 sec\n",
      "train test split: 0.2041480541229248 sec\n"
     ]
    },
    {
     "name": "stderr",
     "output_type": "stream",
     "text": [
      "/Users/nikp18/opt/anaconda3/envs/housing/lib/python3.8/site-packages/catboost/core.py:1419: FutureWarning:\n",
      "\n",
      "iteritems is deprecated and will be removed in a future version. Use .items instead.\n",
      "\n",
      "/Users/nikp18/opt/anaconda3/envs/housing/lib/python3.8/site-packages/catboost/core.py:1419: FutureWarning:\n",
      "\n",
      "iteritems is deprecated and will be removed in a future version. Use .items instead.\n",
      "\n"
     ]
    },
    {
     "name": "stdout",
     "output_type": "stream",
     "text": [
      "train the classifier: 4.907650947570801 sec\n",
      "compile explainer: 6.779132843017578 sec\n",
      "explainer feature imp: 6.78646183013916 sec\n",
      "find df_predict: 6.786787986755371 sec\n",
      "find roc auc score: 6.805695056915283 sec\n"
     ]
    },
    {
     "name": "stderr",
     "output_type": "stream",
     "text": [
      "/Users/nikp18/opt/anaconda3/envs/housing/lib/python3.8/site-packages/catboost/core.py:1419: FutureWarning:\n",
      "\n",
      "iteritems is deprecated and will be removed in a future version. Use .items instead.\n",
      "\n"
     ]
    }
   ],
   "source": [
    "SD.compile(ignore_cols=['MONTH'], sampling=True)"
   ]
  },
  {
   "cell_type": "code",
   "execution_count": 29,
   "id": "1c4fb3b3",
   "metadata": {},
   "outputs": [
    {
     "name": "stderr",
     "output_type": "stream",
     "text": [
      "/Users/nikp18/opt/anaconda3/envs/housing/lib/python3.8/site-packages/catboost/core.py:1419: FutureWarning:\n",
      "\n",
      "iteritems is deprecated and will be removed in a future version. Use .items instead.\n",
      "\n"
     ]
    },
    {
     "data": {
      "text/markdown": [
       "Report saved to ./report_flight_delay.html. To upload and share your report, create a free Datapane account by running `!datapane signup`."
      ],
      "text/plain": [
       "<IPython.core.display.Markdown object>"
      ]
     },
     "metadata": {},
     "output_type": "display_data"
    },
    {
     "name": "stdout",
     "output_type": "stream",
     "text": [
      "8.966020107269287\n"
     ]
    }
   ],
   "source": [
    "import time\n",
    "st = time.time()\n",
    "SD.generate_report(    \n",
    "    output_file='report_flight_delay.html',    \n",
    "    title_story=\"Data drift\",\n",
    "    title_description=\"\"\"flight delay rep\"\"\", # Optional: add a subtitle to describe report\n",
    "    )\n",
    "print(time.time()-st)"
   ]
  },
  {
   "cell_type": "code",
   "execution_count": null,
   "id": "6241d2cf",
   "metadata": {},
   "outputs": [],
   "source": []
  }
 ],
 "metadata": {
  "kernelspec": {
   "display_name": "Python 3 (ipykernel)",
   "language": "python",
   "name": "python3"
  },
  "language_info": {
   "codemirror_mode": {
    "name": "ipython",
    "version": 3
   },
   "file_extension": ".py",
   "mimetype": "text/x-python",
   "name": "python",
   "nbconvert_exporter": "python",
   "pygments_lexer": "ipython3",
   "version": "3.8.13"
  }
 },
 "nbformat": 4,
 "nbformat_minor": 5
}
